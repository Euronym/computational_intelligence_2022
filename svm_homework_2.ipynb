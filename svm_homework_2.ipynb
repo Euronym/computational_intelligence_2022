{
 "cells": [
  {
   "cell_type": "markdown",
   "metadata": {},
   "source": [
    "# Description\n",
    "\n",
    "This notebook is part of an assignment made during the subject of Computational Intelligence, 7th semester at Federal University of Pará.\n",
    "\n",
    "Professor: Aldebaro Klautau\n",
    "\n",
    "Authors:\n",
    "\n",
    "    - Bruno Martins\n",
    "    - Claudio Matheus"
   ]
  },
  {
   "cell_type": "markdown",
   "metadata": {},
   "source": [
    "## Packages"
   ]
  },
  {
   "cell_type": "code",
   "execution_count": 10,
   "metadata": {},
   "outputs": [],
   "source": [
    "import os\n",
    "import seaborn as sns\n",
    "import matplotlib.pyplot as plt\n",
    "import matplotlib as mpl\n",
    "import pandas as pd\n",
    "import numpy as np"
   ]
  },
  {
   "cell_type": "markdown",
   "metadata": {},
   "source": [
    "## Assure the libraries have the same version as used throughout the code"
   ]
  },
  {
   "cell_type": "code",
   "execution_count": 11,
   "metadata": {},
   "outputs": [],
   "source": [
    "assert mpl.__version__ == '3.5.3'\n",
    "assert pd.__version__ == '1.3.5'\n",
    "assert np.__version__ == '1.19.5'"
   ]
  },
  {
   "cell_type": "markdown",
   "metadata": {},
   "source": [
    "## Read dataset"
   ]
  },
  {
   "cell_type": "code",
   "execution_count": 12,
   "metadata": {},
   "outputs": [],
   "source": [
    "DATASET_ROOT_PATH = './datasets/svm_homework/'\n",
    "\n",
    "VALIDATION_PATH = os.path.join(DATASET_ROOT_PATH, 'dataset_validation.txt')\n",
    "TRAIN_PATH = os.path.join(DATASET_ROOT_PATH, 'dataset_train.txt')\n",
    "TEST_PATH = os.path.join(DATASET_ROOT_PATH, 'dataset_test.txt')"
   ]
  },
  {
   "cell_type": "code",
   "execution_count": 13,
   "metadata": {},
   "outputs": [],
   "source": [
    "validation = pd.read_csv(VALIDATION_PATH, header=None)\n",
    "train = pd.read_csv(TRAIN_PATH, header=None)\n",
    "test = pd.read_csv(TEST_PATH, header=None)"
   ]
  },
  {
   "cell_type": "markdown",
   "metadata": {},
   "source": [
    "## Separate features from labels"
   ]
  },
  {
   "cell_type": "code",
   "execution_count": 14,
   "metadata": {},
   "outputs": [],
   "source": [
    "X_train, X_test, X_val = train.iloc[:, :-1], test.iloc[:, :-1], validation.iloc[:, :-1]\n",
    "y_train, y_test, y_val = train.iloc[:, -1], test.iloc[:, -1], validation.iloc[:, -1]"
   ]
  },
  {
   "cell_type": "markdown",
   "metadata": {},
   "source": [
    "## First Question"
   ]
  },
  {
   "cell_type": "markdown",
   "metadata": {},
   "source": [
    "### Item (A):\n"
   ]
  },
  {
   "cell_type": "markdown",
   "metadata": {},
   "source": [
    "LinearSVC = 1 error\n",
    "SVC with linear kernel = 1 errors\n",
    "SVC with RBF kernel = 0 errors\n",
    "SVC with polynomial = 0 errors"
   ]
  },
  {
   "cell_type": "markdown",
   "metadata": {},
   "source": [
    "### Item (B):"
   ]
  },
  {
   "cell_type": "markdown",
   "metadata": {},
   "source": [
    "The top-right SVM looks the best. Although it has an error, the classes are in general more splitted apart in terms of margin compared to the other models. This will make the model less susceptible to outliers and noisy data."
   ]
  },
  {
   "cell_type": "markdown",
   "metadata": {},
   "source": [
    "## Second Question"
   ]
  },
  {
   "cell_type": "markdown",
   "metadata": {},
   "source": [
    "In sckit-learn there is a hyperparameter that crontols the quantities of support vectors of a model. This parameter is called C. Therefore, it works in this way: if C is substantially a high value, then, the numbers of support vectors will be smaller. Alternatively, if C is considerably a low value, then, the quantities of support vectors will be huge.\n",
    "\n",
    "![SVM_C_values](https://raw.githubusercontent.com/Euronym/computational_intelligence_2022/main/images/C_values_SVM.png)\n",
    "\n",
    "In the words, the width of the way between the convex-hull and the hyperplan of the model will be minor for the high value of C, and larger for the low value of C. Provoking, respectively, a decrease of support vectors and an increase of them."
   ]
  },
  {
   "cell_type": "markdown",
   "metadata": {},
   "source": [
    "## Third Question"
   ]
  },
  {
   "cell_type": "markdown",
   "metadata": {},
   "source": [
    "A prediction using A SVM is made using the formula:\n",
    "\n",
    "\n",
    "$ f(z) = \\left(\\sum\\limits_{n = 0}^{N - 1}\\lambda_{n}K(z,x_{n}) \\right) + b $\n",
    "\n",
    "For a perceptron, the decision function can be written as:\n",
    "     \n",
    "$f(z) = sgn(<w, x> + b)$\n",
    "\n",
    "The Cost $C$ is defined as:\n",
    "\n",
    "$ C = n_{mult} + n_{sum}$\n",
    "\n",
    "For a dot product, there are K multiplications and K - 1 sums. If we consider the bias, one more\n",
    "sum operation will be made. The lambda multiplication counts as one. In that case:\n",
    "\n",
    "$C_{original}$ = N * (2K - 1 + 1) + 1\n",
    "\n",
    "$C_{original}$ = N * 2K + 1\n",
    "\n",
    "With $C_{original} = N * 2K + 1 $. Assuming there are 450 support vectors, the first equation will give a zero $\\lambda$ for most of the training examples. Thus, we don't need to keep many of the examples, only the support vectors.\n",
    "\n",
    "A perceptron doesn't hold the training data and thus doesn't depend on the number of lambdas. Hence, it's cost is given by:\n",
    "\n",
    "$C_{perceptron} = 2K - 1 + 1$\n",
    "\n",
    "$C_{perceptron} = 2K$\n",
    "\n",
    "The total cost is:\n",
    "\n",
    "\n",
    "$F = \\dfrac{N * 2K + 1}{2K}$"
   ]
  },
  {
   "cell_type": "markdown",
   "metadata": {},
   "source": [
    "## Fourth Question"
   ]
  },
  {
   "cell_type": "markdown",
   "metadata": {},
   "source": [
    "svm.n_support_= [1 2]\n",
    "\n",
    "svm.support_vectors_= [[ 1. 4.] [-2.  3.] [-2. -5.]]\n",
    "\n",
    "svm.dual_coef_= [[-0.5 -0.3 0.8]]\n",
    "\n",
    "svc.intercept_= [-2]\n",
    "\n",
    "### Item (A):\n",
    "Considering these attributes above, there is below the decision model:\n",
    "\n",
    "$f(z) = -0.5 \\times <z, [1, 4]>  -0.3 \\times <z, [-2, 3]> + 0.8 \\times <z, [1, 4]> -2$\n",
    "\n",
    "\n",
    "### Item (B):\n",
    "For a SVM as a perceptron it's quite similar to the previous models, nevertheless, there is important difference, as we'll see in the next:\n",
    "\n",
    "First of all, it's known that weight $w$ of perceptron defintion ($f(z)= <z, w> + b$) is defined by:\n",
    "\n",
    "$w = \\displaystyle\\sum_{i = 0}^{N-1}\\lambda_{n} x_i$\n",
    "\n",
    "where $\\lambda$ in sckit-learn API is identified by a variable called *dual_coef_*.\n",
    "\n",
    "Therefore, using the general definition of SVM and the associative property of dot product, there is the development of definition of SVM as a perceptron:\n",
    "\n",
    "$f(z) = \\displaystyle\\sum_{i = 0}^{N-1}\\lambda_{n}K(z, x_n) + b$\n",
    "\n",
    "- Assuming that is a linear kernel:\n",
    "\n",
    "$f(z) = \\displaystyle\\sum_{i = 0}^{N-1}\\lambda_{n}<z, x_n> + b$\n",
    "\n",
    "- And finally, using associative property of dot product:\n",
    "\n",
    "$f(z) = \\displaystyle\\sum_{i = 0}^{N-1}<z, \\lambda_{n}x_n> + b$\n",
    "\n",
    "$f(z) = \\displaystyle\\sum_{i = 0}^{N-1}<z, w> + b$\n",
    "\n",
    "Now, applying this definition for the SVM in this problem, we have the final result:\n",
    "\n",
    "$f(z) = <z, [-0.5, 2]> + <z, [0.6, 0.9]> + <z, [-1.6, -4]> -2$\n",
    "\n",
    "### item (C):\n",
    "First of all considering $I(f(z))$ \"indicative\" function, where is defined like this:\n",
    "\n",
    "$I(f(z))=\\begin{cases}\n",
    "    1, & f(z) > 0\\\\\n",
    "    0, & \\text{otherwise}.\n",
    "  \\end{cases}$\n",
    "\n",
    "So, evaluate $f(z)$ for $z = [0, 0]$, we have this:\n",
    "\n",
    "$f([0, 0]) = -0.5 \\times <[0, 0], [1, 4]>  -0.3 \\times <[0, 0], [-2, 3]> + 0.8 \\times <[0, 0], [1, 4]> -2$\n",
    "\n",
    "It's quite clear that dot product between a vector at origin and any other vector result in value 0. Therefore, the result of these three dot product is 0. So:\n",
    "\n",
    "$f([0, 0]) = 0 - 2$\n",
    "\n",
    "$f([0, 0]) = -2$\n",
    "\n",
    "Using this result in \"indicative\" function, we have this:\n",
    "\n",
    "$I(f([0, 0])) = 0$"
   ]
  },
  {
   "cell_type": "markdown",
   "metadata": {},
   "source": [
    "## Fifth Question"
   ]
  },
  {
   "cell_type": "markdown",
   "metadata": {},
   "source": [
    "The general equation is given by:\n",
    "\n",
    "$f(z) = \\left(\\sum\\limits_{n = 0}^{N - 1}\\lambda_{n}K(z,x_{n}) \\right) + b$"
   ]
  },
  {
   "cell_type": "markdown",
   "metadata": {},
   "source": [
    "#### Item (A):"
   ]
  },
  {
   "cell_type": "markdown",
   "metadata": {},
   "source": [
    "First of all, it's important to write the correct formula for the kernels. \n",
    "Those are given by:\n",
    "\n",
    "Poly:\n",
    "\n",
    "$ K(z,x_{n}) = <z, x_{n}>^{p}$, p = 3\n",
    "\n",
    "RBF:\n",
    "\n",
    "$K(z,x_{n}) = e^{- \\dfrac{||z - x_{n}||^{2}}{2\\sigma^{2}}} $, $\\sigma = 1$\n",
    "\n",
    "For the 3th case we have:\n",
    "\n",
    "$b = -0.08 \\\\ $ \n",
    "\n",
    "$\\lambda \\in \\left[-0.917,-0.913, -0.913, 0.871, 0.871, 1\\right] \\\\ $ \n",
    "\n",
    "$x \\in \\left[(0, -4), (-1, 2), (3, 3), (-5, -6), (-4, -5), (-2, -2)\\right]$\n",
    "\n",
    "$N = 6$ \n",
    "\n",
    "Hence, the decision function is given by:\n",
    "\n",
    "$f(z) = \\left(\\lambda_{0}<z, (\\alpha_{0}, \\beta_{0})>^3 + \\lambda_{1}<z, (\\alpha_{1}, \\beta_{1})>^3 + \\lambda_{2}<z, (\\alpha_{2}, \\beta_{2})>^3 + \\lambda_{3}<z, (\\alpha_{3}, \\beta_{3})>^3 + \\lambda_{4}<z, (\\alpha_{4}, \\beta_{4})>^3 + \\lambda_{5}<z, (\\alpha_{5}, \\beta_{5})>^3 \\right) - 0.08$\n",
    "\n",
    "$f(z) = \\left(-0.917<z, (0, -4)>^3 - 0.913<z, (-1, 2)>^3 - 0.913<z, (3, 3)>^3 + 0.871 <z, (-5, -6)>^3 +  0.871<z, (-4, -5)>^3 + <z, (-2, -2)>^3 \\right) - 0.08$\n",
    "\n",
    "For the 4th case:\n",
    "\n",
    "$b = -1.79 $\n",
    "\n",
    "$\\lambda \\in \\left[-0.45, -0.27, 0.73\\right]  $\n",
    "\n",
    "$x \\in \\left[(0, -4), (-1, 2), (-2, -2)\\right]$\n",
    "\n",
    "$N = 3$\n",
    "\n",
    "\n",
    "$f(z) = \\left(-0.45 e^{- \\dfrac{||z - (0, -4)||}{2}^{2}} - 0.27 e^{- \\dfrac{||z - (-1, 2)||}{2}^{2}} + 0.73 e^{- \\dfrac{||z - (-2, -2)||}{2}^{2}} \\right) - 1.79$\n",
    "\n",
    "For the linear case, $k(z, x_{n}) = <z, x_{n}>$\n",
    "\n",
    "And,\n",
    "\n",
    "$b = -1.79 $\n",
    "\n",
    "$\\lambda \\in \\left[-0.45, -0.279,  0.73\\right] $\n",
    "\n",
    "$x \\in \\left[(0, -4), (-1, 2), (-2, -2)\\right]$\n",
    "\n",
    "$N = 3$\n",
    "\n",
    "Hence,\n",
    "\n",
    "$f(z) = \\left(-0.45<z, (0, -4)> - 0.27<z, (-1, 2)> + 0.73<z, (-2, -2)> \\right) - 1.79 $"
   ]
  },
  {
   "cell_type": "markdown",
   "metadata": {},
   "source": [
    "#### Item (B):"
   ]
  },
  {
   "cell_type": "markdown",
   "metadata": {},
   "source": [
    "Originally, the function is given by:\n",
    "\n",
    "$f(z) = \\left(\\sum\\limits_{n = 0}^{N - 1}\\lambda_{n}<z,x_{n}> \\right) + b$\n",
    "\n",
    "Where:\n",
    "\n",
    "$w = \\sum\\limits_{n = 0}^{N - 1}\\lambda_{n}x_{n}$\n",
    "\n",
    "Considering the linearity of the dot product, $f(z)$ can be rewritten as:\n",
    "\n",
    "$f(z) = \\left(\\sum\\limits_{n = 0}^{N - 1}<z,\\lambda_{n}x_{n}> \\right) + b$\n",
    "\n",
    "$f(z) = \\left(<z,\\sum\\limits_{n = 0}^{N - 1}\\lambda_{n}x_{n}> \\right) + b$\n",
    "\n",
    "$f(z) = \\left(<z, w> \\right) + b$\n",
    "\n",
    "For the first SVM, w is given by:\n",
    "\n",
    "$ w = \\begin{bmatrix}-0.68 \\\\ -0.1 \\end{bmatrix}$\n",
    "\n",
    "$ b = -0.99$\n",
    "\n",
    "Hence, we have:\n",
    "\n",
    "$f(z) = z_{0}w_{0} + z_{1}w_{1} - 0.99$\n",
    "\n",
    "$f(z) = -0.68z_{0} - 0.1z_{1} - 0.99$\n",
    "\n",
    "For the second SVM:\n",
    "\n",
    "$w = \\sum\\limits_{n = 0}^{N - 1}\\lambda_{n}x_{n}$, N = 3\n",
    "\n",
    "$w = \\lambda_{0}x_{0} + \\lambda_{1}x_{1} + \\lambda_{2}x_{2}$\n",
    "\n",
    "$w = - 0.45 \\begin{bmatrix} 0 \\\\ -4 \\end{bmatrix} - 0.27\\begin{bmatrix} -1 \\\\ 2 \\end{bmatrix}  + 0.73 \\begin{bmatrix} -2 \\\\ -2 \\end{bmatrix} $\n",
    "\n",
    "$ w = \\begin{bmatrix} 0 \\\\ 1.8 \\end{bmatrix} + \\begin{bmatrix} 0.27 \\\\ -0.54 \\end{bmatrix} - \\begin{bmatrix} 1.46 \\\\ 1.46\\end{bmatrix} $\n",
    "\n",
    "$ w = \\begin{bmatrix} 0 + 0.27 - 1.46 \\\\ 1.8 - 0.54 - 1.46\\end{bmatrix}$\n",
    "\n",
    "$w = \\begin{bmatrix} -1.19 \\\\ -0.2 \\end{bmatrix}$\n",
    "\n",
    "Finally:\n",
    "\n",
    "$f(z) = z_{0}w_{0} + z_{1}w_{1} + b, \\hspace{0.2cm} b = -1.8$\n",
    "\n",
    "$f(z) = -1.19z_{0} - 0.2z_{1} - 1.8$"
   ]
  },
  {
   "cell_type": "markdown",
   "metadata": {},
   "source": [
    "#### Item (C):"
   ]
  },
  {
   "cell_type": "markdown",
   "metadata": {},
   "source": [
    "First, the weight vector can be written as:\n",
    "\n",
    "$w = \\sum\\limits_{n = 0}^{N - 1}\\lambda_{n}x_{n}$\n",
    "\n",
    "The question provides us the values of $\\lambda$ and $x$. Thus, the summation becomes:\n",
    "\n",
    "$w = \\lambda_{0}x_{0} + \\lambda_{1}x_{1} + \\lambda_{2}x_{2}$\n",
    "\n",
    "$w = -0.45\\begin{bmatrix} 0\\\\ -4\\end{bmatrix} -0.28 \\begin{bmatrix}-1 \\\\ 2 \\end{bmatrix} + 0.74 \\begin{bmatrix} -2\\\\ -2\\end{bmatrix}$\n",
    "\n",
    "$ w = \\begin{bmatrix} 0 \\\\ 1.8 \\end{bmatrix} + \\begin{bmatrix} 0.27 \\\\ -0.54 \\end{bmatrix} - \\begin{bmatrix} 1.46 \\\\ 1.46\\end{bmatrix} $\n",
    "\n",
    "$ w = \\begin{bmatrix} 0 + 0.27 - 1.46 \\\\ 1.8 - 0.54 - 1.46\\end{bmatrix}$\n",
    "\n",
    "$w = \\begin{bmatrix} -1.19 \\\\ -0.2 \\end{bmatrix}$\n",
    "\n",
    "Now that we have the weight vector, the decision function can be written as:\n",
    "\n",
    "$f(z) = z_{0}w_{0} + z_{1}w_{1} + b, \\hspace{0.2cm} b = -1.8$\n",
    "\n",
    "$f(z) = -1.19z_{0} - 0.2z_{1} - 1.8$\n",
    "\n",
    "In a previous question, we deduced a formula to measure the efficiency of this conversion. The formula is:\n",
    "\n",
    "$F = \\dfrac{N * 2K + 1}{2K}$\n",
    "\n",
    "Where N is the number of support vectors and K is the number of features. Thus, $F$ is:\n",
    "\n",
    "$F = \\dfrac{3 * 2 * 2}{2 * 2}$\n",
    "\n",
    "$F = \\dfrac{12}{4}$\n",
    "\n",
    "$F = 3$\n"
   ]
  },
  {
   "cell_type": "markdown",
   "metadata": {},
   "source": [
    "#### Item (D):"
   ]
  },
  {
   "cell_type": "markdown",
   "metadata": {},
   "source": [
    "##### subitem (D1):"
   ]
  },
  {
   "cell_type": "markdown",
   "metadata": {},
   "source": [
    "For the third SVM there are 6 support vectors\n",
    "\n",
    "For the fourth SVM there are 3 support vectors"
   ]
  },
  {
   "cell_type": "markdown",
   "metadata": {},
   "source": [
    "##### subitem (D2):"
   ]
  },
  {
   "cell_type": "markdown",
   "metadata": {},
   "source": [
    "SVM 3: 0 1 2 3 4 5 (indexes)\n",
    "\n",
    "SVM 4: 0 1 5 (indexes)\n",
    "\n",
    "SVM 3: -0.91722233 -0.91351914 -0.91300432  0.87185969  0.8718861   1.\n",
    "\n",
    "SVM 4: -0.00887134 -0.03133903  0.04021037"
   ]
  },
  {
   "cell_type": "markdown",
   "metadata": {},
   "source": [
    "##### subitem (D3):"
   ]
  },
  {
   "cell_type": "markdown",
   "metadata": {},
   "source": [
    "SVM 3: -0.08676121\n",
    "\n",
    "SVM 4: -1.03731897"
   ]
  },
  {
   "cell_type": "markdown",
   "metadata": {},
   "source": [
    "#### Item (E):"
   ]
  },
  {
   "cell_type": "markdown",
   "metadata": {},
   "source": []
  },
  {
   "cell_type": "markdown",
   "metadata": {},
   "source": [
    "## Sixth Question"
   ]
  },
  {
   "cell_type": "code",
   "execution_count": 15,
   "metadata": {},
   "outputs": [],
   "source": [
    "## Method obtained by Ageron's github repository\n",
    "def plot_svc_decision_boundary(svm_clf, xmin, xmax):\n",
    "    w = svm_clf.coef_[0]\n",
    "    b = svm_clf.intercept_[0]\n",
    "\n",
    "    # At the decision boundary, w0*x0 + w1*x1 + b = 0\n",
    "    # => x1 = -w0/w1 * x0 - b/w1\n",
    "    x0 = np.linspace(xmin, xmax, 200)\n",
    "    decision_boundary = -w[0]/w[1] * x0 - b/w[1]\n",
    "\n",
    "    margin = 1/w[1]\n",
    "    gutter_up = decision_boundary + margin\n",
    "    gutter_down = decision_boundary - margin\n",
    "\n",
    "    svs = svm_clf.support_vectors_\n",
    "    plt.scatter(svs[:, 0], svs[:, 1], s=180, facecolors='#FFAAAA')\n",
    "    plt.plot(x0, decision_boundary, \"k-\", linewidth=2)\n",
    "    plt.plot(x0, gutter_up, \"k--\", linewidth=2)\n",
    "    plt.plot(x0, gutter_down, \"k--\", linewidth=2)\n"
   ]
  },
  {
   "cell_type": "code",
   "execution_count": 16,
   "metadata": {},
   "outputs": [
    {
     "data": {
      "text/plain": [
       "(-2.0, 2.0, -2.0, 2.0)"
      ]
     },
     "execution_count": 16,
     "metadata": {},
     "output_type": "execute_result"
    },
    {
     "data": {
      "image/png": "[encoded data removed]",
      "text/plain": [
       "<Figure size 640x480 with 1 Axes>"
      ]
     },
     "metadata": {},
     "output_type": "display_data"
    }
   ],
   "source": [
    "from sklearn import svm\n",
    "from sklearn.preprocessing import StandardScaler\n",
    "\n",
    "## Preprocessing the train and test dataset w/ standard scaler\n",
    "scaler = StandardScaler()\n",
    "X_scaled_train = scaler.fit_transform(X_train)\n",
    "X_scaled_test = scaler.fit_transform(X_test)\n",
    "\n",
    "# Train the model\n",
    "svc = svm.SVC(kernel ='linear', C = 1).fit(X_scaled_train, y_train)\n",
    "\n",
    "# Plot the chart\n",
    "plt.subplot(122)\n",
    "plt.plot(X_scaled_train[:, 0][y_train==1], X_scaled_train[:, 1][y_train==1], \"bo\")\n",
    "plt.plot(X_scaled_train[:, 0][y_train==0], X_scaled_train[:, 1][y_train==0], \"ms\")\n",
    "plot_svc_decision_boundary(svc, -2, 2)\n",
    "plt.xlabel(\"$x_0$\", fontsize=20)\n",
    "plt.ylabel(\"$x_1$  \", fontsize=20, rotation=0)\n",
    "plt.title(\"SVM with linear Kernel\", fontsize=16)\n",
    "plt.axis([-2, 2, -2, 2])"
   ]
  },
  {
   "cell_type": "markdown",
   "metadata": {},
   "source": [
    "Some information about the model"
   ]
  },
  {
   "cell_type": "code",
   "execution_count": 17,
   "metadata": {},
   "outputs": [
    {
     "name": "stdout",
     "output_type": "stream",
     "text": [
      "Number of Support Vectors: [2 2]\n",
      "Support Vectors Index: [0 1 4 5]\n",
      "Support Vectors: \n",
      "[[ 0.57035183 -0.58554004]\n",
      " [ 0.19011728  1.17108009]\n",
      " [-0.95058638 -0.87831007]\n",
      " [-0.19011728  0.        ]]\n"
     ]
    }
   ],
   "source": [
    "print(f'Number of Support Vectors: {svc.n_support_}')\n",
    "print(f'Support Vectors Index: {svc.support_}')\n",
    "print(f'Support Vectors: \\n{svc.support_vectors_}')"
   ]
  },
  {
   "cell_type": "markdown",
   "metadata": {},
   "source": [
    "Results in test dataset"
   ]
  },
  {
   "cell_type": "code",
   "execution_count": 18,
   "metadata": {},
   "outputs": [
    {
     "name": "stdout",
     "output_type": "stream",
     "text": [
      "\n",
      "\n",
      "Labels: [0 0 1 1]\n",
      "Predict: [0 0 1 1]\n"
     ]
    }
   ],
   "source": [
    "## get the labels\n",
    "y = np.ravel(test[2],order='C')\n",
    "print(f'\\n\\nLabels: {y}\\nPredict: {svc.predict(X_scaled_test)}')"
   ]
  },
  {
   "cell_type": "markdown",
   "metadata": {},
   "source": [
    "## Seventh Question"
   ]
  },
  {
   "cell_type": "code",
   "execution_count": null,
   "metadata": {},
   "outputs": [],
   "source": [
    "from sklearn.svm import SVC\n",
    "from sklearn.model_selection import GridSearchCV"
   ]
  },
  {
   "cell_type": "code",
   "execution_count": null,
   "metadata": {},
   "outputs": [],
   "source": []
  },
  {
   "cell_type": "code",
   "execution_count": null,
   "metadata": {},
   "outputs": [],
   "source": []
  }
 ],
 "metadata": {
  "kernelspec": {
   "display_name": "federated_learning",
   "language": "python",
   "name": "federated_learning"
  },
  "language_info": {
   "codemirror_mode": {
    "name": "ipython",
    "version": 3
   },
   "file_extension": ".py",
   "mimetype": "text/x-python",
   "name": "python",
   "nbconvert_exporter": "python",
   "pygments_lexer": "ipython3",
   "version": "3.7.10"
  },
  "orig_nbformat": 4
 },
 "nbformat": 4,
 "nbformat_minor": 2
}
