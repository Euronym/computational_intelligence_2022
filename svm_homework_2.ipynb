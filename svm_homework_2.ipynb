{
 "cells": [
  {
   "cell_type": "markdown",
   "metadata": {},
   "source": [
    "# Description\n",
    "\n",
    "This notebook is part of an assignment made during the subject of Computational Intelligence, 7th semester at Federal University of Pará.\n",
    "\n",
    "Professor: Aldebaro Klautau\n",
    "\n",
    "Authors:\n",
    "\n",
    "    - Bruno Martins\n",
    "    - Claudio Matheus"
   ]
  },
  {
   "cell_type": "markdown",
   "metadata": {},
   "source": [
    "## Packages"
   ]
  },
  {
   "cell_type": "code",
   "execution_count": 1,
   "metadata": {},
   "outputs": [],
   "source": [
    "import os\n",
    "import seaborn as sns\n",
    "import matplotlib.pyplot as plt\n",
    "import matplotlib as mpl\n",
    "import pandas as pd\n",
    "import numpy as np"
   ]
  },
  {
   "cell_type": "markdown",
   "metadata": {},
   "source": [
    "## Assure the libraries have the same version as used throughout the code"
   ]
  },
  {
   "cell_type": "code",
   "execution_count": 2,
   "metadata": {},
   "outputs": [],
   "source": [
    "assert mpl.__version__ == '3.5.3'\n",
    "assert pd.__version__ == '1.3.5'\n",
    "assert np.__version__ == '1.19.5'"
   ]
  },
  {
   "cell_type": "markdown",
   "metadata": {},
   "source": [
    "## Read dataset"
   ]
  },
  {
   "cell_type": "code",
   "execution_count": 3,
   "metadata": {},
   "outputs": [],
   "source": [
    "DATASET_ROOT_PATH = './datasets/svm_homework/'\n",
    "\n",
    "VALIDATION_PATH = os.path.join(DATASET_ROOT_PATH, 'dataset_validation.txt')\n",
    "TRAIN_PATH = os.path.join(DATASET_ROOT_PATH, 'dataset_train.txt')\n",
    "TEST_PATH = os.path.join(DATASET_ROOT_PATH, 'dataset_test.txt')"
   ]
  },
  {
   "cell_type": "code",
   "execution_count": 4,
   "metadata": {},
   "outputs": [],
   "source": [
    "validation = pd.read_csv(VALIDATION_PATH, header=None)\n",
    "train = pd.read_csv(TRAIN_PATH, header=None)\n",
    "test = pd.read_csv(TEST_PATH, header=None)"
   ]
  },
  {
   "cell_type": "markdown",
   "metadata": {},
   "source": [
    "## Separate features from labels"
   ]
  },
  {
   "cell_type": "code",
   "execution_count": 5,
   "metadata": {},
   "outputs": [],
   "source": [
    "X_train, X_test, X_val = train.iloc[:, :-1], test.iloc[:, :-1], validation.iloc[:, :-1]\n",
    "y_train, y_test, y_val = train.iloc[:, -1], test.iloc[:, -1], validation.iloc[:, -1]"
   ]
  },
  {
   "cell_type": "markdown",
   "metadata": {},
   "source": [
    "## First Question"
   ]
  },
  {
   "cell_type": "markdown",
   "metadata": {},
   "source": [
    "### Item (A):\n"
   ]
  },
  {
   "cell_type": "markdown",
   "metadata": {},
   "source": [
    "LinearSVC = 1 error\n",
    "SVC with linear kernel = 1 errors\n",
    "SVC with RBF kernel = 0 errors\n",
    "SVC with polynomial = 0 errors"
   ]
  },
  {
   "cell_type": "markdown",
   "metadata": {},
   "source": [
    "### Item (B):"
   ]
  },
  {
   "cell_type": "markdown",
   "metadata": {},
   "source": [
    "The top-right SVM looks the best. Although it has an error, the classes are in general more splitted apart in terms of margin compared to the other models. This will make the model less susceptible to outliers and noisy data."
   ]
  },
  {
   "cell_type": "markdown",
   "metadata": {},
   "source": [
    "## Second Question"
   ]
  },
  {
   "cell_type": "markdown",
   "metadata": {},
   "source": [
    "In sckit-learn there is a hyperparameter that crontols the quantities of support vectors of a model. This parameter is called C. Therefore, it works in this way: if C is substantially a high value, then, the numbers of support vectors will be smaller. Alternatively, if C is considerably a low value, then, the quantities of support vectors will be huge.\n",
    "\n",
    "![SVM_C_values](https://raw.githubusercontent.com/Euronym/computational_intelligence_2022/main/images/C_values_SVM.png)\n",
    "\n",
    "In the words, the width of the way between the convex-hull and the hyperplan of the model will be minor for the high value of C, and larger for the low value of C. Provoking, respectively, a decrease of support vectors and an increase of them."
   ]
  },
  {
   "cell_type": "markdown",
   "metadata": {},
   "source": [
    "## Third Question"
   ]
  },
  {
   "cell_type": "markdown",
   "metadata": {},
   "source": [
    "A prediction using A SVM is made using the formula:\n",
    "\n",
    "\n",
    "$ f(z) = \\left(\\sum\\limits_{n = 0}^{N - 1}\\lambda_{n}K(z,x_{n}) \\right) + b $\n",
    "\n",
    "For a perceptron, the decision function can be written as:\n",
    "     \n",
    "$f(z) = sgn(<w, x> + b)$\n",
    "\n",
    "The Cost $C$ is defined as:\n",
    "\n",
    "$ C = n_{mult} + n_{sum}$\n",
    "\n",
    "With $C_{original} = N * (2K - 1) $. Assuming there are 450 support vectors, the first equation will give a zero $\\lambda$ for most of the training examples. Thus, we don't need to keep many of the examples, only the support vectors.\n",
    "\n",
    "A perceptron doesn't hold the training data and thus doesn't depend on the number of lambdas. Hence, it's cost is given by:\n",
    "\n",
    "$C_{perceptron} = 2K - 1$\n",
    "\n",
    "The total cost is:\n",
    "\n",
    "\n",
    "$F = \\dfrac{N * (2K - 1)}{(2K - 1)}$\n",
    "\n",
    "$F = N$"
   ]
  },
  {
   "cell_type": "markdown",
   "metadata": {},
   "source": [
    "## Fourth Question"
   ]
  },
  {
   "cell_type": "markdown",
   "metadata": {},
   "source": [
    "svm.n_support_= [1 2]\n",
    "\n",
    "svm.support_vectors_= [[ 1. 4.] [-2.  3.] [-2. -5.]]\n",
    "\n",
    "svm.dual_coef_= [[-0.5 -0.3 0.8]]\n",
    "\n",
    "svc.intercept_= [-2]\n",
    "\n",
    "### Item (A):\n",
    "Considering these attributes above, there is below the decision model:\n",
    "\n",
    "$f(z) = -0.5 \\times <z, [1, 4]>  -0.3 \\times <z, [-2, 3]> + 0.8 \\times <z, [1, 4]> -2$\n",
    "\n",
    "\n",
    "### Item (B):\n",
    "For a SVM as a perceptron it's quite similar to the previous models, nevertheless, there is important difference, as we'll see in the next:\n",
    "\n",
    "First of all, it's known that weight $w$ of perceptron defintion ($f(z)= <z, w> + b$) is defined by:\n",
    "\n",
    "$w = \\displaystyle\\sum_{i = 0}^{N-1}\\lambda_{n} x_i$\n",
    "\n",
    "where $\\lambda$ in sckit-learn API is identified by a variable called *dual_coef_*.\n",
    "\n",
    "Therefore, using the general definition of SVM and the associative property of dot product, there is the development of definition of SVM as a perceptron:\n",
    "\n",
    "$f(z) = \\displaystyle\\sum_{i = 0}^{N-1}\\lambda_{n}K(z, x_n) + b$\n",
    "\n",
    "- Assuming that is a linear kernel:\n",
    "\n",
    "$f(z) = \\displaystyle\\sum_{i = 0}^{N-1}\\lambda_{n}<z, x_n> + b$\n",
    "\n",
    "- And finally, using associative property of dot product:\n",
    "\n",
    "$f(z) = \\displaystyle\\sum_{i = 0}^{N-1}<z, \\lambda_{n}x_n> + b$\n",
    "\n",
    "$f(z) = \\displaystyle\\sum_{i = 0}^{N-1}<z, w> + b$\n",
    "\n",
    "Now, applying this definition for the SVM in this problem, we have the final result:\n",
    "\n",
    "$f(z) = <z, [-0.5, 2]> + <z, [0.6, 0.9]> + <z, [-1.6, -4]> -2$\n",
    "\n",
    "### item (C):\n",
    "First of all considering $I(f(z))$ \"indicative\" function, where is defined like this:\n",
    "\n",
    "$I(f(z))=\\begin{cases}\n",
    "    1, & f(z) > 0\\\\\n",
    "    0, & \\text{otherwise}.\n",
    "  \\end{cases}$\n",
    "\n",
    "So, evaluate $f(z)$ for $z = [0, 0]$, we have this:\n",
    "\n",
    "$f([0, 0]) = -0.5 \\times <[0, 0], [1, 4]>  -0.3 \\times <[0, 0], [-2, 3]> + 0.8 \\times <[0, 0], [1, 4]> -2$\n",
    "\n",
    "It's quite clear that dot product between a vector at origin and any other vector result in value 0. Therefore, the result of these three dot product is 0. So:\n",
    "\n",
    "$f([0, 0]) = 0 - 2$\n",
    "\n",
    "$f([0, 0]) = -2$\n",
    "\n",
    "Using this result in \"indicative\" function, we have this:\n",
    "\n",
    "$I(f([0, 0])) = 0$"
   ]
  },
  {
   "cell_type": "markdown",
   "metadata": {},
   "source": [
    "## Fifth Question"
   ]
  },
  {
   "cell_type": "markdown",
   "metadata": {},
   "source": [
    "The general equation is given by:\n",
    "\n",
    "$f(z) = \\left(\\sum\\limits_{n = 0}^{N - 1}\\lambda_{n}K(z,x_{n}) \\right) + b$"
   ]
  },
  {
   "cell_type": "markdown",
   "metadata": {},
   "source": [
    "#### Item (A):"
   ]
  },
  {
   "cell_type": "markdown",
   "metadata": {},
   "source": [
    "First of all, it's important to write the correct formula for the kernels. \n",
    "Those are given by:\n",
    "\n",
    "Poly:\n",
    "\n",
    "$ K(z,x_{n}) = <z, x_{n}>^{p}$, p = 3\n",
    "\n",
    "RBF:\n",
    "\n",
    "$K(z,x_{n}) = e^{- \\dfrac{||z - x_{n}||^{2}}{2\\sigma^{2}}} $, $\\sigma = 1$\n",
    "\n",
    "For the 3th case we have:\n",
    "\n",
    "$b = -0.08 \\\\ $ \n",
    "\n",
    "$\\lambda \\in \\left[-0.917,-0.913, -0.913, 0.871, 0.871, 1\\right] \\\\ $ \n",
    "\n",
    "$x \\in \\left[(0, -4), (-1, 2), (3, 3), (-5, -6), (-4, -5), (-2, -2)\\right]$\n",
    "\n",
    "$N = 6$ \n",
    "\n",
    "Hence, the decision function is given by:\n",
    "\n",
    "$f(z) = \\left(\\lambda_{0}<z, (\\alpha_{0}, \\beta_{0})>^3 + \\lambda_{1}<z, (\\alpha_{1}, \\beta_{1})>^3 + \\lambda_{2}<z, (\\alpha_{2}, \\beta_{2})>^3 + \\lambda_{3}<z, (\\alpha_{3}, \\beta_{3})>^3 + \\lambda_{4}<z, (\\alpha_{4}, \\beta_{4})>^3 + \\lambda_{5}<z, (\\alpha_{5}, \\beta_{5})>^3 \\right) - 0.08$\n",
    "\n",
    "$f(z) = \\left(-0.917<z, (0, -4)>^3 - 0.913<z, (-1, 2)>^3 - 0.913<z, (3, 3)>^3 + 0.871 <z, (-5, -6)>^3 +  0.871<z, (-4, -5)>^3 + <z, (-2, -2)>^3 \\right) - 0.08$\n",
    "\n",
    "For the 4th case:\n",
    "\n",
    "$b = -1.79 $\n",
    "\n",
    "$\\lambda \\in \\left[-0.45, -0.27, 0.73\\right]  $\n",
    "\n",
    "$x \\in \\left[(0, -4), (-1, 2), (-2, -2)\\right]$\n",
    "\n",
    "$N = 3$\n",
    "\n",
    "\n",
    "$f(z) = \\left(-0.45 e^{- \\dfrac{||z - (0, -4)||}{2}^{2}} - 0.27 e^{- \\dfrac{||z - (-1, 2)||}{2}^{2}} + 0.73 e^{- \\dfrac{||z - (-2, -2)||}{2}^{2}} \\right) - 1.79$\n",
    "\n",
    "For the linear case, $k(z, x_{n}) = <z, x_{n}>$\n",
    "\n",
    "And,\n",
    "\n",
    "$b = -1.79 $\n",
    "\n",
    "$\\lambda \\in \\left[-0.45, -0.279,  0.73\\right] $\n",
    "\n",
    "$x \\in \\left[(0, -4), (-1, 2), (-2, -2)\\right]$\n",
    "\n",
    "$N = 3$\n",
    "\n",
    "Hence,\n",
    "\n",
    "$f(z) = \\left(-0.45<z, (0, -4)> - 0.27<z, (-1, 2)> + 0.73<z, (-2, -2)> \\right) - 1.79 $"
   ]
  },
  {
   "cell_type": "markdown",
   "metadata": {},
   "source": [
    "#### Item (B):"
   ]
  },
  {
   "cell_type": "markdown",
   "metadata": {},
   "source": [
    "Originally, the function is given by:\n",
    "\n",
    "$f(z) = \\left(\\sum\\limits_{n = 0}^{N - 1}\\lambda_{n}<z,x_{n}> \\right) + b$\n",
    "\n",
    "Where:\n",
    "\n",
    "$w = \\sum\\limits_{n = 0}^{N - 1}\\lambda_{n}x_{n}$"
   ]
  },
  {
   "cell_type": "markdown",
   "metadata": {},
   "source": [
    "#### Item (C):"
   ]
  },
  {
   "cell_type": "markdown",
   "metadata": {},
   "source": []
  },
  {
   "cell_type": "markdown",
   "metadata": {},
   "source": [
    "#### Item (D):"
   ]
  },
  {
   "cell_type": "markdown",
   "metadata": {},
   "source": [
    "##### subitem (D1):"
   ]
  },
  {
   "cell_type": "markdown",
   "metadata": {},
   "source": []
  },
  {
   "cell_type": "markdown",
   "metadata": {},
   "source": [
    "##### subitem (D2):"
   ]
  },
  {
   "cell_type": "markdown",
   "metadata": {},
   "source": [
    "##### subitem (D3):"
   ]
  },
  {
   "cell_type": "markdown",
   "metadata": {},
   "source": []
  },
  {
   "cell_type": "markdown",
   "metadata": {},
   "source": [
    "#### Item (E):"
   ]
  },
  {
   "cell_type": "markdown",
   "metadata": {},
   "source": []
  },
  {
   "cell_type": "markdown",
   "metadata": {},
   "source": [
    "## Sixth Question"
   ]
  },
  {
   "cell_type": "code",
   "execution_count": 10,
   "metadata": {},
   "outputs": [],
   "source": [
    "## Method obtained by Ageron's github repository\n",
    "def plot_svc_decision_boundary(svm_clf, xmin, xmax):\n",
    "    w = svm_clf.coef_[0]\n",
    "    b = svm_clf.intercept_[0]\n",
    "\n",
    "    # At the decision boundary, w0*x0 + w1*x1 + b = 0\n",
    "    # => x1 = -w0/w1 * x0 - b/w1\n",
    "    x0 = np.linspace(xmin, xmax, 200)\n",
    "    decision_boundary = -w[0]/w[1] * x0 - b/w[1]\n",
    "\n",
    "    margin = 1/w[1]\n",
    "    gutter_up = decision_boundary + margin\n",
    "    gutter_down = decision_boundary - margin\n",
    "\n",
    "    svs = svm_clf.support_vectors_\n",
    "    plt.scatter(svs[:, 0], svs[:, 1], s=180, facecolors='#FFAAAA')\n",
    "    plt.plot(x0, decision_boundary, \"k-\", linewidth=2)\n",
    "    plt.plot(x0, gutter_up, \"k--\", linewidth=2)\n",
    "    plt.plot(x0, gutter_down, \"k--\", linewidth=2)\n"
   ]
  },
  {
   "cell_type": "code",
   "execution_count": 11,
   "metadata": {},
   "outputs": [
    {
     "data": {
      "text/plain": [
       "(-2.0, 2.0, -2.0, 2.0)"
      ]
     },
     "execution_count": 11,
     "metadata": {},
     "output_type": "execute_result"
    },
    {
     "data": {
      "image/png": "[encoded data removed]",
      "text/plain": [
       "<Figure size 640x480 with 1 Axes>"
      ]
     },
     "metadata": {},
     "output_type": "display_data"
    }
   ],
   "source": [
    "from sklearn import svm\n",
    "from sklearn.preprocessing import StandardScaler\n",
    "\n",
    "## Preprocessing the train and test dataset w/ standard scaler\n",
    "scaler = StandardScaler()\n",
    "X_scaled_train = scaler.fit_transform(X_train)\n",
    "X_scaled_test = scaler.fit_transform(X_test)\n",
    "\n",
    "# Train the model\n",
    "svc = svm.SVC(kernel ='linear', C = 1).fit(X_scaled_train, y_train)\n",
    "\n",
    "# Plot the chart\n",
    "plt.subplot(122)\n",
    "plt.plot(X_scaled_train[:, 0][y_train==1], X_scaled_train[:, 1][y_train==1], \"bo\")\n",
    "plt.plot(X_scaled_train[:, 0][y_train==0], X_scaled_train[:, 1][y_train==0], \"ms\")\n",
    "plot_svc_decision_boundary(svc, -2, 2)\n",
    "plt.xlabel(\"$x_0$\", fontsize=20)\n",
    "plt.ylabel(\"$x_1$  \", fontsize=20, rotation=0)\n",
    "plt.title(\"SVM with linear Kernel\", fontsize=16)\n",
    "plt.axis([-2, 2, -2, 2])"
   ]
  },
  {
   "cell_type": "markdown",
   "metadata": {},
   "source": [
    "Some information about the model"
   ]
  },
  {
   "cell_type": "code",
   "execution_count": 12,
   "metadata": {},
   "outputs": [
    {
     "name": "stdout",
     "output_type": "stream",
     "text": [
      "Number of Support Vectors: [2 2]\n",
      "Support Vectors Index: [0 1 4 5]\n",
      "Support Vectors: \n",
      "[[ 0.57035183 -0.58554004]\n",
      " [ 0.19011728  1.17108009]\n",
      " [-0.95058638 -0.87831007]\n",
      " [-0.19011728  0.        ]]\n"
     ]
    }
   ],
   "source": [
    "print(f'Number of Support Vectors: {svc.n_support_}')\n",
    "print(f'Support Vectors Index: {svc.support_}')\n",
    "print(f'Support Vectors: \\n{svc.support_vectors_}')"
   ]
  },
  {
   "cell_type": "markdown",
   "metadata": {},
   "source": [
    "Results in test dataset"
   ]
  },
  {
   "cell_type": "code",
   "execution_count": 13,
   "metadata": {},
   "outputs": [
    {
     "name": "stdout",
     "output_type": "stream",
     "text": [
      "\n",
      "\n",
      "Labels: [0 0 1 1]\n",
      "Predict: [0 0 1 1]\n"
     ]
    }
   ],
   "source": [
    "## get the labels\n",
    "y = np.ravel(test[2],order='C')\n",
    "print(f'\\n\\nLabels: {y}\\nPredict: {svc.predict(X_scaled_test)}')"
   ]
  },
  {
   "cell_type": "markdown",
   "metadata": {},
   "source": [
    "## Seventh Question"
   ]
  },
  {
   "cell_type": "code",
   "execution_count": 23,
   "metadata": {},
   "outputs": [],
   "source": [
    "from sklearn import svm, datasets"
   ]
  },
  {
   "cell_type": "code",
   "execution_count": 24,
   "metadata": {},
   "outputs": [],
   "source": [
    "def load_iris_first_2_features_and_binary():\n",
    "    # import some data to play with\n",
    "    iris = datasets.load_iris()\n",
    "    # Take the first two features. We could avoid this by using a two-dim dataset\n",
    "    X = iris.data[:, :2]\n",
    "    y = iris.target\n",
    "    #make it only two classes:\n",
    "    #y = np.array(iris.target < 1).astype(int) #this is an easier binary problem\n",
    "    y = np.array(iris.target > 1).astype(int) #this is a harder binary problem\n",
    "    feature_names = ('Sepal length', 'Sepal width') #x and y\n",
    "    return X,y,feature_names"
   ]
  },
  {
   "cell_type": "code",
   "execution_count": 25,
   "metadata": {},
   "outputs": [],
   "source": [
    "def load_lista1_dataset():\n",
    "    #from numpy import genfromtxt\n",
    "    my_data = np.genfromtxt('lista1_dataset.csv', delimiter=',')\n",
    "    X = my_data[:,:2] # two first parameters are input vector\n",
    "    #y = my_data[:,2:]\n",
    "    y = np.ravel(my_data[:,2:],order='C') #convert column vector into 1D array\n",
    "    feature_names = ('x0', 'x1') #x and y\n",
    "    return X,y,feature_names"
   ]
  },
  {
   "cell_type": "code",
   "execution_count": 26,
   "metadata": {},
   "outputs": [],
   "source": [
    "def load_simple():\n",
    "    #from numpy import genfromtxt\n",
    "    my_data = np.genfromtxt('simple.csv', delimiter=',')\n",
    "    X = my_data[:,:2] # fish length and weight\n",
    "    y = np.ravel(my_data[:,2:],order='C') #convert column vector into 1D array\n",
    "    feature_names = ('Length', 'Weight') #x and y\n",
    "    return X,y,feature_names"
   ]
  },
  {
   "cell_type": "code",
   "execution_count": 27,
   "metadata": {},
   "outputs": [],
   "source": [
    "def convert_linear_SVM_to_perceptron(support_vectors, dual_coef):\n",
    "    dual_coef = np.ravel(dual_coef,order='C') #convert to a 1D vector\n",
    "    num_support_vectors = len(dual_coef)\n",
    "    if support_vectors.shape[0] != num_support_vectors:\n",
    "        raise Exception('support_vectors.shape[0] != num_support_vectors')\n",
    "    input_space_dimension = support_vectors.shape[1]\n",
    "    perceptron_weights = np.zeros((input_space_dimension))\n",
    "    for sv in range(num_support_vectors):\n",
    "        perceptron_weights += dual_coef[sv] * support_vectors[sv]\n",
    "    return perceptron_weights"
   ]
  },
  {
   "cell_type": "code",
   "execution_count": 28,
   "metadata": {},
   "outputs": [],
   "source": [
    "def calculate_intercept(perceptron_weights,support_vectors,support_vector_indices,labels):\n",
    "    '''\n",
    "    https://stats.stackexchange.com/questions/211310/deriving-the-intercept-term-in-a-linearly-separable-and-soft-margin-svm\n",
    "    '''\n",
    "    num_support_vectors = support_vectors.shape[0]\n",
    "    #input_space_dimension = support_vectors.shape[1]\n",
    "    max_negative = -1e30\n",
    "    min_positive = 1e30\n",
    "    for i in range(num_support_vectors):\n",
    "        #note that labels has all training examples, not only support vectors,\n",
    "        #so use support_vector_indices to get the proper index in training set\n",
    "        this_label = labels[support_vector_indices[i]]\n",
    "        this_inner_product = np.inner(perceptron_weights, support_vectors[i])\n",
    "        if this_label > 0:\n",
    "            if this_inner_product < min_positive:\n",
    "                min_positive = this_inner_product\n",
    "        else:\n",
    "            if this_inner_product > max_negative:\n",
    "                max_negative = this_inner_product\n",
    "    return -(max_negative+min_positive)/2.0"
   ]
  },
  {
   "cell_type": "code",
   "execution_count": 29,
   "metadata": {},
   "outputs": [],
   "source": [
    "def make_meshgrid(x, y, h=.02):\n",
    "    \"\"\"Create a mesh of points to plot in\n",
    "\n",
    "    Parameters\n",
    "    ----------\n",
    "    x: data to base x-axis meshgrid on\n",
    "    y: data to base y-axis meshgrid on\n",
    "    h: stepsize for meshgrid, optional\n",
    "\n",
    "    Returns\n",
    "    -------\n",
    "    xx, yy : ndarray\n",
    "    \"\"\"\n",
    "    x_min, x_max = x.min() - 1, x.max() + 1\n",
    "    y_min, y_max = y.min() - 1, y.max() + 1\n",
    "    xx, yy = np.meshgrid(np.arange(x_min, x_max, h),\n",
    "                         np.arange(y_min, y_max, h))\n",
    "    return xx, yy"
   ]
  },
  {
   "cell_type": "code",
   "execution_count": 30,
   "metadata": {},
   "outputs": [],
   "source": [
    "def plot_contours(ax, clf, xx, yy, **params):\n",
    "    \"\"\"Plot the decision boundaries for a classifier.\n",
    "\n",
    "    Parameters\n",
    "    ----------\n",
    "    ax: matplotlib axes object\n",
    "    clf: a classifier\n",
    "    xx: meshgrid ndarray\n",
    "    yy: meshgrid ndarray\n",
    "    params: dictionary of params to pass to contourf, optional\n",
    "    \"\"\"\n",
    "    Z = clf.predict(np.c_[xx.ravel(), yy.ravel()])\n",
    "    Z = Z.reshape(xx.shape)\n",
    "    out = ax.contourf(xx, yy, Z, **params)\n",
    "    return out"
   ]
  },
  {
   "cell_type": "code",
   "execution_count": 31,
   "metadata": {},
   "outputs": [
    {
     "name": "stdout",
     "output_type": "stream",
     "text": [
      "#### 1) Linear SVM with LinearSVC #####\n",
      "linear_svc.coef_= [[ 0.66001144 -0.34870356]]\n",
      "linear_svc.intercept_= [-3.13919621]\n",
      "[LibSVM]*\n",
      "optimization finished, #iter = 69\n",
      "obj = -67.107474, rho = -11.356088\n",
      "nSV = 71, nBSV = 68\n",
      "Total nSV = 71\n",
      "\n",
      "\n",
      "#### Generic SVMs with SVC #####\n",
      "####  2 ) SVM with SVC ####\n",
      " {'C': 1.0, 'break_ties': False, 'cache_size': 200, 'class_weight': None, 'coef0': 0.0, 'decision_function_shape': 'ovr', 'degree': 3, 'gamma': 'scale', 'kernel': 'linear', 'max_iter': -1, 'probability': False, 'random_state': None, 'shrinking': False, 'tol': 0.001, 'verbose': 1}\n",
      "svm.n_support_= [36 35]\n",
      "svm.support_= [ 14  15  50  51  52  54  55  56  58  61  62  63  65  67  68  70  71  72\n",
      "  73  74  75  76  77  78  79  82  83  85  86  87  91  92  95  96  97  99\n",
      " 100 101 103 104 106 108 110 111 112 113 114 115 116 119 121 123 124 126\n",
      " 127 128 132 133 134 136 137 138 140 142 143 144 145 146 147 148 149]\n",
      "svm.support_vectors_= [[5.8 4. ]\n",
      " [5.7 4.4]\n",
      " [7.  3.2]\n",
      " [6.4 3.2]\n",
      " [6.9 3.1]\n",
      " [6.5 2.8]\n",
      " [5.7 2.8]\n",
      " [6.3 3.3]\n",
      " [6.6 2.9]\n",
      " [5.9 3. ]\n",
      " [6.  2.2]\n",
      " [6.1 2.9]\n",
      " [6.7 3.1]\n",
      " [5.8 2.7]\n",
      " [6.2 2.2]\n",
      " [5.9 3.2]\n",
      " [6.1 2.8]\n",
      " [6.3 2.5]\n",
      " [6.1 2.8]\n",
      " [6.4 2.9]\n",
      " [6.6 3. ]\n",
      " [6.8 2.8]\n",
      " [6.7 3. ]\n",
      " [6.  2.9]\n",
      " [5.7 2.6]\n",
      " [5.8 2.7]\n",
      " [6.  2.7]\n",
      " [6.  3.4]\n",
      " [6.7 3.1]\n",
      " [6.3 2.3]\n",
      " [6.1 3. ]\n",
      " [5.8 2.6]\n",
      " [5.7 3. ]\n",
      " [5.7 2.9]\n",
      " [6.2 2.9]\n",
      " [5.7 2.8]\n",
      " [6.3 3.3]\n",
      " [5.8 2.7]\n",
      " [6.3 2.9]\n",
      " [6.5 3. ]\n",
      " [4.9 2.5]\n",
      " [6.7 2.5]\n",
      " [6.5 3.2]\n",
      " [6.4 2.7]\n",
      " [6.8 3. ]\n",
      " [5.7 2.5]\n",
      " [5.8 2.8]\n",
      " [6.4 3.2]\n",
      " [6.5 3. ]\n",
      " [6.  2.2]\n",
      " [5.6 2.8]\n",
      " [6.3 2.7]\n",
      " [6.7 3.3]\n",
      " [6.2 2.8]\n",
      " [6.1 3. ]\n",
      " [6.4 2.8]\n",
      " [6.4 2.8]\n",
      " [6.3 2.8]\n",
      " [6.1 2.6]\n",
      " [6.3 3.4]\n",
      " [6.4 3.1]\n",
      " [6.  3. ]\n",
      " [6.7 3.1]\n",
      " [5.8 2.7]\n",
      " [6.8 3.2]\n",
      " [6.7 3.3]\n",
      " [6.7 3. ]\n",
      " [6.3 2.5]\n",
      " [6.5 3. ]\n",
      " [6.2 3.4]\n",
      " [5.9 3. ]]\n",
      "svm.dual_coef_= [[-1.         -0.35762674 -1.         -1.         -1.         -1.\n",
      "  -1.         -1.         -1.         -1.         -1.         -1.\n",
      "  -1.         -1.         -1.         -1.         -1.         -1.\n",
      "  -1.         -1.         -1.         -1.         -1.         -1.\n",
      "  -1.         -1.         -1.         -1.         -1.         -1.\n",
      "  -1.         -1.         -0.02176029 -1.         -1.         -1.\n",
      "   1.          1.          1.          1.          1.          1.\n",
      "   1.          1.          0.37938703  1.          1.          1.\n",
      "   1.          1.          1.          1.          1.          1.\n",
      "   1.          1.          1.          1.          1.          1.\n",
      "   1.          1.          1.          1.          1.          1.\n",
      "   1.          1.          1.          1.          1.        ]]\n",
      "At most 10 decisions: svm.decision_function(X)= [-2.09009821 -2.45322464 -2.81682528 -2.99849011 -2.27189853 -1.54517147\n",
      " -2.99869334 -2.27176304 -3.36181977 -2.45329239]\n",
      "Accuracy via svm.score(X,y)= 0.8066666666666666\n",
      "svc_with_linear_kernel.coef_= [[ 1.81732573e+00 -6.77429337e-04]]\n",
      "linear_svc.intercept_= [-11.35608843]\n",
      "Estimated perceptron_weights= [ 1.81732573e+00 -6.77429337e-04]\n",
      "Estimated bias= -10.811157420560402\n",
      "####  3 ) SVM with SVC ####\n",
      " {'C': 1.0, 'break_ties': False, 'cache_size': 200, 'class_weight': None, 'coef0': 0.0, 'decision_function_shape': 'ovr', 'degree': 3, 'gamma': 0.7, 'kernel': 'rbf', 'max_iter': -1, 'probability': False, 'random_state': None, 'shrinking': True, 'tol': 0.001, 'verbose': False}\n",
      "svm.n_support_= [38 35]\n",
      "svm.support_= [ 13  14  15  41  50  51  52  54  55  56  58  60  61  62  63  65  67  68\n",
      "  70  71  72  73  74  75  76  77  78  82  83  85  86  87  91  92  95  96\n",
      "  97  99 100 101 103 104 106 108 110 111 113 114 115 116 118 119 121 123\n",
      " 124 126 127 128 131 132 133 134 136 137 138 140 142 144 145 146 147 148\n",
      " 149]\n",
      "svm.support_vectors_= [[4.3 3. ]\n",
      " [5.8 4. ]\n",
      " [5.7 4.4]\n",
      " [4.5 2.3]\n",
      " [7.  3.2]\n",
      " [6.4 3.2]\n",
      " [6.9 3.1]\n",
      " [6.5 2.8]\n",
      " [5.7 2.8]\n",
      " [6.3 3.3]\n",
      " [6.6 2.9]\n",
      " [5.  2. ]\n",
      " [5.9 3. ]\n",
      " [6.  2.2]\n",
      " [6.1 2.9]\n",
      " [6.7 3.1]\n",
      " [5.8 2.7]\n",
      " [6.2 2.2]\n",
      " [5.9 3.2]\n",
      " [6.1 2.8]\n",
      " [6.3 2.5]\n",
      " [6.1 2.8]\n",
      " [6.4 2.9]\n",
      " [6.6 3. ]\n",
      " [6.8 2.8]\n",
      " [6.7 3. ]\n",
      " [6.  2.9]\n",
      " [5.8 2.7]\n",
      " [6.  2.7]\n",
      " [6.  3.4]\n",
      " [6.7 3.1]\n",
      " [6.3 2.3]\n",
      " [6.1 3. ]\n",
      " [5.8 2.6]\n",
      " [5.7 3. ]\n",
      " [5.7 2.9]\n",
      " [6.2 2.9]\n",
      " [5.7 2.8]\n",
      " [6.3 3.3]\n",
      " [5.8 2.7]\n",
      " [6.3 2.9]\n",
      " [6.5 3. ]\n",
      " [4.9 2.5]\n",
      " [6.7 2.5]\n",
      " [6.5 3.2]\n",
      " [6.4 2.7]\n",
      " [5.7 2.5]\n",
      " [5.8 2.8]\n",
      " [6.4 3.2]\n",
      " [6.5 3. ]\n",
      " [7.7 2.6]\n",
      " [6.  2.2]\n",
      " [5.6 2.8]\n",
      " [6.3 2.7]\n",
      " [6.7 3.3]\n",
      " [6.2 2.8]\n",
      " [6.1 3. ]\n",
      " [6.4 2.8]\n",
      " [7.9 3.8]\n",
      " [6.4 2.8]\n",
      " [6.3 2.8]\n",
      " [6.1 2.6]\n",
      " [6.3 3.4]\n",
      " [6.4 3.1]\n",
      " [6.  3. ]\n",
      " [6.7 3.1]\n",
      " [5.8 2.7]\n",
      " [6.7 3.3]\n",
      " [6.7 3. ]\n",
      " [6.3 2.5]\n",
      " [6.5 3. ]\n",
      " [6.2 3.4]\n",
      " [5.9 3. ]]\n",
      "svm.dual_coef_= [[-0.25030258 -1.         -0.11660085 -0.93522599 -1.         -1.\n",
      "  -1.         -1.         -1.         -1.         -1.         -0.07119632\n",
      "  -1.         -1.         -1.         -1.         -1.         -1.\n",
      "  -1.         -1.         -1.         -1.         -1.         -1.\n",
      "  -1.         -1.         -1.         -1.         -1.         -1.\n",
      "  -1.         -1.         -1.         -1.         -0.46769657 -1.\n",
      "  -1.         -0.35840839  1.          1.          1.          1.\n",
      "   1.          1.          1.          1.          1.          1.\n",
      "   1.          1.          1.          1.          1.          1.\n",
      "   0.20221328  1.          1.          1.          1.          1.\n",
      "   1.          1.          1.          1.          1.          1.\n",
      "   1.          0.99721743  1.          1.          1.          1.\n",
      "   1.        ]]\n",
      "At most 10 decisions: svm.decision_function(X)= [-1.48802722 -1.39948    -1.28644441 -1.21239409 -1.43187293 -1.35851833\n",
      " -1.18247408 -1.46617182 -1.06866886 -1.41399006]\n",
      "Accuracy via svm.score(X,y)= 0.82\n",
      "####  4 ) SVM with SVC ####\n",
      " {'C': 1.0, 'break_ties': False, 'cache_size': 200, 'class_weight': None, 'coef0': 0, 'decision_function_shape': 'ovr', 'degree': 3, 'gamma': 'auto', 'kernel': 'poly', 'max_iter': -1, 'probability': False, 'random_state': None, 'shrinking': True, 'tol': 0.001, 'verbose': False}\n",
      "svm.n_support_= [33 34]\n",
      "svm.support_= [ 50  51  52  54  55  56  58  61  63  65  67  68  70  71  72  73  74  75\n",
      "  76  77  78  79  82  83  85  86  87  91  92  95  96  97  99 100 101 103\n",
      " 104 106 108 110 111 112 113 114 115 116 119 121 123 124 126 127 128 132\n",
      " 133 134 136 137 138 140 142 144 145 146 147 148 149]\n",
      "svm.support_vectors_= [[7.  3.2]\n",
      " [6.4 3.2]\n",
      " [6.9 3.1]\n",
      " [6.5 2.8]\n",
      " [5.7 2.8]\n",
      " [6.3 3.3]\n",
      " [6.6 2.9]\n",
      " [5.9 3. ]\n",
      " [6.1 2.9]\n",
      " [6.7 3.1]\n",
      " [5.8 2.7]\n",
      " [6.2 2.2]\n",
      " [5.9 3.2]\n",
      " [6.1 2.8]\n",
      " [6.3 2.5]\n",
      " [6.1 2.8]\n",
      " [6.4 2.9]\n",
      " [6.6 3. ]\n",
      " [6.8 2.8]\n",
      " [6.7 3. ]\n",
      " [6.  2.9]\n",
      " [5.7 2.6]\n",
      " [5.8 2.7]\n",
      " [6.  2.7]\n",
      " [6.  3.4]\n",
      " [6.7 3.1]\n",
      " [6.3 2.3]\n",
      " [6.1 3. ]\n",
      " [5.8 2.6]\n",
      " [5.7 3. ]\n",
      " [5.7 2.9]\n",
      " [6.2 2.9]\n",
      " [5.7 2.8]\n",
      " [6.3 3.3]\n",
      " [5.8 2.7]\n",
      " [6.3 2.9]\n",
      " [6.5 3. ]\n",
      " [4.9 2.5]\n",
      " [6.7 2.5]\n",
      " [6.5 3.2]\n",
      " [6.4 2.7]\n",
      " [6.8 3. ]\n",
      " [5.7 2.5]\n",
      " [5.8 2.8]\n",
      " [6.4 3.2]\n",
      " [6.5 3. ]\n",
      " [6.  2.2]\n",
      " [5.6 2.8]\n",
      " [6.3 2.7]\n",
      " [6.7 3.3]\n",
      " [6.2 2.8]\n",
      " [6.1 3. ]\n",
      " [6.4 2.8]\n",
      " [6.4 2.8]\n",
      " [6.3 2.8]\n",
      " [6.1 2.6]\n",
      " [6.3 3.4]\n",
      " [6.4 3.1]\n",
      " [6.  3. ]\n",
      " [6.7 3.1]\n",
      " [5.8 2.7]\n",
      " [6.7 3.3]\n",
      " [6.7 3. ]\n",
      " [6.3 2.5]\n",
      " [6.5 3. ]\n",
      " [6.2 3.4]\n",
      " [5.9 3. ]]\n",
      "svm.dual_coef_= [[-1.         -1.         -1.         -1.         -1.         -1.\n",
      "  -1.         -1.         -1.         -1.         -1.         -0.84094767\n",
      "  -1.         -1.         -1.         -1.         -1.         -1.\n",
      "  -1.         -1.         -1.         -0.37370225 -1.         -1.\n",
      "  -1.         -1.         -1.         -1.         -1.         -1.\n",
      "  -1.         -1.         -1.          1.          1.          1.\n",
      "   1.          1.          1.          1.          1.          0.28744964\n",
      "   1.          1.          1.          1.          1.          1.\n",
      "   1.          0.08525527  1.          1.          1.          1.\n",
      "   1.          1.          1.          1.          1.          1.\n",
      "   1.          0.841945    1.          1.          1.          1.\n",
      "   1.        ]]\n",
      "At most 10 decisions: svm.decision_function(X)= [-2.75155129 -2.34500951 -2.98215762 -2.99540815 -3.19803138 -3.01922687\n",
      " -3.56859022 -2.7626754  -3.03332465 -2.46697626]\n",
      "Accuracy via svm.score(X,y)= 0.8266666666666667\n",
      "('LinearSVC (linear kernel)', 'SVC with linear kernel', 'SVC with RBF kernel', 'SVC with polynomial (degree 3) kernel') have accuracies:\n",
      "svm_scores= [0.80666667 0.82       0.82666667 0.81333333]\n"
     ]
    },
    {
     "data": {
      "image/png": "[encoded data removed]",
      "text/plain": [
       "<Figure size 640x480 with 4 Axes>"
      ]
     },
     "metadata": {},
     "output_type": "display_data"
    }
   ],
   "source": [
    "np.random.seed(30) #reproducible experiments\n",
    "\n",
    "#Choose here the dataset:\n",
    "# X,y,feature_names = load_simple()\n",
    "#X,y,feature_names = load_lista1_dataset()\n",
    "X,y,feature_names = load_iris_first_2_features_and_binary()\n",
    "\n",
    "# we create an instance of SVM and fit out data. We do not scale our\n",
    "# data since we want to plot the support vectors\n",
    "C = 1.0  # SVM regularization parameter\n",
    "\n",
    "svc_with_linear_kernel = svm.SVC(kernel='linear', C=C, verbose=1, shrinking=False)\n",
    "linear_svc = svm.LinearSVC(C=C, max_iter=1e4, dual=True, tol=1e-10)\n",
    "rbf_svm = svm.SVC(kernel='rbf', gamma=0.7, C=C)\n",
    "polynomial_svm = svm.SVC(kernel='poly', degree=3, gamma='auto', C=C, coef0=0)\n",
    "\n",
    "print('#### 1) Linear SVM with LinearSVC #####')\n",
    "#This is restricted to linear SVMs. It does not return the support vectors but the primal perceptron\n",
    "linear_svc.fit(X,y) #https://scikit-learn.org/stable/modules/generated/sklearn.svm.LinearSVC.html\n",
    "print('linear_svc.coef_=',linear_svc.coef_)\n",
    "print('linear_svc.intercept_=',linear_svc.intercept_)\n",
    "#print(linear_svc.offset_)\n",
    "svm_scores = np.zeros((4,))\n",
    "svm_scores[0] = linear_svc.score(X,y)\n",
    "\n",
    "#These are generic SVMs\n",
    "#https://scikit-learn.org/stable/modules/generated/sklearn.svm.SVC.html#sklearn.svm.SVC\n",
    "svc_with_linear_kernel.fit(X,y)\n",
    "rbf_svm.fit(X,y) \n",
    "polynomial_svm.fit(X,y)\n",
    "\n",
    "tuple_of_svms = (svc_with_linear_kernel, rbf_svm, polynomial_svm)\n",
    "\n",
    "print('\\n\\n#### Generic SVMs with SVC #####')\n",
    "for i in range(3):\n",
    "    svm = tuple_of_svms[i]\n",
    "    print('#### ', str(i+2), ') SVM with SVC ####\\n', svm.get_params())\n",
    "    print('svm.n_support_=',svm.n_support_)\n",
    "    print('svm.support_=',svm.support_)\n",
    "    print('svm.support_vectors_=',svm.support_vectors_)\n",
    "    print('svm.dual_coef_=',svm.dual_coef_)\n",
    "    decisions = svm.decision_function(X)\n",
    "    if len(decisions) > 10: #don't show too many numbers\n",
    "        decisions = decisions[:10]\n",
    "    print('At most 10 decisions: svm.decision_function(X)=',decisions)\n",
    "    svm_scores[i+1] = svm.score(X,y)\n",
    "    print('Accuracy via svm.score(X,y)=',svm_scores[i])\n",
    "    if i == 0: #print(svm.coef_) #cannot be used with non-linear SVMs\n",
    "        print('svc_with_linear_kernel.coef_=',svm.coef_)\n",
    "        print('linear_svc.intercept_=',svm.intercept_)\n",
    "        perceptron_weights = convert_linear_SVM_to_perceptron(svm.support_vectors_, svm.dual_coef_)\n",
    "        print('Estimated perceptron_weights=', perceptron_weights)\n",
    "        bias = calculate_intercept(perceptron_weights,svm.support_vectors_,svm.support_,y)\n",
    "        print('Estimated bias=', bias)\n",
    "\n",
    "#Plot:\n",
    "models = (linear_svc, svc_with_linear_kernel, rbf_svm, polynomial_svm)\n",
    "\n",
    "# title for the plots\n",
    "titles = ('LinearSVC (linear kernel)',\n",
    "        'SVC with linear kernel',\n",
    "        'SVC with RBF kernel',\n",
    "        'SVC with polynomial (degree 3) kernel')\n",
    "\n",
    "# Set-up 2x2 grid for plotting.\n",
    "fig, sub = plt.subplots(2, 2)\n",
    "plt.subplots_adjust(wspace=0.4, hspace=0.4)\n",
    "\n",
    "X0, X1 = X[:, 0], X[:, 1]\n",
    "xx, yy = make_meshgrid(X0, X1)\n",
    "\n",
    "for clf, title, ax in zip(models, titles, sub.flatten()):\n",
    "    plot_contours(ax, clf, xx, yy,\n",
    "                  cmap=plt.cm.coolwarm, alpha=0.8)\n",
    "    ax.scatter(X0, X1, c=y, cmap=plt.cm.coolwarm, s=20, edgecolors='k')\n",
    "    ax.set_xlim(xx.min(), xx.max())\n",
    "    ax.set_ylim(yy.min(), yy.max())\n",
    "    ax.set_xlabel(feature_names[0])\n",
    "    ax.set_ylabel(feature_names[1])\n",
    "    ax.set_xticks(())\n",
    "    ax.set_yticks(())\n",
    "    ax.set_title(title)\n",
    "\n",
    "print(titles,'have accuracies:')\n",
    "print('svm_scores=',svm_scores)\n",
    "plt.show()"
   ]
  },
  {
   "cell_type": "code",
   "execution_count": null,
   "metadata": {},
   "outputs": [],
   "source": []
  }
 ],
 "metadata": {
  "kernelspec": {
   "display_name": "federated_learning",
   "language": "python",
   "name": "federated_learning"
  },
  "language_info": {
   "codemirror_mode": {
    "name": "ipython",
    "version": 3
   },
   "file_extension": ".py",
   "mimetype": "text/x-python",
   "name": "python",
   "nbconvert_exporter": "python",
   "pygments_lexer": "ipython3",
   "version": "3.7.10"
  },
  "orig_nbformat": 4
 },
 "nbformat": 4,
 "nbformat_minor": 2
}
