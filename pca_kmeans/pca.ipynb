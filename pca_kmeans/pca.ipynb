{
 "cells": [
  {
   "cell_type": "code",
   "execution_count": 266,
   "id": "618d1186",
   "metadata": {},
   "outputs": [],
   "source": [
    "import numpy as np\n",
    "from sklearn.decomposition import PCA\n",
    "from sklearn.preprocessing import StandardScaler\n",
    "import matplotlib.pyplot as plt\n",
    "import pandas as pd"
   ]
  },
  {
   "cell_type": "code",
   "execution_count": 314,
   "id": "1730d593",
   "metadata": {},
   "outputs": [],
   "source": [
    "X = np.array([[1, 0], \n",
    "              [2, 0], \n",
    "              [3, 0], \n",
    "              [5, 6], \n",
    "              [6, 6], \n",
    "              [7, 6]])"
   ]
  },
  {
   "cell_type": "code",
   "execution_count": 322,
   "id": "50992a35",
   "metadata": {},
   "outputs": [],
   "source": [
    "scaler_1 = StandardScaler()\n",
    "\n",
    "X = scaler_1.fit_transform(X)"
   ]
  },
  {
   "cell_type": "markdown",
   "id": "c136e700",
   "metadata": {},
   "source": [
    "## Item 1"
   ]
  },
  {
   "cell_type": "code",
   "execution_count": 323,
   "id": "fd0e2a4c",
   "metadata": {},
   "outputs": [
    {
     "data": {
      "text/plain": [
       "array([[ 1.68908729,  0.27487372],\n",
       "       [ 1.36176045, -0.05245311],\n",
       "       [ 1.03443362, -0.37977995],\n",
       "       [-1.03443362,  0.37977995],\n",
       "       [-1.36176045,  0.05245311],\n",
       "       [-1.68908729, -0.27487372]])"
      ]
     },
     "execution_count": 323,
     "metadata": {},
     "output_type": "execute_result"
    }
   ],
   "source": [
    "pca = PCA(n_components=2)\n",
    "pca.fit_transform(X)"
   ]
  },
  {
   "cell_type": "markdown",
   "id": "dd0aa55e",
   "metadata": {},
   "source": [
    "Autovalores"
   ]
  },
  {
   "cell_type": "code",
   "execution_count": 324,
   "id": "655f6c65",
   "metadata": {},
   "outputs": [
    {
     "data": {
      "text/plain": [
       "array([2.31098412, 0.08901588])"
      ]
     },
     "execution_count": 324,
     "metadata": {},
     "output_type": "execute_result"
    }
   ],
   "source": [
    "pca.explained_variance_"
   ]
  },
  {
   "cell_type": "markdown",
   "id": "12832836",
   "metadata": {},
   "source": [
    "Autovetores"
   ]
  },
  {
   "cell_type": "code",
   "execution_count": 325,
   "id": "97bc64cf",
   "metadata": {},
   "outputs": [
    {
     "data": {
      "text/plain": [
       "array([[-0.70710678, -0.70710678],\n",
       "       [-0.70710678,  0.70710678]])"
      ]
     },
     "execution_count": 325,
     "metadata": {},
     "output_type": "execute_result"
    }
   ],
   "source": [
    "pca.components_"
   ]
  },
  {
   "cell_type": "markdown",
   "id": "fa646887",
   "metadata": {},
   "source": [
    "Variâncias"
   ]
  },
  {
   "cell_type": "code",
   "execution_count": 326,
   "id": "f0d6eb03",
   "metadata": {},
   "outputs": [
    {
     "data": {
      "text/plain": [
       "array([0.96291005, 0.03708995])"
      ]
     },
     "execution_count": 326,
     "metadata": {},
     "output_type": "execute_result"
    }
   ],
   "source": [
    "pca.explained_variance_ratio_"
   ]
  },
  {
   "cell_type": "markdown",
   "id": "2aa581dc",
   "metadata": {},
   "source": [
    "## Item 2\n",
    "\n",
    "$\\lambda_1 = 6 , \\lambda_2 = 2$\n",
    "\n",
    "Fazendo $Sb = \\lambda b$ \n",
    "\n",
    "$S = \\dfrac{1}{N}\\sum\\limits_{n = 1}^{N}x_{n}x_{n}^T $\n",
    "\n",
    "$\\left[\\dfrac{1}{N}\\sum\\limits_{n = 1}^{N}x_{n}x_{n}^T\\right] b = \\lambda b$"
   ]
  },
  {
   "cell_type": "markdown",
   "id": "baa47e21",
   "metadata": {},
   "source": [
    "## Item 3"
   ]
  },
  {
   "cell_type": "code",
   "execution_count": 328,
   "id": "704af894",
   "metadata": {},
   "outputs": [
    {
     "data": {
      "text/plain": [
       "array([1., 0.])"
      ]
     },
     "execution_count": 328,
     "metadata": {},
     "output_type": "execute_result"
    }
   ],
   "source": [
    "data = [(-1, 1), (0, 0), (1, 1)]\n",
    "\n",
    "scaler_3 = StandardScaler()\n",
    "\n",
    "data = scaler_3.fit_transform(data)\n",
    "\n",
    "pca_3 = PCA(n_components=2)\n",
    "\n",
    "pca_3.fit_transform(data)\n",
    "\n",
    "pca_3.components_[0]"
   ]
  },
  {
   "cell_type": "markdown",
   "id": "5ef8f7ef",
   "metadata": {},
   "source": [
    "## Item 4\n",
    "\n",
    "Ter dois autovalores iguais nesse caso significaria que o dados possuem a mesma variação nas dimensões consideradas. Nesse caso, buscar uma redução de dimensionalidade poderia não ser interessante pois estariamos descartando uma quantidade de informação considerável ao se livrar de uma das componentes."
   ]
  },
  {
   "cell_type": "code",
   "execution_count": 406,
   "id": "75bfe184",
   "metadata": {},
   "outputs": [
    {
     "data": {
      "text/plain": [
       "array([0.5, 0.5])"
      ]
     },
     "execution_count": 406,
     "metadata": {},
     "output_type": "execute_result"
    }
   ],
   "source": [
    "x_1 = np.array([[0, 1], [0, -1], [1, 0], [-1, 0]])\n",
    "\n",
    "pca_4 = PCA(n_components=2)\n",
    "\n",
    "scaler_4 = StandardScaler()\n",
    "\n",
    "x_1 = scaler_4.fit_transform(x_1)\n",
    "\n",
    "pca_4.fit_transform(x_1)\n",
    "\n",
    "pca_4.explained_variance_ratio_"
   ]
  },
  {
   "cell_type": "code",
   "execution_count": 407,
   "id": "c55f2387",
   "metadata": {},
   "outputs": [
    {
     "data": {
      "text/plain": [
       "<matplotlib.collections.PathCollection at 0x7f4053df71d0>"
      ]
     },
     "execution_count": 407,
     "metadata": {},
     "output_type": "execute_result"
    },
    {
     "data": {
      "image/png": "[encoded data removed]",
      "text/plain": [
       "<Figure size 640x480 with 1 Axes>"
      ]
     },
     "metadata": {},
     "output_type": "display_data"
    }
   ],
   "source": [
    "plt.scatter(x_1[:, 0], x_1[:, 1])"
   ]
  },
  {
   "cell_type": "markdown",
   "id": "cbc4502d",
   "metadata": {},
   "source": [
    "## Item 5"
   ]
  },
  {
   "cell_type": "markdown",
   "id": "f4e13f24",
   "metadata": {},
   "source": [
    "A melhor explicação que eu encontrei foi em relação a estabilidade do método. Ao que tudo indica o método tradicional de obter os autovalores da matriz de covariância torna-se complicado quando a quantidade de dados é grande, enquanto que decompor a matriz de features utilizando SVD é mais estável "
   ]
  },
  {
   "cell_type": "markdown",
   "id": "47fa35c8",
   "metadata": {},
   "source": [
    "## Item 6"
   ]
  },
  {
   "cell_type": "code",
   "execution_count": 333,
   "id": "5d7c975d",
   "metadata": {},
   "outputs": [],
   "source": [
    "from sklearn.datasets import load_iris\n",
    "\n",
    "scaler_6 = StandardScaler()\n",
    "\n",
    "dataset = load_iris()\n",
    "\n",
    "X, y = dataset.data, dataset.target\n",
    "\n",
    "pca_6 = PCA(n_components=2)\n",
    "\n",
    "X = scaler_6.fit_transform(X)\n",
    "\n",
    "X_red = pca_6.fit_transform(X)"
   ]
  },
  {
   "cell_type": "code",
   "execution_count": 410,
   "id": "1cd6c17b",
   "metadata": {},
   "outputs": [
    {
     "data": {
      "text/plain": [
       "<matplotlib.legend.Legend at 0x7f4053caafd0>"
      ]
     },
     "execution_count": 410,
     "metadata": {},
     "output_type": "execute_result"
    },
    {
     "data": {
      "image/png": "[encoded data removed]",
      "text/plain": [
       "<Figure size 640x480 with 1 Axes>"
      ]
     },
     "metadata": {},
     "output_type": "display_data"
    }
   ],
   "source": [
    "for i in range(3):\n",
    "    plt.scatter(X_red[y == i, 0], X_red[y == i, 1], label=dataset.target_names[i])\n",
    "plt.legend()"
   ]
  },
  {
   "cell_type": "code",
   "execution_count": null,
   "id": "2ce76226",
   "metadata": {},
   "outputs": [],
   "source": []
  }
 ],
 "metadata": {
  "kernelspec": {
   "display_name": "federated_learning",
   "language": "python",
   "name": "federated_learning"
  },
  "language_info": {
   "codemirror_mode": {
    "name": "ipython",
    "version": 3
   },
   "file_extension": ".py",
   "mimetype": "text/x-python",
   "name": "python",
   "nbconvert_exporter": "python",
   "pygments_lexer": "ipython3",
   "version": "3.7.10"
  }
 },
 "nbformat": 4,
 "nbformat_minor": 5
}
