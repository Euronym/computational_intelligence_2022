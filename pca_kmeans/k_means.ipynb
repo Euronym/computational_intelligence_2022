{
  "nbformat": 4,
  "nbformat_minor": 0,
  "metadata": {
    "colab": {
      "provenance": [],
      "collapsed_sections": []
    },
    "kernelspec": {
      "name": "python3",
      "display_name": "Python 3"
    },
    "language_info": {
      "name": "python"
    }
  },
  "cells": [
    {
      "cell_type": "markdown",
      "source": [
        "# K-means"
      ],
      "metadata": {
        "id": "NuW603_sJSF8"
      }
    },
    {
      "cell_type": "code",
      "source": [
        "from sklearn.cluster import KMeans\n",
        "import matplotlib.pyplot as plt\n",
        "import matplotlib as mpl\n",
        "import pandas as pd\n",
        "import numpy as np\n",
        "import os"
      ],
      "metadata": {
        "id": "d3AZn8HBlrxx"
      },
      "execution_count": null,
      "outputs": []
    },
    {
      "cell_type": "markdown",
      "source": [
        "## First Question\n",
        "\n",
        "Show two centroids given this dataset and the Voronoi tesselation"
      ],
      "metadata": {
        "id": "fNlxSG3uWQze"
      }
    },
    {
      "cell_type": "code",
      "execution_count": null,
      "metadata": {
        "id": "N6LPR5g1HTNN"
      },
      "outputs": [],
      "source": [
        "train_dataset = np.array(\n",
        "    [[ -3,  4],\n",
        "     [2 ,  0],\n",
        "     [4,  -4],\n",
        "     [4,  3],\n",
        "     [0,  2],\n",
        "     [2,  1],\n",
        "     [1,  -1],\n",
        "     [5,  3]])\n",
        "\n",
        "k = 2\n",
        "kmeans = KMeans(n_clusters=k, random_state=42)\n",
        "y_pred = kmeans.fit_predict(train_dataset)"
      ]
    },
    {
      "cell_type": "code",
      "source": [
        "y_pred"
      ],
      "metadata": {
        "colab": {
          "base_uri": "https://localhost:8080/"
        },
        "id": "uEBujI8WIvSj",
        "outputId": "4e535338-db33-44d4-d138-937b1d5f16e5"
      },
      "execution_count": null,
      "outputs": [
        {
          "output_type": "execute_result",
          "data": {
            "text/plain": [
              "array([1, 0, 0, 0, 1, 0, 0, 0], dtype=int32)"
            ]
          },
          "metadata": {},
          "execution_count": 3
        }
      ]
    },
    {
      "cell_type": "code",
      "source": [
        "kmeans.cluster_centers_"
      ],
      "metadata": {
        "colab": {
          "base_uri": "https://localhost:8080/"
        },
        "id": "inY9TFnMI0vH",
        "outputId": "12158687-4bd1-4be8-d086-35caa6a6968a"
      },
      "execution_count": null,
      "outputs": [
        {
          "output_type": "execute_result",
          "data": {
            "text/plain": [
              "array([[ 3.        ,  0.33333333],\n",
              "       [-1.5       ,  3.        ]])"
            ]
          },
          "metadata": {},
          "execution_count": 4
        }
      ]
    },
    {
      "cell_type": "markdown",
      "source": [
        "### Voronoi Tessellation"
      ],
      "metadata": {
        "id": "I_UvF3yaJMfe"
      }
    },
    {
      "cell_type": "code",
      "source": [
        "def plot_data(X):\n",
        "    plt.plot(X[:, 0], X[:, 1], 'k.', markersize=8)\n",
        "\n",
        "def plot_centroids(centroids, weights=None, circle_color='w', cross_color='r'):\n",
        "    if weights is not None:\n",
        "        centroids = centroids[weights > weights.max() / 10]\n",
        "    plt.scatter(centroids[:, 0], centroids[:, 1],\n",
        "                marker='o', s=35, linewidths=8,\n",
        "                color=circle_color, zorder=10, alpha=0.9)\n",
        "    plt.scatter(centroids[:, 0], centroids[:, 1],\n",
        "                marker='x', s=2, linewidths=12,\n",
        "                color=cross_color, zorder=11, alpha=1)\n",
        "\n",
        "def plot_decision_boundaries(clusterer, X, resolution=1000, show_centroids=True,\n",
        "                             show_xlabels=True, show_ylabels=True):\n",
        "    mins = X.min(axis=0) - 0.1\n",
        "    maxs = X.max(axis=0) + 0.1\n",
        "    xx, yy = np.meshgrid(np.linspace(mins[0], maxs[0], resolution),\n",
        "                         np.linspace(mins[1], maxs[1], resolution))\n",
        "    Z = clusterer.predict(np.c_[xx.ravel(), yy.ravel()])\n",
        "    Z = Z.reshape(xx.shape)\n",
        "\n",
        "    plt.contourf(Z, extent=(mins[0], maxs[0], mins[1], maxs[1]),\n",
        "                cmap=\"Pastel2\")\n",
        "    plt.contour(Z, extent=(mins[0], maxs[0], mins[1], maxs[1]),\n",
        "                linewidths=1, colors='k')\n",
        "    plot_data(X)\n",
        "    if show_centroids:\n",
        "        plot_centroids(clusterer.cluster_centers_)\n",
        "\n",
        "    if show_xlabels:\n",
        "        plt.xlabel(\"$x_1$\", fontsize=14)\n",
        "    else:\n",
        "        plt.tick_params(labelbottom=False)\n",
        "    if show_ylabels:\n",
        "        plt.ylabel(\"$x_2$\", fontsize=14, rotation=0)\n",
        "    else:\n",
        "        plt.tick_params(labelleft=False)"
      ],
      "metadata": {
        "id": "Vb0yFkpkJXHa"
      },
      "execution_count": null,
      "outputs": []
    },
    {
      "cell_type": "code",
      "source": [
        "plt.figure(figsize=(10, 4))\n",
        "plot_decision_boundaries(kmeans, train_dataset)\n",
        "plt.show()"
      ],
      "metadata": {
        "colab": {
          "base_uri": "https://localhost:8080/",
          "height": 285
        },
        "id": "iPqXF_6UJaSS",
        "outputId": "905d7067-113f-49cf-fa06-29d08f46fe64"
      },
      "execution_count": null,
      "outputs": [
        {
          "output_type": "display_data",
          "data": {
            "text/plain": [
              "<Figure size 720x288 with 1 Axes>"
            ],
            "image/png": "[encoded data removed]"
          },
          "metadata": {
            "needs_background": "light"
          }
        }
      ]
    },
    {
      "cell_type": "markdown",
      "source": [
        "## Second Question\n",
        "An alternative solution for large train dataset that can be allocated directly on RAM memory due restrictions of the problem or infrastructure"
      ],
      "metadata": {
        "id": "Gnid21OUSK6P"
      }
    },
    {
      "cell_type": "code",
      "source": [
        "DATASET_ROOT_PATH = './datasets/k_means_homework/'\n",
        "\n",
        "TRAIN_PATH = os.path.join(DATASET_ROOT_PATH, 'dataset_train.txt')\n",
        "TEST_PATH = os.path.join(DATASET_ROOT_PATH, 'dataset_test.txt')\n",
        "\n",
        "## Remove useless features\n",
        "X = np.loadtxt(TRAIN_PATH, delimiter=',')\n",
        "\n",
        "X_0 = np.delete(X, np.s_[3:], axis=0)\n",
        "X_1 = np.delete(X, np.s_[:3], axis=0) \n",
        "\n",
        "X_0 = np.delete(X_0, np.s_[2:], axis=1)\n",
        "X_1 = np.delete(X_1, np.s_[2:], axis=1)  \n",
        "\n",
        "print(f'X_0 = {X_0}')\n",
        "print()\n",
        "print(f'X_1 = {X_1}')\n"
      ],
      "metadata": {
        "colab": {
          "base_uri": "https://localhost:8080/"
        },
        "id": "_zo2irbMk1R3",
        "outputId": "151a5011-72ff-4014-a9cb-6f22130a9fde"
      },
      "execution_count": null,
      "outputs": [
        {
          "output_type": "stream",
          "name": "stdout",
          "text": [
            "X_0 = [[ 0.e+00 -4.e+00]\n",
            " [-1.e+03  2.e+00]\n",
            " [ 3.e+03  3.e+00]]\n",
            "\n",
            "X_1 = [[-5.e+03 -6.e+00]\n",
            " [-4.e+03 -5.e+00]\n",
            " [-2.e+03 -2.e+00]]\n"
          ]
        }
      ]
    },
    {
      "cell_type": "code",
      "source": [
        "\n",
        "sum_0, sum_1 = 0, 0\n",
        "\n",
        "# mean for first centroid\n",
        "for i in range(len(X_0)):\n",
        "    sum_0 += X_0[i][0] \n",
        "    sum_1 += X_0[i][1] \n",
        "\n",
        "centroid_0 = [sum_0/len(X_0), sum_1/len(X_0)]\n",
        "\n",
        "sum_0, sum_1 = 0, 0\n",
        "\n",
        "# mean for sencond centroid\n",
        "for i in range(len(X_1)):\n",
        "    sum_0 += X_1[i][0] \n",
        "    sum_1 += X_1[i][1] \n",
        "\n",
        "centroid_1 = [sum_0/len(X_0), sum_1/len(X_0)]    \n",
        "\n",
        "# Inserting the previous label for each vector\n",
        "centroid_0.append(0)\n",
        "centroid_1.append(1)\n",
        "\n",
        "print(f'centroid_0: {centroid_0}')\n",
        "print(f'centroid_1: {centroid_1}')\n",
        "\n"
      ],
      "metadata": {
        "id": "cei2LP35SKs0",
        "colab": {
          "base_uri": "https://localhost:8080/"
        },
        "outputId": "a95200b6-6081-4234-cf05-64782e6de93f"
      },
      "execution_count": null,
      "outputs": [
        {
          "output_type": "stream",
          "name": "stdout",
          "text": [
            "centroid_0: [666.6666666666666, 0.3333333333333333, 0]\n",
            "centroid_1: [-3666.6666666666665, -4.333333333333333, 1]\n"
          ]
        }
      ]
    },
    {
      "cell_type": "markdown",
      "source": [
        "## Classifing the Test Dataset"
      ],
      "metadata": {
        "id": "wMGalJXCvzzD"
      }
    },
    {
      "cell_type": "code",
      "source": [
        "from sklearn.neighbors import KNeighborsClassifier\n",
        "from sklearn.preprocessing import MinMaxScaler\n",
        "\n",
        "# Load the dataset\n",
        "train_dataset = np.array([centroid_0, centroid_1])\n",
        "test_dataset = np.loadtxt(TEST_PATH, delimiter=',')\n",
        "\n",
        "# Split the dataset \n",
        "X_train, X_test = np.delete(train_dataset, np.s_[2:], axis=1), np.delete(test_dataset, np.s_[2:], axis=1)\n",
        "y_train, y_test = np.delete(train_dataset, np.s_[:-1], axis=1), np.delete(test_dataset, np.s_[:-1], axis=1)\n",
        "\n",
        "# Transform the array in column vectors\n",
        "y_train = np.ravel(y_train,order='C')\n",
        "y_test = np.ravel(y_test,order='C')\n",
        "\n",
        "scaler = MinMaxScaler()\n",
        "model = scaler.fit(X_train)\n",
        "X_train_scaled = model.transform(X_train)\n",
        "X_test_scaled = model.transform(X_test)\n",
        "\n",
        "clf = KNeighborsClassifier(n_neighbors = 1)\n",
        "clf.fit(X_train_scaled, y_train)\n",
        "result = clf.predict(X_test_scaled)\n",
        "\n",
        "print(f'Label: {y_test}')\n",
        "print(f'Predict: {result}')"
      ],
      "metadata": {
        "colab": {
          "base_uri": "https://localhost:8080/"
        },
        "id": "RskviCq3vzQR",
        "outputId": "4e6fe5cb-93f0-4a04-8579-d6e8a85750b6"
      },
      "execution_count": null,
      "outputs": [
        {
          "output_type": "stream",
          "name": "stdout",
          "text": [
            "Label: [0. 0. 1. 1.]\n",
            "Predict: [0. 0. 1. 1.]\n"
          ]
        }
      ]
    },
    {
      "cell_type": "markdown",
      "source": [
        "## Third Question\n",
        "\n",
        "A little talk about K-means, K-means++ and K-medoids"
      ],
      "metadata": {
        "id": "NkMy16-Ce3qA"
      }
    },
    {
      "cell_type": "markdown",
      "source": [
        "This algorithm was proposed by Stuart Lloyd in 1957. The first application was associated to vector quantization in signal processing, more precisely as PCM(pulse-code modulation) technique. \n",
        "\n",
        "Now, about K-medoids, it's an algorithm whose is very similar to k-means and k-means++ approach, once the purpose of k-medoids is clustering and, hence, labeling data of unlabel dataset. In this way, an approach to explain the operation of k-medoid model is understading, before, how these similar models works, because, k-medoid using them as sub-routine in its operation.\n",
        "\n",
        "Therefore, is can be possible explain these model breaks apart each algorithms in three methods: \n",
        "\n",
        "- Initialization\n",
        "- Assignment\n",
        "- Updation \n",
        "\n",
        "Thereby:\n",
        "\n",
        "### $k$-means Operation\n",
        "The K-means operation is known to using Lloyd algorithm to clustering some unlabel dataset. So, the first thing that Lloyd algorithm is define the $K$ centroid of the clusters. This definition is the major feature of this algorithm, that is, a **random initialization**. Hence, given a dataset with $n$ instances, the Lloyd algol will choice randomically $K$ instances to represent the firsts centroid of each cluster. \n",
        "\n",
        "Chosen the centroids, the algorithm will be labeling each instance based in the distance between this instance and each centroid cluster. That instance will receive the label of cluster that represents the less distance to itself. Naturally, the way of this distance will be evaluated depending of the problem.\n",
        "\n",
        "Lastly, as the K-means is a iterative model, it's necessary update the centroid to find the optimal soluation of the problem. Naturally, this optimal not necessarilly will be a global optimal, being able, therefore, just a local optimal.\n",
        "\n",
        "Hence, to choose the new centroid for next iteration, the mean between the instances of each cluster will be evaluated and this midpoint will be the new centroid of your cluster. And so on, the process will be repeated until reaching to an optimal solution, local or global.\n",
        "\n",
        "### $k$-means++ Operation\n",
        "K-means++ represents an improvent of Lloyd's Algorithm purpose by David Artur and Sergei Vassilvitskii in an paper called \"k-means: The Advantages of Careful Seeding\". in this related work, the authors discuss an enhance about the initialization process purpose to solve an old problem of k-means initialization, that is, the generation of _poor cluster_ due a bad choice of centroids in this process. By the way, in this context, poor cluster means a horrible clustering of your dataset, like a graphic comparative in the next:\n",
        "\n",
        "<img src=\"https://raw.githubusercontent.com/Euronym/computational_intelligence_2022/main/images/poor_cluster.png\" width=\"300\" height=\"300\" />\n",
        "<img src=\"https://raw.githubusercontent.com/Euronym/computational_intelligence_2022/main/images/ideal_cluster.png\" width=\"300\" height=\"300\" />\n",
        "\n",
        "Hence, to solve this problem and avoid bad clustering, the authors purpose a sub-routine to choice the best centroid in the dataset and reach the ideal clustering. To this purpose the following algorithm is used:\n",
        "\n",
        "- Choose a instance randomically from the dataset for being your first centroid;\n",
        "- Compute a distance $D(x)$ for each $x$ point in the dataset to this centroid. Like always, this distance depend of your problem;\n",
        "- Choose the next centroid based in the beside probability: $\\dfrac{D(x')^2}{\\sum_{x \\in \\chi}D(x)^2}$\n",
        "- Repeat this process until reach in the $K$ cluster defined.\n",
        "\n",
        "In the matter of fact, this process garantuees that chosen centroids will be distant to each other, due fact the probability is proportional to a distance between a centroid and the next centroid cluster.\n",
        "\n",
        "Lastly, once done this initialization, the k-means++ model operate similarly to k-means. \n",
        "\n",
        "\n",
        "### $k$-medoid Operation\n",
        "Considering the explanation of above model, it's more simple to understading how operate the PAM(Partitioning Around Medoids) algorithm in K-medoid. So, it model use the same method of k-means++ to iniatialize your centroid. Furthermore, use the same of k-means to assign the label in the data of the problem. Hence, the diference be in the **update process**. \n",
        "\n",
        "Now, before explain how the updation process works in k-medoid, it's interesting discuss the reasons to this modification and, in this way, the major reason is the purpose to avoid the possible negative effects to the model of outliers and noisy data when we have using mean update approach \n",
        "\n",
        "Thus, the k-medoid using a cost function to decide which instance will be the new centroid of the cluster. Thereby, imagine the you have iniatilize your cluster with $K$ centroids, evaluate each distance between the instances and the centroids(sometimes called as dissimilarity value), so with these elements, for update these centroid, it's necessary yet evaluate, lastly, the value of cost function using the below formula: \n",
        "\n",
        "$C = \\sum_{i=1}^{k}\\sum_{x \\in \\chi} ||X - C_i||^2$\n",
        "\n",
        "And in possess with this cost C, can be proceed in this way:\n",
        "- Pick randomly another non-medoid $K$ centroids of your dataset, that is, the other ($C-1$) not yet chosen.\n",
        "- Evaluate the cost for these centroid using the formula above-mentioned\n",
        "- If this new cost is greater than previous one, so the centroid point will be updated, else, repeat until don't have anymome non-medoid points.   \n",
        "\n",
        "\n",
        "\n",
        "### The Summary of the Whole Models\n",
        "\n",
        "|Model |Iniatilization|Assignment  |Updation | \n",
        "|-----|:-----|:---:|:-----:|\n",
        "|K-means |Random Initialization  |The type of distance chosen  |Mean between instances of a cluster    |\n",
        "|K-means++|Using a probability|Same as K-means   |Same as K-means |\n",
        "|K-medoid|Same as K-means++|Same as K-means   |Using cost function |\n",
        "\n"
      ],
      "metadata": {
        "id": "CBqjz2kJhjtj"
      }
    },
    {
      "cell_type": "markdown",
      "source": [
        "## Fourth Question\n",
        "Some considerations about use of k-d tree in k-means model"
      ],
      "metadata": {
        "id": "AlLLirJ4e6MR"
      }
    },
    {
      "cell_type": "markdown",
      "source": [
        "K-d tree is an approach used by some models like k-NN and k-means to avoid to calculating a large number of distances between samples of dataset. In k-means, for example, this method avoid to evaluate a several number of distances between an instances of some dataset and a centroid. For this, k-d tree grouping the closest instances in regions, like rectangle. \n",
        "\n",
        "Naturally, there is few ways to split the dataset to create this regions. Usually, as we want a binary balanced tree, the median of instances of a region is used for this, however, using the median isn't the only way to achieve this this kind of tree, thus, there is another like use median in randomly sorted selected points of the dataset.\n",
        "\n",
        "![split_1](https://raw.githubusercontent.com/Euronym/computational_intelligence_2022/main/images/split_1_kd.png)\n",
        "![split_1](https://raw.githubusercontent.com/Euronym/computational_intelligence_2022/main/images/split_2_kd.png)\n",
        "\n",
        "![kd_tree_gif](https://raw.githubusercontent.com/Euronym/computational_intelligence_2022/main/images/KD-Tree.gif)\n",
        "<img src=\"https://raw.githubusercontent.com/Euronym/computational_intelligence_2022/main/images/kd_tree.png\" width=\"500\" height=\"300\" />\n",
        "\n",
        "Hence, the main idea about k-d tree implementations in k-means, is to leverage of these groups created, for then facilitate in the future evaluate. That is, imagine that you have to calculate the previous distances(distance between an instance and a centroid) to labeling the instances in the phase of assignment of k-means. Naturally if you have 2 centroid and $n$ instances, will be necessary does $2n$ distances evaluation to this centroid. Altough, when the k-d trees is in being used, this evaluation can be shortened, because, if you have a group of hyper-rectangle represented by a \"wall\" that split a closest instances, and you evaluate the distance between the centroid and the instance of this \"wall\", you will know the distance between the instances inside of the rectangle and the centroid can not be greater than the distance of the \"wall\". So, this distances of these inner instances won't need be calculate.\n",
        "\n"
      ],
      "metadata": {
        "id": "VJVEloFZHSzc"
      }
    }
  ]
}