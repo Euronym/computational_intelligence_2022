{
 "cells": [
  {
   "cell_type": "markdown",
   "id": "75ac20f6",
   "metadata": {},
   "source": [
    "# Description\n",
    "\n",
    "This notebook is part of an assignment made during the subject of Computational Intelligence, 7th semester at Federal University of Pará.\n",
    "\n",
    "Professor: Aldebaro Klautau\n",
    "\n",
    "Authors:\n",
    "\n",
    "    - Bruno Martins\n",
    "    - Claudio Matheus"
   ]
  },
  {
   "cell_type": "markdown",
   "id": "be6a6684",
   "metadata": {},
   "source": [
    "## Packages"
   ]
  },
  {
   "cell_type": "code",
   "execution_count": 45,
   "id": "2d5c652c",
   "metadata": {},
   "outputs": [],
   "source": [
    "import os\n",
    "import matplotlib.pyplot as plt\n",
    "import matplotlib as mpl\n",
    "import pandas as pd\n",
    "import numpy as np"
   ]
  },
  {
   "cell_type": "markdown",
   "id": "3d916902",
   "metadata": {},
   "source": [
    "## Assure the libraries have the same version as used throughout the code"
   ]
  },
  {
   "cell_type": "code",
   "execution_count": 17,
   "id": "f7064d66",
   "metadata": {},
   "outputs": [],
   "source": [
    "assert mpl.__version__ == '3.5.3'\n",
    "assert pd.__version__ == '1.3.5'\n",
    "assert np.__version__ == '1.19.5'"
   ]
  },
  {
   "cell_type": "markdown",
   "id": "9cc20ce3",
   "metadata": {},
   "source": [
    "## Read dataset"
   ]
  },
  {
   "cell_type": "code",
   "execution_count": 25,
   "id": "77d72028",
   "metadata": {},
   "outputs": [],
   "source": [
    "DATASET_ROOT_PATH = './datasets/svm_homework/'\n",
    "\n",
    "VALIDATION_PATH = os.path.join(DATASET_ROOT_PATH, 'dataset_validation.txt')\n",
    "TRAIN_PATH = os.path.join(DATASET_ROOT_PATH, 'dataset_train.txt')\n",
    "TEST_PATH = os.path.join(DATASET_ROOT_PATH, 'dataset_test.txt')"
   ]
  },
  {
   "cell_type": "code",
   "execution_count": 33,
   "id": "d64ccf27",
   "metadata": {},
   "outputs": [],
   "source": [
    "validation = pd.read_csv(VALIDATION_PATH, header=None)\n",
    "train = pd.read_csv(TRAIN_PATH, header=None)\n",
    "test = pd.read_csv(TEST_PATH, header=None)"
   ]
  },
  {
   "cell_type": "markdown",
   "id": "ef105ee8",
   "metadata": {},
   "source": [
    "## Separate features from labels"
   ]
  },
  {
   "cell_type": "code",
   "execution_count": 59,
   "id": "f7fba6d5",
   "metadata": {},
   "outputs": [],
   "source": [
    "X_train, X_test, X_val = train.iloc[:, :-1], test.iloc[:, :-1], validation.iloc[:, :-1]\n",
    "y_train, y_test, y_val = train.iloc[:, -1], test.iloc[:, -1], validation.iloc[:, -1]"
   ]
  },
  {
   "cell_type": "markdown",
   "id": "b781d8d9",
   "metadata": {},
   "source": [
    "## First Question"
   ]
  },
  {
   "cell_type": "code",
   "execution_count": 61,
   "id": "eb999486",
   "metadata": {},
   "outputs": [],
   "source": [
    "from sklearn.svm import SVC, LinearSVC"
   ]
  },
  {
   "cell_type": "code",
   "execution_count": 64,
   "id": "75826c71",
   "metadata": {},
   "outputs": [],
   "source": [
    "def train_svm_classifiers(X: list, y: list) -> list:\n",
    "    \"\"\"\n",
    "        Trains 4 different svm classifiers\n",
    "    \"\"\"\n",
    "    models = []\n",
    "    model_1 = LinearSVC()\n",
    "    model_1.fit(X,y)\n",
    "    models.append(model_1)\n",
    "    model_2 = SVC()\n",
    "    model_2.fit(X,y)\n",
    "    models.append(model_2)\n",
    "    model_3 = SVC()\n",
    "    model_3.fit(X,y)\n",
    "    models.append(model_3)\n",
    "    model_4 = SVC()\n",
    "    model_4.fit(X,y)\n",
    "    models.append(model_4)\n",
    "    return models"
   ]
  },
  {
   "cell_type": "code",
   "execution_count": 65,
   "id": "8953cba0",
   "metadata": {},
   "outputs": [
    {
     "name": "stderr",
     "output_type": "stream",
     "text": [
      "/home/bruno/anaconda3/envs/federated_learning/lib/python3.7/site-packages/sklearn/svm/_base.py:1208: ConvergenceWarning: Liblinear failed to converge, increase the number of iterations.\n",
      "  ConvergenceWarning,\n"
     ]
    }
   ],
   "source": [
    "models = train_svm_classifiers(X_train, y_train)"
   ]
  },
  {
   "cell_type": "code",
   "execution_count": null,
   "id": "8ee4d352",
   "metadata": {},
   "outputs": [],
   "source": [
    "fig, ax = plt.subplots(nrows=2, ncols=2)\n",
    "ax[0,0].plot()\n",
    "ax[0,0].set_xlabel()\n",
    "ax[0,1].plot()\n",
    "ax[0,1].set_xlabel()\n",
    "ax[1,0].plot()\n",
    "ax[1,0].set_xlabel()\n",
    "ax[1,1].plot()\n",
    "ax[1,1].set_xlabel()"
   ]
  },
  {
   "cell_type": "markdown",
   "id": "31d17d02",
   "metadata": {},
   "source": [
    "## Second Question"
   ]
  },
  {
   "cell_type": "code",
   "execution_count": null,
   "id": "61f86e12",
   "metadata": {},
   "outputs": [],
   "source": []
  },
  {
   "cell_type": "markdown",
   "id": "829994b0",
   "metadata": {},
   "source": [
    "## Third Question"
   ]
  },
  {
   "cell_type": "code",
   "execution_count": null,
   "id": "d849e6d3",
   "metadata": {},
   "outputs": [],
   "source": []
  },
  {
   "cell_type": "markdown",
   "id": "8f6c027e",
   "metadata": {},
   "source": [
    "## Fourth Question"
   ]
  },
  {
   "cell_type": "code",
   "execution_count": null,
   "id": "0b1e52f2",
   "metadata": {},
   "outputs": [],
   "source": []
  },
  {
   "cell_type": "markdown",
   "id": "71ecd30f",
   "metadata": {},
   "source": [
    "## Fifth Question"
   ]
  },
  {
   "cell_type": "code",
   "execution_count": null,
   "id": "22087518",
   "metadata": {},
   "outputs": [],
   "source": []
  },
  {
   "cell_type": "markdown",
   "id": "e81d7c8e",
   "metadata": {},
   "source": [
    "## Sixth Question"
   ]
  },
  {
   "cell_type": "code",
   "execution_count": null,
   "id": "33e55083",
   "metadata": {},
   "outputs": [],
   "source": []
  },
  {
   "cell_type": "markdown",
   "id": "31ff003c",
   "metadata": {},
   "source": [
    "## Seventh Question"
   ]
  },
  {
   "cell_type": "code",
   "execution_count": null,
   "id": "6835a002",
   "metadata": {},
   "outputs": [],
   "source": []
  }
 ],
 "metadata": {
  "kernelspec": {
   "display_name": "federated_learning",
   "language": "python",
   "name": "federated_learning"
  },
  "language_info": {
   "codemirror_mode": {
    "name": "ipython",
    "version": 3
   },
   "file_extension": ".py",
   "mimetype": "text/x-python",
   "name": "python",
   "nbconvert_exporter": "python",
   "pygments_lexer": "ipython3",
   "version": "3.7.10"
  }
 },
 "nbformat": 4,
 "nbformat_minor": 5
}
