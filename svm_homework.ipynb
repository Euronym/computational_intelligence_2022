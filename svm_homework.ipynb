{
<<<<<<< HEAD
 "cells": [
  {
   "cell_type": "markdown",
   "id": "75ac20f6",
   "metadata": {
    "id": "75ac20f6"
   },
   "source": [
    "# Description\n",
    "\n",
    "This notebook is part of an assignment made during the subject of Computational Intelligence, 7th semester at Federal University of Pará.\n",
    "\n",
    "Professor: Aldebaro Klautau\n",
    "\n",
    "Authors:\n",
    "\n",
    "    - Bruno Martins\n",
    "    - Claudio Matheus"
   ]
  },
  {
   "cell_type": "markdown",
   "id": "be6a6684",
   "metadata": {
    "id": "be6a6684"
   },
   "source": [
    "## Packages"
   ]
  },
  {
   "cell_type": "code",
   "execution_count": 20,
   "id": "2d5c652c",
   "metadata": {
    "id": "2d5c652c"
   },
   "outputs": [],
   "source": [
    "import os\n",
    "import seaborn as sns\n",
    "import matplotlib.pyplot as plt\n",
    "import matplotlib as mpl\n",
    "import pandas as pd\n",
    "import numpy as np"
   ]
  },
  {
   "cell_type": "markdown",
   "id": "3d916902",
   "metadata": {
    "id": "3d916902"
   },
   "source": [
    "## Assure the libraries have the same version as used throughout the code"
   ]
  },
  {
   "cell_type": "code",
   "execution_count": 6,
   "id": "f7064d66",
   "metadata": {
    "id": "f7064d66"
   },
   "outputs": [],
   "source": [
    "assert mpl.__version__ == '3.5.3'\n",
    "assert pd.__version__ == '1.3.5'\n",
    "assert np.__version__ == '1.19.5'"
   ]
  },
  {
   "cell_type": "markdown",
   "id": "9cc20ce3",
   "metadata": {
    "id": "9cc20ce3"
   },
   "source": [
    "## Read dataset"
   ]
  },
  {
   "cell_type": "code",
   "execution_count": 7,
   "id": "77d72028",
   "metadata": {
    "id": "77d72028"
   },
   "outputs": [],
   "source": [
    "DATASET_ROOT_PATH = './datasets/svm_homework/'\n",
    "\n",
    "VALIDATION_PATH = os.path.join(DATASET_ROOT_PATH, 'dataset_validation.txt')\n",
    "TRAIN_PATH = os.path.join(DATASET_ROOT_PATH, 'dataset_train.txt')\n",
    "TEST_PATH = os.path.join(DATASET_ROOT_PATH, 'dataset_test.txt')"
   ]
  },
  {
   "cell_type": "code",
   "execution_count": 8,
   "id": "d64ccf27",
   "metadata": {
    "id": "d64ccf27"
   },
   "outputs": [],
   "source": [
    "validation = pd.read_csv(VALIDATION_PATH, header=None)\n",
    "train = pd.read_csv(TRAIN_PATH, header=None)\n",
    "test = pd.read_csv(TEST_PATH, header=None)"
   ]
  },
  {
   "cell_type": "markdown",
   "id": "ef105ee8",
   "metadata": {
    "id": "ef105ee8"
   },
   "source": [
    "## Separate features from labels"
   ]
  },
  {
   "cell_type": "code",
   "execution_count": 9,
   "id": "f7fba6d5",
   "metadata": {
    "id": "f7fba6d5"
   },
   "outputs": [],
   "source": [
    "    X_train, X_test, X_val = train.iloc[:, :-1], test.iloc[:, :-1], validation.iloc[:, :-1]\n",
    "    y_train, y_test, y_val = train.iloc[:, -1], test.iloc[:, -1], validation.iloc[:, -1]"
   ]
  },
  {
   "cell_type": "markdown",
   "id": "b781d8d9",
   "metadata": {
    "id": "b781d8d9"
   },
   "source": [
    "## First Question"
   ]
  },
  {
   "cell_type": "markdown",
   "id": "776e73d6",
   "metadata": {},
   "source": [
    "### Item (A):"
   ]
  },
  {
   "cell_type": "markdown",
   "id": "83f84831",
   "metadata": {},
   "source": [
    "#### Import SVM models"
   ]
  },
  {
   "cell_type": "code",
   "execution_count": 58,
   "id": "eb999486",
   "metadata": {
    "id": "eb999486"
   },
   "outputs": [],
   "source": [
    "from sklearn.svm import SVC, LinearSVC\n",
    "from sklearn.metrics import accuracy_score, confusion_matrix"
   ]
  },
  {
   "cell_type": "markdown",
   "id": "6277b2fd",
   "metadata": {},
   "source": [
    "#### Train the classifiers "
   ]
  },
  {
   "cell_type": "code",
   "execution_count": 59,
   "id": "75826c71",
   "metadata": {
    "id": "75826c71"
   },
   "outputs": [],
   "source": [
    "def train_svm_classifiers(X: list, y: list) -> list:\n",
    "    \"\"\"\n",
    "        Trains 4 different svm classifiers\n",
    "    \"\"\"\n",
    "    models = []\n",
    "    model_1 = LinearSVC()\n",
    "    model_1.fit(X,y)\n",
    "    models.append(model_1)\n",
    "    model_2 = SVC(kernel='linear')\n",
    "    model_2.fit(X,y)\n",
    "    models.append(model_2)\n",
    "    model_3 = SVC(kernel='rbf')\n",
    "    model_3.fit(X,y)\n",
    "    models.append(model_3)\n",
    "    model_4 = SVC(kernel='poly', degree=3)\n",
    "    model_4.fit(X,y)\n",
    "    models.append(model_4)\n",
    "    return models"
   ]
  },
  {
   "cell_type": "code",
   "execution_count": 60,
   "id": "8953cba0",
   "metadata": {
    "id": "8953cba0",
    "outputId": "391626ed-281e-4676-f445-0f7bf0418f70"
   },
   "outputs": [
    {
     "name": "stderr",
     "output_type": "stream",
     "text": [
      "/home/bruno/anaconda3/envs/federated_learning/lib/python3.7/site-packages/sklearn/svm/_base.py:1208: ConvergenceWarning: Liblinear failed to converge, increase the number of iterations.\n",
      "  ConvergenceWarning,\n"
     ]
    }
   ],
   "source": [
    "models = train_svm_classifiers(X_train, y_train)"
   ]
  },
  {
   "cell_type": "code",
   "execution_count": 61,
   "id": "381f3fbb",
   "metadata": {
    "scrolled": false
   },
   "outputs": [
    {
     "data": {
      "image/png": "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\n",
      "text/plain": [
       "<Figure size 800x500 with 8 Axes>"
      ]
     },
     "metadata": {},
     "output_type": "display_data"
    }
   ],
   "source": [
    "fig, ax = plt.subplots(nrows=2, ncols=2, figsize=(8,5))\n",
    "\n",
    "y_pred_arr = []\n",
    "\n",
    "heatmap = sns.color_palette('rocket')\n",
    "\n",
    "for model in models:\n",
    "    y_pred_arr.append(model.predict(X_test))\n",
    "\n",
    "linear_svc_cm = confusion_matrix(y_test, y_pred_arr[0])\n",
    "svc_linear_cm = confusion_matrix(y_test, y_pred_arr[1])\n",
    "svc_rbf_cm = confusion_matrix(y_test, y_pred_arr[2])\n",
    "svc_poly_cm = confusion_matrix(y_test, y_pred_arr[3])\n",
    "\n",
    "sns.heatmap(linear_svc_cm, ax=ax[0,0], cmap=heatmap)\n",
    "ax[0,0].set_title(f'Linear Kernel, errors = {np.sum(np.fliplr(linear_svc_cm).diagonal())}')\n",
    "sns.heatmap(svc_linear_cm, ax=ax[0,1], cmap=heatmap)\n",
    "ax[0,1].set_title(f'Linear Kernel SVC, errors = {np.sum(np.fliplr(svc_linear_cm).diagonal())}')\n",
    "sns.heatmap(svc_rbf_cm, ax=ax[1,0], cmap=heatmap)\n",
    "ax[1,0].set_title(f'RBF Kernel, errors = {np.sum(np.fliplr(svc_rbf_cm).diagonal())}')\n",
    "sns.heatmap(svc_poly_cm, ax=ax[1,1], cmap=heatmap)\n",
    "ax[1,1].set_title(f'Polynomial Kernel, errors = {np.sum(np.fliplr(svc_poly_cm).diagonal())}')\n",
    "fig.tight_layout()"
   ]
  },
  {
   "cell_type": "markdown",
   "id": "6e2e76a8",
   "metadata": {},
   "source": [
    "### Item (B):"
   ]
  },
  {
   "cell_type": "markdown",
   "id": "7d64fa02",
   "metadata": {},
   "source": [
    "The decision regions are given by:\n",
    "\n",
    "![DECISION_REGIONS]()\n",
    "\n",
    "The top-right SVM looks the best. Although it has an error, the classes are in general more splitted apart in terms of margin compared to the other models. This will make the model less susceptible to outliers and noisy data."
   ]
  },
  {
   "cell_type": "markdown",
   "id": "31d17d02",
   "metadata": {
    "id": "31d17d02"
   },
   "source": [
    "## Second Question"
   ]
  },
  {
   "cell_type": "markdown",
   "id": "3wKDTyaY9CbZ",
   "metadata": {
    "id": "3wKDTyaY9CbZ"
   },
   "source": [
    "In sckit-learn there is a hyperparameter that crontols the quantities of support vectors of a model. This parameter is called C. Therefore, it works in this way: if C is substantially a high value, then, the numbers of support vectors will be smaller. Alternatively, if C is considerably a low value, then, the quantities of support vectors will be huge.\n",
    "\n",
    "![SVM_C_values](https://raw.githubusercontent.com/Euronym/computational_intelligence_2022/main/images/C_values_SVM.png)\n",
    "\n",
    "In the words, the width of the way between the convex-hull and the hyperplan of the model will be minor for the high value of C, and larger for the low value of C. Provoking, respectively, a decrease of support vectors and an increase of them."
   ]
  },
  {
   "cell_type": "markdown",
   "id": "829994b0",
   "metadata": {
    "id": "829994b0"
   },
   "source": [
    "## Third Question"
   ]
  },
  {
   "cell_type": "markdown",
   "id": "2d7944a1",
   "metadata": {
    "id": "d849e6d3"
   },
   "source": [
    "A prediction using A SVM is made using the formula:\n",
    "\n",
    "\n",
    "$ f(z) = \\left(\\sum\\limits_{n = 0}^{N - 1}\\lambda_{n}K(z,x_{n}) \\right) + b $\n",
    "\n",
    "For a perceptron, the decision function can be written as:\n",
    "     \n",
    "$f(z) = sgn(<w, x> + b)$\n",
    "\n",
    "The Cost $C$ is defined as:\n",
    "\n",
    "$ C = N_{mult} + N_{sum}$\n",
    "\n",
    "With $C_{original} = 2K - 1$. Assuming there are 450 support vectors, the first equation will give a zero $\\lambda$ for most of the training examples. Thus, we don't need to keep many of the examples, only the support vectors.\n",
    "\n",
    "A perceptron doesn't hold the "
   ]
  },
  {
   "cell_type": "markdown",
   "id": "8f6c027e",
   "metadata": {
    "id": "8f6c027e"
   },
   "source": [
    "## Fourth Question"
   ]
  },
  {
   "cell_type": "markdown",
   "id": "2tbULSBx-LZS",
   "metadata": {
    "id": "2tbULSBx-LZS"
   },
   "source": [
    "svm.n_support_= [1 2]\n",
    "\n",
    "svm.support_vectors_= [[ 1. 4.] [-2.  3.] [-2. -5.]]\n",
    "\n",
    "svm.dual_coef_= [[-0.5 -0.3 0.8]]\n",
    "\n",
    "svc.intercept_= [-2]\n",
    "\n",
    "### Item (A):\n",
    "Considering these attributes above, there is below the decision model:\n",
    "\n",
    "$f(z) = -0.5 \\times <z, [1, 4]>  -0.3 \\times <z, [-2, 3]> + 0.8 \\times <z, [1, 4]> -2$\n",
    "\n",
    "\n",
    "### Item (B):\n",
    "For a SVM as a perceptron it's quite similar to the previous models, nevertheless, there is important difference, as we'll see in the next:\n",
    "\n",
    "First of all, it's known that weight $w$ of perceptron defintion ($f(z)= <z, w> + b$) is defined by:\n",
    "\n",
    "$w = \\displaystyle\\sum_{i = 0}^{N-1}\\lambda_{n} x_i$\n",
    "\n",
    "where $\\lambda$ in sckit-learn API is identified by a variable called *dual_coef_*.\n",
    "\n",
    "Therefore, using the general definition of SVM and the associative property of dot product, there is the development of definition of SVM as a perceptron:\n",
    "\n",
    "$f(z) = \\displaystyle\\sum_{i = 0}^{N-1}\\lambda_{n}K(z, x_n) + b$\n",
    "\n",
    "- Assuming that is a linear kernel:\n",
    "\n",
    "$f(z) = \\displaystyle\\sum_{i = 0}^{N-1}\\lambda_{n}<z, x_n> + b$\n",
    "\n",
    "- And finally, using associative property of dot product:\n",
    "\n",
    "$f(z) = \\displaystyle\\sum_{i = 0}^{N-1}<z, \\lambda_{n}x_n> + b$\n",
    "\n",
    "$f(z) = \\displaystyle\\sum_{i = 0}^{N-1}<z, w> + b$\n",
    "\n",
    "Now, applying this definition for the SVM in this problem, we have the final result:\n",
    "\n",
    "$f(z) = <z, [-0.5, 2]> + <z, [0.6, 0.9]> + <z, [-1.6, -4]> -2$\n",
    "\n",
    "### item (C):\n",
    "First of all considering $I(f(z))$ \"indicative\" function, where is defined like this:\n",
    "\n",
    "$I(f(z))=\\begin{cases}\n",
    "    1, & f(z) > 0\\\\\n",
    "    0, & \\text{otherwise}.\n",
    "  \\end{cases}$\n",
    "\n",
    "So, evaluate $f(z)$ for $z = [0, 0]$, we have this:\n",
    "\n",
    "$f([0, 0]) = -0.5 \\times <[0, 0], [1, 4]>  -0.3 \\times <[0, 0], [-2, 3]> + 0.8 \\times <[0, 0], [1, 4]> -2$\n",
    "\n",
    "It's quite clear that dot product between a vector at origin and any other vector result in value 0. Therefore, the result of these three dot product is 0. So:\n",
    "\n",
    "$f([0, 0]) = 0 - 2$\n",
    "\n",
    "$f([0, 0]) = -2$\n",
    "\n",
    "Using this result in \"indicative\" function, we have this:\n",
    "\n",
    "$I(f([0, 0])) = 0$"
   ]
  },
  {
   "cell_type": "markdown",
   "id": "71ecd30f",
   "metadata": {
    "id": "71ecd30f"
   },
   "source": [
    "## Fifth Question"
   ]
  },
  {
   "cell_type": "markdown",
   "id": "b0377546",
   "metadata": {},
   "source": [
    "The general equation is given by:\n",
    "\n",
    "$f(z) = \\left(\\sum\\limits_{n = 0}^{N - 1}\\lambda_{n}K(z,x_{n}) \\right) + b$\n"
   ]
  },
  {
   "cell_type": "markdown",
   "id": "7f496b33",
   "metadata": {},
   "source": [
    "#### Item (A):"
   ]
  },
  {
   "cell_type": "markdown",
   "id": "472d49b0",
   "metadata": {},
   "source": [
    "First of all, it's important to write the correct formula for the kernels. \n",
    "Those are given by:\n",
    "\n",
    "Poly:\n",
    "\n",
    "$ K(z,x_{n}) = <z, x_{n}>^{p}$, p = 3\n",
    "\n",
    "RBF:\n",
    "\n",
    "$K(z,x_{n}) = e^{- \\dfrac{||z - x_{n}||^{2}}{2\\sigma^{2}}} $, $\\sigma = 1$\n",
    "\n",
    "For the 3th case we have:\n",
    "\n",
    "$b = -0.08 \\\\ $ \n",
    "\n",
    "$\\lambda \\in \\left[-0.917,-0.913, -0.913, 0.871, 0.871, 1\\right] \\\\ $ \n",
    "\n",
    "$x \\in \\left[(0, -4), (-1, 2), (3, 3), (-5, -6), (-4, -5), (-2, -2)\\right]$\n",
    "\n",
    "$N = 6$ \n",
    "\n",
    "Hence, the decision function is given by:\n",
    "\n",
    "$f(z) = \\left(\\lambda_{0}<z, (\\alpha_{0}, \\beta_{0})>^3 + \\lambda_{1}<z, (\\alpha_{1}, \\beta_{1})>^3 + \\lambda_{2}<z, (\\alpha_{2}, \\beta_{2})>^3 + \\lambda_{3}<z, (\\alpha_{3}, \\beta_{3})>^3 + \\lambda_{4}<z, (\\alpha_{4}, \\beta_{4})>^3 + \\lambda_{5}<z, (\\alpha_{5}, \\beta_{5})>^3 \\right) - 0.08$\n",
    "\n",
    "$f(z) = \\left(-0.917<z, (0, -4)>^3 - 0.913<z, (-1, 2)>^3 - 0.913<z, (3, 3)>^3 + 0.871 <z, (-5, -6)>^3 +  0.871<z, (-4, -5)>^3 + <z, (-2, -2)>^3 \\right) - 0.08$\n",
    "\n",
    "For the 4th case:\n",
    "\n",
    "$b = -1.79 $\n",
    "\n",
    "$\\lambda \\in \\left[-0.45, -0.27, 0.73\\right]  $\n",
    "\n",
    "$x \\in \\left[(0, -4), (-1, 2), (-2, -2)\\right]$\n",
    "\n",
    "$N = 3$\n",
    "\n",
    "\n",
    "$f(z) = \\left(-0.45 e^{- \\dfrac{||z - (0, -4)||}{2}^{2}} - 0.27 e^{- \\dfrac{||z - (-1, 2)||}{2}^{2}} + 0.73 e^{- \\dfrac{||z - (-2, -2)||}{2}^{2}} \\right) - 1.79$\n",
    "\n",
    "For the linear case, $k(z, x_{n}) = <z, x_{n}>$\n",
    "\n",
    "And,\n",
    "\n",
    "$b = -1.79 $\n",
    "\n",
    "$\\lambda \\in \\left[-0.45, -0.279,  0.73\\right] $\n",
    "\n",
    "$x \\in \\left[(0, -4), (-1, 2), (-2, -2)\\right]$\n",
    "\n",
    "$N = 3$\n",
    "\n",
    "Hence,\n",
    "\n",
    "$f(z) = \\left(-0.45<z, (0, -4)> - 0.27<z, (-1, 2)> + 0.73<z, (-2, -2)> \\right) - 1.79 $"
   ]
  },
  {
   "cell_type": "markdown",
   "id": "1a889ccd",
   "metadata": {
    "id": "22087518"
   },
   "source": [
    "#### Item (B):"
   ]
  },
  {
   "cell_type": "markdown",
   "id": "f252462e",
   "metadata": {},
   "source": []
  },
  {
   "cell_type": "markdown",
   "id": "62a1bc9d",
   "metadata": {},
   "source": [
    "#### Item (C):"
   ]
  },
  {
   "cell_type": "markdown",
   "id": "64b690bb",
   "metadata": {},
   "source": []
  },
  {
   "cell_type": "markdown",
   "id": "6a62c7f2",
   "metadata": {},
   "source": [
    "#### Item (D):"
   ]
  },
  {
   "cell_type": "markdown",
   "id": "433af2af",
   "metadata": {},
   "source": []
  },
  {
   "cell_type": "markdown",
   "id": "a65e6af5",
   "metadata": {},
   "source": [
    "##### subitem (D1):"
   ]
  },
  {
   "cell_type": "markdown",
   "id": "e4f8e6d5",
   "metadata": {},
   "source": []
  },
  {
   "cell_type": "markdown",
   "id": "3d0a4b35",
   "metadata": {},
   "source": [
    "##### subitem (D2):"
   ]
  },
  {
   "cell_type": "markdown",
   "id": "ccb808da",
   "metadata": {},
   "source": []
  },
  {
   "cell_type": "markdown",
   "id": "0ffb2631",
   "metadata": {},
   "source": [
    "##### subitem (D3):"
   ]
  },
  {
   "cell_type": "markdown",
   "id": "7dc531a1",
   "metadata": {},
   "source": []
  },
  {
   "cell_type": "markdown",
   "id": "f53e6409",
   "metadata": {},
   "source": [
    "#### Item (E):"
   ]
  },
  {
   "cell_type": "markdown",
   "id": "40b7f6a6",
   "metadata": {},
   "source": []
  },
  {
   "cell_type": "markdown",
   "id": "e81d7c8e",
   "metadata": {
    "id": "e81d7c8e"
   },
   "source": [
    "## Sixth Question"
   ]
  },
  {
   "cell_type": "code",
   "execution_count": null,
   "id": "33e55083",
   "metadata": {
    "id": "33e55083"
   },
   "outputs": [],
   "source": []
  },
  {
   "cell_type": "markdown",
   "id": "31ff003c",
   "metadata": {
    "id": "31ff003c"
   },
   "source": [
    "## Seventh Question"
   ]
  },
  {
   "cell_type": "markdown",
   "id": "b87f8b33",
   "metadata": {},
   "source": [
    "The code found in ak_svm is"
   ]
  },
  {
   "cell_type": "code",
   "execution_count": 62,
   "id": "6835a002",
   "metadata": {
    "id": "6835a002"
   },
   "outputs": [],
   "source": [
    "from sklearn import svm, datasets"
   ]
  },
  {
   "cell_type": "code",
   "execution_count": 63,
   "id": "51972e99",
   "metadata": {},
   "outputs": [],
   "source": [
    "def load_iris_first_2_features_and_binary():\n",
    "    # import some data to play with\n",
    "    iris = datasets.load_iris()\n",
    "    # Take the first two features. We could avoid this by using a two-dim dataset\n",
    "    X = iris.data[:, :2]\n",
    "    y = iris.target\n",
    "    #make it only two classes:\n",
    "    #y = np.array(iris.target < 1).astype(int) #this is an easier binary problem\n",
    "    y = np.array(iris.target > 1).astype(int) #this is a harder binary problem\n",
    "    feature_names = ('Sepal length', 'Sepal width') #x and y\n",
    "    return X,y,feature_names"
   ]
  },
  {
   "cell_type": "code",
   "execution_count": 64,
   "id": "0a013a5a",
   "metadata": {},
   "outputs": [],
   "source": [
    "def load_lista1_dataset():\n",
    "    #from numpy import genfromtxt\n",
    "    my_data = np.genfromtxt('lista1_dataset.csv', delimiter=',')\n",
    "    X = my_data[:,:2] # two first parameters are input vector\n",
    "    #y = my_data[:,2:]\n",
    "    y = np.ravel(my_data[:,2:],order='C') #convert column vector into 1D array\n",
    "    feature_names = ('x0', 'x1') #x and y\n",
    "    return X,y,feature_names"
   ]
  },
  {
   "cell_type": "code",
   "execution_count": null,
   "id": "7072e75a",
   "metadata": {},
   "outputs": [],
   "source": [
    "def load_simple():\n",
    "    #from numpy import genfromtxt\n",
    "    my_data = np.genfromtxt('simple.csv', delimiter=',')\n",
    "    X = my_data[:,:2] # fish length and weight\n",
    "    y = np.ravel(my_data[:,2:],order='C') #convert column vector into 1D array\n",
    "    feature_names = ('Length', 'Weight') #x and y\n",
    "    return X,y,feature_names"
   ]
  },
  {
   "cell_type": "code",
   "execution_count": null,
   "id": "cc9d5954",
   "metadata": {},
   "outputs": [],
   "source": [
    "def convert_linear_SVM_to_perceptron(support_vectors, dual_coef):\n",
    "    dual_coef = np.ravel(dual_coef,order='C') #convert to a 1D vector\n",
    "    num_support_vectors = len(dual_coef)\n",
    "    if support_vectors.shape[0] != num_support_vectors:\n",
    "        raise Exception('support_vectors.shape[0] != num_support_vectors')\n",
    "    input_space_dimension = support_vectors.shape[1]\n",
    "    perceptron_weights = np.zeros((input_space_dimension))\n",
    "    for sv in range(num_support_vectors):\n",
    "        perceptron_weights += dual_coef[sv] * support_vectors[sv]\n",
    "    return perceptron_weights"
   ]
  },
  {
   "cell_type": "code",
   "execution_count": null,
   "id": "1fae4564",
   "metadata": {},
   "outputs": [],
   "source": [
    "def calculate_intercept(perceptron_weights,support_vectors,support_vector_indices,labels):\n",
    "    '''\n",
    "    https://stats.stackexchange.com/questions/211310/deriving-the-intercept-term-in-a-linearly-separable-and-soft-margin-svm\n",
    "    '''\n",
    "    num_support_vectors = support_vectors.shape[0]\n",
    "    #input_space_dimension = support_vectors.shape[1]\n",
    "    max_negative = -1e30\n",
    "    min_positive = 1e30\n",
    "    for i in range(num_support_vectors):\n",
    "        #note that labels has all training examples, not only support vectors,\n",
    "        #so use support_vector_indices to get the proper index in training set\n",
    "        this_label = labels[support_vector_indices[i]]\n",
    "        this_inner_product = np.inner(perceptron_weights, support_vectors[i])\n",
    "        if this_label > 0:\n",
    "            if this_inner_product < min_positive:\n",
    "                min_positive = this_inner_product\n",
    "        else:\n",
    "            if this_inner_product > max_negative:\n",
    "                max_negative = this_inner_product\n",
    "    return -(max_negative+min_positive)/2.0"
   ]
  },
  {
   "cell_type": "code",
   "execution_count": null,
   "id": "a18860b9",
   "metadata": {},
   "outputs": [],
   "source": [
    "def make_meshgrid(x, y, h=.02):\n",
    "    \"\"\"Create a mesh of points to plot in\n",
    "\n",
    "    Parameters\n",
    "    ----------\n",
    "    x: data to base x-axis meshgrid on\n",
    "    y: data to base y-axis meshgrid on\n",
    "    h: stepsize for meshgrid, optional\n",
    "\n",
    "    Returns\n",
    "    -------\n",
    "    xx, yy : ndarray\n",
    "    \"\"\"\n",
    "    x_min, x_max = x.min() - 1, x.max() + 1\n",
    "    y_min, y_max = y.min() - 1, y.max() + 1\n",
    "    xx, yy = np.meshgrid(np.arange(x_min, x_max, h),\n",
    "                         np.arange(y_min, y_max, h))\n",
    "    return xx, yy"
   ]
  },
  {
   "cell_type": "code",
   "execution_count": null,
   "id": "d9414cec",
   "metadata": {},
   "outputs": [],
   "source": [
    "def plot_contours(ax, clf, xx, yy, **params):\n",
    "    \"\"\"Plot the decision boundaries for a classifier.\n",
    "\n",
    "    Parameters\n",
    "    ----------\n",
    "    ax: matplotlib axes object\n",
    "    clf: a classifier\n",
    "    xx: meshgrid ndarray\n",
    "    yy: meshgrid ndarray\n",
    "    params: dictionary of params to pass to contourf, optional\n",
    "    \"\"\"\n",
    "    Z = clf.predict(np.c_[xx.ravel(), yy.ravel()])\n",
    "    Z = Z.reshape(xx.shape)\n",
    "    out = ax.contourf(xx, yy, Z, **params)\n",
    "    return out"
   ]
  },
  {
   "cell_type": "code",
   "execution_count": null,
   "id": "754a4405",
   "metadata": {},
   "outputs": [],
   "source": [
    "np.random.seed(30) #reproducible experiments\n",
    "\n",
    "#Choose here the dataset:\n",
    "# X,y,feature_names = load_simple()\n",
    "#X,y,feature_names = load_lista1_dataset()\n",
    "X,y,feature_names = load_iris_first_2_features_and_binary()\n",
    "\n",
    "# we create an instance of SVM and fit out data. We do not scale our\n",
    "# data since we want to plot the support vectors\n",
    "C = 1.0  # SVM regularization parameter\n",
    "\n",
    "svc_with_linear_kernel = svm.SVC(kernel='linear', C=C, verbose=1, shrinking=False)\n",
    "linear_svc = svm.LinearSVC(C=C, max_iter=1e4, dual=True, tol=1e-10)\n",
    "rbf_svm = svm.SVC(kernel='rbf', gamma=0.7, C=C)\n",
    "polynomial_svm = svm.SVC(kernel='poly', degree=3, gamma='auto', C=C, coef0=0)\n",
    "\n",
    "print('#### 1) Linear SVM with LinearSVC #####')\n",
    "#This is restricted to linear SVMs. It does not return the support vectors but the primal perceptron\n",
    "linear_svc.fit(X,y) #https://scikit-learn.org/stable/modules/generated/sklearn.svm.LinearSVC.html\n",
    "print('linear_svc.coef_=',linear_svc.coef_)\n",
    "print('linear_svc.intercept_=',linear_svc.intercept_)\n",
    "#print(linear_svc.offset_)\n",
    "svm_scores = np.zeros((4,))\n",
    "svm_scores[0] = linear_svc.score(X,y)\n",
    "\n",
    "#These are generic SVMs\n",
    "#https://scikit-learn.org/stable/modules/generated/sklearn.svm.SVC.html#sklearn.svm.SVC\n",
    "svc_with_linear_kernel.fit(X,y)\n",
    "rbf_svm.fit(X,y) \n",
    "polynomial_svm.fit(X,y)\n",
    "\n",
    "tuple_of_svms = (svc_with_linear_kernel, rbf_svm, polynomial_svm)\n",
    "\n",
    "print('\\n\\n#### Generic SVMs with SVC #####')\n",
    "for i in range(3):\n",
    "    svm = tuple_of_svms[i]\n",
    "    print('#### ', str(i+2), ') SVM with SVC ####\\n', svm.get_params())\n",
    "    print('svm.n_support_=',svm.n_support_)\n",
    "    print('svm.support_=',svm.support_)\n",
    "    print('svm.support_vectors_=',svm.support_vectors_)\n",
    "    print('svm.dual_coef_=',svm.dual_coef_)\n",
    "    decisions = svm.decision_function(X)\n",
    "    if len(decisions) > 10: #don't show too many numbers\n",
    "        decisions = decisions[:10]\n",
    "    print('At most 10 decisions: svm.decision_function(X)=',decisions)\n",
    "    svm_scores[i+1] = svm.score(X,y)\n",
    "    print('Accuracy via svm.score(X,y)=',svm_scores[i])\n",
    "    if i == 0: #print(svm.coef_) #cannot be used with non-linear SVMs\n",
    "        print('svc_with_linear_kernel.coef_=',svm.coef_)\n",
    "        print('linear_svc.intercept_=',svm.intercept_)\n",
    "        perceptron_weights = convert_linear_SVM_to_perceptron(svm.support_vectors_, svm.dual_coef_)\n",
    "        print('Estimated perceptron_weights=', perceptron_weights)\n",
    "        bias = calculate_intercept(perceptron_weights,svm.support_vectors_,svm.support_,y)\n",
    "        print('Estimated bias=', bias)\n",
    "\n",
    "#Plot:\n",
    "models = (linear_svc, svc_with_linear_kernel, rbf_svm, polynomial_svm)\n",
    "\n",
    "# title for the plots\n",
    "titles = ('LinearSVC (linear kernel)',\n",
    "        'SVC with linear kernel',\n",
    "        'SVC with RBF kernel',\n",
    "        'SVC with polynomial (degree 3) kernel')\n",
    "\n",
    "# Set-up 2x2 grid for plotting.\n",
    "fig, sub = plt.subplots(2, 2)\n",
    "plt.subplots_adjust(wspace=0.4, hspace=0.4)\n",
    "\n",
    "X0, X1 = X[:, 0], X[:, 1]\n",
    "xx, yy = make_meshgrid(X0, X1)\n",
    "\n",
    "for clf, title, ax in zip(models, titles, sub.flatten()):\n",
    "    plot_contours(ax, clf, xx, yy,\n",
    "                  cmap=plt.cm.coolwarm, alpha=0.8)\n",
    "    ax.scatter(X0, X1, c=y, cmap=plt.cm.coolwarm, s=20, edgecolors='k')\n",
    "    ax.set_xlim(xx.min(), xx.max())\n",
    "    ax.set_ylim(yy.min(), yy.max())\n",
    "    ax.set_xlabel(feature_names[0])\n",
    "    ax.set_ylabel(feature_names[1])\n",
    "    ax.set_xticks(())\n",
    "    ax.set_yticks(())\n",
    "    ax.set_title(title)\n",
    "\n",
    "print(titles,'have accuracies:')\n",
    "print('svm_scores=',svm_scores)\n",
    "plt.show()"
   ]
  }
 ],
 "metadata": {
  "colab": {
   "provenance": []
  },
  "kernelspec": {
   "display_name": "federated_learning",
   "language": "python",
   "name": "federated_learning"
=======
  "cells": [
    {
      "cell_type": "markdown",
      "metadata": {
        "id": "tq25sL7Ggyd3"
      },
      "source": [
        "# Description\n",
        "\n",
        "This notebook is part of an assignment made during the subject of Computational Intelligence, 7th semester at Federal University of Pará.\n",
        "\n",
        "Professor: Aldebaro Klautau\n",
        "\n",
        "Authors:\n",
        "\n",
        "    - Bruno Martins\n",
        "    - Claudio Matheus"
      ]
    },
    {
      "cell_type": "markdown",
      "metadata": {
        "id": "emokyvE-gyd5"
      },
      "source": [
        "## Packages"
      ]
    },
    {
      "cell_type": "code",
      "execution_count": 4,
      "metadata": {
        "id": "3GM1kKU5gyd6"
      },
      "outputs": [],
      "source": [
        "import os\n",
        "import seaborn as sns\n",
        "import matplotlib.pyplot as plt\n",
        "import matplotlib as mpl\n",
        "import pandas as pd\n",
        "import numpy as np"
      ]
    },
    {
      "cell_type": "markdown",
      "metadata": {
        "id": "HoPJUECkgyd7"
      },
      "source": [
        "## Assure the libraries have the same version as used throughout the code"
      ]
    },
    {
      "cell_type": "code",
      "execution_count": null,
      "metadata": {
        "id": "uitBiEfLgyd8"
      },
      "outputs": [],
      "source": [
        "assert mpl.__version__ == '3.5.3'\n",
        "assert pd.__version__ == '1.3.5'\n",
        "assert np.__version__ == '1.19.5'"
      ]
    },
    {
      "cell_type": "markdown",
      "metadata": {
        "id": "DGcOZrR9gyd8"
      },
      "source": [
        "## Read dataset"
      ]
    },
    {
      "cell_type": "code",
      "execution_count": 6,
      "metadata": {
        "id": "V83lajBZgyd9"
      },
      "outputs": [],
      "source": [
        "DATASET_ROOT_PATH = './datasets/svm_homework/'\n",
        "\n",
        "VALIDATION_PATH = os.path.join(DATASET_ROOT_PATH, 'dataset_validation.txt')\n",
        "TRAIN_PATH = os.path.join(DATASET_ROOT_PATH, 'dataset_train.txt')\n",
        "TEST_PATH = os.path.join(DATASET_ROOT_PATH, 'dataset_test.txt')"
      ]
    },
    {
      "cell_type": "code",
      "execution_count": 7,
      "metadata": {
        "id": "O1onQ4O8gyd9"
      },
      "outputs": [],
      "source": [
        "validation = pd.read_csv(VALIDATION_PATH, header=None)\n",
        "train = pd.read_csv(TRAIN_PATH, header=None)\n",
        "test = pd.read_csv(TEST_PATH, header=None)"
      ]
    },
    {
      "cell_type": "markdown",
      "metadata": {
        "id": "yem_hSFwgyd-"
      },
      "source": [
        "## Separate features from labels"
      ]
    },
    {
      "cell_type": "code",
      "execution_count": 8,
      "metadata": {
        "id": "5qDJvb1Igyd-"
      },
      "outputs": [],
      "source": [
        "X_train, X_test, X_val = train.iloc[:, :-1], test.iloc[:, :-1], validation.iloc[:, :-1]\n",
        "y_train, y_test, y_val = train.iloc[:, -1], test.iloc[:, -1], validation.iloc[:, -1]"
      ]
    },
    {
      "cell_type": "markdown",
      "metadata": {
        "id": "cj-Mk86Dgyd-"
      },
      "source": [
        "## First Question"
      ]
    },
    {
      "cell_type": "markdown",
      "metadata": {
        "id": "5LxH_Y70gyd_"
      },
      "source": [
        "### Item (A):\n"
      ]
    },
    {
      "cell_type": "markdown",
      "metadata": {
        "id": "Z_0017lXgyd_"
      },
      "source": [
        "LinearSVC = 1 error\n",
        "SVC with linear kernel = 1 errors\n",
        "SVC with RBF kernel = 0 errors\n",
        "SVC with polynomial = 0 errors"
      ]
    },
    {
      "cell_type": "markdown",
      "metadata": {
        "id": "GhdtUZDPgyeA"
      },
      "source": [
        "### Item (B):"
      ]
    },
    {
      "cell_type": "markdown",
      "metadata": {
        "id": "QyKv01gzgyeA"
      },
      "source": [
        "The top-right SVM looks the best. Although it has an error, the classes are in general more splitted apart in terms of margin compared to the other models. This will make the model less susceptible to outliers and noisy data."
      ]
    },
    {
      "cell_type": "markdown",
      "metadata": {
        "id": "W8Uh-r7FgyeA"
      },
      "source": [
        "## Second Question"
      ]
    },
    {
      "cell_type": "markdown",
      "metadata": {
        "id": "uO7ply9xgyeA"
      },
      "source": [
        "In sckit-learn there is a hyperparameter that crontols the quantities of support vectors of a model. This parameter is called C. Therefore, it works in this way: if C is substantially a high value, then, the numbers of support vectors will be smaller. Alternatively, if C is considerably a low value, then, the quantities of support vectors will be huge. A great example of this, can be seen in picture below, where it is possible verify the behavior of the amount of support vectors and the width of the way when the C value takes on two different values\n",
        "\n",
        "![SVM_C_values](https://raw.githubusercontent.com/Euronym/computational_intelligence_2022/main/images/C_values_SVM.png)\n",
        "\n",
        "In the words, the width of the way between the convex-hull and the hyperplan of the model will be minor for the high value of C, and larger for the low value of C. Provoking, respectively, a decrease of support vectors and an increase of them."
      ]
    },
    {
      "cell_type": "markdown",
      "metadata": {
        "id": "ZR6UjBQagyeB"
      },
      "source": [
        "## Third Question"
      ]
    },
    {
      "cell_type": "markdown",
      "metadata": {
        "id": "jNtt1aLqgyeB"
      },
      "source": [
        "A prediction using A SVM is made using the formula:\n",
        "\n",
        "\n",
        "$ f(z) = \\left(\\sum\\limits_{n = 0}^{N - 1}\\lambda_{n}K(z,x_{n}) \\right) + b $\n",
        "\n",
        "For a perceptron, the decision function can be written as:\n",
        "     \n",
        "$f(z) = sgn(<w, x> + b)$\n",
        "\n",
        "The Cost $C$ is defined as:\n",
        "\n",
        "$ C = n_{mult} + n_{sum}$\n",
        "\n",
        "With $C_{original} = N * (2K - 1) $. Assuming there are 450 support vectors, the first equation will give a zero $\\lambda$ for most of the training examples. Thus, we don't need to keep many of the examples, only the support vectors.\n",
        "\n",
        "A perceptron doesn't hold the training data and thus doesn't depend on the number of lambdas. Hence, it's cost is given by:\n",
        "\n",
        "$C_{perceptron} = 2K - 1$\n",
        "\n",
        "The total cost is:\n",
        "\n",
        "\n",
        "$F = \\dfrac{N * (2K - 1)}{(2K - 1)}$\n",
        "\n",
        "$F = N$"
      ]
    },
    {
      "cell_type": "markdown",
      "metadata": {
        "id": "aPf_yu8cgyeC"
      },
      "source": [
        "## Fourth Question"
      ]
    },
    {
      "cell_type": "markdown",
      "metadata": {
        "id": "3VjPnJNegyeC"
      },
      "source": [
        "svm.n_support_= [1 2]\n",
        "\n",
        "svm.support_vectors_= [[ 1. 4.] [-2.  3.] [-2. -5.]]\n",
        "\n",
        "svm.dual_coef_= [[-0.5 -0.3 0.8]]\n",
        "\n",
        "svc.intercept_= [-2]\n",
        "\n",
        "### Item (A):\n",
        "Considering these attributes above, there is below the decision model:\n",
        "\n",
        "$f(z) = -0.5 \\times <z, [1, 4]>  -0.3 \\times <z, [-2, 3]> + 0.8 \\times <z, [1, 4]> -2$\n",
        "\n",
        "\n",
        "### Item (B):\n",
        "For a SVM as a perceptron it's quite similar to the previous models, nevertheless, there is important difference, as we'll see in the next:\n",
        "\n",
        "First of all, it's known that weight $w$ of perceptron defintion ($f(z)= <z, w> + b$) is defined by:\n",
        "\n",
        "$w = \\displaystyle\\sum_{i = 0}^{N-1}\\lambda_{i} x_i$\n",
        "\n",
        "where $\\lambda$ in sckit-learn API is identified by a variable called *dual_coef_*.\n",
        "\n",
        "Therefore, using the general definition of SVM and the associative property of dot product, there is the development of definition of SVM as a perceptron:\n",
        "\n",
        "$f(z) = \\left(\\displaystyle\\sum_{i = 0}^{N-1}\\lambda_{i}K(z, x_i)\\right) + b$\n",
        "\n",
        "- Assuming that is a linear kernel:\n",
        "\n",
        "$f(z) = \\left(\\displaystyle\\sum_{i = 0}^{N-1}\\lambda_{i}<z, x_i>\\right) + b$\n",
        "\n",
        "- And finally, using associative property of dot product:\n",
        "\n",
        "$f(z) = <z, \\displaystyle\\sum_{i = 0}^{N-1}\\lambda_{i}x_i> + b$\n",
        "\n",
        "$f(z) = <z, w> + b$\n",
        "\n",
        "Now, applying this definition for the SVM in this problem, we have the final result:\n",
        "\n",
        "$f(z) = <z, [-0.5, 2]> + <z, [0.6, 0.9]> + <z, [-1.6, -4]> -2$\n",
        "\n",
        "### item (C):\n",
        "First of all considering $I(f(z))$ \"indicative\" function, where is defined like this:\n",
        "\n",
        "$I(f(z))=\\begin{cases}\n",
        "    1, & f(z) > 0\\\\\n",
        "    0, & \\text{otherwise}.\n",
        "  \\end{cases}$\n",
        "\n",
        "So, evaluating $f(z)$ for $z = [0, 0]$, we have this:\n",
        "\n",
        "$f([0, 0]) = -0.5 \\times <[0, 0], [1, 4]>  -0.3 \\times <[0, 0], [-2, 3]> + 0.8 \\times <[0, 0], [1, 4]> -2$\n",
        "\n",
        "It's quite clear that dot product between a vector at origin and any other vector result in value 0. Therefore, the result of these three dot product is 0. So:\n",
        "\n",
        "$f([0, 0]) = 0 - 2$\n",
        "\n",
        "$f([0, 0]) = -2$\n",
        "\n",
        "Using this result in \"indicative\" function, we have this:\n",
        "\n",
        "$I(f([0, 0])) = 0$"
      ]
    },
    {
      "cell_type": "markdown",
      "metadata": {
        "id": "2OJdmSN6gyeD"
      },
      "source": [
        "## Fifth Question"
      ]
    },
    {
      "cell_type": "markdown",
      "metadata": {
        "id": "JpLYBdo1gyeE"
      },
      "source": [
        "The general equation is given by:\n",
        "\n",
        "$f(z) = \\left(\\sum\\limits_{n = 0}^{N - 1}\\lambda_{n}K(z,x_{n}) \\right) + b$"
      ]
    },
    {
      "cell_type": "markdown",
      "metadata": {
        "id": "eV59co6xgyeE"
      },
      "source": [
        "#### Item (A):"
      ]
    },
    {
      "cell_type": "markdown",
      "metadata": {
        "id": "OAnFEgMvgyeE"
      },
      "source": [
        "First of all, it's important to write the correct formula for the kernels. \n",
        "Those are given by:\n",
        "\n",
        "Poly:\n",
        "\n",
        "$ K(z,x_{n}) = <z, x_{n}>^{p}$, p = 3\n",
        "\n",
        "RBF:\n",
        "\n",
        "$K(z,x_{n}) = e^{- \\dfrac{||z - x_{n}||^{2}}{2\\sigma^{2}}} $, $\\sigma = 1$\n",
        "\n",
        "For the 3th case we have:\n",
        "\n",
        "$b = -0.08 \\\\ $ \n",
        "\n",
        "$\\lambda \\in \\left[-0.917,-0.913, -0.913, 0.871, 0.871, 1\\right] \\\\ $ \n",
        "\n",
        "$x \\in \\left[(0, -4), (-1, 2), (3, 3), (-5, -6), (-4, -5), (-2, -2)\\right]$\n",
        "\n",
        "$N = 6$ \n",
        "\n",
        "Hence, the decision function is given by:\n",
        "\n",
        "$f(z) = \\left(\\lambda_{0}<z, (\\alpha_{0}, \\beta_{0})>^3 + \\lambda_{1}<z, (\\alpha_{1}, \\beta_{1})>^3 + \\lambda_{2}<z, (\\alpha_{2}, \\beta_{2})>^3 + \\lambda_{3}<z, (\\alpha_{3}, \\beta_{3})>^3 + \\lambda_{4}<z, (\\alpha_{4}, \\beta_{4})>^3 + \\lambda_{5}<z, (\\alpha_{5}, \\beta_{5})>^3 \\right) - 0.08$\n",
        "\n",
        "$f(z) = \\left(-0.917<z, (0, -4)>^3 - 0.913<z, (-1, 2)>^3 - 0.913<z, (3, 3)>^3 + 0.871 <z, (-5, -6)>^3 +  0.871<z, (-4, -5)>^3 + <z, (-2, -2)>^3 \\right) - 0.08$\n",
        "\n",
        "For the 4th case:\n",
        "\n",
        "$b = -1.79 $\n",
        "\n",
        "$\\lambda \\in \\left[-0.45, -0.27, 0.73\\right]  $\n",
        "\n",
        "$x \\in \\left[(0, -4), (-1, 2), (-2, -2)\\right]$\n",
        "\n",
        "$N = 3$\n",
        "\n",
        "\n",
        "$f(z) = \\left(-0.45 e^{- \\dfrac{||z - (0, -4)||}{2}^{2}} - 0.27 e^{- \\dfrac{||z - (-1, 2)||}{2}^{2}} + 0.73 e^{- \\dfrac{||z - (-2, -2)||}{2}^{2}} \\right) - 1.79$\n",
        "\n",
        "For the linear case, $k(z, x_{n}) = <z, x_{n}>$\n",
        "\n",
        "And,\n",
        "\n",
        "$b = -1.79 $\n",
        "\n",
        "$\\lambda \\in \\left[-0.45, -0.279,  0.73\\right] $\n",
        "\n",
        "$x \\in \\left[(0, -4), (-1, 2), (-2, -2)\\right]$\n",
        "\n",
        "$N = 3$\n",
        "\n",
        "Hence,\n",
        "\n",
        "$f(z) = \\left(-0.45<z, (0, -4)> - 0.27<z, (-1, 2)> + 0.73<z, (-2, -2)> \\right) - 1.79 $"
      ]
    },
    {
      "cell_type": "markdown",
      "metadata": {
        "id": "KHSZjmApgyeF"
      },
      "source": [
        "#### Item (B):"
      ]
    },
    {
      "cell_type": "markdown",
      "metadata": {
        "id": "5EV7dUidgyeF"
      },
      "source": [
        "Originally, the function is given by:\n",
        "\n",
        "$f(z) = \\left(\\sum\\limits_{n = 0}^{N - 1}\\lambda_{n}<z,x_{n}> \\right) + b$\n",
        "\n",
        "Where:\n",
        "\n",
        "$w = \\sum\\limits_{n = 0}^{N - 1}\\lambda_{n}x_{n}$"
      ]
    },
    {
      "cell_type": "markdown",
      "metadata": {
        "id": "ZFbrGvJCgyeG"
      },
      "source": [
        "#### Item (C):"
      ]
    },
    {
      "cell_type": "markdown",
      "metadata": {
        "id": "eX6PpQ4VgyeG"
      },
      "source": []
    },
    {
      "cell_type": "markdown",
      "metadata": {
        "id": "qoVVVy-UgyeG"
      },
      "source": [
        "#### Item (D):"
      ]
    },
    {
      "cell_type": "markdown",
      "metadata": {
        "id": "cbl8c-q_gyeG"
      },
      "source": [
        "##### subitem (D1):"
      ]
    },
    {
      "cell_type": "markdown",
      "metadata": {
        "id": "xgM6mjqOgyeG"
      },
      "source": []
    },
    {
      "cell_type": "markdown",
      "metadata": {
        "id": "ttj0lasLgyeH"
      },
      "source": [
        "##### subitem (D2):"
      ]
    },
    {
      "cell_type": "markdown",
      "metadata": {
        "id": "vNozDpqHgyeH"
      },
      "source": [
        "##### subitem (D3):"
      ]
    },
    {
      "cell_type": "markdown",
      "metadata": {
        "id": "VvkvVXT_gyeH"
      },
      "source": []
    },
    {
      "cell_type": "markdown",
      "metadata": {
        "id": "LGPXBIIwgyeH"
      },
      "source": [
        "#### Item (E):"
      ]
    },
    {
      "cell_type": "markdown",
      "metadata": {
        "id": "G6a43C0pgyeI"
      },
      "source": []
    },
    {
      "cell_type": "markdown",
      "metadata": {
        "id": "QImwAcbpgyeI"
      },
      "source": [
        "## Sixth Question"
      ]
    },
    {
      "cell_type": "code",
      "execution_count": 2,
      "metadata": {
        "id": "Y5UIfLrwgyeI"
      },
      "outputs": [],
      "source": [
        "## Method obtained by Ageron's github repository\n",
        "def plot_svc_decision_boundary(svm_clf, xmin, xmax):\n",
        "    w = svm_clf.coef_[0]\n",
        "    b = svm_clf.intercept_[0]\n",
        "\n",
        "    # At the decision boundary, w0*x0 + w1*x1 + b = 0\n",
        "    # => x1 = -w0/w1 * x0 - b/w1\n",
        "    x0 = np.linspace(xmin, xmax, 200)\n",
        "    decision_boundary = -w[0]/w[1] * x0 - b/w[1]\n",
        "\n",
        "    margin = 1/w[1]\n",
        "    gutter_up = decision_boundary + margin\n",
        "    gutter_down = decision_boundary - margin\n",
        "\n",
        "    svs = svm_clf.support_vectors_\n",
        "    plt.scatter(svs[:, 0], svs[:, 1], s=180, facecolors='#FFAAAA')\n",
        "    plt.plot(x0, decision_boundary, \"k-\", linewidth=2)\n",
        "    plt.plot(x0, gutter_up, \"k--\", linewidth=2)\n",
        "    plt.plot(x0, gutter_down, \"k--\", linewidth=2)\n"
      ]
    },
    {
      "cell_type": "code",
      "execution_count": 9,
      "metadata": {
        "id": "VzpzTvbEgyeJ",
        "outputId": "a27764b6-9c7f-4171-ea93-87fb9618f7d0",
        "colab": {
          "base_uri": "https://localhost:8080/",
          "height": 323
        }
      },
      "outputs": [
        {
          "output_type": "execute_result",
          "data": {
            "text/plain": [
              "(-2.0, 2.0, -2.0, 2.0)"
            ]
          },
          "metadata": {},
          "execution_count": 9
        },
        {
          "output_type": "display_data",
          "data": {
            "text/plain": [
              "<Figure size 432x288 with 1 Axes>"
            ],
            "image/png": "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\n"
          },
          "metadata": {
            "needs_background": "light"
          }
        }
      ],
      "source": [
        "from sklearn import svm\n",
        "from sklearn.preprocessing import StandardScaler\n",
        "\n",
        "## Preprocessing the train and test dataset w/ standard scaler\n",
        "scaler = StandardScaler()\n",
        "X_scaled_train = scaler.fit_transform(X_train)\n",
        "X_scaled_test = scaler.fit_transform(X_test)\n",
        "\n",
        "# Train the model\n",
        "svc = svm.SVC(kernel ='linear', C = 1).fit(X_scaled_train, y_train)\n",
        "\n",
        "# Plot the chart\n",
        "plt.subplot(122)\n",
        "plt.plot(X_scaled_train[:, 0][y_train==1], X_scaled_train[:, 1][y_train==1], \"bo\")\n",
        "plt.plot(X_scaled_train[:, 0][y_train==0], X_scaled_train[:, 1][y_train==0], \"ms\")\n",
        "plot_svc_decision_boundary(svc, -2, 2)\n",
        "plt.xlabel(\"$x_0$\", fontsize=20)\n",
        "plt.ylabel(\"$x_1$  \", fontsize=20, rotation=0)\n",
        "plt.title(\"SVM with linear Kernel\", fontsize=16)\n",
        "plt.axis([-2, 2, -2, 2])"
      ]
    },
    {
      "cell_type": "markdown",
      "metadata": {
        "id": "JO9Oz-sxgyeK"
      },
      "source": [
        "### Some information about the model"
      ]
    },
    {
      "cell_type": "code",
      "execution_count": 10,
      "metadata": {
        "id": "Q6tQh0TNgyeK",
        "outputId": "be0039b4-f62e-4307-f250-25bd701fc941",
        "colab": {
          "base_uri": "https://localhost:8080/"
        }
      },
      "outputs": [
        {
          "output_type": "stream",
          "name": "stdout",
          "text": [
            "Number of Support Vectors: [2 2]\n",
            "Support Vectors Index: [0 1 4 5]\n",
            "Support Vectors: \n",
            "[[ 0.57035183 -0.58554004]\n",
            " [ 0.19011728  1.17108009]\n",
            " [-0.95058638 -0.87831007]\n",
            " [-0.19011728  0.        ]]\n"
          ]
        }
      ],
      "source": [
        "print(f'Number of Support Vectors: {svc.n_support_}')\n",
        "print(f'Support Vectors Index: {svc.support_}')\n",
        "print(f'Support Vectors: \\n{svc.support_vectors_}')"
      ]
    },
    {
      "cell_type": "markdown",
      "metadata": {
        "id": "RcDJlYfagyeL"
      },
      "source": [
        "### Results in test dataset"
      ]
    },
    {
      "cell_type": "code",
      "execution_count": 11,
      "metadata": {
        "id": "Keh6BWVEgyeL",
        "outputId": "056e70e9-123b-413e-a1fc-d2edc1d5fa41",
        "colab": {
          "base_uri": "https://localhost:8080/"
        }
      },
      "outputs": [
        {
          "output_type": "stream",
          "name": "stdout",
          "text": [
            "Results:\n",
            "Labels: [0 0 1 1]\n",
            "Predict: [0 0 1 1]\n"
          ]
        }
      ],
      "source": [
        "## get the labels\n",
        "y = np.ravel(test[2],order='C')\n",
        "print(f'Results:\\nLabels: {y}\\nPredict: {svc.predict(X_scaled_test)}')"
      ]
    },
    {
      "cell_type": "markdown",
      "metadata": {
        "id": "G9x0_LfTgyeL"
      },
      "source": [
        "## Seventh Question"
      ]
    },
    {
      "cell_type": "code",
      "execution_count": null,
      "metadata": {
        "id": "xBqoCIf7gyeM"
      },
      "outputs": [],
      "source": [
        "from sklearn import svm, datasets"
      ]
    },
    {
      "cell_type": "code",
      "execution_count": null,
      "metadata": {
        "id": "5D3RQsm0gyeM"
      },
      "outputs": [],
      "source": [
        "def load_iris_first_2_features_and_binary():\n",
        "    # import some data to play with\n",
        "    iris = datasets.load_iris()\n",
        "    # Take the first two features. We could avoid this by using a two-dim dataset\n",
        "    X = iris.data[:, :2]\n",
        "    y = iris.target\n",
        "    #make it only two classes:\n",
        "    #y = np.array(iris.target < 1).astype(int) #this is an easier binary problem\n",
        "    y = np.array(iris.target > 1).astype(int) #this is a harder binary problem\n",
        "    feature_names = ('Sepal length', 'Sepal width') #x and y\n",
        "    return X,y,feature_names"
      ]
    },
    {
      "cell_type": "code",
      "execution_count": null,
      "metadata": {
        "id": "hTSE--YBgyeM"
      },
      "outputs": [],
      "source": [
        "def load_lista1_dataset():\n",
        "    #from numpy import genfromtxt\n",
        "    my_data = np.genfromtxt('lista1_dataset.csv', delimiter=',')\n",
        "    X = my_data[:,:2] # two first parameters are input vector\n",
        "    #y = my_data[:,2:]\n",
        "    y = np.ravel(my_data[:,2:],order='C') #convert column vector into 1D array\n",
        "    feature_names = ('x0', 'x1') #x and y\n",
        "    return X,y,feature_names"
      ]
    },
    {
      "cell_type": "code",
      "execution_count": null,
      "metadata": {
        "id": "ei75hutugyeN"
      },
      "outputs": [],
      "source": [
        "def load_simple():\n",
        "    #from numpy import genfromtxt\n",
        "    my_data = np.genfromtxt('simple.csv', delimiter=',')\n",
        "    X = my_data[:,:2] # fish length and weight\n",
        "    y = np.ravel(my_data[:,2:],order='C') #convert column vector into 1D array\n",
        "    feature_names = ('Length', 'Weight') #x and y\n",
        "    return X,y,feature_names"
      ]
    },
    {
      "cell_type": "code",
      "execution_count": null,
      "metadata": {
        "id": "xofw9zV3gyeN"
      },
      "outputs": [],
      "source": [
        "def convert_linear_SVM_to_perceptron(support_vectors, dual_coef):\n",
        "    dual_coef = np.ravel(dual_coef,order='C') #convert to a 1D vector\n",
        "    num_support_vectors = len(dual_coef)\n",
        "    if support_vectors.shape[0] != num_support_vectors:\n",
        "        raise Exception('support_vectors.shape[0] != num_support_vectors')\n",
        "    input_space_dimension = support_vectors.shape[1]\n",
        "    perceptron_weights = np.zeros((input_space_dimension))\n",
        "    for sv in range(num_support_vectors):\n",
        "        perceptron_weights += dual_coef[sv] * support_vectors[sv]\n",
        "    return perceptron_weights"
      ]
    },
    {
      "cell_type": "code",
      "execution_count": null,
      "metadata": {
        "id": "uarkIKwjgyeN"
      },
      "outputs": [],
      "source": [
        "def calculate_intercept(perceptron_weights,support_vectors,support_vector_indices,labels):\n",
        "    '''\n",
        "    https://stats.stackexchange.com/questions/211310/deriving-the-intercept-term-in-a-linearly-separable-and-soft-margin-svm\n",
        "    '''\n",
        "    num_support_vectors = support_vectors.shape[0]\n",
        "    #input_space_dimension = support_vectors.shape[1]\n",
        "    max_negative = -1e30\n",
        "    min_positive = 1e30\n",
        "    for i in range(num_support_vectors):\n",
        "        #note that labels has all training examples, not only support vectors,\n",
        "        #so use support_vector_indices to get the proper index in training set\n",
        "        this_label = labels[support_vector_indices[i]]\n",
        "        this_inner_product = np.inner(perceptron_weights, support_vectors[i])\n",
        "        if this_label > 0:\n",
        "            if this_inner_product < min_positive:\n",
        "                min_positive = this_inner_product\n",
        "        else:\n",
        "            if this_inner_product > max_negative:\n",
        "                max_negative = this_inner_product\n",
        "    return -(max_negative+min_positive)/2.0"
      ]
    },
    {
      "cell_type": "code",
      "execution_count": null,
      "metadata": {
        "id": "74ZZtRJJgyeO"
      },
      "outputs": [],
      "source": [
        "def make_meshgrid(x, y, h=.02):\n",
        "    \"\"\"Create a mesh of points to plot in\n",
        "\n",
        "    Parameters\n",
        "    ----------\n",
        "    x: data to base x-axis meshgrid on\n",
        "    y: data to base y-axis meshgrid on\n",
        "    h: stepsize for meshgrid, optional\n",
        "\n",
        "    Returns\n",
        "    -------\n",
        "    xx, yy : ndarray\n",
        "    \"\"\"\n",
        "    x_min, x_max = x.min() - 1, x.max() + 1\n",
        "    y_min, y_max = y.min() - 1, y.max() + 1\n",
        "    xx, yy = np.meshgrid(np.arange(x_min, x_max, h),\n",
        "                         np.arange(y_min, y_max, h))\n",
        "    return xx, yy"
      ]
    },
    {
      "cell_type": "code",
      "execution_count": null,
      "metadata": {
        "id": "KPDhNN1LgyeO"
      },
      "outputs": [],
      "source": [
        "def plot_contours(ax, clf, xx, yy, **params):\n",
        "    \"\"\"Plot the decision boundaries for a classifier.\n",
        "\n",
        "    Parameters\n",
        "    ----------\n",
        "    ax: matplotlib axes object\n",
        "    clf: a classifier\n",
        "    xx: meshgrid ndarray\n",
        "    yy: meshgrid ndarray\n",
        "    params: dictionary of params to pass to contourf, optional\n",
        "    \"\"\"\n",
        "    Z = clf.predict(np.c_[xx.ravel(), yy.ravel()])\n",
        "    Z = Z.reshape(xx.shape)\n",
        "    out = ax.contourf(xx, yy, Z, **params)\n",
        "    return out"
      ]
    },
    {
      "cell_type": "code",
      "execution_count": null,
      "metadata": {
        "id": "ClYwrjfwgyeO",
        "outputId": "31a5e1d6-25ea-47e6-df0f-1d834e28b2d2"
      },
      "outputs": [
        {
          "name": "stdout",
          "output_type": "stream",
          "text": [
            "#### 1) Linear SVM with LinearSVC #####\n",
            "linear_svc.coef_= [[ 0.66001144 -0.34870356]]\n",
            "linear_svc.intercept_= [-3.13919621]\n",
            "[LibSVM]*\n",
            "optimization finished, #iter = 69\n",
            "obj = -67.107474, rho = -11.356088\n",
            "nSV = 71, nBSV = 68\n",
            "Total nSV = 71\n",
            "\n",
            "\n",
            "#### Generic SVMs with SVC #####\n",
            "####  2 ) SVM with SVC ####\n",
            " {'C': 1.0, 'break_ties': False, 'cache_size': 200, 'class_weight': None, 'coef0': 0.0, 'decision_function_shape': 'ovr', 'degree': 3, 'gamma': 'scale', 'kernel': 'linear', 'max_iter': -1, 'probability': False, 'random_state': None, 'shrinking': False, 'tol': 0.001, 'verbose': 1}\n",
            "svm.n_support_= [36 35]\n",
            "svm.support_= [ 14  15  50  51  52  54  55  56  58  61  62  63  65  67  68  70  71  72\n",
            "  73  74  75  76  77  78  79  82  83  85  86  87  91  92  95  96  97  99\n",
            " 100 101 103 104 106 108 110 111 112 113 114 115 116 119 121 123 124 126\n",
            " 127 128 132 133 134 136 137 138 140 142 143 144 145 146 147 148 149]\n",
            "svm.support_vectors_= [[5.8 4. ]\n",
            " [5.7 4.4]\n",
            " [7.  3.2]\n",
            " [6.4 3.2]\n",
            " [6.9 3.1]\n",
            " [6.5 2.8]\n",
            " [5.7 2.8]\n",
            " [6.3 3.3]\n",
            " [6.6 2.9]\n",
            " [5.9 3. ]\n",
            " [6.  2.2]\n",
            " [6.1 2.9]\n",
            " [6.7 3.1]\n",
            " [5.8 2.7]\n",
            " [6.2 2.2]\n",
            " [5.9 3.2]\n",
            " [6.1 2.8]\n",
            " [6.3 2.5]\n",
            " [6.1 2.8]\n",
            " [6.4 2.9]\n",
            " [6.6 3. ]\n",
            " [6.8 2.8]\n",
            " [6.7 3. ]\n",
            " [6.  2.9]\n",
            " [5.7 2.6]\n",
            " [5.8 2.7]\n",
            " [6.  2.7]\n",
            " [6.  3.4]\n",
            " [6.7 3.1]\n",
            " [6.3 2.3]\n",
            " [6.1 3. ]\n",
            " [5.8 2.6]\n",
            " [5.7 3. ]\n",
            " [5.7 2.9]\n",
            " [6.2 2.9]\n",
            " [5.7 2.8]\n",
            " [6.3 3.3]\n",
            " [5.8 2.7]\n",
            " [6.3 2.9]\n",
            " [6.5 3. ]\n",
            " [4.9 2.5]\n",
            " [6.7 2.5]\n",
            " [6.5 3.2]\n",
            " [6.4 2.7]\n",
            " [6.8 3. ]\n",
            " [5.7 2.5]\n",
            " [5.8 2.8]\n",
            " [6.4 3.2]\n",
            " [6.5 3. ]\n",
            " [6.  2.2]\n",
            " [5.6 2.8]\n",
            " [6.3 2.7]\n",
            " [6.7 3.3]\n",
            " [6.2 2.8]\n",
            " [6.1 3. ]\n",
            " [6.4 2.8]\n",
            " [6.4 2.8]\n",
            " [6.3 2.8]\n",
            " [6.1 2.6]\n",
            " [6.3 3.4]\n",
            " [6.4 3.1]\n",
            " [6.  3. ]\n",
            " [6.7 3.1]\n",
            " [5.8 2.7]\n",
            " [6.8 3.2]\n",
            " [6.7 3.3]\n",
            " [6.7 3. ]\n",
            " [6.3 2.5]\n",
            " [6.5 3. ]\n",
            " [6.2 3.4]\n",
            " [5.9 3. ]]\n",
            "svm.dual_coef_= [[-1.         -0.35762674 -1.         -1.         -1.         -1.\n",
            "  -1.         -1.         -1.         -1.         -1.         -1.\n",
            "  -1.         -1.         -1.         -1.         -1.         -1.\n",
            "  -1.         -1.         -1.         -1.         -1.         -1.\n",
            "  -1.         -1.         -1.         -1.         -1.         -1.\n",
            "  -1.         -1.         -0.02176029 -1.         -1.         -1.\n",
            "   1.          1.          1.          1.          1.          1.\n",
            "   1.          1.          0.37938703  1.          1.          1.\n",
            "   1.          1.          1.          1.          1.          1.\n",
            "   1.          1.          1.          1.          1.          1.\n",
            "   1.          1.          1.          1.          1.          1.\n",
            "   1.          1.          1.          1.          1.        ]]\n",
            "At most 10 decisions: svm.decision_function(X)= [-2.09009821 -2.45322464 -2.81682528 -2.99849011 -2.27189853 -1.54517147\n",
            " -2.99869334 -2.27176304 -3.36181977 -2.45329239]\n",
            "Accuracy via svm.score(X,y)= 0.8066666666666666\n",
            "svc_with_linear_kernel.coef_= [[ 1.81732573e+00 -6.77429337e-04]]\n",
            "linear_svc.intercept_= [-11.35608843]\n",
            "Estimated perceptron_weights= [ 1.81732573e+00 -6.77429337e-04]\n",
            "Estimated bias= -10.811157420560402\n",
            "####  3 ) SVM with SVC ####\n",
            " {'C': 1.0, 'break_ties': False, 'cache_size': 200, 'class_weight': None, 'coef0': 0.0, 'decision_function_shape': 'ovr', 'degree': 3, 'gamma': 0.7, 'kernel': 'rbf', 'max_iter': -1, 'probability': False, 'random_state': None, 'shrinking': True, 'tol': 0.001, 'verbose': False}\n",
            "svm.n_support_= [38 35]\n",
            "svm.support_= [ 13  14  15  41  50  51  52  54  55  56  58  60  61  62  63  65  67  68\n",
            "  70  71  72  73  74  75  76  77  78  82  83  85  86  87  91  92  95  96\n",
            "  97  99 100 101 103 104 106 108 110 111 113 114 115 116 118 119 121 123\n",
            " 124 126 127 128 131 132 133 134 136 137 138 140 142 144 145 146 147 148\n",
            " 149]\n",
            "svm.support_vectors_= [[4.3 3. ]\n",
            " [5.8 4. ]\n",
            " [5.7 4.4]\n",
            " [4.5 2.3]\n",
            " [7.  3.2]\n",
            " [6.4 3.2]\n",
            " [6.9 3.1]\n",
            " [6.5 2.8]\n",
            " [5.7 2.8]\n",
            " [6.3 3.3]\n",
            " [6.6 2.9]\n",
            " [5.  2. ]\n",
            " [5.9 3. ]\n",
            " [6.  2.2]\n",
            " [6.1 2.9]\n",
            " [6.7 3.1]\n",
            " [5.8 2.7]\n",
            " [6.2 2.2]\n",
            " [5.9 3.2]\n",
            " [6.1 2.8]\n",
            " [6.3 2.5]\n",
            " [6.1 2.8]\n",
            " [6.4 2.9]\n",
            " [6.6 3. ]\n",
            " [6.8 2.8]\n",
            " [6.7 3. ]\n",
            " [6.  2.9]\n",
            " [5.8 2.7]\n",
            " [6.  2.7]\n",
            " [6.  3.4]\n",
            " [6.7 3.1]\n",
            " [6.3 2.3]\n",
            " [6.1 3. ]\n",
            " [5.8 2.6]\n",
            " [5.7 3. ]\n",
            " [5.7 2.9]\n",
            " [6.2 2.9]\n",
            " [5.7 2.8]\n",
            " [6.3 3.3]\n",
            " [5.8 2.7]\n",
            " [6.3 2.9]\n",
            " [6.5 3. ]\n",
            " [4.9 2.5]\n",
            " [6.7 2.5]\n",
            " [6.5 3.2]\n",
            " [6.4 2.7]\n",
            " [5.7 2.5]\n",
            " [5.8 2.8]\n",
            " [6.4 3.2]\n",
            " [6.5 3. ]\n",
            " [7.7 2.6]\n",
            " [6.  2.2]\n",
            " [5.6 2.8]\n",
            " [6.3 2.7]\n",
            " [6.7 3.3]\n",
            " [6.2 2.8]\n",
            " [6.1 3. ]\n",
            " [6.4 2.8]\n",
            " [7.9 3.8]\n",
            " [6.4 2.8]\n",
            " [6.3 2.8]\n",
            " [6.1 2.6]\n",
            " [6.3 3.4]\n",
            " [6.4 3.1]\n",
            " [6.  3. ]\n",
            " [6.7 3.1]\n",
            " [5.8 2.7]\n",
            " [6.7 3.3]\n",
            " [6.7 3. ]\n",
            " [6.3 2.5]\n",
            " [6.5 3. ]\n",
            " [6.2 3.4]\n",
            " [5.9 3. ]]\n",
            "svm.dual_coef_= [[-0.25030258 -1.         -0.11660085 -0.93522599 -1.         -1.\n",
            "  -1.         -1.         -1.         -1.         -1.         -0.07119632\n",
            "  -1.         -1.         -1.         -1.         -1.         -1.\n",
            "  -1.         -1.         -1.         -1.         -1.         -1.\n",
            "  -1.         -1.         -1.         -1.         -1.         -1.\n",
            "  -1.         -1.         -1.         -1.         -0.46769657 -1.\n",
            "  -1.         -0.35840839  1.          1.          1.          1.\n",
            "   1.          1.          1.          1.          1.          1.\n",
            "   1.          1.          1.          1.          1.          1.\n",
            "   0.20221328  1.          1.          1.          1.          1.\n",
            "   1.          1.          1.          1.          1.          1.\n",
            "   1.          0.99721743  1.          1.          1.          1.\n",
            "   1.        ]]\n",
            "At most 10 decisions: svm.decision_function(X)= [-1.48802722 -1.39948    -1.28644441 -1.21239409 -1.43187293 -1.35851833\n",
            " -1.18247408 -1.46617182 -1.06866886 -1.41399006]\n",
            "Accuracy via svm.score(X,y)= 0.82\n",
            "####  4 ) SVM with SVC ####\n",
            " {'C': 1.0, 'break_ties': False, 'cache_size': 200, 'class_weight': None, 'coef0': 0, 'decision_function_shape': 'ovr', 'degree': 3, 'gamma': 'auto', 'kernel': 'poly', 'max_iter': -1, 'probability': False, 'random_state': None, 'shrinking': True, 'tol': 0.001, 'verbose': False}\n",
            "svm.n_support_= [33 34]\n",
            "svm.support_= [ 50  51  52  54  55  56  58  61  63  65  67  68  70  71  72  73  74  75\n",
            "  76  77  78  79  82  83  85  86  87  91  92  95  96  97  99 100 101 103\n",
            " 104 106 108 110 111 112 113 114 115 116 119 121 123 124 126 127 128 132\n",
            " 133 134 136 137 138 140 142 144 145 146 147 148 149]\n",
            "svm.support_vectors_= [[7.  3.2]\n",
            " [6.4 3.2]\n",
            " [6.9 3.1]\n",
            " [6.5 2.8]\n",
            " [5.7 2.8]\n",
            " [6.3 3.3]\n",
            " [6.6 2.9]\n",
            " [5.9 3. ]\n",
            " [6.1 2.9]\n",
            " [6.7 3.1]\n",
            " [5.8 2.7]\n",
            " [6.2 2.2]\n",
            " [5.9 3.2]\n",
            " [6.1 2.8]\n",
            " [6.3 2.5]\n",
            " [6.1 2.8]\n",
            " [6.4 2.9]\n",
            " [6.6 3. ]\n",
            " [6.8 2.8]\n",
            " [6.7 3. ]\n",
            " [6.  2.9]\n",
            " [5.7 2.6]\n",
            " [5.8 2.7]\n",
            " [6.  2.7]\n",
            " [6.  3.4]\n",
            " [6.7 3.1]\n",
            " [6.3 2.3]\n",
            " [6.1 3. ]\n",
            " [5.8 2.6]\n",
            " [5.7 3. ]\n",
            " [5.7 2.9]\n",
            " [6.2 2.9]\n",
            " [5.7 2.8]\n",
            " [6.3 3.3]\n",
            " [5.8 2.7]\n",
            " [6.3 2.9]\n",
            " [6.5 3. ]\n",
            " [4.9 2.5]\n",
            " [6.7 2.5]\n",
            " [6.5 3.2]\n",
            " [6.4 2.7]\n",
            " [6.8 3. ]\n",
            " [5.7 2.5]\n",
            " [5.8 2.8]\n",
            " [6.4 3.2]\n",
            " [6.5 3. ]\n",
            " [6.  2.2]\n",
            " [5.6 2.8]\n",
            " [6.3 2.7]\n",
            " [6.7 3.3]\n",
            " [6.2 2.8]\n",
            " [6.1 3. ]\n",
            " [6.4 2.8]\n",
            " [6.4 2.8]\n",
            " [6.3 2.8]\n",
            " [6.1 2.6]\n",
            " [6.3 3.4]\n",
            " [6.4 3.1]\n",
            " [6.  3. ]\n",
            " [6.7 3.1]\n",
            " [5.8 2.7]\n",
            " [6.7 3.3]\n",
            " [6.7 3. ]\n",
            " [6.3 2.5]\n",
            " [6.5 3. ]\n",
            " [6.2 3.4]\n",
            " [5.9 3. ]]\n",
            "svm.dual_coef_= [[-1.         -1.         -1.         -1.         -1.         -1.\n",
            "  -1.         -1.         -1.         -1.         -1.         -0.84094767\n",
            "  -1.         -1.         -1.         -1.         -1.         -1.\n",
            "  -1.         -1.         -1.         -0.37370225 -1.         -1.\n",
            "  -1.         -1.         -1.         -1.         -1.         -1.\n",
            "  -1.         -1.         -1.          1.          1.          1.\n",
            "   1.          1.          1.          1.          1.          0.28744964\n",
            "   1.          1.          1.          1.          1.          1.\n",
            "   1.          0.08525527  1.          1.          1.          1.\n",
            "   1.          1.          1.          1.          1.          1.\n",
            "   1.          0.841945    1.          1.          1.          1.\n",
            "   1.        ]]\n",
            "At most 10 decisions: svm.decision_function(X)= [-2.75155129 -2.34500951 -2.98215762 -2.99540815 -3.19803138 -3.01922687\n",
            " -3.56859022 -2.7626754  -3.03332465 -2.46697626]\n",
            "Accuracy via svm.score(X,y)= 0.8266666666666667\n",
            "('LinearSVC (linear kernel)', 'SVC with linear kernel', 'SVC with RBF kernel', 'SVC with polynomial (degree 3) kernel') have accuracies:\n",
            "svm_scores= [0.80666667 0.82       0.82666667 0.81333333]\n"
          ]
        },
        {
          "data": {
            "image/png": "iVBORw0KGgoAAAANSUhEUgAAAlQAAAG0CAYAAAD0NLk2AAAAOXRFWHRTb2Z0d2FyZQBNYXRwbG90bGliIHZlcnNpb24zLjUuMywgaHR0cHM6Ly9tYXRwbG90bGliLm9yZy/NK7nSAAAACXBIWXMAAA9hAAAPYQGoP6dpAAEAAElEQVR4nOydd3hURdfAf/duzWY3vRcSCIHQS+i9CKgoIiqiKGDv2H39LK/ttb6vYkXFggVQQUSkg/TeQyeBkN57T7bc+f7YZCEEkBL6/T0PD9nZuXPPzO6cPXfmnDOSEEKgoqKioqKioqJy1sgXWwAVFRUVFRUVlcsd1aBSUVFRUVFRUTlHVINKRUVFRUVFReUcUQ0qFRUVFRUVFZVzRDWoVFRUVFRUVFTOEdWgUlFRUVFRUVE5R1SDSkVFRUVFRUXlHFENKhUVFRUVFRWVc0Q1qFRUVFRUVFRUzpHLzqBKTk5GkiR++OGHiy3KZc+WLVvQ6/WkpKS4ygYMGMCAAQNcry/38Z4wYQJms/lii3FWHP9Z7N+/H61Wy969ey+eUCpXPGcy5+vq/u9//zure61atQpJkli1apWrbMKECURGRp5Vexebcx2Pi8mJPguVM+OSMqh++OEHJEli27ZtF1uURkFRFH766Se6d++Oj48PFouFFi1aMG7cODZt2gTAxIkTkSSJw4cPn7Sdl19+GUmS2L17t6vM4XAwdepUBgwYgI+PDwaDgcjISO65557THr+XX36ZO+64g4iIiHPrqMoFoXXr1gwfPpx///vfF1sUlePYs2cPt956KxERERiNRkJDQxkyZAifffYZADt27ECSJF555ZWTtnHo0CEkSeKZZ56pVx4XF8ddd91FeHg4BoMBHx8frrnmGqZOnYrD4Tiv/apj4cKFvP766xfkXioqlyvaiy3AmRIREUFVVRU6ne5ii/KPTJw4kS+++IKbbrqJsWPHotVqiY+PZ9GiRTRr1owePXowduxYPvvsM2bMmHHSH8pffvmFdu3a0b59ewCqqqoYNWoUixcvpl+/frz00kv4+PiQnJzMzJkz+fHHH0lNTSUsLOykssXFxfH333+zYcOGU/bhchrvq4GHH36Y66+/nsTERKKioi62OCrAhg0bGDhwIE2aNOGBBx4gKCiItLQ0Nm3axCeffMITTzxB586diYmJ4ZdffuE///nPCduZMWMGAHfddZer7Ntvv+Xhhx8mMDCQu+++m+joaMrKyli+fDn33XcfWVlZvPTSS43anxPN+YULF/LFF19cEKPqm2++QVGU834fFZXG5rIzqCRJwmg0XmwxTkllZSVlZWVMnjyZBx54gClTptR7/+OPPyYvLw+A7t2707x5c3755ZcTGlQbN24kKSmJ9957z1X2/PPPs3jxYiZNmsRTTz1Vr/5rr73GpEmT/lHGqVOn0qRJE3r06HHKepfLeJtMpoty7+rqavR6PbJ8YRZ7r7nmGry9vfnxxx958803L8g9VU7N22+/jaenJ1u3bsXLy6vee7m5ua6/x44dy6uvvsqmTZtOOO9++eUXYmJi6Ny5MwCbNm3i4YcfpmfPnixcuBCLxeKq+9RTT7Ft27bzsv17sef8pf7wdqHn/PFcTH2ncmouqS2/0+FE+/t1fjIZGRmMHDkSs9mMv78/zz33XIMlcUVR+Pjjj2nTpg1Go5HAwEAeeughioqK6tWbO3cuw4cPJyQkBIPBQFRUFG+99VaD9gYMGEDbtm3Zvn07/fr1w2Qy8dJLL5GUlIQQgt69ezfogyRJBAQEuF6PHTuWgwcPsmPHjgZ1Z8yYgSRJ3HHHHQCkp6fz9ddfM2TIkAbGFIBGo+G555475eoUwJ9//smgQYOQJOmU9S6X8T4T4uLi8Pf3Z8CAAZSXlwOQkZHBvffeS2BgIAaDgTZt2vD999/Xu67Ox+DXX3/llVdeITQ0FJPJRGlp6XkZkxOh0+kYMGAAc+fOPaM+q5w/EhMTadOmTQNjCmgwz+HoStSxbN++nfj4eFcdgDfeeANJkpg+fXo9Y6qOLl26MGHChJPK9cwzz+Dr64sQwlX2xBNPIEkSn376qassJycHSZL48ssvgYZzfsKECXzxxReAU3fV/TueKVOmEBUVhcFgoGvXrmzduvWksp2K432ojvVLOp17HDx4kFtvvRUfHx+MRiNdunThr7/+qlensLCQ5557jnbt2mE2m/Hw8OC6665j165d9eqdas6fLkIIHnzwQfR6PX/88YerfNq0acTGxuLm5oaPjw9jxowhLS2t3rUn03fnY0xUzp3LboXqZDgcDoYNG0b37t353//+x99//82HH35IVFQUjzzyiKveQw89xA8//MA999zDxIkTSUpK4vPPP2fnzp2sX7/e9XT0ww8/YDabeeaZZzCbzaxYsYJ///vflJaW8t///rfevQsKCrjuuusYM2YMd911F4GBgS6/pFmzZnHbbbed8oli7NixvPHGG8yYMcP1dFrXp5kzZ9K3b1+aNGkCwKJFi7Db7dx9991nPVYZGRmkpqbWu9eZcqmN9+mydetWhg0bRpcuXZg7dy5ubm7k5OTQo0cPJEni8ccfx9/fn0WLFnHfffdRWlrawHB966230Ov1PPfcc9TU1KDX68/LmJyM2NhY5s6dS2lpKR4eHqfdd5XzQ0REBBs3bmTv3r20bdv2pPWaNm1Kr169mDlzJpMmTUKj0bjeqzOy7rzzTsC5CrF8+XL69evnmvtnSt++fZk0aRL79u1zybV27VpkWWbt2rVMnDjRVQbQr1+/E7bz0EMPkZmZybJly/j5559PWGfGjBmUlZXx0EMPIUkSH3zwAaNGjeLIkSONtuJ0OvfYt28fvXv3JjQ0lBdffBF3d3dmzpzJyJEjmT17NjfffDMAR44c4c8//+S2226jadOm5OTk8PXXX9O/f3/2799PSEhIvXufbM7/Ew6Hg3vvvZfffvuNOXPmMHz4cMC5qvnqq68yevRo7r//fvLy8vjss8/o168fO3furGecn0rfNeaYqDQC4hJi6tSpAhBbt249aZ2kpCQBiKlTp7rKxo8fLwDx5ptv1qvbqVMnERsb63q9du1aAYjp06fXq7d48eIG5ZWVlQ3u/dBDDwmTySSqq6tdZf379xeA+OqrrxrUHzdunACEt7e3uPnmm8X//vc/ceDAgRP2q2vXriIsLEw4HI4Gcn399deusqeffloAYufOnSds53T4+++/BSDmzZvX4L3+/fuL/v37u15fTuN9IsaPHy/c3d2FEEKsW7dOeHh4iOHDh9dr87777hPBwcEiPz+/3rVjxowRnp6eLtlWrlwpANGsWbMG8p6PMTn+s6hjxowZAhCbN28+rTFQOb8sXbpUaDQaodFoRM+ePcULL7wglixZIqxWa4O6X3zxhQDEkiVLXGUOh0OEhoaKnj17usp27dolAPHkk0+etVy5ubkCEJMnTxZCCFFcXCxkWRa33XabCAwMdNWbOHGi8PHxEYqiCCFOPOcfe+wxcaKfi7q6vr6+orCw0FU+d+7ck+qYY6mbUytXrnSVjR8/XkRERJzVPQYPHizatWtXb34riiJ69eoloqOjXWXV1dX1dG3dfQwGQ705fKo5fyLqZP3vf/8rbDabuP3224Wbm1u9zzs5OVloNBrx9ttv17t2z549QqvV1is/mb47H2Nyos9C5cy47Lb8TsXDDz9c73Xfvn05cuSI6/WsWbPw9PRkyJAh5Ofnu/7FxsZiNptZuXKlq66bm5vr77KyMvLz8+nbty+VlZUcPHiw3n0MBgP33HNPA3mmTp3K559/TtOmTZkzZw7PPfccrVq1YvDgwWRkZNSre9ddd5Gens6aNWtcZTNmzECv13Pbbbe5yuqWmk+0BXC6FBQUAODt7X3WbcClN96nYuXKlQwbNozBgwfzxx9/YDAYAOdy/OzZs7nxxhsRQtSTc9iwYZSUlDTYih0/fnw9ec/XmJyMus8tPz//jMZA5fwwZMgQNm7cyIgRI9i1axcffPABw4YNIzQ0tMG2yu23345Op6u37bd69WoyMjLqbfc1xjz39/cnJibGpVPWr1+PRqPh+eefJycnh0OHDgHOFao+ffr84/b/qbj99tvr6ZO+ffsC1Pvunyv/dI/CwkJWrFjB6NGjXTokPz+fgoIChg0bxqFDh1x612AwuHygHA4HBQUFmM1mWrZseULXi1PN+RNhtVq57bbbmD9/PgsXLmTo0KGu9/744w8URWH06NH1dEBQUBDR0dENdMCp9F1jjonKuXPFbPkZjUb8/f3rlXl7e9fzSzl06BAlJSX1/BqO5VgH0n379vHKK6+wYsWKBvvlJSUl9V6HhoaecAlYlmUee+wxHnvsMQoKCli/fj1fffUVixYtYsyYMa6ldoAxY8bwzDPPMGPGDAYMGEB1dTVz5szhuuuuqzdh6rZ4ysrK/mlI/hFxjG/FmXIpjvfJqK6uZvjw4cTGxjJz5ky02qNf+7y8PIqLi5kyZUqD4IETyQnOrZsT0dhjcjLqPrdz+QFUaVy6du3KH3/8gdVqZdeuXcyZM4dJkyZx6623EhcXR+vWrQHw9fVl2LBhzJkzh6+++gqj0ciMGTPQarWMHj3a1V5jzfO+ffuycOFCwGk4denShS5duuDj48PatWsJDAxk165drq3Gs+X4bck6nXU6foGNdY/Dhw8jhODVV1/l1VdfPWEbubm5hIaGoigKn3zyCZMnTyYpKamen6Ovr2+D604250/Gu+++S3l5OYsWLaqXSw6cOkAIQXR09AmvPX6L9FT6rjHHROXcuWIMqmP9EU6GoigEBAQwffr0E75f92NYXFxM//798fDw4M033yQqKgqj0ciOHTv417/+1SCk93SeXHx9fRkxYgQjRoxgwIABrF69mpSUFJevVUBAAEOGDGH27Nl88cUXzJs3j7KysnpPrQAxMTGAM+9Nx44d//G+J5MFzk3ZXerjfSwGg4Hrr7+euXPnsnjxYm644YZ6MoJzhXD8+PEnvL4uXcU/3b8xx+RU1H1ufn5+/1hX5cKi1+vp2rUrXbt2pUWLFtxzzz3MmjWL1157zVXnrrvuYv78+cyfP58RI0Ywe/Zshg4dWu+zb968OVqtlj179pyTPH369OGbb77hyJEjrF27lr59+yJJEn369GHt2rWEhISgKIprZeNsOdl3/1we2s70HnVz+bnnnmPYsGEnrNu8eXMA3nnnHV599VXuvfde3nrrLXx8fJBlmaeeeuqEKRvOVOcMGzaMxYsX88EHHzBgwIB6UZOKoiBJEosWLTphn45PRHyqezfmmKicO1eMQXU6REVF8ffff9O7d+9TfklXrVpFQUEBf/zxRz1HzaSkpEaRo0uXLqxevZqsrKx6STXHjh3L4sWLWbRoETNmzMDDw4Mbb7yx3rXXXXcdGo2GadOmnbVjep1R1lj9ORmXynjXRUrddNNN3HbbbfWeGv39/bFYLDgcDq655ppGud+pON0xORVJSUnIskyLFi0aWTqVxqRLly4AZGVl1SsfMWIEFouFGTNmoNPpKCoqavDgZDKZGDRoECtWrCAtLY3w8PCzkqHOUFq2bBlbt27lxRdfBJwO6F9++SUhISG4u7sTGxt7ynYuh9XQZs2aAc4Vnn+ay7///jsDBw7ku+++q1deXFzcKA8qPXr04OGHH+aGG27gtttuY86cOa6V8aioKIQQNG3a9LzP4TMZE5Vz54ryofonRo8ejcPh4K233mrwnt1up7i4GDhq9R/7dGW1Wpk8efJp3ys7O5v9+/c3KLdarSxfvhxZlhs8GYwcORKTycTkyZNZtGgRo0aNapAPJjw8nAceeIClS5e6sjAfi6IofPjhh6Snp59UttDQUMLDw897RvoLOd7/RF3IcteuXbnxxhvZsmWL69633HILs2fPPmFOn7p8YY3F6Y7Jqdi+fTtt2rTB09OzUWVTOTtWrlx5wpWYuq22li1b1it3c3Pj5ptvZuHChXz55Ze4u7tz0003Nbj+tddeQwjB3Xff7UrvcSzbt2/nxx9/PKVsTZs2JTQ0lEmTJmGz2VxpXPr27UtiYiK///47PXr0qLcNfiLc3d0BTuv7ebEICAhgwIABfP311w2MWKg/lzUaTYPPbNasWY3qT3TNNdfw66+/snjxYu6++27XatGoUaPQaDS88cYbDWQQQrh8XBuDMxkTlXPnklyh+v7771m8eHGD8ieffPKc2u3fvz8PPfQQ7777LnFxcQwdOhSdTsehQ4eYNWsWn3zyCbfeeiu9evXC29ub8ePHu46G+fnnn89o+To9PZ1u3boxaNAgBg8eTFBQELm5ufzyyy/s2rWLp556qsGTkNlsZuTIkS6H1eOfWuv48MMPSUxMZOLEifzxxx/ccMMNeHt7k5qayqxZszh48CBjxow5pXw33XQTc+bMQQhx3p4+L+R4nw5ubm7Mnz+fQYMGcd1117F69Wratm3Le++9x8qVK+nevTsPPPAArVu3prCwkB07dvD3339TWFjYaDKc7picDJvNxurVq3n00UcbTSaVc+OJJ56gsrKSm2++mZiYGKxWKxs2bOC3335zHQd1PHfddRc//fQTS5YsYezYsS6D5Vh69erFF198waOPPkpMTEy9TOmrVq3ir7/+OmnW9WPp27cvv/76K+3atXP52HTu3Bl3d3cSEhJOy3+qbgVr4sSJDBs2DI1G84865mLwxRdf0KdPH9q1a8cDDzxAs2bNyMnJYePGjaSnp7vyTN1www28+eab3HPPPfTq1Ys9e/Ywffp014pOYzFy5EimTp3KuHHj8PDw4OuvvyYqKor//Oc//N///R/JycmMHDkSi8VCUlISc+bM4cEHH+S5555rNBlOd0xUGoELGlP4D9SlTTjZv7S0tJOG8deFxh/La6+9dsJQ3ylTpojY2Fjh5uYmLBaLaNeunXjhhRdEZmamq8769etFjx49hJubmwgJCXGFQnNcWGn//v1FmzZtGtyjtLRUfPLJJ2LYsGEiLCxM6HQ6YbFYRM+ePcU333zjClE+ngULFghABAcHNwjrPRa73S6+/fZb0bdvX+Hp6Sl0Op2IiIgQ99xzz2mlVNixY4cAxNq1a+uVn27ahEttvE/GiWTNz88XrVu3FkFBQeLQoUNCCCFycnLEY489JsLDw4VOpxNBQUFi8ODBYsqUKa7r6sKKZ82adVr3OdcxOVHahEWLFgnAJbfKxWfRokXi3nvvFTExMcJsNgu9Xi+aN28unnjiCZGTk3PCa+x2uwgODhaAWLhw4Snb3759u7jzzjtFSEiI0Ol0wtvbWwwePFj8+OOPp9QRddSlanjkkUfqlV9zzTUCEMuXL69XfqI5b7fbxRNPPCH8/f2FJEmu7/SxaQKOBxCvvfbaKWU7k7QJp3uPxMREMW7cOBEUFCR0Op0IDQ0VN9xwg/j9999ddaqrq8Wzzz4rgoODhZubm+jdu7fYuHFjgzl3qjl/Ik4m6+TJkwUgnnvuOVfZ7NmzRZ8+fYS7u7twd3cXMTEx4rHHHhPx8fGuOifTd+djTNS0CeeOJEQjLwOoXDYMHjyYkJCQkybrU7n0GDlyJJIkMWfOnIstioqKiorKMagG1VXM5s2b6du3L4cOHarnHK9yaXLgwAHatWtHXFzcKTNyq6ioqKhceFSDSkVFRUVFRUXlHLmqovxUVFRUVFRUVM4HqkGloqKioqKionKOqAaVioqKioqKiso5ohpUKioqKioqKirnyCWR2FNRFDIzM7FYLJfFEQcqKpcKQgjKysoICQlBltXno3NB1UMqKmeOqoOOckkYVJmZmWd9VpWKigqkpaURFhZ2scW4rFH1kIrK2aPqoEvEoLJYLAA8+OIm9EbzP9RWUWk8xm5/EkkCjV/wxRblrCi3Whk4baZrDqmcPaoeujwZn/rexRbhqkbVQUe5JAyquuV1vdGMwah+KCoXhpd7x5GxW4s2IPRii3LOqFtU546qhy5PzHr9xRZBBVUHgeqUrnIVkzFpMqoOUFFRUVFpDFSDSuWqpEuvIAA0/pf/6pSKioqKysVHNahUrkrafjxCXZ1SUVFRUWk0VINK5arjFctXgLo6paKioqLSeKgGlcpVR/ryHVeEI7qKioqKyqWDalCpXFW83DvuYougoqKionIFohpUKlcNXXoFqZF9KioqKirnBdWgUrlquHbP64DqO6WioqKi0vhcEok9VVTONxO2PEg6qL5TKioqKirnBXWFSuWqQTWmVFRUVFTOF6pBpXLFozqiq6ioqKicb1SDSuWKxuTvqzqiq6ioqKicd1SDSuWKZvSCWwDVEV1FRUVF5fyiGlQqVzyq75SKioqKyvlGNahUrlgmbHnwYougoqKionKVoBpUKlck40c4/1dXp1RUVFRULgSqQaVyRSK98qDqiK6ioqKicsFQDSqVKw6Tvy+gOqKrqKioqFw4VINK5YqjLrJPRUVFRUXlQqEaVCpXFKrvlIqKiorKxUA1qFSuGMaPUH2nVFRUVFQuDqpBpXLFUGdMqb5TKioqKioXGtWgUrkiUB3RVVRUVFQuJqpBpXJFoDqiq6ioqKhcTFSDSuWyR3VEV1FRUVG52KgGlcplj/TKg0gazcUWQ0VFRUXlKkY1qFQua+pWpzS+QRdXEBUVFRWVqxrtxRZA5fyjKA7Sj2yisqKAwND2ePtFXmyRGg01TYKKyuVBQe5hcjP3YfEIIjSyK5KsPs+rXFmoBtUVTm7mPub+/BClRWmuspiOIxl26wdotYaLKNm5M34EsEWN7FNRuZSxWStZ+OtTHN6/xFXm7d+cm+7+Gt+A5hdRMhWVxkV9RLiCsVmrmP39eBRhon3vL+k+bB5R7Z4jYfdC1i3578UW75xRfadUVC59Vs57k6SENUR3/D+6D5tPu16fUlNt54+p96A47BdbPBWVRkM1qK5gDu1bRGV5Hi06vYrFuxVanYWgiBsIaXYbu7f8gsNuvdginjWvWL4CVN8pFZVLmZrqMvbvmE1Y87sJCBuGVmfGw6c90R1fprQolaT4VRdbRBWVRkM1qK5gSosy0Bm8cHMPq1du9mqFraac6qqSiyTZuZO+fIe6OqWicolTUZaHw2HF4tWqXrm7R3MkWUvJMa4IKiqXO6pBdQXjG9AcW00x5SWH6pUX523DaPLBzeR9kSQ7NyZseRBQV6dUVC51LJ7B6PTuFOdvq1deWrgLodjxDYy+SJKpqDQ+qlP6FUyzVtfg5duU+O3/JiLmQdzM4eRnriI7ZS59hj2PrLn8Pv6Xe8eRsUVN4qmicjmg07vRsec4tq2Zgiwb8AnqTUVpIqkHp+Af0pYmzXpdbBFVVBqNy+8XVeWEVFeVkJG0FY1WT1iz7mi1BjQaHbfdP42Fvz1N/I43ANDq3Og+8FG69X/kIkt8dmRMmqxu9amoXIIoioOM5K3UVJUS3KQj7pYAAPoMfQ6HvYZdm6aRmvA9AE2a9+W60R+qqRNUrijOyqBSFIXDhw+Tm5uLoij13uvXr1+jCKZy+mxd8zXrl36Ew14NgJu7L8Nu/S9RrQbj4R3GmIdnUZSfTFVFAb6B0RiMHhdZ4rOjbnVK3epTUXXQpUVW6k7mz3iC0mKnT5Qka+nUczwDhr+CrNEy8MbX6DH4SQrzDmO2BOLpE36RJVZRaXzO2KDatGkTd955JykpKQgh6r0nSRIOh6PRhFP5ZxL2LGTNwncIbnorIU1vwWGvJCX+W/6a9hDjn1qKj38zALz9Ii/rhJ4mf191dUoFUHXQpUZ1ZQmzp05Abwyhfe8v0BsDyMtYyo7132L2DKRrv4cAcDN5ERrR5SJLq6Jy/jjj9daHH36YLl26sHfvXgoLCykqKnL9KywsPB8yqpyCHeun4unXiWZtHsdoCsbdI4qYzq+j0bqze/P0iy1eo3FbzwJAXZ1SUXXQpcaBuDlYq8uIiX0Li3cbDG7+hDUfS0D4dexYN/Vii6eicsE44xWqQ4cO8fvvv9O8uZrh9nxSWpzJjnXfkXZkMwY3D9p0HkXrTqMa+BwUF6TgHTS0XpmsMeDu0YKSwisnJFlN4qlSh6qDLgwOu5U9W3/l4K552O01NG3Rj0697sFk9q1Xr7ggFTdzKHpj/XIP77bkpi3E4bCh0egupOgqKheFM16h6t69O4cPHz4fsqjUUph3hJ8/Hc7uLTNBDqGspJrFs55l0axnG2xx+PhHUVoQV6/cYa+ivOQA3rXbfZc7apoElWNRddD5R3HY+fPH+1n+12tUVmlQhD9b13zHtM9HUF6aU6+uj38zqsozqKmqX15SsAMP73DVmFK5ajitFardu3e7/n7iiSd49tlnyc7Opl27duh09SdL+/btG1fCq5B1Sz4ADHQaMBWd3hOA3PQlHNj5Lu27jiGsWXdX3di+9/Pnj/dyePcHhDS9BbutkrRDUxGKjQ7d77xIPWg8TP7Op141TcLVjaqDLiyH9i0m+dBqWnf7AO+AbgDUVOWwa+2DbF75BYNvetNVN6bjTaxfNokDW18mIuYBDG5B5KYvJi/jbwaNeONidUFF5YJzWgZVx44dkSSp3irIvffe6/q77j3VIfTcEUKQeOBvwqPvcRlTAP6hQ0mN/47DB5bVM6iiWg1myM3vsmbRe+SmLQLA4hXGqAnf4+nT5IT3sNuqyUzdAUIQEhGLVmc8v506B55usZyMBRdbCpWLjaqDLiyJ+5dh9mrpMqYADG6B+IcO5fC+pfUMKoPRwm0PTGfBLxPZv+VfgDM9S8/BT9Gx5/gTti+EIC9rPxVlefgHt8LsEXh+O6SicgE4LYMqKSnpfMuhcgwSEiCOKxWA8wfjeNp3v5NWnUeRk7YLjVZPYFh7ZPnE/kYHd81j+dxXqa4sAsDo5sWgm96gVceRjdqHxqBLryA1sk8FUHXQBUeSQByvg0CgON87Dv+gGMY/tYS8rP1UV5UQENIGo5tng3rg9LmaP+MxcjJ2195KQ9suoxl805totPrG7YeKygXktAyqiIgI199r1qyhV69eaLX1L7Xb7WzYsKFeXZUzR5IkoloPITVxHgHh16M3OI+HyU1bRE1VHlGth57wOp3OWG/l6kRkpcWx8NeJ+AT1I6bLXYBE+uHpLPz1KTy9wwmJiG3s7pwTbT8eAai+UyqqDrrQNG89lAM751CYswGfQGc28+rKLPIyltKuy60nvEaSJAJC2pyyXcVhZ/b346ipttGq63uYLBEUZq9j3/Yp6I1mBgx/pdH7oqJyoTjjKL+BAweSlZVFQEBAvfKSkhIGDhyoLrc3An2v/RczJo9i56q78PLvgbUmj9KC3bTpMvqc8rjs3PAjRlMILTu/iiQ5V31adHqFyrJEdmz44ZIyqFTfKZWToeqg80/zNsNoFnMNB7a+jJdfLBqdmaLcjVg8A+k+8LGzbjcpfhXFBUl06PM1Zq+WAIQ0uw2btYTdm6fTe8iz6PRujdUNFZULyhkbVHV+CsdTUFCAu7t7owh1tePlG8G4Jxeyc8MPpB3ZjMXiS9+hn9Gy3Q1IkoRit7NywZvE756Pw27DP7glg2/6D/7BMadstyg/CYt3W5cxBSBJMhavthTlXTpbKiZ/X0YvuOVii6FyiaLqoPOPLGsYcfdX7N8x25k2wVZOj0GP0bHHONzcnavmB+LmsmHZR1SWF+Bm8qb7oMdp1/X2U7ZbVJCERuvmMqbq8PTtSPrhaVSW553U91NF5VLntA2qUaNGAc5l3QkTJmAwGFzvORwOdu/eTa9e6kGXjYXZI5C+1/6rQbmiKHz/0SBKClOweLfD3dOPrNQN/PzZDdz+4K+ERp58BcvbN5Lkw1sRwuEyqoRQKCveS3jTSycy6ukWy8lcCBp/dXVK5SiqDrqwaDQ62nUdQ7uuYxq8t2bRe2xd/RV6ox+efj0pLdzN0tkvkJ2+iyE3v3PSNr19m9amdUnA7NnCVV5SuAud3oTJ7H9e+qKiciE4bYPK09PpYCiEwGKx4OZ2dFlWr9fTo0cPHnjggcaXUKUeO9d/T0lhCs07/IvA8OsAsFYXELf2ARb+9hQP/GvdSa/t1Gs8B3fNJX7HfwiPrvOhmkFlWSqden90gXpwatQjZlROhqqDLg2s1kq2rf0G74CetOryJpKsRQgHCTvfYc+WX+k95DlMZp8TXtu05QA8fSNJ2PkmTVs/gckSSUHWWjITf6VTr/Hqdp/KZc1pG1RTpzqPEIiMjOS5555Tl9bPA1ZrFVtWfYHNWkXXfg9h9ghoUGffjtnojX4EhF3rKtMbfQmKuIm0hB9P2nZBTgJ2WzWDR77NusXvE7dmJQAGNy+uu/2jS+aMrbqtvovliJ5cXEJuRSXNvL3wM9VX7uVWK/vzC7Do9cT4+pxw20nl/KHqoAvD/h1zyEzdTlSbYTSN7tvw/e2zEYqd8Oi7kWTnT4gkaQiPHkd+5nJ2bf6ZnoOfbHBdZXk+BTmHGDLybdYseteVYkGSZNrE3nbCFfmrkeLqGhIKC/E2Gmnu7VVPzyhCsD+vgGqHnTZ+frjpzthrR+U8csafxmuvvXY+5LjqWTL7RfZtm4kQTofaHeunEhrRmTEP/35cTcGJEtxL0omT3hcXpLDgl4lkp8cBoNHoad99LM1iBiHJMiERXdBdInmoLqYjem5FJc//vYotWdkAaCSJW2Ja8HKfHuhkmSk7d/P19jiqah2eo728+OCa/sT4+Z6qWZXzgKqDzg9pSZv5/du7URw1AOza9DN6g5l7nl1Z7+FO1KV0Oe6Bok4HCaHUK3c4bKyc9wZ7tvyCotgBCI3szs33/AhCwT+4FRbP4PPVrcsGRQgmbd7Gz7v3UaM4x7Cdny8fXDOASC9PtmVl89LyNaSVlwPgodPxdI+ujGlzat9ZlQvHaRlUnTp1Ou2n8R07dpyTQFcj+7b/zt6tv+Lh24EmLe5FozWSeWQWGcnLWDzrOa697X+uujEdRrJ28bvkZ67AP3QwALaaYrJT5jZQSg67ld+/vQurVSGmy39wcw8nP2sVOzf+iJu79wmfIi8moxfccqIUN+cdRQgeWbiU3MIyXpCDaSYZ2CLK+flAAgaNhuY+Xny8ZTs3S94M1nhQIOz8WFrAvfMWs/jOW/E4xpdH5fyg6qDzi8Ph4PdvxiJrTES1ew6LVwxFeVtIPvAVUz8azBOv73HVbdXpZlb+9QYZh2fQMvY1JEmDEIL0w9NB0tC+29h6ba9d/D67t/xCkxb34RPUm8rSIyQfmMzahe8y7slFDc4nvVr5duduvovbwxjJh34aC5nCxveF+dw3bzHfj7iWB+cvoZmi5x05DLMkM99ezBtrN+BvcmNwUzVVyKXAaRlUI0eOdP1dXV3N5MmTad26NT179gRg06ZN7Nu3j0cfffS8CHmls2bRu2h07rTu9h4ajXO1KLrjS1SWp3Ag7q96BlWXfg8St/FHEna+RU7aIgxGPwqy16A4rIwYW3/LL/HAMkqKUunY7zvcPaIAaGIZj91ayo5139NtwKOXzDlb40cAWy6OI/rWzGz2FxTyjhxGe9kEQJjkQw2CmfvjCXI30VeycJ/G6TAbKRmIEHruq0lm3qFExrZtfcFlvtpQddD5ZcPfH6EoNmK6vIR3gDOfnZs5HEWxkXLga7JS4whu0hEAo9FCx553s3PDVHasGoenb2dKC3dTVZ5C68631FvNslkr2bVpOqFRdxLW/A4ATOYm6I0+7NkwkZTE9USeYFvxasOhKPy4ay/XS56M1fgBEC4ZCBY6Hq1I4X+btiEr8Jocgqk2oOgJOZBMYeeHXXtVg+oS4bQMqmOX2O+//34mTpzIW2+91aBOWlpa40p3lVBdVYKnX1eXMQXOSCYvv1gqS48AkJd1gLhNP1OUn0xki/7kZu0jL2s3pUJgcvfm2ts+IiK6T712C3MT0Rm8XMZUHZ5+nchKnk11ZRHuloZ+WhcD6ZUHL8rqFMCR4mIkoJ1U32eqvWRiuqOAlLIybpTrj5OfpCNM1pNUXHIBJb16UXXQ+SUzeSsAnr6d6pV7+XUmBUFS/Cq8/CLZvXk6qYkb0RtMtGh3PUcOriI3fTEajY7Yvg8xYPhL9a4vK8nGbqvE67h2Ld7tkGQthbmHVYMKKLVaKaypob1c35m/iWTAR9aSVFRMcwwuYwqcvxEdhBuLi4ovsLQqJ+OM11pnzZrFuHHjGpTfddddzJ49u1GEutrQG8yUFe1HUWyuMiEEpYV7kGSZQ3sX8fNnNxC/exmVlTridy8lJ30PBmMA3v7dqKosYensf1FWklWvXU/fJthqiqkqr/8jU1a0D73BgtHN60J07x+p8526WGkSwj0sCCCe6nrlB0QVOlkmxN3EAVH/vWJhJ1OxEmaxXEBJVUDVQeeDugznpUX76pWXFu4FwC+4JdM+vYENf39CeZlCTkYqCXsWoigK3gG90Oos7Fj3LfG759e73uwRgEZraNBueUk8QrHj5avmnAKw6PV46vUN9EyWsFKk2An1sJBEDTXH+acdENWEeXhcSFFVTsEZG1Rubm6sX7++Qfn69esxGi8N5+bLjaYtB2G3lhC//Q0qy5Korswiad/nlBXtxcM7jKV/vIRPQE86D5xBTOzrxA7+Fe+AHtjtVbSMfYPOA36ipqaadUv+W6/d6DbX4m4JJH7H65QU7MZaU0hW0h9kJs2iQ4+7Lplzsy52Es+eoSE09fDgI5HDTqWCEmFnqVLCr6KQm1o05+72bVkhSpmpFFAg7CSIat5VsjDotNzUovlFlf1qRNVBjU/3QRNB0nAo7h2KcjdjsxaTm76UlINTkCQNSQdXUl1VTqf+P9Cq69u07/Mlzds/j+KoJjhyJJ0GTMcnqA/L5ryMzXbUKNAbzLSJvZX0wz+TnTofW00xxfnbORT3Dp6+kURG97+Ivb500MoyY9q2Yp4o5i+liCJhZ7+o4j2Rja/RyLPdu1ItCd5TskgSNeQKG9878tghKri7vepycKlwxlF+Tz31FI888gg7duygWzfnSeSbN2/m+++/59VXX210AS8HKisKKS5IxuIZgsXz1OH+NdWlFOQext3sh6dPE0qLMygvzURn8KEodyOFOXV5pGT0xgActhqqKwuJ6TIBuTZEWZZ1hLcYz+51D1NWtA9P3w4Eht/Aob2/c93oo/mktDojt973M3OnPczejRNrSyXaxN5K7yHPnIeROHNe7h1HxpZzi+yzOhzEFxRi1GobhBmfDhpZ5usbhjJx8XJeLcxwlQ9rGslLvXtg0GrIrqhg2p79/KQUABBsMjFl6FC83dQf8AuNqoMa4rBbycs+iEarxy+w5SnngKI4yMs6AIB/cCvstip2b54GwoHdVu5KZwCg1Xlgd1STsGchAeE3YTQdDXwJCL+etMPTKMxeg5dfJ5q0mMDO1feQkbSZyBZHDaUBN/ybmqpS4nf/j0Sc/qB+gTGMuPsrZM2VEfYvhCCpuIRyq40Wvt4YtWfer8diO1FYWcW3BxOYQh4AERYL3wwbRAtfbz4dNpiXVqzhiZoUAAyyzFNdYxkeHXWqZlUuIGf8qb/44os0a9aMTz75hGnTpgHQqlUrpk6dyujRoxtdwEsZu62aFfNeZ9+2WbXhwBLN2wxj2C0fYDTVP2ldURysX/o/dqyfit1WBYDR5EN1ZSEAHj7tadX/B7KS5+BQrAQ1GU5G4m+UFW4EcOV7qUOWnatLdWkWZI0eRWl4hplfUEvufWY5GanbqSrPJzC0HR7eYY06DufCuSbxnHUgnkmbtlFU4wz1bu7lxTuD+tIu4MwyLod7ePDHbSPZnZtHTkUlLX19iPA8upT+Yq/u3NuhHbtyc/HQG4gNDkSrRiddFFQdVJ/9O/5g1YK3qarIB8DbL4pht31wwtxyRw6u4O8/X6WsOB0Ag9ETu70Kh90KQOcB0ynO30pl2RE8/TqjkfXs3fQ0iuJAkhsGsMiS1qWD6t6vS41Qh05n5IY7P6fPsOfJy9qPu0cgweGnH7V5qZNQUMj/rVjD/oJaXa7T8VjXzoxrf+qDoo9Hp5F5c0AfHo7tyN68fHzcjHQOCkSuHaf+EeGsHDeGrZnZVNvtdA4OxFtdkb2kOKvHg9GjR1+Viut4Vsx7nX3b/6BJy/vx8u9KWdEBUuKnMG/6I9z2wIx6dTev/Jwtq78irPlYfIP6UVWeSvL+L9Eb/QkIG0b64elUVaQS3sLpG1JTlUt+1nLaxo5i347ZZCT+RvP2zyNJEkIIMhJ/QauzYPFug91aRk7qfKJaDT6hnJIsExbZ9byPx5kyYcuDwNkn8VyelMK/V69nkOTBcE0AZUJhRmkB981bzII7bsHfZDqj9iRJokPgyZ30A9xNDGkaeVayqjQuqg5ykpywhkUzn8YvZBDNO96Cw15J+qEfmf3d3Ux45m88vI6u/OZm7mfuTw/i4duRtj2eBcl5UkJx3jaatn2a5H2fkpU0k8jWDwMgFDsHt/8bi2coIRGdSTm8iODIkej0zofFotyNVFWkEdn60Vqd9Bs6vYmwpt1PKKuXbwRevldWNFppTQ33/LUIDxu8KofgI2lZai/h3Q2b8TIaGHEWLgEhFjMhFvMJ39NrNPQOV4/kulS5MtZbLwKV5QXs2zaLJi3vJzTKedaVu0cUWr2F+O2vkZu5n4AQ5962w25l+7rvCY68mYiW9wFg9ozGaApm9/pHMXtGY/Fuw54NT+Ib3BdZ40Zh9hrcTJ70GPQ4/sGtWPbHi1SWJWLxbktpQRwVpYm4e0STvH8yhTlrkSSF3kOfvWjjcaY0RhLP7+P20E5y42k50Pm0K0ELYeReexKzDyTwcGzHRpJWReXSZOuaKVi8WtGi06uuFR+LV2u2r7id3Zun02fYC666OzZMRWf0oVXXd5BrV5Ms3m3ZuWoc5cX7adLyPlIOTqGkcBcW79aU5G+nqjyNG8dOxi+oJSmHb2bn6vH4BvXDWlNEYfY6NFp3ivK2knboR8qLDzL4prfQG05sDFyJ/JWQSGmNlY80kfhJzjGN1hgpcNj5bufuszKoVC5fTsug8vHxISEhAT8/P7y9vU+5VFtYWNhowl3KFBckoyh2vPzrr/zUvS7ITXAZVJUVBdRUFePlV79uZXkaIJEQ9x4mSyTuHlEUZK1BkjV4eIfSvNUQlv7xfxiMFvoM+xeZKdsoyo8jICQSz7Z9yUnbTXXlPlq2G4bFK9iZz0proGW74US3ufaSTpjXGEk8EwuLuUmy1Ps+ekgamktGDquhxFcUqg46MQU5CXgHDa03HlqdO2av1hTkHD6u7iE8fTq5jCmAqoo0HI4a8jL+xugWhE9gX4pyN1BRehid3kTbLrcTv3s++7bPolPve6gozSH9yBb0RjOdeo6npDidorxd+AU0oWP3EWSl7iQpfhWhTbvRrusY3ExeF2ooLgqHi4poIhtcxlQdnSV3vinOu0hSqVwsTsugmjRpEpba8PBJkyZdMXvf54LFKwSQKCs+UC/PU3nRfoB6fkpGkzdanYny4gP4BPYAIGHnO+RlLEVv9MPdozklBXEoDit6oz96oy/FBfFsX/cdnn6dsdUkcmDnHGL7PsDNE76vJ0dNdSm/fT2GPdt+w9O3I4q9koTdj9Cy/Y0MH/PpJWlU1Tmin2uahBCLOwlFNfXKqoVCiqih10mWzFUuT1QddGI8vMMoLz5Yr0xxWKksO4xHi5H1yj29Q0lL2osQAkmSKMrdxoGtL4Ik4+UXS3VFeu1qtxZP31hK8rexZ+sM3D1boNWZOXLwE3wDornjkdkNfETXLn6fdUs+wGSJRG8MIDnhQ3Zu+JE7Hvm93rbjlUaoxcxcYaVcODAfkyMqXlQRop41edVxWgbV+PHjXX9PmDDhfMlyWWHxDKZ566GkHPwGnc4DL/8ulBUfIHHvR/gFtSakSayrrk5npF3X0eza/AsGUxAmSxR5GcsIDB9OVPtnkCQNdlsZezc+TXVFJm5+HampyqZ97y8wmoIRQpB5ZCbb135JTIcRBIW1d7W9dfVXFOYdoUOfrzF7RgOQl7mC+B1v0rLDjUS3GXbBx+afOFdH9DrubNeGV1ev4xelgOslT8pQmKrkUy0Jbolp0QiSqlwqqDroxHTqNZ6Fv04k5eC3BDcdhcNeScrBb7FZS2nf7Y56dTv2GEf87tEk7vmQ8Oi7Sdj5FnqjH+17f4He6IsQgtT4b0k/PB0P7zYU520iuuNLBIQNBaCi9Ah7NjzOltWT6Xfd/7nazc3cx5ZVk4mIeYDQqDuRJImaqhz2bHictYveZ/gdn17QMbmQ3NQimsnb4nhfyeJ+2R8ftCwVJawSZfyr/Yl9yVSuXM54+WLcuHFMnTqVxMTE8yHPZcXQWz8gKLwtB7f/m02Lr2ffpmcxW7y4efw3ridoxW4ncf8ywpr1JKrVNRze9T671z0ICJrE3I9U+1Sj1VkIi74bh6OSvPTlBDUZgd7gS0VpIjVVOYQ0uxW90YeEPQtd909P2sLebb/jF3KNy5gC8A8ZhNkzmoQ9C86qX5Xl+eRm7qOmuqzBe3Xh2SWFqQBUV5aQm7mPqoqi02p7/Ajn/2friH4st8RE82Cn9vwqChnrOMLDjmQO6qx8MnQQTTzVZHdXKqoOOkpMhxH0uuYZMpN+Y+uyUexYeRdlRTu44Y5P8Q08+lCRnb6b8rI8+l33MgVZy9m2/HbsthJCo8agNzr9GSVJIix6HJKsJzNpNm7mSPxDh1BVkU5F6RFM5ib4hw4lftdRvVJckMbG5Z+g03sS2ux2l94zuAUSFDGShL0LEUr9ZJSng91WTW7mfkqLM0/4fnFBKnnZB3E4bNgcCgkFhaSWlJ7xfc6VAHcTk68bQorewWOOFO5wJPKjks/Ytq24u52aH+pq44yd0vV6Pe+++y733XcfoaGh9O/fnwEDBtC/f3+io6P/uYErCL3ehF9gNBnJW1AcNkDGN6A5BjfncvjG5Z+wacXnKA5nSLJGa6Rb/0fISNlGRvJWNJr6h+oePXrGTsaR38hMmonDXgk40yqAjOKwknhwBQt+mYitpgxJ0uDh1/BwXlljrJXp9KmuKmHZHy9xaO8ihHCg0Rrp0H0s/a7/PzQaHXu2/sr6Re9RUek0nszuvlRVleBQ7MiShladRjJ45H/Q6U8eXdeYR8xIksTT3bswtm1rtmZlY9Jq6RkWclY5YFQuH1QddBRJkvAJiMLo5k1leS4AFs8QPLycLgc5GXuZ/d04qioLautrCI3sSssON7L8z5frHXcFIEua2hXzYuz2UrYsuxm7tRgAvdEfd4/mOBxWqitL+OWrWyjMPQwIdHpvkOqvOssaI0JxIBCc7pQXQrBj3XdsXPEZNVXO+4Y168m1t36Ap08T8rIPsmzWc2RlOA9rdjOY+U6poczm1HVtfH35z8A+xPj5nuFInj09w0JYOW4MG9MzKbda6RwcSLBZdTm4GjnjFapvv/2WhIQE0tLS+OCDDzCbzXz44YfExMQQFnbp5De6EKyc/xa7Nk0nrPndtO/9JU3bPE7igRXMn/E4+3fOYcOySVi829G6+39p3e19TJZotqz+iqYxzvQGmUlHj8kQwkFm0mwkWUerbh/g6dsJh72KZm2fpEXnf2OtKcRaU4RPYAvm/vQgGq0nLTu/hndAD/LSl2GtOeqIW1Z0gNLCvUS2GHBG/Zk3/VGOxK+maZvHad97MiHN7mDnxh9ZveBtEvYsZOnsf9Gtys57mjBelIPxqijFoCi8JYdyr+RD4s65LPrtqZO2/3LvOKDxj5gJcDcxvHkzBkY2UY2pqwBVBx0l9fB65s94HKO5JW16TCKmy9vU1MCsb8dSVJDML1/egt0hiO7wIu16f0Fw5CjSkzaRdHAFsqwnM3mO64EPIDd9CYqjirDoCYRHj8duK8M7oCdte0zC4tWaotyN+Ae3YvoXIyjKSyIi5n6atXkSm7WIgqzVrnYc9ipyUucTEd0XWT797f09W39l1YK38A7oT7ten9Gi0yvk56Qw85uxlJVk8fvXt6PPOsz/ycG8qwmjm1WizGbjbtmXl+RgqorKueevRRRUVTXqOP8Teo2G/hHhDI+OUo2pq5iz/vXx9vbG19cXb29vvLy80Gq1+PufWTLFy5mqiiL2bP2F8BYTCGs+FgCLdyt0Bi8SdrxJXvZBDG6BtO72vivDuYdvR7YtH83O9U7H8tT47ygpiMPs2YLCnA1UlacS2nwsPgHd8PaPZdfaBynO20arrm9j8Yxh+8qx7No0DaE4aNvjQwxugVi8W7Nr3aPsXDUB/9DBOOyV5GetIiisA6063nTa/cnJ2EPq4XXExL6Jb3C/2v60RkJi95bpZCZtpqPszjNSkCtFQYxk5H5HEqlYGSl7467IfLJvCUX5yXj7RTa4R8akyeeUJkFF5Viudh0EzrQJZq8WxMS+gSQ5n489fduzbfntLJ75LA57NW26T8Li3QoAD+82OBxVHIlfBEJQUZLAjlXj8A3uX+uUvh6jKZSIlhMAkJBIPzyNFp1eomXsa+xa9wjlpbkUF6TQtPVjhDS7FSEEJQU7id/5JvmZKzCYgijMXoPDXkqfYZ+ddl+EEGxeORm/kEFEtXu6trQd7h7R7Fw9ntUL38FWXcp/5Ei8JadObSu7Ueiws12p4HatL22EG/fYkvjjYAIPdOrQaOOsonI6nPEK1UsvvUSvXr3w9fXlxRdfpLq6mhdffJHs7Gx27tx5PmS8JCnKP4LisOEd0KNeed3r6spivAO6uYwpAI3GgJdfV5e/kW9Qf0oLdpOR+CtVFek0afkAkTH3A86leS//blSUHQHA6B6Cu0ckJYWpmCwRGNwCAaevQoc+X2KyRJKdMg+7NYkeAx/jtgdmoNWdfhbd/Oz4WvnrO1J6B3THYa+hIPcQXTDVi67yk3Q0xUCKcEbadZGcUS35OfEN2n/F8lW91wsPH+GmmXPo//Ov3D9/MYlFp+eDpaKi6qCj5GUdwMuvq8uYAlwJf4vyjqDRuruMqTq8A7qDcAAKgeE3YLeVk3lkJoU5G/Dw7UynAVPr1VUUK1UVGUiSjE9gT0oKUgDh0nWSJNGi878JbzGBwpz1FGQupVnLXox9bC6Boe1Ouy92ew2lRakNdJDJEoGbewj52QdpJrm5jKm6e8fK7iTjXGXzlLS0kNxIKPhnfZJUVMwDC5Yw4OdfGTFzDvMSDv/jNSoqp+KMV6jee+89/P39ee211xg1ahQtWlyd0VRmT+eZVuUlCfXSJlQUO40Jrc5AWXF9w0IIQXnJAbQ6N6w1Ngqy16Az+GAyN6G0aB+ZR37BJ7Ab7h7NXW0bjM7M3XZrGVUVmXh4BVNalIndVoFW5zRgDG4BGEwhlJcc5J5nlp1Vfyyu/hzCw6etq7y8JAGQMJv9SSwtr3dNlVBIx0ZXybnEnVhrWHl4htSr16VXEOkf73BF9r2wfDXzDiXihYYm6NlckcnI3/7kk2GDGNT0ysqkrNL4qDroKBavECpK6xsCimKnsuwIZg9fqnIPUV2ZVe8MvvKSQ1Dr1ZSftQJFseLh24HqinRKC3aQlfwnoc1G19Z1zn+90Q+AipIE3C0BFBcmUV6agJvZucUqy1osni0RwsGgEa/TuvPNZ9wXrUaP0eRNeckhAsKORidba4qorsolICSK9LwkqoWC8RgDMlHU4Ff7U2YVCklKNd3cT31KwtrUdB5duAwQtMKN9IpSXlixhlUpaXw4ZOAZy66iAmexQrVz505efvlltmzZQu/evQkNDeXOO+9kypQpJCQknA8ZL0k8vEJoFjOY1INTKMzZhFDslBbuIXHvR/gGtKBTrwlUlMSTtP9LbNYSrDWFHNn7MdUVGcT2exCQ8A8dQpfBv9G25yS6XjMTvdGPQ7s+wG4rIzV+KiX52wkIv56qinQSdr6FLMsMGvEmimIlYcebVFVk4HBUk5n0B3npS4ho3vus+xPerCfeflEk7v4vpUX7EIqdwpwNpCZ8R/PWQ+nY935WiTLmKkVUC4VsYeO/jixsKAzCwh5RyRdKDhrAyzeyXtvDpMWAM7LvcGER8w8lcq3kyY+aZryjDWeqphkBaHlp5dqz/0BUrhpUHXSUTj3HUZS7ibSEn7DbyqmpyuXwrvex1RQxeOR/kCQt8TvepKL0CIrDSm76UjISf8E/OAa90YJGayJ24HTa9fyYLoN/I6TZaJL3f0lVeTqFORtIOTgFL/+uaDRupB2aRmHOBroNfASDmzdJez+jOG8bQrFTUhDH4d0fotO7E3MGrgbHIskyHXvcRU7KXLJT56M4aqgsTyFh51vodEb6XPsi1Qg+VHLIETaqhMIfSiHrRBnXSB7kChsfKtlUosA/uMG/sHwVfmj5XtOMd7Xh/KBpxnDJk0WJSRzIKzgr+VVUJCGEOJcGdu3axaRJk5g+fTqKouBwNDyg958oLS3F09OTx1/fi8FoORdxzhvlpTnYrJV4+jRxOVlWlhfw508PkpW6zVXP2785A4e/AhJsX/ctKYfWA3VDLNGi3fVEtb6GRb89TddrZrtClgHyM1cRv+N1V92j14HBzYsb7viMyBb92Lj8Ezb+/YnrUFLnfaMY9+RitFr9GffNYbdSUpRGdWUJi2Y9S3H+Edd7oZHduOnuKRjdPFk+91V2b56OqJVLAxz7aYeiIwMbbWNHM/CmN9Dp3Lir5j3yN+0nPNK56vbC8lXMP3SEXzRR9RLhLVdKmKTkMOX6ofQJD8WuCNLLyrDo9fiZ3CirsZJXWUmg2R13Xf2sxA5FIa20DDetlkDz1ZVMr9xqpev30ygpKcHD4+pMFdEYOggufT1krSmnrCQbi2eQ63gXIQTrlnzAllVfAc70BFqdif7Xv4zFO4T8zIOs//tDxDEHFrtbArnz8bl8+14vmrZ+nOCmo1zvOexVbF46AqE4o+YkSYsQ9tq/ZWL73k+/614iN2s/v311GzZrhetardaNW++fRmhkw0OZ/wkhBGXFGdhsNWxa/gkHd811vWc0+TDiri8Jb9aDQ3sXs2Tm09RYK0/YjhsyOsDNZOSXm28g2GKmoKqK0horoRYzeo2GlJJSrv3ldybKgQyVjyYorRAO7nAk0js8jE+HDcKo1ZJVXo7NoRDmYUERgrTSMsx63QnPCc2tqKTCZiPcw3JVHZyu6qCjnPGWnxCCnTt3smrVKlatWsW6desoLS2lffv29O/f/3zIeFEpyD3Msj9eIiN5MwAWz1D6XvcvWnW8CaObJ6GRseRl7sNur0KStZQWpfPHDxMApzKKaN4Hi3cYGllDbJ/78fZvyu4tvwASGm39Samp3cKLaPkA/uHDSDkwhfLi7Qy5+W0iWw5EV+sT1XPwk3TofjdbVk+mpqqEVh1vpknzXmfcNyEEO9Z/z6YVn1NdWQhINI0ZRO8hz2CzVuAX2JKg8I4uv6lrbn6bLv0eYt3S/xK/6y/ek8JQZIkMYcWIxAKlmAxs7N0+kwPbZ6HVm/ioVuG28d3Ha/17UW13IAOG454gTTiNqwcXLsXfaKTG4aC0NhQ62N2dvMoq7ELBqNVxR5uWPN2tCzqNzOLEJP63cQsZ5c77xAYG8Hr/3jT38T7j8VC5PLjadJDdVs2qBW+zd9tvOOw1aLRG2ncbQ7/rX0KrNRAc3gmLVwhlxemAc6Vn+dxXoXalxsMrlKjWQ7DWlNOs1WBatL2OmupShFBcOqcOWaNHlvV4+ncnrPmdWK1lHNz6L3pe8xRtu9yOh5dzOz8wpA2Pv76XXZunkZ0WR0Bwazr1nIB8FlG2Wak7WfbnK+Rl7gWcD6VDRr2PJEkYTV40bTkArdaZGia67bVERPclKX4VC2Y8ynA8GaXxYbeoRCck4kU1CyimtLKSwdNn4qbRUulwGoQ+BgOPdu1E5wCnG4XpuA0aAzIaJNampdP7hxmYdTpya6MF/YxGaoSgrMbp1tAjNJS3+vcizMNCakkpr61ez6bMLOfYmEw81T2WkS2vrhQeKmdhUPn4+FBeXk6HDh3o378/DzzwAH379sXLy+s8iHdxqa4sYeaUMQjciO74Mjq9Jzmp81n460SMbh4kJ6xh54YfCY26ozZT+kHS4qdi8mhO09aPkpfxNymHF9Kq0yiG3T7J1W54VC9AkJUyl7Dag5WFUMhKmoNW50Fo8zHYrKUU52+hTecRRLe9roFsJrMPA4a/ck7927V5Gqvmv0lgkxuJChlIdUUGaYd+oLQonXETFyJrGn49vHybMOjGNzi0ax7LKOUJAmkuGXjckYINwZNyIP5oWS5KWWkt42bJi5aSG78XFXHvX4t4sXcPliWlsFiUcKPkNHocQjBfKcYPLQ9L/sytLmYfNh6VAtBKEtMq8pF1Zlp3/jelhbv5cfd0qu0OBkc24ellK+khufOgHEoZDmbmFTF+7kLmj7kFb7fTd8pXuXy4mnQQwNI//o/43QsIa34XHj7tKSmIY9em6VitlbTtfCt/TXsIL/9utO72BHZ7BWkJP+GwZxHd8SVqqnJJjf+eA3F/8ti/41xtGoweeHiFkZU8F7+QQa7z/fIyluOwVxAaNQazVyvid7yJuyWQ7gMfR6OpvzIsyzKdeo6DnuPOum/FBanM+vZOjKYmtIx9A1nWkZn0O8v/fIU7H5tzQqd2vcGdlu2Hs3ZRGBuKsrkLP66RPfnGkcsCirlF8qGTbCJBVDPDUUAzDNwn+7PaWsp/1m3i9b49McoaFijF9JTMaGofGJeJEmwIJkqBpDmszLEX0Rsz18ge/FVdTByVNG39OFqdmd2HpjLuryX8dvP1jJ+7EKnKztNyED5oWFpVyv+tXItJp2Nos8izHhuVy48zNqimTZtG3759r4qlvX3bZ1FVWUTswMkY3Jzh2F7+Xdm7cSIb//6U3Kx9hEePJ7yFU6F4+nZEb/DhUNw76A0+RHd4AYe9ivjd87n2tg+Ra5eBqyqce/QpB76irHAP7h7NKczdSEVJAkhajuybTGH2KrRaLV37P3xe+iYUhc0rJ+MfOpTm7Z91Fvp1xt2jObvXP8KRgyto3mboCa81mX2Ibj+cpbvnk+aw4SlpyMLGl5oIwiXnk2QHYaLSobBdVHKfJoBOwsR9jmSSS0po5uXJ18V57FYqiZQMbBDlpGHlFTmEbrKZWGHmUUcy+6jieTmYaMnIE7YU7NYSIlrei0ZjYNaB70nILyBGcuMlOQS5Vil2ECbutSbxR/wh7ut4+hFGKpcPV5MOKi3O4MDOOTRr+yTBkSMB8PTtgFbrzv7tX1JalIHJ0oxWXd92nbrg5RfLtuW3U1mWRJMWEzC4BRC//TX275jjchYXioLVVkV1RSZxax7AN7gf1RXp5GetAiSykmaTfOBLyor2cd3tkxoYU41F3MYfAR2te3yEtnbF3su/K3GrJ7BtzTenPLZm8Mh3+HPqeB5xJNMXMwsoYYzsyx2y042inWTCBy0fKtl4SxomykFUOQTf7tzDA53b89m2nTzhSKG3ZCZFWNlIOUMkD4ZqnNuAkgOWiBKeloLorHHnMSWN0oI4Yrr+B4t3G3asGsf/Nm8lt7KSKZpIgiSnu0VHYaJMcTBl+y7VoLrKOOON3uHDh18VigwgN2s/Fq+WLmMKnGG63gG9yM0+gMNeg09Q/a02n0CnY3hF6WGEcKA3+qE4rCz8dSJ7tv7G3J8eZM4P9wIQ1e5ZrNX5ZKfOQ6f3IrL14yDslOStJqb9MO56fO55O1i0uqqE8pJMfALry2/xboXe6ENu1v5TXn/DnV/QbcBjJBm0bBblBKKlGsHXjlw+dGSxRJTQWXInFSt2IXCXNLTFyMH8AuaOvpnWfr5soYKZopAyHLyjCaOb7PQL0UkSXSR3NolynrAnkyxq8JeMrmgmn8De2BUH8QWFdJVMLmMKwFvS0kJy3kflyuRq0kF5WQcB0WCe+gT1RggHeVkH8A7o4TKmAHR6Tzx82lFR4pwvBjdnhN+Gvz9i+9rvWL3gbb77X3+qKwpo0vJe3NzDyEldQGVZMk1bPYJGZ6EkfzPePl7ccu/PtO40ivNFTuY+PHw7uYwpAFnW4eXfnZzMfae8tmnL/tx838+YLSYWUIIDaIUbM5UC/ufI4mdHPk1xGjlHaiOQe0jupJeXM659Gx7q1J5MycZMUchmynlQ8udxOdDVfjfZnQoUHnYk852SR6wwUFXijNx2M4djsYRzIK+QSNnoMqbA+RvRXXLnYOHRZMsqVwdqWulTYPYIpKp8GYqjBvmYY2IqShNxN/tTWpRKRekRV5qDuvcAtHovDmx9maLcTbiZm5CSuJ342nP4nCHMRVi82xAUcaPr2qykP5AkDROeWYbJ3ee89k1vcEenN1FRlogfA1zlNVV52GpKMHsEnvziWvpe+wJ9r32BP364h5SDK3jakYofWnzRslqU4Y6MBzIaQBGCFMlGT3d37p23mP35BZiRa/2pZNrgVq/tw6IaLRJFOPhQyQagaV3odu0Y+5lMJJfV1LvOJhTShY3u/xA2raJyOVA3DytKj2BwC3CV1z1cmMx+rvlQh1DsVJYl4RPYh+yUeSTu+Qit3hOH4s6qBW8BAqMpDEnSoCg1tOr6H9e1NVV5JB/4ikE3v93gcOXzgcUjiMK8HQgh6uW4qyg7jJf3P5/3GRndl/+MvY0dWTmMnbuA/ygZCCAKI1upYLZwGjW+tbmrjogazDodyxKT+XbnbgQQhI5MbLSTTa7tP4AkUYMEGJH4SxSjAww6p66328qpqszBP9iXuOISqoSC2zGpHJJEDYEncFxXubK5ekIRzoK2XUZjt1dyaNf7WKsLUBw1ZCXPIT9rBZ17jUdnMJO8fzLF+Ttqc0wlkLj7vxhNIVSWJlOUu5lWXd+j84CfMJrCMBgD6DJoBp36/4De6M+huHeoKD2CEApFuZtJO/Qj0W2vPe/GFIBGq6dtl9FkHZlFfuZKhHBQVZHBoV3voNObaNl++Gm31a7LGBTgNsmH7zRN+VDbhC80EQjAGy1lKHyt5JKlWOkY4M+2rGwGSR78rIniJU0IWdiYouRRJhxUCoUZSgEHqGaiHMiPmmaMqvW1EgqU5O8k9cBkuoWGclf71qwT5fylFGEVCkXCzqdKDuU4GBVz9eYmUrlyCAhpQ2Boe5L2f+pMZyIEpYV7SN4/meAmsXj7RlKUu5H0xF9xOKqx1RRzePeHWKsL8A7sReLejwmKuJGu18wmKGIEIIiJfZPYQdMIiriJzMSZ5zz/z4X23e+ksiyFpH2fYbOWYrdXkprwA6UFu+nQfexpt9MpKACdJBGCnqmaZnygDedHTTM64o4WaKboWa2UMo9ibmvdktfWbMAHLd9qmjJZE4kfWj5yZJMsalCEYJtSwXSlgN6Sma+0TXlHDkMBamryqanK4XDcO8g4eKpbLDYJPlKyyRc2bEKwWClmuSjj9jYx523cVC5N1BWqk2CzViHLWq699b8sm/MSW/9egSRpEMJBu653EN68N7YFb2F0D2ffpmdc79WFGScf+BLvgB54B3SnsjSZ4rwtRLV7zpXhvFXXdziw5f+IW3Ov81BR4SAkogvX3PzOactYVVmMzVqBxSMY6bgwXWt1OblZ+/HyjcTsEUBNdSk1VaWYPYJczuZ9r32R4oJU4ne8gdO2VjCavLnhzs+prixBozWg1RooyDmM1VpBYGg7lx/YseRm7cMkabhT9nE94YVLBkZIXswQhdzpSEQny7zUqwe/HDgIwH2yPzYE/ui4X/JjqshnnqPYFft3u+RDL8mMJEncJfuy0FFM8gHnMRYtff14uVc33PVaDhUWMWV/PN+QhwCMGg3vDehHlLfX6X3ODoXcyko8DXrMej0VVhvF1dX4u5vQa07/DDIVlcZGKAplpVkMHfUe83+dyJ71j7n0jG9AC2648zNmfXM3buZIUg58TcqBKTgj+2RAcGDLv5AkmYiYB1Ec1eSmLsTDt7PraKmIVg9SXZnVYP6PHP8tBuPpbanabdVUlOVhMvuh09dfZVYUhdzMvWh1RvwCW+Bw2CgvycbN3duV9iGsaTcG3vg6qxe8TVbyH9Tlj+o+8DECQ9tRXVWC0c2TyvJCCvMO4xfYEqPJ83gxOFxUjE0Ixsl+eNRufxolmfs0/jziqOB2cQQEDIoIp2twIFN37eV22Q8ftBRi53k5iA+ULB53pNSOBLTGjcdqtwDbyyb6CgtrrcVsW347Jp2eDwb3xcdo5P1B/Xh11Tom2JNcyW5GREdx7xn4cOZVViKE81xSu6KQU1GJh16PxXDmaXBULh6qQXUcdls1axa9y56tv2G3VaHTu2Ny96W0OB0hHFi8QmnacgAOu3OrKbrD/6EoNVSVJ2NwC8TNPZIdq+5Ep3dDCAe71j3kdDYHMo78hrtncyxeMZg9o+k88Gc2LbkRhB29wULTmEEY3Roqi+MpLUrn7z9fJSl+JSDw8A6n77UvENNhBIrdzuwfxpOWuNGVp0pnMGO3VSEUByZzAD0GP07HHuPQ6d0wGM1okHHU5rBx2KqZ++N9OBQ7Bp0bDqFgr+2rTqOjy4BH6TXkmePGrAqTrEN7TCqEXUolS0Wp67WiKHy4aRs1Djsa4Fsll7WiDDvghYY+mFlNOQIYL/lym+Zofi4dEgZktHqZV/v05K/4w9w0aw4AAW5u+BmN5FdXA9A+wI82/n7/OIZCCKbt3c+U7bvIr65GA4RYLORUVGBVFLz1Bu7p1Jb7O7avtxWhonIhOLBzDuuWfEhpcRoAHt7hyBo9isOKRmugacxA3C0B2O1VeAf0oXXXdyjO34Yk6/AO6Mm+Tc9it+Zgt9tJ3PMhBVlrEMKBrDGSlTyHoIiRaDRGWnd7l32bX6A4bysgEda0O74B/xzurzjsrF/2ITs3/oStphytzkT7bnfQ97p/odUa2LZmCuuXfoTd7kw7oNEY0Gj1WGvKkDU6WnW8iYE3vobB6IHR5IVOo6NGsQECraxl14Yf2bzyCyRJQq93x1rj1A0yEkERsdx233S0+qNRvFU2Z2oEyzHbbkXCzlRHnuu1BtiQkcWKFOeYHhTVTFcKKMKBFuiJmfWUowBR6HlfE1Zv7nugQQLeHdiXfXkFvLR8LZUOO24aDb5ublSWO2UMMpnoFxF+WrmoduXk8vbaTezJzwcgxN2dKrudopoaNJLEkKYRvNq3Jz5ubv/QksqlwGkZVH/99ddpNzhixIizFuZSYPGs5zm0bwmhUXdgMjfl8O4PqKmx0bz982hr0yb8Ne1hRo7/DqPJm5y0eTRv/wJefp0ASE34EUnWEhoZS3LCWixerWjZ+TWEcJCR+Cv7Nj1Dx77fYnQPcUbUCDvN2jxJZXkK65d8AEKhx6AnTiqfzVrJb1+PwWq1EdXuGfRGX3JSF7DglyfQ6UxsWzuF9KTNBEeOwsu/K4l7JuFwVBIZ8zBG93AKslaxYu6/kSUNGSnbObjrLwZJHvSVzGRh4xdbAXokHpdCiLNX8pcopivuDJE9WKCUsHH5J7i5+9Kp13iXTE2ierNtzRS2y5V0kdw5LKp5TUmnBUbur12JmqUUku6w4hXYn9Kc1WwRFYyT/WiCgU2inMWiBDckBLBelDNS+KCrVWZbRAUlOBgZ2ZSPNm1DrrYzUQ6kUNiZXlVAR0w8JIdQhoPZOc60CX/dPgovo+EkowjT9x7gnfWbGSp50FPy4TuRR15ZOXfKvjSVDWyxlfPR5u04FMHDsR0b46ulcg5cTTro0N5FLPztKXyD+tGq6yOkH55BWfEBQqPuwMOnPaWFu9i+7jus1WVERPfh8L6VhDe/u3ZLz+lvVVmeRGyf+9m+7luK87YT2ero/D+y9xOQZIIjbqKmKo/Swt34Bg/Aw6ctqYen8ft3d3PXE/NcCYxPxMr5b7Jr0zRCmo3G07cTpUV7idv4M1WVRUS26Mfqhe9g8W5LSNNbyM9aTUHWSvzDhuET2JuKsiTid0+jpCiD3kOeZclvT9MEPbfIQeiQ+FMpIqGmnIckfyRJ4peaAtzQ8IQUyD6qmJOyjV++HMXdTy50ydPS1xtvvYFFthJayEYU4FVHOkU4eEj2Jwgdq0UZq+xlGE1NqKlM429RylDJg16ShXSs/Ko4A1ki0ZGElXSshOPUIWXCwSpRhkmvZ1tmNn/FH2aU5E1zycAnjhyqyqt5TA7AGy3Lqkp47u9VmLRaBkY2OekYJheXcO+8xYQ6tDwvB7FbVLGkosSpj2VfsrAxMymd+4uXMOvWEWiuomShlyunZVCNHDnytBqTJOmssxRfChTlJxO/+y+i2j1HUMQNZCbNRnFU067/966tOp/AXuzZ8Djb1n5Dn2HP8/ecl6ipysbLrytlxfspzF5HtwGPcnDXPPQGb9r2/Mjl0O4d2Ivty28nIe4djKYg8jJX4B96DcFNnaHMkqxh65opxPZ9wJXE83gOxM2ltCSDzv1/cp2j5XwifZoNyyaRm72f0GZjiGz9MEW5m7FW59K258d4+naslb8HQjjYuPwzasrz6CtZeEZz1PkzWjLyvCMNIcEDcgB6h8w8UcTzUjDdJTMTHals+vvjegZVZHQ/IqJ683biBgYKCwmiGl90vK0JdxlFXSV3JjiOUFawDQV4QQ4mVnYmFeyCOzhgrSjjDsmH70Q+Ex0p9Jct5Aoby0UpelmmpY838xIS+UYTSYCk41VHOlEYeF0T6tpq7CxMPFCVzJ/xh5jQ4eiZhMdiVxSmbI9jiOTBRE0QCaKadIeNl+RgesnODNmxuKNxSHwft4cJHdpiPIuEhSqNx9WigwA2rvgcL/+utIx9A2t1HmVF+2na5jFCmt4CgHdAN7Q6D/Zs+4bbH5zJ4X1LiVt3P/6hw3DYK8hLX4JvQLRThwiFmC5vHjf/7aQc+Ibqiixy0xeh1XnQrO0T6A0+mD1bsmfD4yTFryKq1eATyldZns/uzdNp0vJewpqPdcmkN/hwYOcnpB5ej8EURNueH4EQJO75iKCIkUS1e6q2bndM5iYc2PoSy+a8iBGJ9zVhuNdu1XWX3HnYkUwC1TwrB9NKMvKkIxWrJLhX9sdNkZmRtY+ivCS8/ZsCYNBqebJHLK+v2UCusOMrNCRj5SNNE1pITl3aFTNWu2BzZSqAa/6DUwdFoucVJYPRkh+fiGyecaQyVPLEiMwyUUI5Dl7u1pW3123iftmfEbI3S5QSKoXCh5omhNZG+nUT7rykZPDV9rhTGlQ/79mPwQHvymHokfhJyaefZK6vj4WR5wvTWJOWzsCIk7elcmlwWiavoiin9e9yV2S5tWG6vsF9AefBoGbPli5jCqg9cb0PORl76NB9LCPu+hqTSSYr+VdkChgy6j36DHuBynKnU+ix0YFarQkv/26UFe8nL3MlETEPEN3hRdf7vkH9sFaXUlqYenIZM/Zi9mjmMqacMkn4BPVzpjoQCj7HyK/VeaDT+5By8FsO7/ov2Snz8fbvQUVZNnbhoHftwcZ1tJLc8ELDYZzbfL1kM9UIMrCikSR6Se7UVBaxav5bpBxax9bVX7H0jxfp0n8w1zUJZpO2inSs9JDcXcYUgFnS0FEyodgr0SHRWaofAdNTMlOBQg/ZwuNyAHnY+EUpYIUoJdhiZuXdt3OwsIho2UiA5MyJc1hU01M214vM8ZN0NJeMzNh3gC+3x5FTXsHx5FdWkVddTc/avh8W1chA9+PGopdspsxmI7207KSfh8qF4WrRQUII8jL34hPUB0mSaiP4FHyD+tar5xvcD6HYsVnLufPROTRr0Yv8jHmU5q+jQ/fbuf2hmWSm7kCjdcfDp0P9a4P647CXk3lkJu4ezWnf+3P0BmcgjIdPW/QGb3Iy9pxUxvzseBTFjm9Qv+Pa7QsIqiqL8A3sgyzrqKnKxW4rxcu/G1nJczi867+kxk/FzRyBJGspK0ynk2RyGVMAOkmmq2R2HbYeJRkJRMth4dzW7yWZEcCi35/lQNxcFhw6wutr1nOkqIRHYztSaJJYJcrwQuMypuroJZtx4PRz6nncfO8gmXBDJley8akcgRda5otifheFVGsl3h7YlxCLBaVWBnDqjggMLmMKnPq4l+TO3rx83lm/iR1ZOSccx325eXTChFGSqUAhBzu9pPpHHrWS3PCStexXzxe8LFAfu4/B3eLMN1VZloKnb3v0Bh+KcjehOKzImqMTprIsGZO708cnuu21RLe9tkFbWp2RyrKkemVCCCpKE9FqzdhtpfgE9ESSj34EleXJSJKMm7vv8c25MFn8qa7MxuGoRqM5qiwqy5JwM3lTVVlAVVkyHt5t0Bt8sNvK2Ll6AlqdGYNbIDlpi9DqLUiyDhQbqVjrtV8k7JTiwLv2KJjUWqXmVfs6RViRZC27tsxi57pvkZGI0JiYt20mdgQanTsCG6mifrtCCJKFFSQNNmEnBztBHE0WmIoVLWBBZpjsxWrKcQv04IebrnfV8TO5sUrYsAkFnSTjjbbBfexCkC5q0JRambItjik7dvH5tdfQO/xoPi+LQY9OlknFSjeckYgKkIGVJhw1gFOFFRnwUTOuq1wgJEnCZPanqiwFwGXoVJan1EubUKdb3C0B+Pg34/oxHzdoy+wRiMNeibU6v14uvcryZEBCkrV4+LSr1661ugCbtdSlC0+ES0+WJ+NmDj+uXdBodFTUyqfVewASh3e9i91egbtHc6qzVpF+eBpCONAaPUiuLG+QNiGVGrxqjawy4aAQB961qQ/q5nxRfhaLf53IQiBCNlAuHBQIOyAhy3pKFSslwoHnMcZa3ZxWwDX/68jDTjUK3mgJlfXcjDdfKbmsHX+Hy4dpX16+qx0/SYe3pCVX2KgWCsZj/LdShBUNEov3HeLnPfu5u21r/q9393p99HM3kVpQDoARGQPSifWxYsfPpPpQXQ6c1aZsRUUFCxcu5KuvvuLTTz+t9+9yJjSiC95+USTtm0RF6RECwq/Fbi3l8J4PsVmLURQ7OakLyMtYhqX2TKuT0SZ2FGVFe0k79DMOR7UzHDj+W6rKkwmOvBWdwZtDce9SVZ6OEILi/J2kJ/xAVOuhmMwnN6jadL4Fh6Oaw7s+wFpThFDs5KYvJTd9EZ16jUeW9SQfnEJJQRxmb+eWV0DYULpeM4uO/b6h84AfkSQNFo8gfAJb8LtSyGalHEUI8oSNjxzZ6JHog5l9oooflHw64IYXWhYoxWygnPBWj6DXutNMMvKjpimfSKH8pGlGK8mERjZg8unATir5QynEKhQqhINvlTyyseEffh0yEh86sskWVoQQbFcq+FUpoIdkRovE70ohu5VKbjsu7HhUy2jKhJ3PlVxKhINrJA/WiDIWK84In1Lh4HMlh3IU/qMJ4ye5Ka0VA8//vQrrMSsX7jodw5s343dRxDalglicq3KTHNlk1Mq0W6lkhihkcGSE6hB6CXKl6iCA9t3GkJM6n7yMvzF5RGGyNOXIno8pLzkEQHlxPEf2foZGa8Q34OTpQXoPfRYkiUNx71JdmY0QCoU5G0g/PB2jeygBoUPISPyVguz1CKFQU5XLoV3vo9UZadnuhpO26xvYguDwziTvn0xZsTNqt6L0MEn7PsU3sCW+gS0oyd9GRuKvaDQGtHovNFp3YgdOp2PfKXQdMhufoL4gyXTsOY4MrExV8qkUCjVCcc5/UcUQPCkQdj5yZCMBAyQL8aKKb5V8PL3b4hc8CA0y72nC+EKO4Hu5KeNlP0AQ2foxBPCRI4t8YUMRgg1KGXNEEbLOA4NbML8phWxTKhBCkFOr+9yQ6Yn7Sed/az9fWvn4MIU8johqBkseVKHwiZJNsbDjEIIVSinLRAmjZR++kyJ5QPbn57372ZCeWW8cb2vVkkNKNdMc+dgRDJAszD5OH09SsnHTark2qulZf59ULhySEEKcyQU7d+7k+uuvp7KykoqKCnx8fMjPz8dkMhEQEMCRI0fOWIhL6ZT3gpwEZn8/gbKSDGSNEcVRDcgggSxpURQrbu7hyLKNh1/efNJ2FEXh169GkZW60xnqDFAbdafRuuGwV7lSLNS9Dgxtz6h7fjilQQUQv3s+i2Y+i8NhRZZ1KI4aotsOp8+wZ5n64SBk2YCi1FBnL3cfNhdJ1uOwV6DTe5GV/CdJ+z5j7GPz+OO7sVRVl6BDwoZARkJBoEeDFYfraU4L2IGA8OvxCx7A/i0v8LYcRhvJjTIcmNGQRA3POFKJbPMsafHf4LCXoq29XqmVvW5M69rVI2FFuCx7Ta0c93Zoy3M9ujaIsPsz/hCvrV6PXVHQALbacr1LfnhcDmRI7SnyKaKGxxwpvD+oPzdEN3NlVS+tqeHRhcvYnpOLUZKpFgoaJBwI1+u2fr58PXzoJW1QXY0nvZ8PHQSXjh6y22tYMOMJDu9fgqwxoDhqXOkSZI0biqMKvTEAa3Uudzw6h5AmnU/a1ra137B64bsgHEiyHqFYcT1HSxIIAShoNEYcjmr0Bgsj7vqKiOg+p5SxpDCN2d+Ppyg/EY3WhMNeiYdXOLfc9yPzZjxBUV4KDns5dekYojv+H/6h12CzlqDVumO3lbP171sYeOMbJMWvJDlhFTLOpAl1jz7a2vkoUV9XuLuHE93lP8Rvepb+NVYe0wRSioIOCSMS9ziSIbg3EjKFWStQ4Bj9Bkpt/2WUBjpIgX+c/8nFJTw4fwlp5eW4STJVQmmgv/pIZp6Vg9FJEkIIHlVSaNM0hPcH96+XjuWLbTv5YttONEgIBKJWBoMkUyMUzDodnwwbRK+w83NiRmNwNeqgk3HGBtWAAQNo0aIFX331FZ6enuzatQudTsddd93Fk08+yahRZ35MwaWiyOpw2K0cObiczasmU1JUQLuen1KYsxHFUYWnX2cKc9aTnfI7T7x+cj+DOlIPbyBu009IkkznPveiOOzkpO/G3eJPZIv+pBxeR3lJNv7BrWkS1atBPqmTUVVZzOF9i7FWlxPWrDuBoe3Iyz7ITx8PI7DJjRRmLMNWa7gYzE2oqsgEYUdn8EEWUGN1ZhAODe9MSLNupBxaS27mPjoPnEFFSQI1VTmYLJHUVBeRuPs9QMI7oCfWinQqKpw+XoFoqUChHMUVoVftNB3RSlo0piBqKtIBCIuegKev8zgMvdEPd68Ydq4cS7S3F33CQ9mWlcuePGeIcwsfH17v15NOQSfO1l5YVcXfSalU2e30CA1GAmYfTOCnPft5Qw51ObuXCAeTlRw2CGc4c5jZzOPdOnNTC2e2YyEEW7Oy2ZeXj4fewI7sbOYlJGITAk+djoe7dGJ8+zaXdNqEq1GZnQ8dBJeeHspO383uzdPZs/VX2veajNVaSHVFBkb3MIymEOLW3MMt900jMrrvKdspL81l49+TKC/LJTK6H5EtBpCcsBKApi0HUlGWS1ZaHG4mH6LbDnPliPonFIedpITVFOUl4unThGatBqPR6PjuvwORtaFUlyVRWemc/0aDH3bFjt1WjCTpMZqCqK5IRQAWSwAtO91MSUEqh/YtIrzFvXj7d6G0aC9anQUP31jiVt2NotSgM/hj8WxOUe4mBAIzMu7I5GBHwpnaoKw2CYwM6N3Dqa5wpkkwWZoR3el1Sgu2IUkSXv49OLjtZXTWDIY0bYLV4WBhYgp2xYHFYOTRzu1POv9tDoU1qWmklpYS4elJhwB/Vqak8cGGzXSxGXlW6zzuRwjBHFHENKUAKwI3jYZbWrXk2R5dXIEuGaVlrEp1ylhls/Pj7r3kV1WjkSSGRUXyap9ep4xYvthcjTroZJyxQeXl5cXmzZtp2bIlXl5ebNy4kVatWrF582bGjx/PwYMHz1iIS02R1bFv++8snvUsHfpOwezpXFp3OKrZtfZBQprEMHLcNxdZwvo47FY+f6MDdlslwyRPukjuHBHV/C6K0Ls3IbDpzaTs+4xQoWGU7I0EzKWUDA3cNGEqM7+5g8hWDxMadTvgVAaHd39AQdZqtDovaqoy6Si5M0zyYKFSzF6quFHyor1kYr+o4k9RRHOMjJK9WaGUsoUKNFozkqzBw6cDMbFvuJRTdsp8Evf8j6k3XMvEZasQ+gCCmt6OJOvISZ5NdVkiv99yI9E+3qfV92q7nf4//kIvu4nHNYE4hOAZRyq52LhV9nGFTW8Q5fx3cH9uiI6qd/3DC5ayOT2TUZI3TTGwVZSzVJTybPcu3N+pfaN+To3J1ajMzocOgktTD1VVFvP1O90IjryViJgHXOVJ+78kN+0vHn55y2kn4bxQzJv2KIf2LqC55MYIyRMrgtlKIbkSRLR7isxDPyOqcrhN9iEcPZtEBStEKYNGvMH+nX9SWW6jbc+PXf6lRbmb2b/lX3j5d6c0bzPekp7bJC9KhINfRQFtcOM62ZNyFGYphVSi8KgUQCpWZotCFMDDtzPlJQnEDpyGzuAFQE1VLnGr7uahjq3YnVfAxoxcgqPuwN0jisKcjeSmLTzj+f/iitVsPJzK51ITTJKG35QCflYK6unjPyimT5MwPr/umnrX/hl/iP9buZa+kpm+koVMbMwWRUT6evPLqBsu2bQJV6MOOhln7JSu0+lc2bIDAgJITU2lVatWeHp6kpaW1ugCXkxatr+B7eu+Z9+mZwgIvx6d3ou8jCXYavLoOfjLiy1eAxTFgaQ4uEny4gGN09G0J2ZCFD0fVqRQWrgXEzL/04RjqnXU7CUsPOBIJX7PAjr2HE/cxq+oKD2E2bMlhbmbKcnfRrN2T5ObMo+IKiNvyiGUofAh2YyVfRlTe7J7D8z4KVq+VfJoKRnprTHzqiODvY4amrZ9gUNxb7N345P4BvWloiyRvPSljGjRnA0ZmVQrMp16fo5O75yMvsH92bXqLr6P28u7g0799F2HUavliW6xvL1+E/mKHR+hIZEa/qsJp5XkVttXM28rmXyxdSfDmzdzGXf78vJZnZbOv+Rg+tamTeiJGZ1D4tudu7m7XWsMatqES4arSQe5mbzoNuBRNv49iaqKNDy8nXmoCrLX0nvoc5ecMQXgcFjxQ8v7cij6WkftHpKZ+5QUygr3UFWVzb/lENdh6L2wIDtg09+fMGzMx/zxw73sXv8YfiEDqanKITt1AZ5+nfHyi6UkbzPvyyEESXpec6TTFANva8Jckb5dJXcedCRRIjkYJ/sRoGj5XMklIPw6KsuTiFtzP4ERNyKEg/zUefgYdXQODuSL7XG07PwafiEDAWfEoizrmRK3+Izm/0OdO7I8KZWnHGkMUMz8LopOrI9TUkkoKKSFrzPoQAjB5K076S2Z+ZfmqH9uS2Hk//LTWZ+eQb8m4Se8p8qlwxmbvJ06dWLr1q0A9O/fn3//+99Mnz6dp556irZtT5z353JFqzMy+oFfaN9tNEU5y8lInEZQaDRjHp5FYOj57avDYSNhzwJW/PUa65f+j4Lcw/94TVF+EjZHDX3k+k/XfWpDcSuK9hArDByhhu8ceXzryCORarooBnJStjPoxtfoPeQZyoq2k7T/C0oLdxPd4UWCI26iqjyFPrIZWZJIFjXYEa52j72PAhwWNUiSRB/ZjF3Y8AvqR0yXt6ksSyblwJdoizfwTLfOvD2gD7ty8vHw7eIypsCZVdkzoDe7zjBU+K52rfnf4P5UehlYLkrxQuMypsAZQdVbspBcWkplbWZlgD25+cgcDYV29Ue2UGK1kqamTbikuJp0EEDPwU8yZNR74MgmNeEbELkMu/W/dB/4+Hm/d07GXtYufp+V897gyMEVCEX5x2uKsg/SSzK7jCkAT0lDRwyUFe1Dh0wEen5TCvjKkcsypYTuuFNeWYi3XzNuuecnDAZB8oGvyUr+E7+QgbTq+g4VZYk0l0wE1aYoSBDV9DoubUqApKMFbiTUpljoW6ujyor2067X5xhMQaQl/EhRym9cG+HHrzdfT2pJGRJSg9QUfiEDKKupPqP539TLkxk330DbiBD+kEqwIk6qj3fn5rvKSmqspJWXN9CpbXGmTdhzTF2VS5czfux+5513KCtzfsHefvttxo0bxyOPPEJ0dDTff/99owt4sTGaPBl442sMvPG1C3bPmupSZn17FznpuzCZw7FZS9i04nMG3vganXvfc9Lr3GoPVc4Q1nqGREZtKK6s82RHVT6rHOX41X70fzqK8ETG2+RL6pENbF71JYriwM3chKryNFIOfoPZuxV6vReZNc526sKQM4SVsGPyr9Tdpy7cOVPYkJFA1uET2AujwZNBTf15f1B/1zW+bgb256Y2CJuuqUgl7Cz8BoZHRzE8Ooqf9+zjv+u3UCYcWI4Jm84QVtw0Ggzao2U+bs7MylnYCENfr64EeKtpEy4prjYdJEkS7bvdQftud1zQ+65f+j82rfgMvcEbjdaNHeu/p0nzvtw8/lu0J0k8DODm7kt6cWG9MiEEaTjQ6r2oqkjjISUZLRIB6FggimuPdZEQQmHVgv9QkJuAmzmcmqp88tKX4uHdDp3eixycBxDrJAlPtGQclzbFIQTZWImuTX+SXquTDKYA3NxD8fTrjK0snk0T7nAdDePjZkQgqKrMxGQ+mjyzqjwdCemM53+0jzefDBtETnkFA6b9dlJ97HtMuyadFqNG06A/JTgoUxxq6pbLhDNeoerSpQsDBzqXRQMCAli8eDGlpaVs376dDh06/MPVKqfDuiX/oyDnMO16fU6nAT/TZfDvBDcdxcp5b5xypcriGYTR6MEPSj7xwnmGVo6w8akjB4PeE63ek1IcTJQD+V7TlKmapjwtB1GCQl5uPPNnPIHZszVdBs+i84CfiB00A1lr4tDOd/ELv55lopTVSilhQkcUBr5R8kiuzVOVLqx86cglFB0thIFNSjnzRDGyzgOh1JAa/y3l5WncElM/zPuWmBaUlyWTmjAVh6MaRbGReeR3ivJ3cFurfz5T7GRc37wZGo3MJ0oOxcKOqD1B/i+KGRkTXe+crf5NwvA1GvlMySFXOOMGD4gqZohCBkSE43sJR/ldjag66PyTnrSFTSs+o0nLe+kyeBadBkyndbf3ST+yiW1rT+07avGNYLuoYL5SjF0IqoXCT0oBGaKagLDrkYBumPlJE8VkbSSTNZFoAAnB5pVfUFKYTvs+X9F5wM90G/ongU1uIHHPR3j5xVIqbHyt5FJRmzZltShjuVKKQwgqhYMpSi6FOBgse5IlrHzhyEUDBDa5kaLczeQkzeLmllEN5r+3m4kjuz+gpsqZhLO0aB8Zh76j/znM/0CzO33CQpkmCuvp489FLv5ubvVy4+k1Gm6MjmKOKGZHbSqHImHnUyUHnUZW0yZcJpyxU3odubm5xMfHAxATE4O//8kTwf0Tl6Iz6MVCCMHnb7THP/QGIls96CpXHFa2Lr+FLn3uceaXOQH5OQn8OGkIRoMf1TX5uEs6KoUNqTYVggS0wsgH2vpHGPyfPY19VKEAnQb8iMkccbTNrNXEb38NZxCzHQGYkKmqDT524IysKa1NsSAAIxJVCIxIVCOQJS1COHiqW2ce7NzwB2/y9jg+37oTWaNDQsLuqOHONq14pU+Pc4qwW5GcyrPLVmJ1OHCXNJQJB12DAvny+qG463X16u7MzuGRhcsotVqxSBpKhYMW3l58e+O1+JtMJ7nDxedqdghtTB0Eqh46lqV/vMjhfWvpNODnenPwUNx72KoPce9zK054ncNuZfoXIykrLqC6KhuDpEERAltd4hRJA8LBz5pmrkSdAIuVYj5XcpFkHeHN7ya8xbhj2qxi85KbnEkFhA0J0CCjQVBTG1VsQsaK4sqC7o4z+7gGp47SagzYHTXEBgfz9XXXnHD+P7RoOWU1NRj0ZmqsZTT38eX7G4ac0/zPrajkvnmLOVxcjEetDvIyGPjy+iF0CAyoV7esxsrDC5eyIycXs6ShUjgwaDRMGjqI/hGXrv/U1ayDjueMt/zKysp49NFH+fXXX13HPGg0Gm6//Xa++OILPD09G13Iqw1bTTkGo1+9MlmjR6f3pKa64X5+evJW1ix8j6zUbQBEdXoZh72SyrIjhLgFYPZuy86VY5EAf0nX4Hp/SYdU+wSlNx79UaquzCY76Y/aV3a8fJrw8pBWbNi8lz+SM3hdCqVCUkjHSjA63BWZ18kkCB1DZE9kRfAV+TzbvRNDm0US5nHiH6lHYztyQ/NmLE9OwaEI+keEn3Z036kYFNmElXePYcmRJIqqqukUFEi3kKATGmmt/Xy5sUUUs/bHU6o48DEYGNO2FX7q6tQlh6qDzj811WXojL4N5ore6Ed58Y4G9SsrClmz8G0Oxv2FoigERYwgsMkNFOVuQpK1+AT2ImHHW5SXxKPF+RB2LL61P0VCsaE3Hs3Dpyh20g/PQBY2HAgMOjfa9ZqA2eLP+sXvM9Rh4DrZi52iEiMSscKdF4UzMKGf5MnNePGgSOGaiGDGtGl10vnfKSiQlXfdxtLEZHIqKmjp50O/8LBzjqwLcDcxZ/RI1qSmk1BQSJDZnaHNIjHpGuphi0HPHW1bkVFWTk5lJVpJYlhUUzqfJH2MyqXHGX9b7r//fjZv3sz8+fMpLi6muLiY+fPns23bNh566KHzIeNVhSRJhER0IS9jGUI56jhdWriXqvJ0wpp2q1c/J2MPv39zJ+Wl5US1fQaN1kRexjJ8g3oTHn03AWHDKMlzOvCiMbJZlFMsjrZbIhxsEuWg0QMSuWmLALDbyti//nE0hfu5X/bnSTkQ/+J8/m/mUoZHhGLUaNhJJX1kC2NkX/rLHhySa9ACb2rCGC55sVqqoGOAP/d2bHdSY6qOJp4e3NOhHfd3at8oxlQdXkYDt7eO4eHYjnQPDT7pitdzf69i5r6D3Cg8eV4Oop1Vz5trN/LTnv2NJotK46DqoPNPWNNulBXupbL86LmiDkc1BVkrCWvatV5dh8PGrG/GkrBnGaHNx2Hxbkt+1koMboGENb+T0GajkWUdFWVHcDNHYgfWiKMPhkIIlimlaAC/oDbkZixF1CZBPrLnIzIPT2O45MkLcjD97Tq2rf6S6soiIlv0Z69kpQl6Rss+jJC9cciCEhyMlX15TBPIJqkCGXihV7dTzn9wnqBwc0w0D8d2ZGBEk0ZLU6CVZQZFNuHh2I6MbBl9QmMKYMGhRJ5fvprIKpnn5CBul3xYdiiJhxYsQTm7jSSVC8wZr1DNnz+fJUuW0KfP0Uy6w4YN45tvvuHaaxueaady5vQe+iyzvh3Lng1P4Bc6BGt1HjmpfxEY1oGo1kPq1d2y6kv0boG07fkpskaPQOHI3o+x1RTiHdiTipJD5KQtJCD8emzWMkpy1vKkI5XhshcyMF8pphqF0MiuePk2Yc/WL6goTcRhr8BaU8AXmkjXYcQDhAcTRQozUrJ5sHMHPt26gzyHnfaSG/tFFStFGdEYWCfKWC3KOUQ133Trf4IeXloczC/g7+RUnpWDGCg7l6z744GbQ+br7XHc0SamXnZjlYuLqoPOP20638KO9T+wd+NEgprchEZnJjdtITZrIT0GPVGv7uF9S8nP3k/73l9i8W6FX/AAdq17iF1rHyAoYgSKw0pWyp/oDT40bf0IB7b8i4+VbA6KKiIkAxuUcuKoRJK09L32Of788T72bngST/+u5KQt5EHZnxGy8yGrHxY8HVr+XDOFm+/9mTnxq3hOpHGN8KBMOJgninFDxioEHzuyWSFKGdMmhmDz6SUrvVgIIfh86w56SO68LB81/FopRl7JzWBjemY9nyuVS5MzNqh8fX1PuKTu6emJt3fjrSxciTjsVg7tW0JOxm7czf7EdLwJs8fR5dy87IMk7FmI4rAxYPjLxO9ZRPL+z9EbLLTrOpreQ59Bo6n/dJORvB2fwEGuw5uDI0ei0bpzZO/HzuV2SUtIs9HodBaKcv/AaG5Kma2cn2ucWcn1Rn8s5khqqkq5ZuTbePlEsHPjT5SXZNJGcnMZUwA6SaI3Zv7OzuWzYYPRaWS+3hbHWnsZJo2G9j5+JBeX8I0tj06BAXzbrT89Qk985mF+ZRXzDyWSV1lJa38/hjSNuGhGy67cPGSOhljX0U+ysLimhNSSUpo34qqZyrmh6qBzIzt9N4f3LQEgqvUQgsI6uH7AqyqKOBD3J2UlmXTqOY6c9D0c2jcLu62GiOi+9Bn6Gf7Breq1l5W6Azf3UCzeznI3cxjten1GQtw7JB/4GgAP3474BvUlPfEXBBJuXq1YXHwAhxDoZD2+Af0pyF6Nb0A0o+79iY1/f0xawlQA+h83L/vLFmbZC5EkiVsf/JWN08fzTWkeGkmimZcnVoeDKWV5hLi782y7roxv3+aE42B1OPg7KYV9efn4mdwY3jyKAPeL4y9ZUmMlubSM0XL9VbQOkgkvWUtcTq5qUF0GnLFB9corr/DMM8/w888/ExQUBEB2djbPP/88r776aqMLeKVQUZbL71PGkJ+XSKDGjULFyvol/+X/2bvv8Ciq9YHj39meZNN7QnogobfQS6iCgICCWFDAAooFG171Z7/qRVEv4kVELFhAkSIiTXrvLSG0kIQU0nuvuzu/P0IW1gRIgBDK+TwPz0Nmp5yZ7Lx558wpwx/+iuDWd7Fr/afs31o9uKWk0FBZnk3zNsN54YMzKFV1VxEDWNk4Ul5qOemmq/dAkqK/w2isRJYNpJ9dilIGexRkV+Sg1/vRtvdyNFpHFAoFUXtfwFrvhEKhpGu/qXTtN5VNK94k9eBSTLJsnv8OqocWcNBq2ZSQxOx9hzEi44aaLGMVJ7Jy+Kh/H0a2CLps1frWxCRe3rAVk8mEs6TmB9NxAuzt+HHksCYJaA5aLSYgkyq8Lho2If38TIH2N/G0D3ciEYOujizLbP7zLSL3L8ROUf093791Dm27PMjge2eQknCQFT89TlVVOTprD8qKU7C19+KR59fi6OJ/yXvaysaRyvJcjIZSlKrq+9fGLhBH1y6UFp4FTFQUnSU+5yhukpYSZMoKYwjp+jH2Ll1QKBSkxf9BbsZOtDo7/Jv3wb95HxJjd7Psu4dJpwr7i/5UpZ3viatUavjzx8coLS3CASXlsomY/Hx6+3iz7uGxl41BWaWlPP7XOmLzC/BUaMiRq5i9/zCfD+7PwAC/S27XWKzVKjQKBelYDptQiIlik/GmnnpGuKDBL4m//vpr9u3bh6+vL8HBwQQHB+Pr68uePXv45ptv6NSpk/mfcMGWle9gyDnHbKUv30s+/KLwJ8ykZd1vzxNzYj37t87BN+QJwgb9QdjApbTo+DYxJ9YRuX/hZfdr7+RDTtp2MpM3IMsmjMYKkqK/p6IsA+/Ah5CQ6YEVC5X+/KgKYJbSF6k4hcSTcwATqfHLKcyJpE3YOIv9tg67nyxTBT+asqmQTZhkme2mQnbKRYwObc6/Nm7DEzXfKQP4QVU9BEMAWt7etosqo7HuwlLdk+XVjdtob7LiZ0Ug3yr8+VLpR1FhGe/v2H09LnWDhfv54KjVMseUSd759mVxcjm/kktfn2Y3dS+/O5GIQVfnTNQaIvcvZKrCjV8kP36R/HhO4UbUwcWcOPoHq359Fit98PlhUxbSqd/PGIwS65e9etnkxNu/K0ZjOXFRX2CoKq7u8p91kLT4P7C2DUCjccCmsoQ5Sj9+UPrxizKIDrKGM4ffQzaVU5R3iuS4RQS1GoLO+kLNo09gdxzsvfhazjEPZ3JOrmQBuXh6t2PX+plUlObytsKLX5SB/KYMYqzkyK5zKfwZffmBkD/cuZfcghJmK335VuHPz4pAOsnWvLppGwUVFdfngjeARqlk+PlhE47LpQAUyUa+MmWgVEjcLYZNuCU0uIZq9OjRjVCM21tFeRGxJ9YzWXImSKoeoE0vKXlW4coEQzwHt8/D2tafZsGPmAOXq/dActJ3cOLwsssO5pmXnYjGyo2YiP8Qf2IOJlMVJmMZKrUdBbmHkZB4RuGOzfnBLZtLOu5XOLAgbSt5WQcxGorp0GMiLdoOt9ivp08H+g77P1asncFaUwFaJApkI3cF+OFmY025yciTCg/cz78SdJHUPKV05VXjOX4/dYZH27aqs7ybExIpNRh4RumG/nyZAiUt4yRH5iWeI7+84oY/jelUKr4YMoBn125kkiEeR4WKbFMVAfZ2/Du81w0ti3BlIgZdnZOHl9JSYcNwhYN52VDJge2UcHTX95QWZ9Gx80w02urXplZ6H3xbPEH0kfcpyE3C3sm3zv0mn92HpFCTnbqFnLRtKNU2VFXkobVyp6wkFdlUxniFO/5S9X1tJyl5VuHG48Z4Dm0eh6GqGBf3UAaN/sBivwqFkhGPzueP7x/hibIEHJVaco3l2Nt5MOahL/nlv4MYINnR7fwUNmokHlW4sNlYxI/HjnNvaN3j2BVXVrI5IYknJReLePyMwo2JxrNsOJvA/S1DrulaX43XenYlNieP17OTcVKoKDIZUSgkPhvcHyfR2/iW0OCE6t13b9yI4beLyooSTLKp1pAF9ijRSkoqygrR6NxqPQVqrdwpzjt72X1XlBXg4tkfF8++5GXuR6HU4OwZTtyx/1JZkYNOUmL3j4pIN9TIQMdej9Cqw+habSJqdOn7FK9NG8rGV56gSmdDLx9vOri78dOxE9X7kSy/Pq7nv07ZpaWXLG9+eQVqScLhH92mXVFhAkoqK5ukerurlyebH32AtbHxZJSUEOrsxAB/P9TKm3NC0juZiEFXp7wkD1+59vfZXVaSXFYAVMeci9X8XF5agL3TJfZbVoDWyoU2Pb4kO3Urhqoi7JzaUl6SytnjswBw+8efGmdUKJBoFtCJdt0eISh0IApl7T9H7s3a8sTre4g+tpqC3CSc3ZvTvPVQVGodJpMRN4VlTFVKEq6oKKmquuR1KKmswijLl4jHCgorKi+xZeOy12r57b4R7DyXQmRGJk5WOoYFB4qBhW8hVzXja35+PsuWLSMuLo5XX30VJycnjhw5gru7O97eouHcP+lt3bCxcmRLWSHdJBtz4rRPLqZcNtAioBvHDy+joiwTrVX1YG9GYzm56TsJCOlx2X3bOzYjJ20rviGPYetYXStUXppGQW4krl79ySpO5KBcQtfz89TJssxWuQgnR1/6Dn39igNn+s7/iCdDA1G6Xvi9Dgzw5dO9B9hqKmKC8kLys1UuQgKGBl66erqzpzuVssweudjcCLymTB7W1njobS5bnsZkp9XyYOvQJju+UH8iBjWci3cbDiRHUSgbsTtfO1wsG9krF+PVrDd5+SlkJm/E03+UeZvM5A1odfY4uV961gKPZu05vOs7KkrT8Q68HwBZNhF15mfUWlcUchVbqgrpyIV7e4dchAmZPkNfx82r7kbjNTRaG9p2eaDWcp3eme3FhYyVHFGfnzcwRa4khnLudrt0DHK1scZbb8PWkkK6yZbxuEw20cnD7ZLbNjalQkE/Px/63cQDeQqX1uCE6tixYwwaNAh7e3sSEhKYPHkyTk5O/PHHHyQlJfHzzz83RjlveUZJYg/FvG9Ko5dkwzm5klVyARIQ2GoQZ09vIWrPc3j43YtSpSMjaRWGqgK69pt62f3m5yZRUZ5N1O5ncfcdgdFQSlpC9WCcRfkx6HSufFyexkjZAW9Jwy5KOCwXM3zojCsmU5MOVI/UfnEyBeBjZ0cHDzeWpGeSbTTQXrLipFzOBrmAECdHWro617U7ANq6udLP14dZ55I5YyzHT9KwVy5hv1zMR117X7exX4Tbl4hBV0mWKUfmJVMy90h2SMAquZAyZDRaPa07j+XkkS8pLYrH1iGUvKwDZKduoe+w/0N9mbn70lOOgaTg5IHX8Qy4D62VG1nJGynKO44kqXB078HW9B2UGk30kPTEyxWsoZDmrYZcMZm6nD5D32D9sleYbjzHEIU9xRj505SPWlLweq9ul9xOIUk837Uzr2/Zwb9NqfSU9JyTK1lDAX2aVdfCC8LVaHBC9fLLLzNp0iRmzpyJre2F7qzDhg3j4Ycfvq6FuxnJskxK4iGSYnah0lgR0nbYJdsW1CguyqS8NBevwAc4nbmPQ8WJqFXWOHuPJD1pNUd2fku3/s9w7uw+Yk/8gMlkwDe4N32GzsbFvcVl911emo+r1yAqK3I4e/wLJEmFs2c4FaXpFOWfQGvliJNPe1ZlxFBRmYerWwvuGfwSLdoOq9f5qtzqftr/ZeQwnlu/mR2JyWyRC1Eh0cPbi2+G33XFfc66qz9zDh1l2cloCirzCLK357OwcIY3D6pXmYQ7250egwAK81M5c2w1FRXF+AR0wyeo5xUfkLLSTmPv1h2DJPF9xj5AxtGtG9YVBSSc2UZY36fo3MeZE4eXk574J/aOvgy+72Padnnwsvs9F7cXtcYJZ4+epJ5dgslYjt4+FE//0aQlrCA3fRcezdpzpjiH/fnJWOns6NR9Kj0GvXBN16B12Fgqq0rZv+Z95hoykQB3G2t+HHrl6WJGtQhGrVDw9aEIZudnYKtW83CrVkzr0umaprsS7mwNTqgOHjzIN998U2u5t7c36enp16VQNyujoZLVvz5H7Mn1qLUOmAzl7Fz3Mf1HvEOn3o9fcjuN1gZJUqK1cqd9v58wGSspzDvO6UNvgWwiPSWapLg9OLoG8/ir29HbudUab+pSFEolsmygTffPMZkM54OBgsNbH8bB2Z/Hp29DkiRkkwmjqQqVqn7tk96ynUfyZT5PKCjkRHYeBmR0OifKy3M5lZtPbG4eoS6XrqGC6kbg07t34ZVuYVSZTGLQTKFB7uQYBBB1cDEb//g/JIUKpcqKfZtn4xfch1ETv7tsTZLO2p6S0hxa9fgS2WTAUFnMyUNvUFxwCrXGgZ3rPkZSKBj24JcEhvRDqdLWK7nQWdljNMTi3+oZAtu8iGwyoFBqSDz9HUgKXvjgDKrzQ78YDBUolZrrkrQYDZUkxeyixGBAo9ZjNFaSUVLKwbT0y9aS1xgWHMiw4EAqjUZUCoXF8DCCcDUa/H5Fq9VSWFhYa/mZM2eueXLSm92hXd8Rd3ozIZ3epcugP+gyeAWeAWPYuvp9MlKiLrmdVmdLUKu7SIlbRHFBDDIy0Yffw8auOV0GLaXLoOW07/MtpcWFbP7zzXonU1A9bEJ26jayU7chSUpk2cS5mJ+pKE0jIHSAOXBJCkW9k6mwnh4kbz6CdIlER5ZlXtm8gxLJkU79fqHzoD/oPOA3DBovpm3cXu9pEiRJEsmU0GB3cgzKy45n4x9v4OZzN10Gr6DLoBW07PIfzsUfYP+WLy+7bevOYynMOUZawp8gSSScnkdZ8Tna9JhN17v+JGzQchxcurF28QtUVpTUO+lp2/UhTMby6l7GxgoUSg0FOZGkxi9DZ2VvTqYAVPVM0urj4ngcdtdfdLlrJR4BY5mxZz8nsrLrvR+NUimSKeG6aHBCNXLkSP79739Tdb4XhSRJJCUl8dprrzFmzJjrXsCbyfGDS3D1GoiLV38kSYFSZUVAy6fRWrly4vDyy247cNT76G2diNw5mSNbHsRQVUhw+1fNE4Hq7Zvj03wS8dHbKCnKrHeZZFmBpFATfeQ9Dm68lwMbRnHuzAIkhQZD5aV7211Omy9GYjKZUDp71Pl5dE4up7Oz8W35DFb66saTOmtP/FpN41xBPkfTM67quIJQH3dyDDp5ZDkqtZ7A1s+jUlkjSRJO7j1x9xlO1MEll922RdvhtO/2CGePf8GBjfeRmbwe76AHsXduD4BaY0dQu5cxmQxER62ud5kKchNBUpKRtJoDG0ZzcNNYju99AVk2YTBUIV/lPHQmk+mSn8myfMl4bKVzZuUVxqEShMbQ4Fd+n3/+OWPHjsXNzY2ysjLCw8NJT0+nR48efPTRR41RxptGWWkeds6WbYokhQqtlQdlpbmX3VZv586EF9YSc2I9xw8uJjF2Nzory4RFZ+MFyJSX5mNjW7+GkRVl+Xj634dG60R22hYUCg2eAWPISFxJWWleg87PYKhk5S9T+PLMNqpkGZ1CyciQYN4/PxbT0fQMZh+M4EBKyvnyWl6L6vJDXvmNHxhPuHPc0TGoJA+NzgWF0rK2WWftRUZp/mW3lSSJQfd+RJuwcZyO/IvDu74z37M1VGp7VGo9ZSX1jx1lJXlY2XgS1PZfJMf+gqGyCNdmQ9FoXYg/8QWyyYhUx5AIl3Jg2zwObvkf5ZXFKJFw8W7D6Ik/oLdzo7Qklz0bPudkxJ8YKsvwad7f8hwVKjRWHuSVl9X7eIJwvTQ4obK3t2fjxo3s3r2byMhIiouL6dSpE4MGDWqM8t1UvHw7kZm2He/gh1Eoqi9deUkqRXkn8eo99orbK1UaQtvfg5NrIL98OYzstG24el+4blkpm9FZO2LvXP+pD7z8OpGcsIsOfb7HO6i6y3JFWSYxRz+kbZdXGnR+C2ffTW5WLIMkO5ordBySS1hyKpr88goe69CGCX/9jZU+AJ+QJzl3ZgHZKZvxDbkw6Gh2ymYUkoK2ri4NOq4gNMSdHIM8fTsSuX8hJYVnsbELBECWjWSnbcXTp0O99uHh0x73Zu2IO7WZ7JQtuHj2N7+GK8g5QlVFPl6+9R9l3tO3I4d3fYdCqaF1t0/Pl8nEif3TcfNuW+f4Upeyb8v/2L3hM0LQ0U/hSpZsYHXKcX76fABPvr6PJfMfpDAvDXff0eSk7yI7dUvteJx/mg6tu9T7mIJwvVzVOFQAvXr1olevO2sU6e4DnuP3bx7gxN4XcfMdjqGqiLT4Zdjae9GqU/1fNbh5tSa41RBij31KSWEcNnbB5GXuJStlE/1GvFPvtk4A3fo/w9m593F87wu4+95zftiEZVjpna7YO+diyWf3kZMVazGz+zAcmGPMYGN8IoWVlej0vrTp/TUKhRqjoYRzMT9TWZGLvUtHinKPk574J+NatsC9CceSEu4cd2IMCmk3gv3bvubkgel4+t+PRudM5rl1FOefYsh9v9R7P5Ik0XPwS6xdPI3Th97Cxas/ZSUppMUvxdM3DL/g3vXeV3DrIbh4tOLUwdfx9B9bPWxCykYKso8weuIPDTq/Q1u/ohVWzFA2Q3k+yetksuatihTWLX2JnIwzdOj7HTZ2QTi69+D4nheI2jMND797MFQVkRG/BHe9DaNaBDfouIJwPdS7DdXevXtZvdryvfrPP/9MQEAAbm5uTJkyhYommAPpRvLy68yYx3/CykZJbOQnJJ6ej29QGA88vQStzvbKO7jIsIe+pGOPR8lMXsWZox9QXnKaQaM/olOvS/cWrIu7d1vGTv4VvZ0NscdmknBqLt7+7Xjo6aVYWTvUez/Z6RsBGCTZWywfpLDDiMyhtAycve5CcX5kYr/QyfiFTiYz+W/OHPk3penreLZze97q3b1B5ReE+hIxCFRqHQ9MWUxgaF/OxfxATMR/0GgqGT3xe/ya1z8JAmjZYRTDHvwSkzGNM0c/JPXsb7TseA9jHl+A1IDx4JRKNfdPXkTz1gNJif2ZmIj/oFQUMvLR+QS1HFjv/ZSXFlBRVcYghZ05mQJoL1njgJLUxEPYOoRgY1c9vIqdY2tadZtJZXk2sZGfcO7UPPp46lk0aih6jeZShxGERlPvGqp///vf9OvXjxEjRgAQFRXFE088waRJk2jZsiWffvopXl5evPfee41V1puCb3AvHnnuLyorilEoVKgu0035ctRqHf1GvE3fu9+gsrIErc7uqnu/NPPvwsPPLKeyohhJobps1+lLCTy9hc1ADgasuRCMcs5PFmylUlNZcaHnjCQp8A4cR/rZJYxp4cn/9ewmBuUUGpWIQdVsbF0Z/uBshoydidFQ2eCHuYu17DCK0PYjqawoQqXSoVRdXSJibePE3eP+y+D7ZmA0VKDR2jY4nqk0VkhUx6CLVSBTigmtSkdlRS6ybEQ6P9K7g0snnNx7YszaxMaH70OruuqXLoJwzer9FzAiIoKBAy88bSxevJhu3brx7bff8vLLL/Pll1+yZMnle5ncTjRa/VUnUxdTKFXorOyvS1dijVZ/VckUwKQWfiiR+MaUSbFsBCBTruInUw42KjX3t2xOVtJqCnIiADCZqkiM/oGKynzGhrYQyZTQ6EQMsqRSaa8pmaohSRJand1VJ1O1y3R1D4cqlQZ7Z3/+NOURK5cDUCmb+M6URSUy3Qc8T0VZJklnfsRkqk668rOPkJ28lvtCg0QyJTS5en8D8/LycHe/MHHm9u3bufvuu80/d+nShXPnzl3f0gk3xKQDU0Cj4cVunZm1/xCPGs/ihppUKlEiMWfwIMK8PDiSnkXE3hexsfHCUFVMRWUhr3QLo+UVBvIUhOtBxKDb332TfuSX2UN40ZCEJ2ryMVKGiZYd76Ndt4cpLclh94bPyEhaVd0bsTiZzp6eTOnYrqmLLgj1T6jc3d2Jj4/Hx8eHyspKjhw5wvvvv2/+vKioCLW6/gNS3ulMJiOHd31H5L5FFBem4+rRkq79n6F56yE3tBwTRwIHqqeYedLNm96+3szaf5i04hKGOTXjXz264mZTPY3DL6OGsi3xHPtT0rBRuzCseRAtnBxvaHmFO5eIQddfUuxu9m7+krRzEVjZONE2bBxd+z/ToI4x15OjawBPv3WEXRs+5dzZfThZ2dF9wDT8m/cBoPuA5wlqNZjTEX9RVVmKb3AvPtLtEjXkwk2h3gnVsGHDeP311/nkk0/4888/sba2pk+fPubPjx07RlCQmIutvjau+D+OH1qCm/dgHD1GkJe5l79+mcLQ+/9L6843bnBC6a0pXFw7H+rszDfD6p6PT6VQMCjAj0EB9R/WQRCuFxGDrq+zp7fw509PoHcIxaf5Y5SXprB/61ekp0Rx78Tvm2xOO41Oz4CR71/yc1ePUFyHhpp/VibsuRHFEoQrqndC9cEHH3DfffcRHh6OXq/np59+QnNRT4offviBu+668sS4AuRmxXH84GIC27yIp/9oALwCxnLm6L/ZuX4mLTuMatDYLVcrrKcHHACla90TIAvCzUTEoOtHlmV2/j0TO+cOtO72qbmRt71LZ6IPv0tK4iGa+YuxnAShIer9V9vFxYUdO3ZQUFCAXq9H+Y852JYuXYper7/uBbwdJZ/dD0i4+1xo/yFJEu6+Izixbyt5OQk4uzX+OCptvhjZ6McQhOtFxKDrp6K8kOz0UzTv8KY5mQJw9uiDWmPHubg9IqEShAZq8Itne3v7WoEMwMnJyeJpUbg0tdYakKmqLLBYXlVRPd2DRtv4A2NOPJ9LqdxE7ZRwaxEx6NopVVokhYqqynyL5UZDGUZjBRqtSEwFoaFES74mEBg6ELXGhvgTczAaquecqijL4FzMz3j7d8XW3rPRyyC9NQWpjj9KgiDc/tRqHc1bDyHt7O+UFicCYDJWknBqHrJspEXb4U1cQkG49YiBO5qAVmfL3eP+y+rfnuPQ5rFY2fhQXBCDtd6Fu8Z83OjHf7NXBCkHQOnsceWVBUG4LfUb8Q6/z3+Ao9smoXdoTkVpBoaqIgbd+x9s7UVsEISGEglVE2neZiiPv7KV44eXUlyQjqvng7TuPAatzq7Rj50yay5N1IFHEISbhK29BxNfWMepiJWknx82oVWnMTek/aYg3I5EQtWE7J186DX45Rt6zEkHpgCiZ58gCKDWWNOu60O06/pQUxdFEG55og3VHUQ0RBcEQRCExiESqjuIaIguCIIgCI1DJFR3iJraKdEQXRAEQRCuP9GG6g5g7eqM9NYY0RBdEARBEBqJqKG6A9zfIwcQDdEFQRAEobGIhOoOINpOCYIgCELjEgnVbe4t23mAaDslCIIgCI1JJFS3MWtXZ5I3HxHDJAiCIAhCIxMJ1W2spu2UIAiCIAiNS/Tyu02Ze/aJtlOCIAiC0OhEDdVtatyaMYBoOyUIgiAIN4JIqG5DNQ3RRdspQRAEQbgxREJ1m6lpiC5e9QmCIAjCjSMSqtvMSy02I0niVZ8gCIIg3EgiobrNpMyaCwpROyUIgiAIN5JIqG4jkw5MAUTtlCAIgiDcaCKhuk1YuzoDoiG6IAiCIDQFkVDdJl4u/whJaupSCIIgCMKdSSRUt4Gwnh4kbz4i2k4JgiAIQhMRCdVtoM0XI0XPPkEQBEFoQiKhusXVtJ1Suoq2U4IgCILQVERCdYurmWJGEARBEISmIxKqW9ibvSIA0bNPEARBEJqaSKhuUWE9PUiZNVckU4IgCIJwExAJ1S2qzRcjm7oIgiAIgiCcJxKqW5AYxFMQBEEQbi4ioboFjVszRgziKQiCIAg3EZFQ3WJqGqKLYRIEQRAE4eYhEqpbTMqsuaJ2ShAEQRBuMqqmLgCALMsAVJYXN3FJbm4du7lTvNuAytUTKiubujjCTaD4/Peg5h4Srp6IQ7emYhELm5SIQRdI8k1wFZKTk/Hx8WnqYgjCLevcuXM0a9asqYtxSxNxSBCunohBN0lCZTKZSE1NxdbWFkm8zxKEepNlmaKiIry8vFAoxBv8ayHikCA0nIhBF9wUCZUgCIIgCMKt7M5OJwVBEARBEK4DkVAJgiAIgiBcI5FQCYIgCIIgXCORUAmCIAiCIFwjkVAJgiAIgiBcI5FQCYIgCIIgXCORUAmCIAiCIFwjkVAJgiAIgiBcI5FQCQBIksSff/55yc/79evHiy++eMPKcznbtm1DkiTy8/ObuiiCIFwnIgYJtzqRUDWhrKwspk6diq+vL1qtFg8PD4YMGcLu3bubumg3jZspiArC7UbEoCsTMUioL1VTF+BONmbMGCorK/npp58IDAwkIyODzZs3k5OT09RFEwThDiBikCBcP6KGqonk5+ezc+dOPvnkE/r374+fnx9du3bljTfeYOTIkRbrPfnkk7i6umJnZ8eAAQOIjIw0f/7ee+/RoUMHvvnmG3x8fLC2tmbcuHEUFBSY1zl48CCDBw/GxcUFe3t7wsPDOXLkyDWVv6KigunTp+Pt7Y2NjQ3dunVj27Zt5s9//PFHHBwcWL9+PS1btkSv1zN06FDS0tLM6xgMBqZNm4aDgwPOzs689tprTJw4kdGjRwMwadIktm/fzuzZs5EkCUmSSEhIMG9/+PBhwsLCsLa2pmfPnkRHR1/TOQnCnUTEIBGDhOtLJFRNRK/Xo9fr+fPPP6moqLjkevfffz+ZmZmsW7eOw4cP06lTJwYOHEhubq55ndjYWJYsWcKqVav4+++/OXr0KM8884z586KiIiZOnMiuXbvYt28fzZs3Z9iwYRQVFV11+Z977jn27t3L4sWLOXbsGPfffz9Dhw4lJibGvE5paSmfffYZv/zyCzt27CApKYnp06ebP//kk09YtGgRCxYsYPfu3RQWFlq0oZg9ezY9evRg8uTJpKWlkZaWho+Pj/nzN998k88//5xDhw6hUql4/PHHr/p8BOFOI2KQiEHCdSYLTWbZsmWyo6OjrNPp5J49e8pvvPGGHBkZaf58586dsp2dnVxeXm6xXVBQkPzNN9/IsizL7777rqxUKuXk5GTz5+vWrZMVCoWclpZW53GNRqNsa2srr1q1yrwMkFesWHHJsoaHh8svvPCCLMuynJiYKCuVSjklJcVinYEDB8pvvPGGLMuyvGDBAhmQY2NjzZ9/9dVXsru7u/lnd3d3+dNPPzX/bDAYZF9fX3nUqFF1HrfG1q1bZUDetGmTedmaNWtkQC4rK7vkOQiCYEnEIBGDhOtH1FA1oTFjxpCamspff/3F0KFD2bZtG506deLHH38EIDIykuLiYpydnc1Pk3q9nvj4eOLi4sz78fX1xdvb2/xzjx49MJlM5urnjIwMJk+eTPPmzbG3t8fOzo7i4mKSkpKuqtxRUVEYjUZatGhhUa7t27dblMva2pqgoCDzz56enmRmZgJQUFBARkYGXbt2NX+uVCrp3LlzvcvRrl07i30D5v0LgnBlIgaJGCRcP6JRehPT6XQMHjyYwYMH8/bbb/Pkk0/y7rvvMmnSJIqLi/H09LRoF1DDwcGh3seYOHEiOTk5zJ49Gz8/P7RaLT169KCysvKqylxcXIxSqeTw4cMolUqLz/R6vfn/arXa4jNJkpBl+aqOWZeL9y9JEgAmk+m67V8Q7gQiBl09EYOEi4mE6ibTqlUr8zv8Tp06kZ6ejkqlwt/f/5LbJCUlkZqaipeXFwD79u1DoVAQEhICwO7du5k7dy7Dhg0D4Ny5c2RnZ191GTt27IjRaCQzM5M+ffpc1T7s7e1xd3fn4MGD9O3bFwCj0ciRI0fo0KGDeT2NRoPRaLzqsgqC0DAiBokYJFwd8cqvieTk5DBgwAAWLlzIsWPHiI+PZ+nSpcycOZNRo0YBMGjQIHr06MHo0aPZsGEDCQkJ7NmzhzfffJNDhw6Z96XT6Zg4cSKRkZHs3LmTadOmMW7cODw8PABo3rw5v/zyC6dOnWL//v2MHz8eKyurqy57ixYtGD9+PBMmTOCPP/4gPj6eAwcOMGPGDNasWVPv/Tz//PPMmDGDlStXEh0dzQsvvEBeXp75SQ/A39+f/fv3k5CQQHZ2tnj6E4TrRMQgEYOE60skVE1Er9fTrVs3Zs2aRd++fWnTpg1vv/02kydPZs6cOUB1FfLatWvp27cvjz32GC1atODBBx8kMTERd3d3876Cg4O57777GDZsGHfddRft2rVj7ty55s+///578vLy6NSpE48++ijTpk3Dzc3tmsq/YMECJkyYwCuvvEJISAijR4/m4MGD+Pr61nsfr732Gg899BATJkygR48e6PV6hgwZgk6nM68zffp0lEolrVq1wtXV9arbXAiCYEnEIBGDhOtLkq/nC2Xhhnvvvff4888/iYiIaOqiXDOTyUTLli0ZN24cH3zwQVMXRxCEehAxSBCqiTZUQpNJTExkw4YNhIeHU1FRwZw5c4iPj+fhhx9u6qIJgnAHEDFIuJ7EKz+hySgUCn788Ue6dOlCr169iIqKYtOmTbRs2bKpiyYIwh1AxCDhehKv/ARBEARBEK6RqKESBEEQBEG4RiKhEgRBEARBuEYioRIEQRAEQbhGIqESBEEQBEG4RiKhEgRBEARBuEYioRIEQRAEQbhGIqESBEEQBEG4RiKhEgRBEARBuEYioRIEQRAEQbhGIqESBEEQBEG4RiKhEgRBEARBuEYioRIEQRAEQbhGIqESBEEQBEG4RiKhEgRBEARBuEYiobqFJCQkIEkSP/74Y73X/eyzzxq/YDfQpEmT0Ov1TV2Mq9KvXz/69evX1MUQLnKr31OTJk3C39+/qYtxXWzbtg1Jkti2bVuDt33vvfeQJKne6w8bNozJkydfcb0ff/wRSZJISEhocJluRydPnkSlUnH8+PF6rV/ze8nOzm7kkl1/V3Nv3fYJVVRUFGPHjsXPzw+dToe3tzeDBw/mf//7HwBHjhxBkiTeeuutS+4jJiYGSZJ4+eWXLZZHRETwyCOP4OPjg1arxcnJiUGDBrFgwQKMRmOjnleNtWvX8t577133/dYEt5p/SqUSNzc3xo4dy6lTp2qtP2nSJIv1VSoVPj4+PPjgg5w8efKy+77434MPPnjdz0W4vsQ9JdzKdu/ezYYNG3jttdeauig3jW+//Zbw8HDc3d3RarUEBATw2GOP1UokW7VqxfDhw3nnnXeapqA3OVVTF6Ax7dmzh/79++Pr68vkyZPx8PDg3Llz7Nu3j9mzZ/P888/TqVMnQkND+e233/jwww/r3M+vv/4KwCOPPGJe9t133/H000/j7u7Oo48+SvPmzSkqKmLz5s088cQTpKWl8X//93/X9Xz8/PwoKytDrVabl61du5avvvqq0f4ATJs2jS5dulBVVcWxY8eYN28e27Zt4/jx43h4eFisq9Vq+e677wAwGAzExcUxb948/v77b06ePImXl1ed+77Y7fK0fbsS95TQWPr27UtZWRkajaZRj/Ppp58ycOBAgoODG/U4t5KjR48SEBDAyJEjcXR0JD4+nm+//ZbVq1cTGRlpEbuffvpphg0bRlxcHEFBQU1Y6pvPbZ1QffTRR9jb23Pw4EEcHBwsPsvMzDT/f/z48bz99tvs27eP7t2719rPb7/9RmhoKJ06dQJg3759PP300/To0YO1a9dia2trXvfFF1/k0KFD9a4SbQhJktDpdNd9v5fTp08fxo4da/45JCSEqVOn8vPPP/Ovf/3LYl2VSmXxBxKge/fujBgxgjVr1tSqYv/nvm8G5eXlaDQaFIrbvvL2qoh7SmgsCoWi0X8XmZmZrFmzhnnz5jXqca6VwWDAZDI1enJZY+7cubWWjR49mrCwMH7++Wdef/118/JBgwbh6OjITz/9xL///e8bUr5LudHX6Upu678acXFxtG7dulbgB3BzczP/f/z48cCFp+aLHT58mOjoaPM6AO+//z6SJLFo0SKLwF8jLCyMSZMmXbJcL7/8Ms7OzsiybF72/PPPI0kSX375pXlZRkYGkiTx9ddfA7Xbe0yaNImvvvoKwOK12T/Nnz+foKAgtFotXbp04eDBg5cs25X06dMHqL629VFTi6VSNV7uHhERgaurK/369aO4uBiAlJQUHn/8cXMVduvWrfnhhx8stqt59bh48WLeeustvL29sba2prCw0NxWKyUlhdGjR6PX63F1dWX69Om1Xj2ZTCa++OILWrdujU6nw93dnaeeeoq8vLxGO+emIu6paldzT9W0x9mxYwdPPfUUzs7O2NnZMWHChDq/K3PnzqV169ZotVq8vLx49tlnyc/Pv+T+ZVnG39+fUaNG1fqsvLwce3t7nnrqKeDCd3/JkiV89NFHNGvWDJ1Ox8CBA4mNja21/dKlS+ncuTNWVla4uLjwyCOPkJKSYrFOzT2TlJTEiBEj0Ov1eHt7m69nVFQUAwYMwMbGBj8/v1rfjbraUO3cuZP7778fX19ftFotPj4+vPTSS5SVlV3yOlzOmjVrMBgMDBo0qNZnJ06cYMCAAVhZWdGsWTM+/PBDTCZTnftZt24dffr0wcbGBltbW4YPH86JEydqrbd06VJatWqFTqejTZs2rFixolbbnIvb5n3xxRfm71VNU4nTp08zduxYnJyc0Ol0hIWF8ddff9U6Vn5+Pi+++KL5dXlwcDCffPLJJc/hSmrK+M/vnFqtpl+/fqxcufKq9puYmEhwcDBt2rQhIyOj3mW/3HWqaasVGxvLpEmTcHBwwN7enscee4zS0tJaZVi4cKH5++zk5MSDDz7IuXPnrup8LnZb11D5+fmxd+9ejh8/Tps2bS65XkBAAD179mTJkiXMmjULpVJp/qzmpn/44YcBKC0tZfPmzfTt2xdfX9+rKlefPn2YNWsWJ06cMJdr586dKBQKdu7cybRp08zLoLoqvC5PPfUUqampbNy4kV9++aXOdX799VeKiop46qmnkCSJmTNnct9993H27FmL1xz1VfNO3dHRsc7PaxofGo1Gzp49y2uvvYazszMjRoyotW5RUVGtxopOTk4Nqh06ePAgQ4YMISwsjJUrV2JlZUVGRgbdu3dHkiSee+45XF1dWbduHU888QSFhYW8+OKLFvv44IMP0Gg0TJ8+nYqKCvPTjtFoZMiQIXTr1o3PPvuMTZs28fnnnxMUFMTUqVPN2z/11FP8+OOPPPbYY0ybNo34+HjmzJnD0aNH2b1791Vd55uVuKeu/Z567rnncHBw4L333iM6Opqvv/6axMREc0IB1Y1533//fQYNGsTUqVPN6x08ePCS3ylJknjkkUeYOXMmubm5ODk5mT9btWoVhYWFtWqQP/74YxQKBdOnT6egoICZM2cyfvx49u/fb16n5rvdpUsXZsyYQUZGBrNnz2b37t0cPXrUIrk2Go3cfffd9O3bl5kzZ7Jo0SKee+45bGxsePPNNxk/fjz33Xcf8+bNY8KECfTo0YOAgIBLXqulS5dSWlrK1KlTcXZ25sCBA/zvf/8jOTmZpUuXXvFa/9OePXtwdnbGz8/PYnl6ejr9+/fHYDDw+uuvY2Njw/z587Gysqq1j19++YWJEycyZMgQPvnkE0pLS/n666/p3bs3R48eNScia9as4YEHHqBt27bMmDGDvLw8nnjiCby9vess24IFCygvL2fKlCnm9oMnTpygV69eeHt7m8u1ZMkSRo8ezfLly7n33nuB6nsoPDyclJQUnnrqKXx9fdmzZw9vvPEGaWlpfPHFF/W6Pjk5ORiNRpKSksy1TwMHDqy1XufOnVm5ciWFhYXY2dnVa99Q/UA2YMAAnJyc2LhxIy4uLg0ue13Xqca4ceMICAhgxowZHDlyhO+++w43Nzc++eQT8zofffQRb7/9NuPGjePJJ58kKyuL//3vf/Tt27fW97nB5NvYhg0bZKVSKSuVSrlHjx7yv/71L3n9+vVyZWVlrXW/+uorGZDXr19vXmY0GmVvb2+5R48e5mWRkZEyIL/wwgtXXa7MzEwZkOfOnSvLsizn5+fLCoVCvv/++2V3d3fzetOmTZOdnJxkk8kky7Isx8fHy4C8YMEC8zrPPvusXNevsWZdZ2dnOTc317x85cqVMiCvWrXqsmXcunWrDMg//PCDnJWVJaempsp///23HBwcLEuSJB84cMBi/YkTJ8pArX/e3t7y4cOH69x3Xf/i4+MvW66JEyfKNjY2sizL8q5du2Q7Ozt5+PDhcnl5uXmdJ554Qvb09JSzs7Mttn3wwQdle3t7ubS01KIcgYGB5mX/PJ9///vfFss7duwod+7c2fzzzp07ZUBetGiRxXp///13reXh4eFyeHj4Zc/vZifuqau/pxYsWCADcufOnS2u18yZM2VAXrlypflcNBqNfNddd8lGo9G83pw5c8z3ZI2JEyfKfn5+5p+jo6NlQP76668tjj1y5EjZ39/ffN413/2WLVvKFRUV5vVmz54tA3JUVJQsy7JcWVkpu7m5yW3atJHLysrM661evVoG5HfeeceiLID8n//8x7wsLy9PtrKykiVJkhcvXmxefvr0aRmQ3333XfOymjJt3brVvOyf96Usy/KMGTNkSZLkxMRE87J33323zt/ZP/Xu3dvi/q3x4osvyoC8f/9+87LMzEzZ3t7eIi4VFRXJDg4O8uTJky22T09Pl+3t7S2Wt23bVm7WrJlcVFRkXrZt2zYZsPid1Xyv7Ozs5MzMTIv9Dhw4UG7btq1FfDOZTHLPnj3l5s2bm5d98MEHso2NjXzmzBmL7V9//XVZqVTKSUlJV7w2sizLWq3WHIudnZ3lL7/8ss71fv3111rXqy41v5esrCz51KlTspeXl9ylSxeL+6e+Zb/cdao5zuOPP26x/N5775WdnZ3NPyckJMhKpVL+6KOPLNaLioqSVSqVxfJ/3lv1cVu/8hs8eDB79+5l5MiRREZGMnPmTIYMGYK3t3etKtMHHngAtVptUQ29fft2UlJSLF5NFBYWAtT5WqK+XF1dCQ0NZceOHUB1rxOlUsmrr75KRkYGMTExQPXTdO/evRvUHfifHnjgAYvapJpXdmfPnq3X9o8//jiurq54eXkxdOhQCgoK+OWXX2o1JgfQ6XRs3LiRjRs3sn79er755hv0ej3Dhg3jzJkztdZ/5513zOvX/PtnQ/dL2bp1K0OGDGHgwIH88ccfaLVaoPq1x/Lly7nnnnuQZZns7GzzvyFDhlBQUMCRI0cs9jVx4sQ6n0ShugHmxfr06WNx7ZYuXYq9vT2DBw+2OFbnzp3R6/Vs3bq1XudzqxD31LXfU1OmTLGoYZo6dSoqlYq1a9cCsGnTJiorK3nxxRctamsnT56MnZ0da9asueS+W7RoQbdu3Vi0aJF5WW5uLuvWrWP8+PG1zvuxxx6zaH/yz3M5dOgQmZmZPPPMMxbtm4YPH05oaGidZXnyySfN/3dwcCAkJAQbGxvGjRtnXh4SEoKDg8MVr9nF92VJSQnZ2dn07NkTWZY5evToZbetS05OTp2162vXrqV79+507drVvMzV1dXiewqwceNG8vPzeeihhyzud6VSSbdu3cz3e2pqKlFRUUyYMMFimJfw8HDatm1bZ9nGjBmDq6ur+efc3Fy2bNnCuHHjzLX52dnZ5OTkMGTIEGJiYsyvXZcuXUqfPn1wdHS0KNegQYMwGo3m++JK1q1bx9q1a/n888/x9fWlpKSkzvVqrmF9h0M4fvw44eHh+Pv7s2nTJovfQUPL/s/rdLG64nVOTo45xvzxxx+YTCbGjRtncSwPDw+aN29+zfH6tn7lB9ClSxf++OMPKisriYyMZMWKFcyaNYuxY8cSERFBq1atAHB2dmbIkCGsWLGCefPmodPp+PXXX1GpVBaBoKZ6s6io6JrK1adPH3MA3blzJ2FhYYSFheHk5MTOnTtxd3cnMjLS/Frkav3zFUrNF7m+7Xveeecd+vTpQ3FxMStWrGDx4sWXfCWnVCprtU0YNmwYzZs354033mD58uUWn7Vt27bOtgxXUl5ezvDhw+ncuTNLliyxaJ+VlZVFfn4+8+fPZ/78+XVuf3HjaeCSrxx0Ol2tG9fR0dHi2sXExFBQUGDRfuhyx7odiHvq2u6p5s2bW/ys1+vx9PQ0v05PTEwEqpOOi2k0GgIDA82fX8qECRN47rnnSExMxM/Pj6VLl1JVVcWjjz7a4HO5VFkAQkND2bVrl8Wyuu4Ze3t7mjVrViuZs7e3v+I1S0pK4p133uGvv/6qtW5BQcFlt70U+aJ2djUSExPp1q1breX/PO+axHzAgAF17rvmu1xz3erqSRgcHFzroQ5qx6HY2FhkWebtt9/m7bffrvN4mZmZeHt7ExMTw7Fjxy6ZaNQ3DvXv3x+Au+++m1GjRtGmTRv0ej3PPfecxXo117C+Dyb33HMP7u7urF+/vtY4gg0t++VeEV/u+2xnZ0dMTAyyLNe6B2tca/OM2z6hqqHRaOjSpQtdunShRYsWPPbYYyxdupR3333XvM4jjzzC6tWrWb16NSNHjmT58uXcddddFr/o4OBgVCoVUVFR11Se3r178+2333L27Fl27txJnz59kCSJ3r17s3PnTry8vDCZTOYnxqt1cduVi9UVVOpycdIzevRoSktLmTx5Mr1798bHx+eK2zdr1oyQkJB6PyHVh1arZdiwYaxcuZK///7bon1WTSPGRx55hIkTJ9a5fbt27Sx+vlTt1KWu3cVMJhNubm4WNQIXu1SQuB2Ie8pSfe+pxvbggw/y0ksvsWjRIv7v//6PhQsXEhYWVmdSdL3P5VL7u5rjGI1GBg8eTG5uLq+99hqhoaHY2NiQkpLCpEmTrqqxtbOz8zV1Fqk55i+//FJnbfq1dL75ZxyqOdb06dMZMmRIndvUJGwmk4nBgwfX6nldo0WLFg0uT1BQEB07djS3g7tYzTV0cXGp177GjBnDTz/9xKJFi8wdI2o0tOyXitdw5e+ZyWRCkiTWrVtX57rXOmj0HZNQXSwsLAyAtLQ0i+UjR47E1taWX3/9FbVaTV5eXq0qX2trawYMGMCWLVs4d+5cvZKKutQE9Y0bN3Lw4EFzt9S+ffvy9ddf4+XlhY2NDZ07d77sfq7l1cXV+Pjjj1mxYgUfffRRvbseGwwGc++766GmN9ioUaO4//77WbdunXkEcldXV2xtbTEajVdV+9VQQUFBbNq0iV69el32Rr/diXuq/mJiYsw1AQDFxcWkpaUxbNgwAHOD6ejoaAIDA83rVVZWEh8ff8XvtZOTE8OHD2fRokWMHz+e3bt317tR8j9dXJZ/1spER0fXatx9PUVFRXHmzBl++uknJkyYYF6+cePGq95naGhorZpyqD7Pmtqni0VHR1v8XDPukpub22V/DzXXpa4ek3Utq0vN716tVl/xdx4UFERxcfF1j3llZWVUVFTUWh4fH49Coah3ovbpp5+iUql45plnsLW1taglbqyy1yUoKAhZlgkICLiqJPNKbus2VFu3bq3zCajmtcA/n9isrKy49957Wbt2LV9//TU2NjZ1dkF+9913kWWZRx99tM5E4fDhw/z000+XLVtAQADe3t7MmjWLqqoqevXqBVT/UYiLi2PZsmV07979ik88NjY2QO2urY0lKCiIMWPG8OOPP5Kenn7F9c+cOUN0dDTt27e/ruXQaDT88ccfdOnShXvuuYcDBw4A1U8oY8aMYfny5XWOW5SVlXVdyzFu3DiMRiMffPBBrc8MBsMN+73cKOKeunbz58+nqqrK/PPXX3+NwWDg7rvvBqrH+dFoNHz55ZcW1/r777+noKCA4cOHX/EYjz76KCdPnuTVV19FqVRe9QwEYWFhuLm5MW/ePIs/rOvWrePUqVP1KsvVqqlBuPgayLLM7Nmzr3qfPXr0IC8vr1bbrWHDhrFv3z5zHIHqWPHPmuchQ4ZgZ2fHf/7zH4vf4cXbAHh5edGmTRt+/vlni+/z9u3b610T6+bmRr9+/fjmm29qPahcfCyojkN79+5l/fr1tdbLz8/HYDBc8jgGg6HOWrsDBw4QFRVlfli62OHDh2ndujX29vb1OhdJkpg/fz5jx45l4sSJFu0tr6XsDXXfffehVCp5//33a8UxWZbJycm5pv3f1jVUzz//PKWlpdx7772EhoZSWVnJnj17+P333/H39+exxx6rtc0jjzzCzz//zPr16xk/frw5uF6sZ8+efPXVVzzzzDOEhoZajOq8bds2/vrrr0uOEH2xPn36sHjxYtq2bWt+19upUydsbGw4c+ZMvdp61DxtT5s2jSFDhlxT8KyvV199lSVLlvDFF1/w8ccfm5cbDAYWLlwIVFetJiQkMG/ePEwmk8VroOvFysqK1atXM2DAAO6++262b99OmzZt+Pjjj9m6dSvdunVj8uTJtGrVitzcXI4cOcKmTZvIzc29bmUIDw/nqaeeYsaMGURERHDXXXehVquJiYlh6dKlzJ49+6YbvPRaiHvq2lVWVjJw4EDGjRtHdHQ0c+fOpXfv3owcORKormV94403eP/99xk6dCgjR440r9elS5daQx/UZfjw4Tg7O7N06VLuvvvuS7bxuxK1Ws0nn3zCY489Rnh4OA899JB52AR/f39eeumlq9pvfYSGhhIUFMT06dNJSUnBzs6O5cuXX9Mru+HDh6NSqdi0aRNTpkwxL//Xv/7FL7/8wtChQ3nhhRfMwyb4+flx7Ngx83p2dnZ8/fXXPProo3Tq1IkHH3wQV1dXkpKSWLNmDb169WLOnDkA/Oc//2HUqFH06tWLxx57jLy8PObMmUObNm3qXWP/1Vdf0bt3b9q2bcvkyZMJDAwkIyODvXv3kpycTGRkJFAdk//66y9GjBjBpEmT6Ny5MyUlJURFRbFs2TISEhIu+XquuLgYHx8fHnjgAVq3bo2NjQ1RUVEsWLAAe3v7Wu23qqqq2L59O88880yDrr1CoWDhwoWMHj2acePGsXbtWgYMGHBNZW+ooKAgPvzwQ9544w0SEhIYPXo0tra2xMfHs2LFCqZMmcL06dOv/gAN6hN4i1m3bp38+OOPy6GhobJer5c1Go0cHBwsP//883JGRkad2xgMBtnT01MG5LVr1152/4cPH5Yffvhh2cvLS1ar1bKjo6M8cOBA+aeffrLo7nwpNd3Kp06darF80KBBMiBv3rzZYnldXbwNBoP8/PPPy66urrIkSeauwzXrfvrpp7WOyz+6K9elpgvz0qVL6/y8X79+sp2dnZyfny/Lct3DJtjZ2ckDBw6UN23a1KB9X87FwybUyM7Ollu1aiV7eHjIMTExsizLckZGhvzss8/KPj4+slqtlj08POSBAwfK8+fPr1c56jqOLF+6e/b8+fPlzp07y1ZWVrKtra3ctm1b+V//+pecmppqXud2GDZB3FNXf0/VDJuwfft2ecqUKbKjo6Os1+vl8ePHyzk5ObXWnzNnjhwaGiqr1WrZ3d1dnjp1qpyXl2exzuW6dj/zzDMyIP/666+1PrvUd7+u6yHLsvz777/LHTt2lLVarezk5CSPHz9eTk5OrlWWuu6Z8PBwuXXr1rWW+/n5ycOHD69VpouHTTh58qQ8aNAgWa/Xyy4uLvLkyZPNw2xcXMb6Dpsgy9VDSAwcOLDW8mPHjsnh4eGyTqeTvb295Q8++ED+/vvv6xzOZevWrfKQIUNke3t7WafTyUFBQfKkSZPkQ4cOWay3ePFiOTQ0VNZqtXKbNm3kv/76Sx4zZowcGhpqXudy3ytZluW4uDh5woQJsoeHh6xWq2Vvb295xIgR8rJlyyzWKyoqkt944w05ODhY1mg0souLi9yzZ0/5s88+q3NYkxoVFRXyCy+8ILdr1062s7OT1Wq17OfnJz/xxBN1DmOzbt06GTDH2su5eNiEGqWlpXJ4eLis1+vlffv21bvsl7tOdR1Hli/cc/88j+XLl8u9e/eWbWxsZBsbGzk0NFR+9tln5ejoaPM6VzNsgiTLN0lLSkEQhNtYzQCZBw8erPM1yvX20ksv8f3335Oeno61tXWjH+9WsXPnTvr168fp06cv2durMXXo0AFXV9dragvWlEaPHo0kSaxYsaKpi3LTua3bUAmCINyJysvLWbhwIWPGjBHJ1D/06dOHu+66i5kzZzbqcaqqqmq1/9m2bRuRkZHmTjS3mlOnTrF69eo624wKt3kbKkEQhDtJZmYmmzZtYtmyZeTk5PDCCy80dZFuSuvWrWv0Y6SkpDBo0CAeeeQRvLy8OH36NPPmzcPDw6PWAJS3ipYtW17XRuK3G5FQCYIg3CZOnjzJ+PHjcXNz48svv6RDhw5NXaQ7lqOjI507d+a7774jKysLGxsbhg8fzscff4yzs3NTF09oBKINlSAIgiAIwjUSbagEQRAEQRCukUioBEEQBEEQrtFN0YbKZDKRmpqKra3tDZ9KRRBuZbIsU1RUhJeX1yUnrRbqR8QhQWg4EYMuuCkSqtTU1Kuev0sQBDh37hzNmjVr6mLc0kQcEoSrJ2LQTZJQ2draAjDl9X1odNc227Mg3Ekqy4uZ/3F38z0kXD0Rh4SbwfjD1UNdqFw9m7gk9VNcWUn/hUtEDOImSahqqtc1Oj1anfilCDeHt2znNWj9v9u+x6E9V54wujGIV1TXTsQhoalNOjAF1CpUbt5NXZQGEzHoJkmoBKGpWLtWjwczbs2YWp8lA9L5Ge+vyGSkzeaRtKnjoyXDlwNQmnVtM5kLgnB7snZ1NsegWzGZEqqJhEq4o1i7OvNSi80ApMyaa/FZYwQyQ2aKRbLm/VL1DO0f7e5w3Y8lCMKtRyRTtw+RUAl3jEkHpgCQurb6Z0kCpWvjBrCLA6QxK4XUL+YiyzDp/LIfu85v1OMLgnDzqkmmbkQsEhqfSKiE21ZYTw+GSH9b1EQ15RPgPwOmITPFnOQ1G9ipSdtgCYJwY4X19KDNFyNFMnUbEQmVcFuadGAKHIBU6eatRr+4XClbjpjbYC0Zvly0txKE25hIpm5PIqESbis1NT5w8yZSdakJqhe3uTr+4l+ixkoQbjMTR4L0lkimbkcioRJuC2/ZziN58xHg1kqk/qmm7IbMFNp8UV1jJX84n5/+atpyCYJw7aqTqSlISiVKZ4+mLo5wnYmESril1TTqrBni4HYJUjWJlTEnHd6awiREjZUg3Mre7BVByltzb6s4JVi6syfeEW5pb/aKsOhufDsGKaWzByo3byQJ2nwxkjd7RTR1kQRBaKA3e0WQMkskU7c7UUMl3JJqAtSt/HqvIZSu3hizUkiZNZdJiOEWBOFW8ZbtPJJnHbljYtWdTNRQCbeUiSOrG57fSclUDaWrt/mcJx2YwsSRTVwgQRCuKHnzkfrPuCDc0kRCJdwyzA06b+KhEG6EmleA0ltTzBOpCoJw86npdSxe890ZREIl3BLe7BVxoXeM6GpsUVslCMLNpyaZEvfpnUMkVMJNTzTovDSVq2dTF0EQhH8QydSdSTRKF25qokGnIAi3CjHR8Z1N1FAJN62awTpFYBIE4WYnkilB1FAJN6VJB6aQjAhMgiDc/MTcfAKIGirhJiTaHwiCcCsRyZQAIqESbjIimRIE4Vbylu08QCRTgkiohJuISKYEQbiViHaewsVEGyrhpjBxJHBAJFOCINwaRDtP4Z9EQiU0OWtXZ6S3xiBJTV0SQRCEKxO16UJdREIlNCnRO0YQhFuJSKaESxFtqIQmI5IpQRBuJdauzoBIpoS6iYRKaDJDo94TyZQgCLeEiwfuFIS6iFd+QpMQDToFQbhViNp0oT5EDZXQZEQyJQjCzU4kU0J9iRqqO0DCmR1EHVxMaXEOnr4d6NBjInYOXk1WnppGnYIg3Bnyc5I4uudHMlNPoLdzp123h/EJ7N7UxaoXkUwJ9SVqqG5zezZ9wfIfHiUlMZqych1H9yzi5y+GkpV2qknKI3rICMKdJS3pKD/PHkLUoeWUV1iRdDaCJfMf4PDO75q6aFckRkEXGkLUUN3G8nMS2btpFj7NJ+LTYhKSJGGoLCJq7zS2rvo346b8dkPLIwbvFIQ7iyzLbPzzLXTWvrTu/l+UKmtkWSb+5FdsXzeD0A4jsbF1a+pi1km08xQaStRQ3cZiT6xHodTiHfww0vlRM1UaW7wCxnLu7B7KywpuWFne7BWB9NYUJKXyhh1TEISmVVSQRlbqcbwCH0SpsgZAkiR8W0xENhmJO7W5iUtYN1GTLlwNkVDdxkyyCUlSIEmWv2ZJoQaqnx5vlJRZc5GUSpTOHjfsmIIgNC3ZZARAUli+DJEkJUgSsmxqimLVi0imhIYSCdVtLDB0AEZDGekJf5qXGY3lpCUsx9O3M1bWDjekHDVPeyKZEoQ7i51jM5zcmpMavwyTqcq8POXsEiQgIKRfk5WtLtauzqLTjHDVRBuq25iLews69pzE0T1fkZe5D51NM/Iy92I0FHHPQ4tuSBnEyMKCcOeSJIkBI9/jjwWTOLp9Ig4uXSktPkthzjG6D3geO4ebKy7UDNwp4pVwNURCdRuoqizl+KElJJzZgVKlIaTdCJq3uRuFQkn/e97D07cjUQd+p6T4FMGt+9Glz2Sc3VvckLKJkYUF4fYnyzKJMTs4cWQ55aUFNAvoSruuD2Nl44hfcG/GP7uSQzu+JSP1BA6O7vS7ex7BrYc2dbEtvNkrghTRaUa4BleVUJlMJmJjY8nMzMRksnwH3rdv3+tSMKF+yssK+P2bB8jJOIO9c0eMxlJijj9Li7bDGfHQHCSFgpYdRtOyw+gbXjYRoITGImLQzWXHuhkc2vENNnaBaHRuJG2aTcTeX3ho6jLsHJvh5tWaYQ9+0dTFvKQ3e0WY23kKwtVqcEK1b98+Hn74YRITE2s1apYkCaPReN0KJ1zZwe3fkJedSPs+32JjFwhAduo2oo+8R2z7kTRv0zRPgWE9PUiZNVckU8J1J2LQzSUj5TiHdnyDX8un8Q58AEmSqCjLJGrPc+z4+xNGPPS/pi7iZYlYJVwvDW6U/vTTTxMWFsbx48fJzc0lLy/P/C83N7cxynjHMlSVk5FynPycpEuuE31sDS5eA83JFICLVz/09i04c3ztjShmndp8MbLJji3c3kQMunFkWSY3K47M1JMYjVV1rhNzfC1qrQPeAWPNw7Nordzw8BtFzPF1yKabtycfXBgJXRCuVYNrqGJiYli2bBnBwcGNUR7hvCO7F7B30xeUl+UD4OnbmaH3f4qTa5DFeiaTAYVSU2t7hVKL6RIBsLGJhuhCYxIx6MZITz7G+mX/Iju9elYFa70b4cPfoFXH+yzWMxoNKBRqkCxflymUOmSTERmZmzVfMfdAFiOhC9dBg2uounXrRmxsbGOURTjvxOHlbF31HvaufWjb6ytCOr1HQW42S+Y/RGVFscW6gaH9yE7dTGV5jnlZUd4JCnOjCAjpf4NLXm3cmjHiiU9oNCIGNb7iwgyWfjee8nKZll3+Q5seX2Jt15p1v79EwpntFusGhPSjoiyL7LSt5mVGQykZSavwa94XheLmbJf0Zq8IQDz4CddPvWqojh07Zv7/888/zyuvvEJ6ejpt27ZFrVZbrNuuXbvrW8I70IHtX+Pk0Zvgdq9UL3AEvUMIh7eO53TEX7Tr9rB53W79nyP2xEYidjyOs2c/jIZSctK24+nbmdAOo2542WsaoosnPuF6EjHoxoo6sBijwUCrrjNRa+wAsHNqS0VZBge2f4N/i3Dzuj6BPWjeZhhnjn5ITupWNFZu5KbvxGQsoc/QuU11CpdV025KNEIXrqd6JVQdOnRAkiSLBqCPP/64+f81n4kGoddOlmVyM2MIanuPxXKdtSc2tn5kZ0RbLLe192T8c39xaMd8zp7eikqtpefgF+jU63FUKm2t/ZuMBs4cX0vsyY0gywS1GkyLtsNQKtW11r0aKbPmitop4boTMejGys44jd6hpTmZgupr7ODaleyU1RbrSpLEiIf+R+SBRZw4vJzSgnMEtwqnS/jTOLvV/Vo2IyWKqIOLKSnMwt27DW27PoSNrWujntPFatpNicGGheupXglVfHx8Y5dDOE+SJPR2nhQXnLFYXlVZSFlJKrYOXrW2sbX3oP8979D/nncuu2+joZI/f55Mwplt2Dq0BEki+tgqjh9ayr2Tvq8zAWuIsJ4eIGqnhEYgYtCNZWvvRcKZvZiMlRZtNIsLorGrIwYplCo69phIxx4Tr7jvyH0L2fTnm2it3LDS+xEf/RWHdy/ggad+x+UGjI8n2k0JjaVeCZWfn5/5/zt27KBnz56oVJabGgwG9uzZY7GucHU69JzA7vWfYW0biLvPUCrKs4g/MQeFQlmrQWhDnDi8jIQz22nVdSaObl0ByM8+zIn9r3L84O906DHhmsotessIjUXEoBurbdeHOLLnR85EzMC/5RRUKj1pCSvIy9jLkLGfXfV+S4qy2PLXe3j4jSSwzQtIkpKqinyO73uRTX++xYNPLbl+J1EHMTae0Jga3Ci9f//+dXZNLigooH//pmkEfbvp0vcp2oSNI/7E/9j39zCObptIeUksoyd+a1Etnp58jLhTm6isLK3Xfk8fW42jaxdzMgXg4NIZR7dunI5cfZktr6ymgad46hMam4hBjc/ZLZjhD35JUe5BDm95iP0b7uFczE907fcMrTuPNa9XlJ9GzIkNFOSdq9d+405uRJZN+IVMrp4gGaqHXAh6iJT4/ZQWZzfK+dQQTRKExtTgYRNq2in8U05ODjY2NtelUHc6hULJXWM+pmu/Z0hJOIjWyg7/5n1QqXUAJMTsZPWiZ6koLwBAUqhp1XE0Q++//JOj0VCBQqWvtVyptMZgyKlji/oTA+MJN4qIQTdGSLvhBIT0I+HMdgyGcnwCe2JrX93mqLy8iN/n3U92ejRgAiQcXQN58KllWOudLrlPg6ECSVKgUFo2L1CqrM9/XtlYpyNe9QmNrt4J1X33Vb9qkiSJSZMmodVeuCGMRiPHjh2jZ8+e17+EdzAHZ18cnH0tlhUXZrBiwWOodS407/AcGp0zGUlrOXF4KTpre/oNf/uS+wtoEc7eLXMoK0nByqY6qJSXppGXuYeu4U9ddTlrqtEFoTGJGHTjabQ2tGg7rNbyX+eMIj8nEd8Wk7B36Uhh7nGSzixg4f+GM+WNvZfcn1/zPphMVaQnrcIroHqeT9lkID3hT5xcm2Nr79ko5zFxJCBe9QmNrN4Jlb29PVD9dGhra4uVlZX5M41GQ/fu3Zk8efL1L6FgYduaDzCZDLTp/l901tXBx965I1WVeUTu++2yCVX7HhM4fmQ5x3Y9jYvXQCRJIit1Eza2rnTsOemayiWq0YXGJmLQzSEr7SR52WfxbzUV78BxQPWQCiqNLXHHPiMpdg++wXUnts5uwbTv9giR+/9HQfYRrG0DyMvcQ2lRIqMnfldnzeP1IL01RQyRIDS6eidUCxYsAMDf35/p06eLqvXrzGg0sn7ZdOJObkCWTXj5dWb4w19hZWVvsV5W2ims9H7mZAqqn9id3XtRkH2kzn1npp7kxOGllBZn07rTGEqKMomP3gZA+67j6BI+FSsbx6sqt7Wr820znsvZvHyWnz5DekkJoc5OjAltgdP5P9qlVVWsionjUGo6eo2GkS2C6ejh1sQlvrOIGNT4og4tZff6mVSUF2Fj68Zd932Cb3APi3USY3YBMk5ulkmTk3tP4oCEmB21EqrSklyOH1pCZuoJ9LZu9Bj4InGnN5OXsRH3Zm3p2u9TvP3CGuWczK/6boEhEooqKlkRHcOxzCycdDpGhzanlUv1zBOyLLM3JZV1sfFUGI308vHm7qAANLdB7L1dNLgN1bvvvtsY5bijGSsrmftRRyoritHZNEOp1JEYs5OvP+jME69ux97xQjW13tad/JxDGAylqM63OwAoLoipnv7hHyL2/cLmP99Ca+WC1tqL6Ki12OhdeeCpJbVeJ16NcWuqq+1vhWB1OWti4nhtyw70KPGRNGyKS2BBxHF+HDUMZysdE/5cS0JBASEKK3IxsPjkaZ4L68izYR2buuh3HBGDGsfKn6cQe3IDSpUN1nbNKcw/zdLvH6bnoJfoMXCaeT1n9+YAlBTGYqVvZl5eUlA9er2zq+XYUzkZZ/h9/oNUlBWhd2xJefFOqioLGHr/57TqdPW9luvjVpoGK6WomAl/riGjpJRQhY79GPjl+Ene7NWd8W1a8u+de1l88jTeCg02KFgVE8evUSf54Z67sdFcn3EEhWtTr4SqY8eO9a6KPXKk7loS4dLWLJlGZUUxwe1fw63ZUCRJoiDnGCf2vcyy7x7miVcvTPXQa8ir/Db3XmKOfkhgmxdQaxzJSF5HZvLf+LXoa7HfooI0tqx8Fw+/0QS2fg5JoaKiLIPje19k66r3uXfS99el/LdCsLqcwooK3t62i97oeVHhjlpSkCcbeKsqhXe37SLYyZGcwhK+UvrhI2kxyTKLFbnMOXSUQQF+hDhfuhGucH2IGNS4CnLPEXtqI04evQnp+BYKpZaqygKO73uZvZtm07XfsyjP14QEhPRHq7Pn7IkvUWvssXPuQFHeCeKi/otKbU3LfyRJG1e8iaTQ03nAfDQ6Z0ymKmKPfcaGP14nIHQAVtYOjXZeNQ98t4KPd+/DUFbJfKU/7pIaoyzznZTFjN37sNNqWHzyNM8o3LhbskeSJKKlMt7MTuG7iGO80LVzUxdfoJ7DJowePZpRo0YxatQohgwZQlxcHFqtln79+tGvXz90Oh1xcXEMGTKksct7W4qP3oa1XRDuPneb/2jYO7fDxas/BXkp5vWqKkuxtnEirO9T5Gbu49DmB9i7bghno2bh4OzH6EfmW+w3JmodkqTEL3QykqI6d9ZaueMV+ABnT2+uNS9gQ9UMlXCr25Z4jjKjkScUrqil6lvCUVLxAE5EZGaxJiaOYdjhI1U3glZIEuMkJ+wlFetizzZl0e8YIgY1rq2r3wfZREDLqeYeeGqNPX4hTyDLBk4c/h0A2WSiIPccI8Z/hWwq5/i+l9izZgBRe57DUJXPmMcWoFBc+LNSXJhBSsIBvIMeQaOrri1SKNT4t3wao6GCuJMbG+2cbqW5+sqqDGxNPMdoHHCXqmublJLEBIULaknBwqiT+Ci05mQKIESyoh+2rD0T15RFFy5Srxqqi6vYn3zySaZNm8YHH3xQa51z5+o3FolgSTYZUavtay1Xqe1AljEYKti57hOOHfgNQ1UpKrUVejt3igvSABkraxd6Dn4JlUZnsX2VoRyFUo1SpfvHfm0BGYOhEs01DI5+u7SdKjcYkQCbfzxf2J7/ucJoQv+PCV6VgLWkoMwgpjm5EUQMalyVFSVATWy4oObn0pJcTkeuYue6TyjMr77Gdg7NKCqoRJYNKBRq2oSNw8Ong8X2hqpyAIspbABUKmskSYmhqqwxTge4teJTlcmIUZaxlSzLq0VCg0S50YgeRa1aWj0KyhpxqAmhYRo8sOfSpUuZMKH2iNqPPPIIy5cvvy6FutPYO/tRkBNBaVGCeVlVZT5ZKZtQqbVsWvEmEXt/wdP/flp3+wwP/7GUFGZi59SOll0+xtquFWsXv0DsiQ0W+/UL7o2hqoSslE3mZbLJQEbSKlw8WmJlfXUN0S92q7edAuju7YkMrJMLzMtMssxauQAvGxu6e3uwiUIqZJP58yNyKWmmSno0qz0Nh9C4RAy6/jr3fhKAtMSV5mWyLJOW8CdISuwdfFjz23OotH607DKD4Hb/oqKiCoVSR2jnD/EOHk/Uwd9Zv/x1i/3aO/pg5+hDWuJK5Ivun/SkNciyEd/g3o1yPrdSQ3QAO62WVs5O/C0XYLhovsodchFFspH+fj6cNpURK5ebPyuWjWyXiunpK2LQzaLBjdKtrKzYvXs3zZs3t1i+e/dudDrdJbYSLscnqCd5WWeJ3DUVd59hKFU6Ms6tw2AoxsU9hJNHlhPQ6jk8A6rbJji4hqFS25Jwah4h9s1xdHufE/tfYd/WOQS3vsu8X49m7QhpP5IzkTPJzzqIlY0vuRk7KSk8y32PLbimLso147rcDnzt7Xi4dUu+P3GKk3IZQZKWg3Ip0XIZn/Xoh4+dLRNWruUFOYk+Jj05GNhKEd29POnjc/O/TrjdiBh0/dmd7/iSFP0dxfkn0Tu0JC9zH0V5JwAFR3YvwM65PaFhH1xoluDSkcNbx1NZkY1vi0motY6cjviC3ne9gr2TDwCSQkH4sP9j1aJniNr9LI7uPSgpPEtO2nbadX0YJ9fA634ut1JD9Iu90qMLU9Zs4CU5iZ6ynlS5kh1yMXcF+PF0p/bsSkrmjdxkBmCLHiVbpSIqlBJPderQ1EUXzmtwQvXiiy8ydepUjhw5Qteu1VOY7N+/nx9++IG33770GEi3q9KSXE4cWkJOZix2js1oEzauzslDASrKizh1dAXpycewsXXFJ6gXKfH7iDu5Ab1jW0zGUtKT/gJZRmvtjp1zB0oKIpFlE04elk9yzh59SDg5l5LCOBzdnHFy703Cqbm1jjls3Cw8vNty7ODvZOYexsOnPcMfmkEz/y7XdN7SW1NuirGnqowmNsQnsC85FZ1KxbDgADp6uDd4P2/27k6wkwOLj5/iZEkRIc5OfNupL73OJ0yL7h3BvEMR/J2Wjq1azVOhHXiiQ1uUigZX8grXSMQgSyajgdiTG0iI2YFSqSGk7XC8A7rW+cAkm0wkxOyongIGGb/mfSgtzuZ0xF8AuHgNIjdjN3mZB1AorXDzGU7muTVkpZ3EJ+QJi33qrD2xsQs2T+Tu7N6bs1GzyEw7aU6oAFq0HcbYJxayf9tcMpL+QG/nzoBR79Oh26ONcj2aoiH68cxsVsXEUVJVRRcvj6sazqBnM29+GTWMbw5HsiYjE0edjpdahTGhbWvUSgU/jhzGN0cjWXcmjnJjOb18fZnauQMBDrWbiwhNo8EJ1euvv05gYCCzZ89m4cKFALRs2ZIFCxYwbty4617Am1lGynGWfTeeyopSbOyDKS1aw4Ftcxn16HwCQvpZrFuQm8Tv3zxIcWE6evvmlJWmcmDbXBRKHUqlDkmRStjAxUjShT/QJw+8jo2tG2UlOZQWxaO1ujDuUWlRPAAanYv5Zxu9K/+kUKoI6zuFsL5Trtt51zwBNvUUDiVVVTy56m8iMrMIUGgpwcTC4yd5vH1bXu3RsIRRIUk81LolD7VuWefnrVyc+XLowOtRbOEaiRh0QVVVOX/8MJHk+H3Y2AViNJQRsfcnOvSYyICR71skQCaTkTW/TeNM1Gqs9D6AxLH9iwAJnXX1vewVOJaQTm+Zt8k4t47Mc2uw1jtbNEkAMBorKC9NxdGtG3AhJulta4/P5te8N37NG+f13sWaYvLjrw9H8OXBIzgr1DigZPnpM/wUcZwFo+7GXtuwRqodPdyZN/yuOj+z1WqY3r0L07tf28Ow0HganFABjBs37o4LXP8kyzJ/L52OSuNK294z0WgdMRhKOXPkfdb+/iJP/d9+VKoLN9Pmle9SVWWiU/+F6Kw9MRkriY36nOyULTTv9AYnD77G2eNf4hfyBJJSQ3rCn+Rl7uOuMZ9ydO9PxJ/8H2qNA3qHEIryTnH2+JfY2DXHSu9bHfSS19Fz4AtNeEVuvG+PRHI6K4eZSh9aSVaYZJkVijx+iIyiv78PYZ63RvsJoeFEDKp2eOe3pCYeoXX3WTi4dESWZdITVhCx90uCWg7Ev0W4ed1TR1dwJmo1LTq9g4tn9STSOek7iD78Ht5BD5Ac9yuxkTMJ6fQ2Vnp/CnMjSYr+joAW/fEO7Mru9Z9h59ga12ZDMFQVEn9iDkZDGW7NhlJcEMPZE1/i7B5aq2H6jSQd23dDG6Kfys7hy4NHeFBy4iHJGaUkESuV82ZeCv87eIS3eve48k6E28ZVJVQC5GbGkJ1+ipZdZqDRVjfuVqms8W85laPbJ5EUu4vA0OoajfLSAuKjtxLU9iXzCOcKpYaAVs+QlbyB/NxI/Fs9S+KpeaQnrkSSlMiygQ49JuHfIhx379asWvQskbueQqHUYjJWIEkqKsrS2f/33ZhMVbRoO4LWYeMoLy1AZ924VcAvl39EcqMeoX5WnYmjP7a0kqpHM1dIEvfiyN+KQlbHnBUJlXDbO3V0JS5e/XFwqR5gVpIkPPzvJT1pFaciVlomVBF/4uDSGVevAeZlLp7hpDl3Ij1pDUHtXiU2YgZHtz+GQqHBZKrE1asN/e55G7XGmuz0aE5HfMrZ419gMhmqa79kExE7HsdkrMDeyZdhD/yXkqJMbPSuSDf4dbi1qzPJa47c0NqpNbFncVSozMkUQLCkYyh2rD4TJxKqO0y9EionJyfOnDmDi4sLjo6Ol23MnJube90KdzOrrCwFQK217Cmn1jpUf36+GzKAwVAOyKg1F9atLM/h+N6XAEiN+xVJUiEpNMjGMmTZgKRQEx25ioi9PyJJSgJbDqT7gOcoLyvA0cUfD5+OnD1VPZaUUqkhYt9C5s+ornr3De7NgJHv4+xmOWLx9ZK8+cYGrUsprarCAcsqdYUkYScrKa2qaqJSCY1BxKC6VVaWYGVrGYMkSUKtsafqohgEUFlRikpj+bAVEzGDotxIZNnAyX2voFBWP5yYTJWARFF+Kgs+r07AXNxDGTT6Q4xGAxqtDYEtB5GRHElu1lm0OjviTm1i4f/uQZaN2Dv60mvIdFp2GNV4J/8P9/fIgTU37HBAdQyyRWlOpmrYS0pKDYYbWxihydUroZo1axa2trbm/zfWBJa3ElePUHRWDmQkrkJvH2K+JumJq5EkJc0CupnXtbF1w8ElkIxzq3Hy6IUkKYjY8SRGQym+IY9hYxdMbsZeMpJWYa33x8G1K6nxS9DpQ/BrOZSK8myS434lJzOWiS+sQ6Wu7snUJux+0pKOsnjeWPSObWjR6R2MhlJSz/7O7988wKSXNmCtd26S63MjdG/mxbaEVO6TnbA63/bsrFzOGVMZE7wbZ9Z6oWmIGFQ3v+CexJ7cQrPmj6BS6wEoLUqkMDeKzr3vq7XuwR3fU1GWhdbKlZjImWQmr8fFawAuXgMoL0nhXMwvSAoNgW1fJv74bGRZQ1Db6ajUNqQn/sXmv97jgSmL8T7fqSUgpD8+QT35ZfZwioty8W/1DFqdG5nJ61m7eBpKpZoWbYc1+nWwdnVGemvMDR93qru3F7+dOM1xqZQ2UvVUYJWyiS1yEd1EDLrj1Cuhmjhxovn/kyZNaqyy3FJUah297nqFzSvfpqI8EwfXLhTlnSInbSthfaegt7vQ00ySJPoOfY2/Fj7N8T3Po9a5UVWZR0in93Dx6gdUTyyqUKhJT1xZPe6LcydadvnI/IfDwaUjR7c/xpmotRbzXx3Y9jU6m2a07vYZivOjoTu59eDw1oeJOvgb3fo/d8OuyY02NawjDyUl86IpiQGyLUWyiY0UEuLkyLDg698dW2g6IgbVrWu/Z4k5sYHIXVNw8x6K0VBKRvIaHF0Cad1prMW6HXtO4vihpRzb/TQuXkPISt6As2c/Qjq9Y15H79CS43unkZ2yEVk20LbXHLTnO744e/QhctdT7N/2NfdNutAwOub43+RmxdCh73fY2FXXijt59ObkgX+xd/P/bkhCVeNGjzs1wN+XDm6uvJeVymDscJRUbKeIdKmKT7p0uqFlEZpeg9tQTZgwgf79+9O3b1+CgoIao0y3jA49JqBU69i78QuSTn+LztqBPkNfo0v4VABMJhOHdszndORKJEmifbfxZGfEkJq4HZBw9uxjsT9nz3DSEv6gtCgOd5+RZKVuoSg3CpXaBlfvwVjb+pOeHEmrTvcRc/xvDu6YR2bKSTwD7jcnUwAanTN2jm1JP3eswedUXJjBiSPLKcpPwdm9Ba063otWVz3KsclooEP8dD6KOIneLpVwXx9OZOcQn1+Ar50to0OCcbKyuvoL2kAtnBz59d4RfHXwKCuSU9CpVIxpHsozYR3QqUTzwNuViEEXOLkG8uDTy9j851ukxC1CUigJDO3PwNEfotHaAJAUt4+9m/5LWWkeXv5dUCiUxJ1ahSwbcPEMt9ifnVNbVGpbCnOj0Fq5U1Z8jrSzyzCZKnBw7YKjW0/Sz60DIC8nke1rPiQl/oB5CIUakiTh7BlO3LHPMBqrUCrrP3mvwVBBTNRaUhIPY2XtQMuO9+LkeuH3nJl6gtORf1FVWYpPYA9kwHbvDP6rVDC8nZbWri7XcEUbRqVQ8N2IoXx9JIJV0bGUVBXTxcuDT8M60tatdq9r4fbW4L86Go2GGTNm8MQTT+Dt7U14eDj9+vUjPDy81kB7t7vs9Gh2rvuE8tI8bOwCKC0+x97N/8OjWXu8fDvz/ef9KS5IRaNzRZZNZKYuxMElgM69n+TQzvmUlSRjrfcz76+sOAkAtdaZjHN/kXFuFTobHwyV+STHLkJSqLHWu/DHj48Rf3oLSrUeWZZqdWeWZRPlpSlY24Y06HwSzuxg5S9TkE0yVvpmHNv/G/s2z2Hc5EXYOnjxx3ePMOvcUXwUGgrlVL6LiEIB+Ct0/GGq4OtDR/lm+BA6eTZ8HKirFeLsJIYzuMOIGHSBoaq8OqlJOICVvhlGQxlnotZg5+hN37v/j01/vsmx/YtQKK3Q6lzJyViFUqllzJMLWfLNA5QVW07VU1WZj6GqBIXKivKSVE7sn45KpUelsSUtYQVqjRO2Di6cPLqCv5e8gkz1FFlGQw6GqhJUahvzvsqKk9BaOVg87F1JaUkuS+c/RHbGaWzsAqgsz2HfljkMuvcj2ncbz97Ns9mz8b/YKTToJSURe39GAbhLasolmQUxCTzTuQPP38DaIRuNWgxnIABXkVB99913AKSkpLBjxw62b9/O559/zlNPPYWnpyfJyTdD/6/GJ8sy65a8jEJpR+cBc9FauWGoLCL6yHus/m0a/s17U1yQSouOb+PiNQCQyTy3jthjn1JcnA2SkpiITwjp9DZaKw+K8qJIjP4OtdaZLoOWkZe5l9OH3sbDbwSe/veSeGo+qfFLMRoNxJ/egnfQQ/iGPEFG0hrOHv+C9MS/cPMZhslYQVL0D5SXptEmrP7dyg1V5axZPA29Q1tCOr2NSm1LRVkGJw+8xt9LX6VZYDdykqP4WNmMNpI1BlnmV1MOS+RcXpDccFGq+Y8xlekbt7LhkXGoxICXQiMRMeiCI7sXcC5uL626foKDa1fAROrZpRzaMQ9H50CO7f8VV++7CGr3MkqljtKiBI7vfYm1vz2PQqEgOe5X9A4hOLh2paoil5jImQB06DMfhULFif2volTZ0L731+RlHeTUgTewdWjHhuWvY20bQKuunyDLRg5veZjYYzMJavMSKo0duem7SE9cSadekxrU3m3HuhkU5KfTvs989PYtMBkriT/5FZv/fAtrvTN7Nv6XhyQnHjzfq+6YopT3TSn0wZbxkjNLFLnMPRxBbx/vqxrgVxCuxVW/F3F0dMTZ2RlHR0ccHBxQqVS4ut45VZy5WbFkph6nZZf/mAfcVGls8W/1LBE7Hif25EYcXLvi6l1TeyLh7jucjKQ1xEStBdlISUE0h7c8hEKhw2QqR6G0ol2v6ga3Tu49cfbsS1byRrwDx+EXOpnM5L85fvA3VGpbfEOeQKFQ4eF3D8UF0cRF/Zf4E3MAGVk20f+e9/BswHgwCWd2UF6aR8uuz5knRNVauePb4nFOH36HopwEhqA3N7xUSRLjFc5sNBawzVTEE0pXHle48ErpOY6kZdC1Hg0ySyoryS4rx9tWLxIwocHu9BgEcOLIcpw9+5sH1wQlXoEPkJm8jn1b54CkILD18yiV1R1ZrG39aRY8nviTc4DqgX9PHngNSaFFNlUACnxbTMLKproXr1/Ik5w+/A5lJck4unbB1XsQWamHMRrK8W/5NBpddaeXFp3e5szRj8hJ24lSpcVoKMO/RT96Dn653udiMhk5HbES76Dx6O1bnC+fBv9WU8lK2cjB7fNxVmjNyRRAO4U1g2Q7tsqFTJBceAAnNikKWRUTV6+EymQyca6oGBcrHTYaTb3LKgh1aXBC9X//939s27aNo0eP0rJlS8LDw3n99dfp27cvjo7XPtnuraKyvBgAtdbJYnlNgDGZjOZRzC0+t3KlpCgWANdmQ8hK2YjJVI6kUOMX+gTWtgEX1tW6UJwfDVQHFrXWHkNVMSqNvbkaXZIUNG//L1RqW1LP/k7/e96jeZuh2No3rIdJZUXx+WNa9gpUnz+fyspSHCXLGeOVkoQDKkqpnvTU+fzXqajy8rOfZ5WW8sTq9cTl5mEC1JLEsOaBfDwg/LLbCQKIGHSxyvJi7G0t71lJklBrnakqS0Sh0KC86DUcYBGXXL3vIjd9J1WVeYCEk0dvPAPuNX9ec/8bDaXmbasqy2rtx8UzHCubZkTseAJP3w70vusVvPzCGlQ7ZTJWYTRU1IpBCoUWlVpPVWUJDnUMUeAkqSg9P/GyQpJwMCkprrzysClvbt3J6jNxVMomFECAowM/jBiKm411vcssCBdrcLXAxx9/TFxcHO+++y6LFy9m1qxZjBo16o4LZC4eoWh0dmSeb6BZI+PcOiRJgYOTDzlpO6iqLDB/VlGeTV7GXhyd/QGJ7JRNeAc+UN3bz7Mf8SfmkBq/FABDVQnZaduwc+4AQGHuMcqKk/H07UR5SfL5SUurmUxV5GcdRGftSKdejzU4mQLOd4OWyDy31mJ5ZtJadNaOeAd0ZZtUQtVFM8bHyOXEU0Gb8wNrbpALkYAOHrWnnrhQVhOjfl9BYm4+D0hOvKbwpDs2rDwTxysbtza43MKdR8SgC3wCu5OTts2c8ACUFSdTmBOJd2B3TMYyctJ2mD+TZRMZ59aiUGqRFGoykv7C1rE1LTq9g2/I4xRkH+bkgdeRz9/nmUlrUWnssdb7YTSUkZ22BZ+g7iApyPhHrMhJ3wlIDBz1b7z9uzR4aAuVWod7s/ZkJq9Hlo3m5fnZh6goy8Q3uBdxplLOyuXmzyplE9tMRbQ9H4MS5Aqi5XJaOF3+u/D6lu38ER1DV6x5TeHJgwpnkvMKGPn7H5hMpstuKwiX0uAaqqNHj7J9+3a2bdvG559/jkajMTcK7devHy1atGiMct501Boreg56kW2r/01leXb1sAn5p8hK3kCHHhNp2WEki+fdT8SOJ/H0H41sMpKW+CcyMt0HvsCa354luP2/cPUeBICLVz+UKiuSohdgMlSSkbyGqoo8NBpH4k9+TUbSKjx8OjJs3Czmf9KT4/tewdNvNGqdM5nn/qa0KJ5B93541edj7+RD+27jiTzwNSWFcegdQsjLOkBexl4GjHwfj2btWTb/fl4xnqO/ZEeBbGC1nI8tCopkI58a09guFwGQWliM8yV6+y09FU1eRQVvKrzooageN6cPtqiN6WyIS6C8v0H00BMuS8SgC7r1f4bYkxs4tmsqrj53Vw+bkPQXdk4+DL53Bsnx+zlz9EMKciKw0vuSnbqVorwowvo8xfFDS7C2a01o2Afm5MfWsTUn9r3M2eNfUlGWTl7mPhxcupCWsILM5HUYKvPpPeRVjIYKEmOWUFGajr1LJwpzo8hO3YyHT0dc3K/++vce8ip//DCRqD3P4+I5gIqyDDKSVtEsoDu9Bk/n3JmdvJEdz90mPfaSig2mAlKopCPW/GzMZq2cjxKISM+85DEqDQbWxpwlXLLlVeWFh8/maHm/MpVFJ07zaNtWV30Owp1LkmVZvpYdREZGMmvWLBYtWoTJZMJoNF55o38oLCzE3t6e5947jlZney3FaRQ5mbFER66isrIEv+Be+DcPN0+rELn/V/Zu+oKSoky0Vva0aD2EgvwUykvzsXNsRlpSBCVFGYCEnaMXwx6YTXZGNJtWvEnPYRuRLuoBU5ATwfG9L4Kkws6xFWUlKVRV5KKzdqB1p/voMegltDpbCvLOsfLnyWSnn0GWTeisHOh11yt06NHw2duNhkpiT24gLekoOmsHDFXlnDq6kqKCFJzcWtCt/1RadhgNQAe/I3z9wpPsz8xFRqY5OkowkkoVHqjpKtnwp5yPs5WOe0Oa083Lk32paagkicGB/rR2deHZdZvYkZjEH8rmKC56gj1kKuE9UwojggIZ0zKEgopyIjIysddqCff14XB6BslFRQQ6ODA8OBAbTXU3bJMssyc5hb3JqehUKu4OCiD4Ck+nt5Piykq6/LCQgoIC7OzsrrzBbeh6xCC4ueNQeVkBpyNWkp+TgINLAC07jDIPZ5KRcoLNK98i7VwECoUS3+DeaHW25GXFYa13o6Q4szpWmKrQaG3p3OcJOvZ8jLn/bk+LTu9YTEUjyzIHNozEUFWMld4PhUJDSWEsCoUCvxbh9Br8Mu7ebTCZTPy99BXORK3FaChHodQS3Gogwx/6CsVVtIdMTz5G7Im/MZmM2Ni6EXN8PalJh9FZ2dO681h6DnoRtcaaspI8dm/8nOijK6ioKMYFFS6oiKEcLQp6Snoi5BLyFDL9fH14pG0rIjIyyS8vp4O7GwP8/YjOyeH+P1bxtsKLbucf6mrOfYwxFldbG54L64i/gz3bEs9RZTTRy8eL0soqjmRkotdoGBEciK/9hfstIb+ANbFnKamqoounB319m6G8Q9qFihh0QYOrAmRZ5ujRo2zbto1t27axa9cuCgsLadeuHeHht18bmIPb57Fj3QxUGltUKhsO7/wWn6Be3DvpBwrzkquTqeIsrG19KCtOJerQUiRJiUbnRGbqcVRqax5/ZSuOrhfaRpUUZQIy5aXpWOmbmZeXl6QAEl0GLUGjdeLUobdQq4p45Lm/LMpk7+jDhBf+vuZzKy3OYem3D5OdcRorfTMqy3OQTQaGjvu8zikj2rfvxPw+YWwuquSFDVt5UOFEl/MB6W9TPl+ZMtEiIZUZ+C4iih8iorCXVJiAb44e4/H2bXC1tsIA5GDAlQtj06RR3e5qd1wiq+POAuAhqSnAyOyDR5CQsNF7UVJ8ki8PRbBgxF342tny7N+b2J2ciptCTZlsYu7hCF7q2pkpndpf8/URbk53WgzKSI5i2fePUlFeiJXem7LiFHZv+C/3P7kQZ7fm7Nn0X9KSjqC1csNoLCchuvrVudbak6y0aGRM9Bn6Gl3Dnzbv02CoQKnUUl6SanEsQ1UBRkMpgW1ewNN/NFkpmzhz9EOeeHUndo4XYpVCoWDYA7MY9sCsazo3WZbZuup9ju5ZgEbriKRQUlGWTWj7Ubz44RkUCsuRz61sHBk0+kMGjf6QL/8vmLayFS8rqwfzPCdX8pYxmVyMuJnUbE1IZEtCIioknBVqfjx2gpZOTnw8qC8SkIZlO6scDFQiU1JUxhtbd6IAbFCiUSj4ITIKCdBZuWGoKmLOoaO807sHD7YOZWHUSf6zex/WkhK9pGRB5HE6u7vxzYgh2KjrP/6WcOtrcELl5OREcXEx7du3Jzw8nMmTJ9OnTx8cHBwaoXhNKyMlih3rZlQPUdDiMSSFmvysA5w+/A4Hts0lPnobMjo691uIzsaLyoo8og+/S1lJCp36L6KkIIYT+1/ljx8n8cSr28379QnsgSQpiT32KS06vY1W50JR/mkSo79HpbZDrbEnI2kNuem7GTT66l/jXcm21R9Ud1Hu/Q16hxAMhlLORv2Xv5e+gm9QT2xs6+4xNcjfD2ulim+NWXhIGtTAV6ZMhkj2PKlwRScpOCGX8b4xhZ7YMEXhxko5jx8ij/PpgL4sPRXNbGMGryg9cJRUnJLL+M2USy9Jz2sKT7bLRfzXlM5YyZF+kh3fmDLZJBcT2u2/yLKJ6INv8K8tOxns78OBlDTeVXgRJtlgkOA3Uw6zDhymu7cX7dzvrB5fd4o7KQbJJhOrfnsOtdadNj3no7VypaIsk9OH3mL1b9NoGzaO+NNbCe38b5w8+iDLRlLifiUp+geat38Na9sAoo+8z66/Z9K2y4NYWTsAoFJp0dt7kBL3K3aOrbFz7oChqoDYyM+QZRN2zh0oKYwlKfp7fAJ7WiRT11PcqU0c3bOAgFbPnW8ML5GVsonTETPwCepBu64PXXJb7+BebDuzjc4ma/pItnxuTEOHxLdKfzwkDfmygRnGVNKo4mvJjzhlOe/npfJj5Ak8bWxYXJJDC0lHK8mKfNnAl8YMrJCYr/QnByPvGpPxQsMHkje7FcXMNKXjEfgA7r4jSDj5Nf/e+Seeehs+2r2PeyQHHlO4oJEURFLKB5mpzD10lFd7dG2U6ybcnBpcJ7lw4UJycnI4dOgQn3/+Offcc89tGcgATh75A62VC34hT6BQapAkCUe3brh630XUgcVkJEfiG/IkOhsvADRaRwJaP09VRQ4F2YexdWyJd9A48nMSKCvNB6obZccc/xtZNlJSGMuhzeM4sPE+ju16GklSYqgqYP/6kcQe+5RWne6j7WUCyrUwVJUTHbUar4AH0DtUDwCqUlkT2PoFkCH62OpLbqtQKPhiyACyJANTjQk8a0xEg8STClfUSFTIJlpLVoyQHNgiF6EA7pUcCVRo2ZaUzEvdwjhGKROMZ3nIEMurxnO4oGKqwg2FJNFfYUdnyYaNpkIUMkxRuKGWJLJSNqOz9sQndAqns7NZdjKa/tjSRaGv7tl0figHN4Wav2JiG+W6CU3vTopBqeeOUJCTgF/LZ9BaVT8gaK3c8Gv5FHlZsUTu/xVnz/44e/ZFkiQUChXNgh9FZ+NDZvIG1Bp7gtq8hCwb2bf5S2paeJQW5VCYn4JKbcvxfS9xcON9HNw4lvysg4BE1O5niNjxJDorHUPv/7TRzu/kkeXoHULxChyLJCmRJAVuze7C0a0bJw4vu+y29zzyNS46LZ+a0hlnjCWWCiYpXHFHTblswg4lTyndyMVIpFxKiGTFSMmBtTFxfD3sLkxKiX8Zz/GQIZYJxrOcoIzXFV5YS0p8JA3jFc5EUEqKqZLeClu6S3qyk9ahVGoJaDUVtdqG+UcjsZdUPK5wRXN+PtH2CmuGYMefp2Ma7boJN6cG11ANHz68McpxU6ooK0SjdbFo5wTV4zPlpBWZ///PzwAMVcWUFMaRnVpdM/X1Bx2xtfeiuCgLk7ECkOjUfxG56buoLM/Cxi4YhcqKk/un067L/bTuPBb3Zm0b7dwMVRWYjFXmMbRqKNV6lGobKsoKL7t9H99m7Jr4MF8ePMKK6Bh0BplvTVlskwupQCYYLSGSjjJMmKgeYsHZpKKgooIRzQP5PuIYBRWVFGEiBB0zlT4W3aHdUHGUEsaaYvFGjQ4FhirLa15UWYWrZNn4XSlJOMsqCisuP3SDcOu602IQUOs+rbkHKsuL0Dta1sRKkoTWyhVDVVH1ZOnxywEFR3Z/z5nj66isKKayvHq/viGTUWtsKco7iVrrgLNnf45un4CHdys69pxAUKu7GjRtTEOVlxWi0dWuSdZauVNeevKy22o01mwc2pcVuaX8FBlFfEEhp+UyvjNlkoEBB5QMPD/USzHV7ercUFNhMuFtq6eduxsHUtMoOj/sy7eKAJwuivU1TRKelhOxNSgIRoexqvq6KZRa1BoHiitLcZCUqP/Ro9FNUlN4UQ9v4c5wZ7Sau0pe/mEU5UdTWhRvXmYyVZGTtgVv/y4oVVoyk9dbbJOVvB6QUOucidozDZOpksDW03D27E9hfjL2zp3wDXkCkMnL3IuH3wh8Qx7D2bMP2SmbsNa7Ej7irUZNpgC0VnY4uTYnK2UDF/dLyMvcT1VFPt7+YVfch51Oy1t9evBA61DyMbJLLmKMwokXFO5Yo2CNXIA3apSSRLZcxTHK6OjmypBfl1FSUcV9kiPdsSGeCgq40JC4VDayWy6mJVY8IDmRjYFiqrCxr65Jy0xej06lIczTnR0UWwzlkCxXEm0qo5MYJVm4DXg0a49CqSYreYPF8szk9ShVWlw8Q8lO3YLReGEogfLSNApzjmHn2IZTh94iM/lvmgU/jH/LZygpykZS2ODf6jnUWmeyUjbg4NoV35DH8PS/l+L80xgqC+kxcBot2g5v1GQKoJl/FwqyD1FZnmNeZqgqITdjF80CL/+6bNKBKSgUCh5oFcIvo4YhAcvlPFpJVryi8KC3ZMsKOQ8JaClZYZJltsiFtHB04Ol1G9iXmkaYZMOjUvW4V4cpsdj/FrkQaxQ8JbnihIoISpE0DgAU5Z2kpCSFrl6eJJoqiL1oKAejLLNNLhIx6A4k+qdfRssOozm08zuO73sJD797UWvsyTy3jrKSc3Tt9xHnzu4hLX45VRW5OLhUD5uQkbQaa7sgzkX/iKRQ0b73PJQqK1LOLsHZM5yQTu8hSdXz78Ud+4ySgjPY2AWTm7GH3IzdDBr9UaMHMah+iu095BX+Wvg0J/dPx9mzP+WlKaQn/olPYE98gnrWe1+tXJwxAe8rvQk9X2M0ULLjdeM50qhiqSmXNRTgYKWjqLKKSpOJ1xWe9FbYki8bmGZM5CVjEvcoHFAjscaUjwGZaUp3vCQN7WVrXjcmkxLzK3npO8hK3cILXTrR26cZ41NWM910jsGSPUUYWSMX4Gtnxz0t7uxJc4Xbg7XemU69HufQjvmUl6Zi59SOgtxIspLX063/s2QkR1FRnsWxXc/g7jvifI3UMiSFhvLSDAqyj9Cyywyc3HsQf3IuSqWW9r2/Qa2xQ2flxunD73Bi38u4eA286vv/WnTo8SjHDvzGsT3P4OE7GoVCRXrSKpArCesz5Yrbq9yqR3TXqasf3EbgwJPK6hqv/tjhbVLzjSmLbaZCIigjSi5lVlg3Xtm4jV6SntcVnkiSRJKxkjmmDOLkCgIlLftMxRyghGcUbgxTODBYtmeqMYHsorMkRn9PZsIftHRx5cWunTmUmsbbeSmMwB5HScUWuYizVLDgBs4nKNwcREJVh4ryIqKPraYg9xwde0wgKW4PZ08txGSqwtWzFcMf/A2FUonJWEWz4EfITttGdupW1Fpn9PahFBecrm4L4HM35SXJZKZsoqIsHc+A+83jvTTv8Do6G29SYhchy0b0dp4MGfMpbbrUb/69wrxkTh9bTWV5Ec0Cu+MX1Ms8lEN5eRF7NnxGevIx7By96dxrMmlJhyktycajWQcCQwegUKpo3uZuRjw8ly1/vUtc1GcoFGqC2wzB268zu9Z/iotHCzRaW47uWYChqgJN0QgeMplQ/qMsJ7Ky8VRozMkUgAS0kqw4KZfzkymbls5OjG3ZgjmHjqJCojVWrDLlkSsbeUDhxHZTIT+ZspGBADR8ovTBS6qeCqKNZI0jSvKKzuAgZTAtrBMKSWJzQiKvdu/CH6djmJebiUqS6O/ny9t9e9Srd02V0cTWxCROZmXjbG1FHx9v9iSnkVFSQoizE4MC/NAo/3m2gtD4ZJOJxNidJMcfwMrakS7hTxN18Hcyk/9GZ+1E32H/R1ifKXzzn+64eg2mqjKX+BP/Q1Ko0Nu3oKQgjvTEP1AorbCxb0Hq2WVkp27B2jYQlap6JHBnz76Ehn1E7LFPKYj6DJXaitad76Xf8LfrNShnVWX1RMy5WWdxcPYlpN0INNrqXr8mk4kTh5dy4sgylAo1Hbo/ikk2kZl6Ar2dG6HtR2Fl44i13oUHn17G2t9fIvH0fEDG2b0l7btP5sThJeisHGgW0J0jexaQn5OAq0covYe+Zm5cXyMmNw+DLNNPaTncRQeqz/VnOQc7jYaXO4ax8WwCRmTCsWWvXEysqYJgdDiiZJWcj1EGaxS8rPBggKL6laFOUtBbsmWVnEdO/O/cE+xPqLMT849GMrZlCIfS0lkan4jBJBPs4MC3vcPp4uVRr9/1qewctiQkAdDXtxlZpWUcy8jE0cqKYcEBuFqLkdtvFdc8DtX1cDON/5KefIzlP0ygvKwAnZUr5aUZACiUOpQqK6oq8ggI6U+foa/z8+whhHb+N86efTGZDCgUKooLYojcORkntxYUF+by/+3dZ2AU1drA8f/M7GZLNtn0nhASEgid0IsUQQFFRFEUUcGC7dp7b9fyqle9Xnu72EWxothReg29t4T0Xnez2WyZeT9sWIgQJZSbAOf3iezunD27ZJ48c+ac57icFej0QaiqB9XbQFzKFJIzrkeSJFzOSlb/NhlFCcTrrSckIoUpMz/520rnG1d+wm/fPIgs61H0gbiclb5SDtPfpaxoC5+/fQmq17eFg6uxCgBJ1hFgCKWxoYzI2G5ccPVHNDptfPTvsbjcDYSgYMPLvptn4YqRCq8TGV/WHYCMHZUoo4Efp12EWb8/F39jzXrezlrPB3IKRknGq2m8pJbyu1ZHIDJeNJz4fs0UJQCv14UBCS8QikI5HsLRUYkHCbhYCmOasn9bC4emMs27h3hrEJd0z+DppSsxSjIGJGo1LxoQIuloRMWpqdw9eAAzenX/y++wsqGBK+f+xM7qaiJkPdWqGw1fIhgm6ylX3SQHBzNr4nhiLIF/2VZbEjVgjp32EofcLgdfzbqCgpwVBBgj8LjqUDUPaPhX+ZktkVx49Ud8/+nNSEocnTMfbqouLgES6xZchjUskpL8DU1zQDV0+iDcjVUEBqfRbdBz6JtuX21adjN11duQAFmWOHvqf0jrPv4v+1hZtos5b0+j3laG0RyNs6EMkzmUyVd+QHh0Ou+9MJraqjwUnQVV9aBpLtBUDOZoXM5KdLoAzr3sbRJTh/Dp6+dTkr8OEzIyUN8UhUKkAOrx4NFUNCAUHdV40EkKE2fM4rHaj5EkUCLjyamp5azZX3K/HMsQ2fd/t1i18bxaDIAFhRq8yICGAY1Gf8yJQOd/ztUUp+LQ86aS3CyxfNJTxGrq+fyCicz8/meqnU4iZT2lqhsJCJBkAiWZKtXDoLhYXht/BiZ9y2MWmqbx1NIVfLR5G0GSgqZpOJrmnEbIempVD5Is8dyYkZyZkty6X6L/IRGD9jusEaq5c+f+/YuaTJw48Yg709ZU1cvcj65Hb4il++A38bjrfJXOO06mQ5eZyLKBqtIl7Fz7OLFJPxObmEnujncwB3XEZEmk0VlBzpb/YAmOwRQYSlXZTlJ63EZM0gQ0TaM450v2bnud4LBeWMN6smfTC8iKkX5jZtPYUMq21ffzy5f3MvnK91vsY1X5Hn79+n5iOpxDcsZ1yIrJX8phxe//YcPKT9Dpg+k69BkCjOFk/TaFkMj+dOp1N/qAYOqqt7A96wEWfPc4xXlr0bkbeUJJpKtkwq55eVktZZVWz0vEUat4edRbSCQ6nlYSWarZec5ZzO2//s4bZ53p79OEtFReyVrHm2oZ18hRLFDr+EOr41Y5mlFSMCrwpVbFR2olQeH9qStbSndM3K7EYpUUdmtOHvEWEoZCIApfa9X00sx0l8w4NJU31FI8aEztlsFTS1cyUQrhcjmCuWo1H1PJ3XIsQyQLLjQ+Uit5Zvkq+sfF0C3y4L0U93li8XLKamw8ryTSAQNXkE1HDNylxBIq6ciWGvmnrYiHFyzhrQljj+WvmXAETpUYBLD01xcozt9A14HPYQ3PZN3CGciynoz+T2I0x+KsL2L7mgf5/tOb6N73Qhb9+DTlRb8TETsKTXVTsPtjGuoLGHrGPyjJX09o5IBm5/+2VfeRs/kV0vrcR0nu99RVbSS9z0OERg5g96bnmTf7Fq65dwBmS/gh+6dpGt9/cjMaZjJHfYgpMAGno4Qdax7hu49vIDapN7VVeXTqdQ9RCWeybfUD2Gt30XXA/2GxpuFqrGbX+qf57uMb6DXoUkry1zFDjuBcvXLGawAAScpJREFUKRQZ+E2r42W1lOmEMEQO4nW1jMWajReVRBrReMxbyLyPrqXbG+VMmTcZgI4hVnpFRvJBZSUdNAMmZJ5XixksWbhRjiZQUtisOXjMW4hL0aF63bhQeV5JpLNkok7z8m9vCVnUM5lQ5lDNbK2KCwhDARZpNlZgp3N4KHf88gdWFzyrdMSNxvXsZZxk5Uo5EiMSa2QHTxcX8/ra9dw+sOW5qL/m5PLR5m3MlCOZIIXwklrCKq2eh5V4XzyWvLyilnL3bwvod9lFhLWw+4TQfhxWQjVp0qTDakySpCOuUtweFGSvwFZTQM+hr2MwRVGUPQe9IZyOGdf7V/qFx5xGZMJYNq+ewwVXf8jnb1/C2gWXYQqMw+koJcBg4fwrZvHVe1diDe9DbAdfgUxJgvjUiygv/I0dax8DTQVJokvfx9Dpg9Dpg0hMv4LdG56h3lZGYNCh98PbuvYr9AFBdOx6I7LiuyUWGjWQ6MQJbFjxCY3OGtJ6309gcArFud+iaR5Se96BTh/kqy8T2o34lIvZvuFt0LxcJkfQtelWnUVS+IcczUrvHhZpNs6RQ5kuR/CcWkI5Hk6Tg1ih2VlZUIymaf6rt7ggC/8cMYyHFi5hsWrHq2n0w8wY2QqAAlxEGAuxkV++HICblGisku92WifJyFQ5nDfVMh6V4rhXK+BebwGhKNhR8aAxIC6GIrudMFnHVVIkiiQxX6tjlBTM0KYrUgMSM+QIFmt2vt6xq8WEyu5y8WtOLldKEXSWTCxRbdhQuUmJJlTy/T+nSAYukcJ4qaCQcodDDLu3sVMlBgFsyZpDdNI5hEb2x1a9BWd9Pt0HvYjR7Bu5NgbGkZxxA1tW3klccj9Su57JzrWPs9f4Kqq3EY/bzpAzbqcgZzkgkdrzDvQBvpGD4NBuJHS6hL3b3qSydDmqt57opHOIiDsdSZJI7XEbq39bwo6N39FnyIxD9q+8eBsVJVvpOuAZTIG++lRGcwwdu/2DTctupt5WTmjUYKITx+NurKG6bCWpPW7HYk1D01QCDKGk9riNNb9PZePKj0jGwAXy/k3mx0pWlmk25ms2zpBCuEGOYrnXzsKmRS9XypE84S5i44JP2DdBQtU0nh59GlfN/YlrHXsJbFpv9Y+mZAp8UwfOl8P4xFuJBlwsR9K5KfYFSwo3KtFM92YTKwfQTTXysVrJV1ShQ8KGiklRuHtQf66c9wtPyQlES3o+9FZgQeYaORJ9U9mEflIgZ3qD+XrbTm4b0LfF26dfb99JV9nEuXIobk1lsWZnqhzeLB7fIEdzuTebH/fkMK272A6nvTushOpU2SzS2VAD4A9cHncdBlPUQWUTjOZYqkoXEBrRkSvv/IOdG+dRWbaL4NB4/5YQXo8LY2D8Qe9hsiRQb8sGzUu/0+f4a8sAGE2+e+5OR02LCZXTUUOAMcKfTB3Yp8ZGW/P+u2zIionCPZ817cNVi8XaGWtEpn/z0RiazzUKQsaM4l9KHCP5nrfhJRo9sehxq14y3/mIbpGhlNrrKbDXE2s20zUinO2V1WiaSqzUvH+SJBEr6SnQ3ChIhP3pVy8GPRoQKOv4SEvlbjWfHMlFkjWYuwf1Z2RyEvf9vogIdP7yCja8REvN+69IEuFehY83b2N+di7TenTlil7dm20DUe9y49W0Zp9NgmaV2wGim36udTaKhKqNnSoxSNM033QDs6+2ndvlW6a/r9bdPoamc9zltDHx0tcpzM1i744/UHQG0nucTXhUJ75491IUndF/a6/5sRqqt56kLleT2OlS/3M6fTA6vcVfN+9Q9sVJg7n5HCFDU59V1evvr8dtBzQaG0pZt/AqHLY96A1hRCeeDch43Y3ESQfPd4xBzyYaADBLCsEo2PbFrKbXf/vhtewKCUbW6dhaUYlBUegSEYZTVal2OglG8SdWB7arHfDvA4WgYETChpdndEnM9lTyEZWEmwxcmd6J2wf0ZXFBUbM+1OElDJ0/mfK/j6Sn0llD5jsfMDY1mdsH9icqsHkMqW5oJFrzxUEnGm60Q8bjQEmhxtl40HcktD+ibMIBYhJ7I0ky5YW/Ab6NQu01O3DY8/yvUVUP5YW/ERHl2wBUrzfSre9kho+/l96DLvPvr2UNS6CyZDEe9/6luG5XLVWlKzBbkgCorVzX7P3Li+ZjNIcREp7cYh/jOvSlvi6b+ro9/sc0zUtF8e/EJvZCkhTKC+cDYAnpitdTT8ner4hKGEtqj9tRdIEU7vkUozkcvaxngVbXrGzCes1BHV4yMAKwQLURiEwCAbg1lUWaDWNQCgHWrqwpKSOlXuImOZquDQqbyiswBKWhSnqWaDacB5QzqNY8rNMcKPogPGgs1+zNPtcCrc6/L5dXgmrJy3md0/jh4smMTPZ9X71jotitOinQfDWm9o0ueQ7of5HmYhdORkhB9GzQ8eLKLJ5YsqLZe0WYTcQFBrJAs6FpGl0kExqwuGlz530WajZCDYZme3YJwvEkSRKxiX2oKJqPpqlYQjojSTp/TNqnvPA3JEkhKr47kiSRkNyfYWPvZvDoWwiP6gRAcvoIvB4HNeWr/MdpmuY7Vg7AaE7AVr212flfW7EGd2MNcR36ttjHyNiuKDqDP87sU9HUJ5M5hMqihXi9TgzmGBRdIAW7P8JgiiS1xx1ExI6gcM+ngEZIZAprtHpqNY+/nQZNZblmp4vki0FbtQbK8fgXvSxQ61AkhZjk89hWU4etwsZMOZLztBB2lVZid0sEWjtTh5dNWkOzz/6HWoeChIzkP//3Wa3V04Dmf59yyUOowcDvl17EXYMHoCgK3SMj0Em+Y8FXjiEXFzna/oTHq2ksUOuIQc8FWgiLd+Uy7evvsf2pNl6f2CiycGDXvFiQSUDPQvXgeFyreegdfegLbKF9OaJVfvX19SxcuJC8vDxcrua/JDfffPMx6VhbCA6Jp3v/i9i8+nWcjkICg9NQdGY2LbuZ+JSLfFvC5M/DYdtLSOih5xfsM2rCI3zx38vYuOR6YjtORtO8FOXMQVVdhMeMRNO87N7wLPV1ewgM7kR12TIqiv5g1DmPougCWmw3vcdZrFzwOltW3kFcxwvRG8IoL/gZe812xkz6L9++fzUlud/gcduarnI10jMfIjzmNACik85h2+r7cDXk0GXQNFYte4/H1CKGS0EUay6+1qp9kzQ1D897i/lDs9FXMrNQs/GDWkOJpJHR7Sa2r7qHyVIoVzQtUR6LlTg1gI/rdpGQdgUFO9/hDm8eE+QQXGh8o1ajohGVcA7luV/wL7WEXZqTDpKBZaqd5dg5TbLws1bLD1otTgWu7N28Ftc5aanMWreJ++0FTJRCSCaALOq5y5vHeDkEG16+UauJQs8/5GjMkkyiamDW1u3M7NOTuCDfCiRFlrmxfyb3L1iMW1UZKgWRgJ6X1BJytEY6SgZWafUs1mzc32+gWOnXDp2sMQhgyBm38tWsGWxZeQdR8WOxhHQmd/s7NDaU+somVG6gNO97JElGklq+Js4cehUr5r/C9jWPEJdyIabARCqK/qC6bDlBod0xWRIpy/+RravuJTJ+NM76Qor3fkFch/50SB3aYrsmcwh9h13NqgWv4XZWYo3oQ13VZkrzvqPnwGlUV2STt3sZG5dcT0yHc9E0LxFxo0nv86D/9pfF2pldG/6PAaNu4KdPbuI2bz6T5BB0SHyn1lCHl1gC+FSt5Cu1mlAUHJqXF70lzNfqSEybjqNuD7GSgRflBH+V8tMkCzd484iPPwNn7S4eVws5TwslVgpggVrHWhyYLCkoOiOLa7biUlWGSUHkay6+0aqJRkep6uJ7ag55/keYTVzSPYOPNm2lXHPTGSNByNznzed8OYwwFH5Va9lDI4/LCfSWzYzUgrjOnstXO3YxvWc3f1uX9ejG19t3cacnn7OxkiGZ+FWr4zG1kOFSMMWai2+ppW90FIMTmo9QCu1Tq1f5rVu3jrPOOguHw0F9fT1hYWFUVFRgNpuJiooiOzu71Z1oL6trAFSvhxV/vMK6Ze/jdFQhSXrMQck4bDlomoegkK6YLB2oKV/CTY9t/su2tm+Yy/xvH8bpqAYgwBCELsCMw1aKTm8mLDKFmspcXI02gkMTGTjqH/Tof/HfLll22CtYOO9Jdmz8Hq/XRVR8D04bexeBQVF88NI4gsP7UFe1CTQPkqQnc9SH1JSvwt1YgyWkCw7bXvZue41Bp99EbXUhuzd+j9vrQgJMwam460twe+sxBITg9jaien1XeSZTNLGpU7HX7qQs/wcel+KwSxqFuIhBT5Aq8yhFmINS0BvCsFWsQW0aYJeQUfTBeNw1SLIJRWdAddWg4lsdE2IyUO5oQAN6RUbw0PAhh5wDVVbv4Nnlq/h5Tw4eTSPVakWSYHdNLRLQWzJzixxNRNOQfKHq4lp1L2NTkpnStTOD4+P83+/cnbt5PWs9e+vqMCsKSdZgcmvraPB6iTAa+Uf/TC7q2vmwlpC3lVNxhc3xiEHQvuJQ9vbfWfLL85QX+WKMyZKMx1WL21WN3hBOZPwYirI/Y/JVH5GcdlqL7djryvjy3UupKNsFmoqsGAi0hGOr9a1+i4ztgquxntqqPHR6M936ns9p4+7928+vqSpZS95mzeJ3qbeVYgqMIHPIdAaM+geznh+NRij22h14Pb4R+tSedxNgCMFeuwuDMYKgsD6sWzCNjl1GEpPQhw3LP8BRXwGA0RCJJOtoaChGkfXIuiA8rio0QCfpiOl0CTqdhfwd73C6amCsHMIGHBiQydTM3K8VUh8QRFBoD2oqstC8DjR8czmlACseVy0gEWCMxOuswIuKDFiNBhpcbpyq+pfnv1dVeWf9Jj7auIUKp5Nwg4FoSyC7q2twqSphKNwix9BX9q0O9moaN3tzUUJMXNW7B2NTO/rLuuyqqua5ZatYUlAIQHpoKNVOJ2UNDQTIMhPSUrlv6EAsAS1fZLe1UzEGtaTVCdXIkSNJT0/njTfewGq1smHDBvR6PZdeeim33HIL559/fqs70Z4C2T6aqjL/24fZtuFH+o3+DE1T0TQvimJkz6YXqa/J4pr7lh1WW05HLcgyRmMQmqbhdjnQ6Y3IsoKqevG4negDzK3+w+31ulG9bvQBvnvzddUFvP3MUIyGcJyNlQShw44HCQkVCUVv8W+dEICELCk4NQ+ZQ68iMrYrP39xB31GvI/JkojX60RRTFQWL2TH2kcBCaMpGmdDCWZJh7NpiF7FN/dg37JjACMyDlQUOQCv6hs96NTzbqISx6N6G5AVAy5nJVnzp/DA0EFUORy8vm4jihyAJMl4vE6mdu3CQ6cNbvE7cXm9eFXNvyx5W0Ul53/xLQ/KcQySfSNRy1U7z6rFeNEIlHxzMPrFRPP6WWf4A5SmaTg8HraWV3Djj/OxuV0ESwq1mpe00BDemTDuoLkP7cmpGMyORwyC9hmHcncv4Yt3ptFjyH8ICu3edF4aqa3cwJYVt3HJP74lNrH337bjcTlxOuswWyKQZRmP21fZW6c37o9JOgOy0rqbFpqq4nY70OvN/jp4H758DnVVZTgbSjBKCl5Nxd10YaUPCMHtqkVGQwMskh6b5iY6NoOzLnmN9/89jvjUS0hKn47X04As61FVFyt+mgh4kWQjaI0oGujQaGxqJxAZV9M8JPDNPbKhoiDhbXosJKIf3Qb9y7/1l6wEsHHxdXS31HFtZk9u/HkBdpeTAH0QLreNTmFhvHv2mS2e/6qm0eD2YNLrkCUJt1flvM+/JrFO5U7FN8etQnPzkLeQfFwEo2DHS3BAAK+ffWaz23iNHg82l4ubf5rPurJygiUFu+YlQFF44cxRjOqQ1Kr/l/+lUzEGtaTVc6jWr1/PHXfcgSzLKIpCY2MjiYmJPPvss9x///3Ho49tQpJlevS/CJezgrwd/wVAlg3UlGdRVvAT3fpOPuy2jGYrxqYALUkSAYZAZFlpalMhwBB4RKMgiqL3J1MAwaEJGI3BmBtreVFJ4lNdCu8qHUnDgEEfRKfutwEwQ47gMyWVT+WOXClHsHbpuyj6AEyB4eRs+Q8etw2dzkyjo5jcHe9gCckgKLQb7oYS7pVj+VRKJhkDMeh5VenAR7pU3lSSSSSAGPR8KqfwsByHrLrR6a1YI/qSv+s9GurzUHRmvB4HOZv/jVkfQKwlkNfXbSQxbToDxn5H/7Hfk9LtZj7dup25u/a09NEJUJRmNV4yIsLpHhHOh1RSqrmp0Tw8qxbTDzMfKql8IqfwuBzP1tIKnl+R5T9OkiR0ksStP/9OkkdhltKRj5VUnlcSqaqx88jCpa3+fxGOr1MlBgEkpQzBGtaBvdvewN1YjU5nxtVYRe62NwiNSCUmoddhtaMLMGIJjkJuSnp0eiM6vW+Okj8mtTKZAl+cDDBY/MkUQFhkR5wNJdwgR/GZnMJsJZWLJN8qvk697kWvmOghmXlfSeFTpSPPKok4S/ew7Jd/0TXzPEr2fomtehuKzoSqecjZ+hpIKh273YSmNjCOID5ROnKxFI4M3CHH8ImSysdKKhOkEACeVBJ4R+lIMgEoQHLXm6mpyKKs4BckOQBJVije+y222u1M7pLGrb8uQmdJo9/oz+k/9jt6Dn2dAgc8vKjli2ZZkggM0CM3xW69InNeRjqLNTsrVDuapvGStxQHKi8qSXyiS+UdpSNxHoWbf5qP64DVqAadjpdWrWVXeRVPyAl8LKfwoZJCb9XE7b/8QbXT2VI3hHak1QmVXq/3n5RRUVHk5fkmbFutVvLz849t79pYdEIPho27h4LdH5P122TWLpjmW6rcIZMBI29o6+4dxFZbgtNZx3Q5nLSmCZ1Rkp6blWga3bUUZs8mXTJzgRyGXpLRSxLny2FkyIFsX/MFE6a+TH3dNrJ+u5A1f0xjzR/TUL2NpPW+D7ejmDMkK8PkIPIlN9k0crUcSQfJAEC8FMB1ShRFuNkpNTJAtnCOFILqriOl+x0g6Vi3YAZr/5hG1m+TsVWs4l9jhjNvdzZBwR1JTJ+BrBiQZR2xHc8nNKIvX2xr3W7tT58+HIdBZqY3hxvVXFQ0blZisEoKkiSRKQdyLla+3bELzwGrxhbmFVDV2MhNB9wq7CyZuEQKZ2FePhWOhpbeUmgDp1IMkmSZCVNfxuUsIuv3i1i3cAZr5l+Ex13G2VNfape3o20VufSVAjlLDkGRJAySzKVyOPGSkYLdH+H2OrhFjiasqURJV8nERVjZtflHBo76ByHhiWxcej1r/riEVb9MojRvHp163EFjQwnB6LhWjsIsKfym1TFCCmaUHIwiSZglmZlyJGEo/KbWESPp+YcSjRdQ1QYi48ewa/1TrP71fNb+NpnszS9yUdcu6GSZGqeDlJ53+zehDgrNID79Shbltu78v6xHV4YlxvOEWsQVag7rcHD5n+LxP6QoyhsaWJpf6D/O5fXy3c7dnCeF0Fv23a2wSjpukqPweFV+3J3T0lsK7UirL0n69OnD6tWrSUtLY8SIETz88MNUVFTw4Ycf0r37X1enPhENHHkDqRlj2LFhLm6Xg6ROQ0lOH+kfYTpeCveuZtlv/6YwZxUBxiC6Zp7PkDG3+rd2OJR9c7Xi/lSyIK5pKa7XVUuYJvG8t5gVWj2gMVCyEKpJZNvKSUwZTP8R17F26fs464uQ5QCSOl+J2ZKE220jrmnn9rqm5ct/fp94fD/XaF6QIE7So2oaRmM4fUbMYtPSfxCsFjO1X0/OTe9EVKCZ9zZsJcDc6aA/DIbARCrrWhdEOoWF8uPUC5i3ew9ztu2ksKKGIKn5/1OcFECD10ujx4suwPdHudrpqwj/5yXLcZJviXWN00mEWRTVay9OtRgUk9iLq+9axNZ1X1FTmUtoZEcyek/CaLIe1/d12CtZ9usLbN/wHR5PI8lppzHkjNuJivvrekgN9ZUk/OlckiSJBBQ2umrRITFfreMXrZZqPKRipK9kRtVUJCSGn3UfC757nMry3YBEZMKZRMSPJnvTi0RLAeiaYkUdnoNKLiiSRAx6/2br+2Kfq6GCtN4PYDDFUrD7Q6b26Mb4TsPoFRXJ59t2ICH5y83sYwpMQENr1fkfoCi8dtYZLC8oYu7O3czdtafFeFzZsH/UyeH20KiqxMnNXxuMgkVWxAjVCaLVI1RPPfUUsbG+X7wnn3yS0NBQrr/+esrLy3nrrbeOeQfbg4jodIaeeScjJzxMSpfRxz2ZKti7ms/fmkpVeSmJna8mNHo065d/zBfvXo7q9bR4XEh4MgE6A4vV5sv/FzeVKDAGJrOaejZqDZwvh3K+HMZmrYGV2AkwhzN/7iMs+/VFgsL60bHbTQSH92L3hmco3vsNQdbOLNEceDWNDpIBPdJBZQYWazZkoJNkQNM0Fqs2dJIeWWdA9TTQ6CjgvM5pzOzT0z8voVd0BHWVWbhdtf52vF4ntWVL6B311yspDyUwQM+Url24vm9vqjUPW/+0bHqxZqNjcHCzrXO6R0agAkv+9HmWqDZCAgJE2YR25lSMQUazlcyhV3D6xEfpM3j6cU+m3C4Hn715EVvXzSUyYQIJnS6nKH8Hs9+YTEXpzr88NjS2C0s1O64DyqbUah7W4yQotBteNGZrlfSVArlSjiRAkvhEq0KRFKrKs/nqv9NxuRSSM64nNnkSlUUL2LbqfgKtndmjNVDcVDYlTTKyrKmQ8D6lmpsdOOncNCK075wOi/GtWnTYdtMhJJR7hwygd3QUkiTRPTICDY2K4oXNPkdF0QKCDaZWn/+yJDE0MZ5Hhw8lSK9vMR73jN5fg9BqCCApyMLiP5Vy2KQ1UKN66BkVidD+tXqEql+//aX0o6Ki+Omnn45phwRY+svzmINT6THkFeSmoqJh0UPZvPwW9myfT1q3Q2+FIssKqqQwV6uhwavSXwpkt9bI11o1ZksHHPW56JD4t5Lkrwg+XrIy05tDYe4q8vYsIbnr9cSn+OoPxyafx+6Nz5G7/S2iEs9hZ/UmHvIWMFa20gUjn6iV1GpeejZtgjxXq6YTBrZrTuartWygAZ0SREnuXEqyP8Oik7i4W5dmfZ7WLYPPtu5ky7Ibiek4BVnWU7L3S1R3LVf2ann10t8ZkZRAt/Bwnqgq4nwplBh8NbdWafX8a8DIZiNi3SIjGJmUyMv5heR5XaQ2lU34Tavjrsz+omxCOyNi0PG3de1XVFXsoc/w/2IOSgYgNnkS6xddxYrfX2bC1JdbPFZW9FTi4W61kHMkKy5UvlSr8UoymqSgATfL0Yxu2knhHC2EJ7xFZGn1LPn5XwSFdqX7oBf9BZVDIweyddXdBFo7oyhG7vHmc4EcRjpGZlPFfd58zmoqm/KFWo0BGYsmM8tbzjdaNRLgrC9kx96vqSpdzv1jDj7/R3RIYunGZ3HY92IJTqOqdBllBT9x16AjP/9Neh1X9+nJi6vWNIvH31LDGckdSA8L9b9WkiRu6J/Jvb8v4mm1mOFSEEW4fdtwRUYwNPHgItFC+3NEdagAysrK2LFjBwBdunQhMlJk0MeCpmkU5qwkueuN/mQKwBreC5MlgYLsFYdMqCpKd7I5aw4et4OY5PNYXLSAX13F6GQj+sAkHPZcZOA0KcifTIFvU+FBkoVFHt9VlK+CsY8kSYTFDKMs/weKcz5DkvVkmwN5zl4C+G6RLdTq+F6rwYxvs+KdNPKMWkwAEr0wscFjY8+mFxiSkMD9Q8cfVHE82hLIR+eO56mlq1ix6XkAesfEcM/pY+l0QMBpLUWWefucsTyzbCUf787BraokBQXx3IARnN0p5aDXv3DGKJ5dvoqvtu/EpaqEBhi4v/9ALhXbPbRbIgYdP3nZywkO7e5PpgAUnZmIuNHk7/nlkMc4HbXs3PwDBdmrCIsZTpmznBdrtgFgDkzC21BCef48dMBIaf+ojyRJjJWtrFTrKSvaSGrPO5vtThEc1gtFF0hR9qeATIM5hLcbKtA0DQsy1Xj5l1qCjO8WmROVF7RSZCAZA9k0kr35RRKCrTw3+tDn/4tjRvLCyiy+2D6bAo+bCLOFB4YOYlr3jKP6Hmf26YlBp+PddRv5taGYQJ2OizIyuG3gwYVTz03vBJrGCyuyWNZQjE6SGN+pIw8MG+yf+C60b61OqGw2GzfccAOzZ8/275mlKAoXXXQRr776Klbr8R2KPhXoAwJxN1Y1e0z1uvC46ggwBDZ7XFNVfv3mfjat+hSp6f67NawnKd1uxOOyoegDcTWUs+aPS9CASu3gW4ZV2r6FxeBurEKn971HSe5csjf9GxlQJBm36qZD51Fk9DyXL2Zdyo1yND0kE3a8BKKQTSO3e/O4jWhGyUF8qlWxU3ax6PKpWAwt11FJCwtl1jljsbtcqJpGsMFwxN/dgUKNRv7v9BE8OnwoDW4PIUZDi5N4d1VV88ueHFyqigmJalcj32zfxVmdUggXm5K2KyIGHX8GgwW3q6rZnp0ArsbKg2IQwK7NP/HDZ7fi8TQiIWMOgh7DXsfjtoGkoNOZWbvgShrs2XjwbfcUcsCfnyp8cUmSdM1in8OWw7YVd+L11GNEwYkXs9nKxdfN4cu3pzHY5uBGJRo7KjokDEhc5c2mC0ZukmMpk9zc6M3lX6NHcFanlBbPf5NexwPDBnHX4P7YXS6sBkOz7aqOlCRJTO/ZjUu7Z1Db2IglIKDFEa96l5uvt++irKEBIxJOTeOPnDzOTU8TI1QniFb/xlx99dWsXLmS77//npqaGmpqavj+++/Jysri2muvPR59PKVIkkRGn3Mpyf0WW812wLfdTe6Od3G76ujSa2Kz129c9QmbVs0mpfutDBo3D0tIBrk7/ovLWYHeEILqdZG95T8oukCMlmQ208DvTdsbaJrGQrWODTgwBkViNIWSs/UVPG479tpd7Nn0AuOkID5RUpkjp/IPOYqta+ZQWbGH8PBkPtAqqMOLVdLhQOUdbzkR6BipBJMtufieWiakpf5lMnUgS0DAMUumDmTU6Qg1Gf+yptWNP/5KlFvmbSWZz5VO/J+SQFFVHY+KsgntjohBx19G70k02Aso3DPbv+9nTXkWFYXz6drnvGavtdWWMO/Tm7CG96f/mC/okHENlaVLqCxZiqKzoChGivd+S4M9m4T0mUjAm2qZf2uqIs3FbLUKCeiaOYnivV9RX7cbTVPZsfoBIl12XlM68IUulReUJOSqIn798h669r+QP6R6NmkNBEkKAUh8oVVRjpdzlDBUSeNdtZwwg4EzUpIPa0VkgKIQZjIdk2TqQIosE2Yy/eXtw+dWrGJTSRmPyHHMUTrxntKRzl4DN/88n9pGsZffiaDVI1Tff/89P//8M8OGDfM/NnbsWN5++23GjRt3TDt3qhp25t0U5a1n45LrCAxOwdVYhbuxhhFnP0h4dHqz125c9SnhMcOITZ4EQFqve9m84nayfp+K2ZKMs74QDY0ufR+jeO9cGusLeEEt4QMqkIByPMiSjojorvQffhXffHANWfMvRJYDCEXhOjnKvxnxeCmE9TSwZeXHjJv6MvNmXcyV9Tl0kA3kqo140TChcIuWx161kc6hodw2qB/t3cK8fMqdTh5XOvg3de6OmWlSGK/vzaOqoYEwMUrVbogYdPwlpAyi/4jrWL3wDUpyv0TRBeKw5ZKQMph+I5onrdvWfQ3IdOp1Nzq9hdjk86itWMf2rAcwmGJQVRfuxipiOkzEZI5CA5ZodlZ79xCNnjxcyEhoSAwcdRMl+RtZv+hqjOZYnI5iHlYSSGoqz5IuGblKC+P/crMYde7jFOxZzv25WSRIJuyalxrVt+PDG1RRpDlB0ni5f2a7nwfp8nr5dsduzpdC6d9UmDgCPbfK0czw5PDTnhwu6trlb1oR2lqrE6rw8PBDDqlbrVZCQ498zsupIHf3ElbNf5nSwo0EBobTbdCl9Bt2NbKiw2GvZPn8l9i56Qe8XjfJacPp2udcaipyCTAGkdFnEpExB59Q9bYKQqN7+382B3Ugc+T7bFxyAw5bNkg64jpeSO7ml2hsKEPRW4mMHYateisAHRLGUF+Xi9NRSHL6CK66ayFb1sxhc9bnxFe7/cnUPkmanvX2cmISepKQMYFda+aQrTrRSTLDEuJICwvF7nZzfUw041I7HjKQeVSVDzZu4fMt26lsaCAjMoJrM3u12bB2pcNXNiGO5iNpiVIAKlDV4BQJVTsiYtCRs9UWs/y3f7Nn80+gaaR0H8fgMbcSHBKHpqpsWPUx65d9QF1tERFR6Zw2/j4ctnI8Hicd0h4gtcvogwqAOuzlBJgi0Ol9iYAs68no/yTZW16hZO9XAEQlTaChLpvyvB9RkIjocC6OumzK3DWEB6cTFjWIneufQJZlLr3pO3Zu+oEta78kb3cxSTQftU5suuhxNdbTe9hVVJTtpqihBgmJkPCOdOl1Dg57Bf1C45l67Q0M+ug6PGWF6KKax5flBUW8uWY9W8orCDeZuKBrZ2b06o7uGI9OHQ6H24PT6yXxT2UTQiUdQbIiauGdIFr9m/Pggw9y++23U1JS4n+spKSEu+66i4ceeuiYdu5ksnvLL3z57qUYczcy1WOmT00tS3/8P376/DZcjXZmv3Ehm9d8RUjU6UQlnMve3StZ+fur9Bt+LcPH33vIZAogPCqVyuJFqOr+uVGq6sLZUIzJkoKkeSjJns0Qp4NL5TCS3A7K8r6nQ5eZ9BnxLrEdJlFXuZrYRF/F5SBrDINOv4meAy5hB41UHTDnyqtpLJcaiE7sxdfvX8XmrM/ohpHpcgS9MbEov5BN5RU8OnwoE9M7tXhV+OAfi3lhxWpS7RIXqCHYSmuZOe9nfsnee+y+8FboFhmOCqxoWs68z1LVTrBeT0Jw+9iGRPARMejIOOwVzH51EnlrvuJsp8yERoWCtV8z+9VzqbeVsWDeE8z/5kFQ4olLuRRHAyz+8WnCojoxZtKTpHUbe8hq6lFx3WmwF1Bfd+DOBhJOex46fTCSpKcs73tia7K5TLJymmShLPcbTJYEMkd+QOfMB6mtWo8pMAKLNRad3kjXzPM547ynAFj2p3ImyzQ7OkVPXU0BP3x8PdaGeqbK4ZwtWWmo3MvaRW9x2rh7GTjqRrJ3yrw3wFdKw1NWiLfcV0xzfk4uV3//EzUlNVyghpBml3hxZRb3/r7o+Hz5f8NqCCDeEsiyP8WgrU1lEw61r6nQ/rR6hOr1119n9+7dJCUlkZTk218oLy8Pg8FAeXk5b775pv+1a9euPXY9PYFpmsaSH56kN2Yek+L8KzZ6qCb+vWEugcEx1FTupfeIWZgtvu80ruMFrFs0g9ULX+eM859usW1FZ6ChPp8tK+4kNnkSXo+Dwj2fomkqwWE9aLBnc7sczSjZt6rmfCmUh9QCdm78F56Mayne+wWqt4HMYVc2a7dH/4tZt/gt7mko4kLNSiAyP2h15NHIOQOm8d2HMzlbsnK9Eg3AZOB9bwVfFJWQU11Dx9CQQ/Z3Z2UV3+7aw01yNGOblk2fr4XyT6mI55evZkzHDv/zFS09oiIZmhDHS4UlFKguUvCVTfhRq+XWPn0x6o54MaxwHIgYdGTWLXsfl62CN+REImRfccmztRCus+ex4veX2bDiIzp0uYaETpcAEJ9yEbvWP82Sn5+jW+ZkFN2h50IGGC0gKWxZeTcJnaZhMEVTVvATNRVZGAM7IGsqfTwBPCjv35i8q2ritfwfsFg7Y6/dQVn+D4yc8DCKsr9QZ0h4BzJ6TeTNjfMo93rIkEys0+r5Tqulz7CrWPLTs4Sj42WlA2bJNzZwuhbMrZ48Fv7wJGMveNbf1nsD3uKBoespfPE13KUFPL9kOb0lM4/K8f5401018e/d2VzZuwddI1pfA+9oSJLE9f368OCCJShe/GUT5mhVdA0P4zQxKf2E0Oq/FJMmTToO3Ti51dvKqKzcy7VybLNkYZQUzGtSBdk7/sAa3sefTAHoAoIIjx3J3l1L/rLt8pLthMWchrO+oGkTY7BGZCLrArFVbcAo6Rgu7R9hUSSJcVIIGxuL2bX+SWIS+3DO1I8Ii0xt1q4pMJQLr/uC3795iP/s8U3MjohM5dyzH6S6PBsVGC+HNDtmvGxljteXMN064OBlwQArCovRIzH6gGXTsiQxTrLyT1sRJfZ64oJargZ/vLw0djTPLF3J5zt306iqhBkM3NmnP1f2Ovkqb5/oRAw6Mvm7FjEAk397JYBwSccgTKzf/juaphLT4Rz/c5IkEdNhIpsKf6GidCfR8Yc+FwpyVmEwhBEY0oWcLa8AKgZzLJEJYykv+BmA8XJ8s0nhZ0jBvEEZ2ZtfxGyJZNSER+gz9IqD2j7zgucwWSL4euUnfOapwmgIYsCwmxk8+hbWL3mXs6VQfzIF0EkykoqRvD0H78H35NLeMOAtvDoXOV+nMfUQ8fgNqZyVhUX/84QKYHKXdLyqymtZ61ngKPLF6pSOPDBs0DGfJC8cH61OqB555JHj0Y+Tmk5nREKiDm+zxx2oeDQVvd5Evb32oOM8rtpmmx8fil5vQqcz03v4u7gbq5BkHTp9MOsWTkdWzLg1FScqgey//VaHF0mSuOKOBYRGJLfYdlhkKhfM/IQGRw1eTyOBQb7KwlvsvmXNdU1bzBzYLkBQQMur+kx6HV406lGxHtCnfVtFGHVtM3k0UK/n8ZHDuHfoQGobG4kwmdErIoi1RyIGHRm9weI/zw5Ui4pO74szblcdOv3+CzC3q8Z37F/EIX2AGa+3gc59HkJVXXg9DgKMEeTv+hBJCkDTXNj+9L52VFRgxNkPkjnkihY3ZtbpjYw65xGGjbuHhvoqzJZwdDrfnCpJkg9qV9M0bHjR6VteLeyua2gxHrs1DZNO38KRx9+Url2Y3CWdckcDlgA9lr+IpUL7c0R/MWpqanjnnXe47777qKry/XFdu3YthYWFf3PkqclotmIJjuYztYpSzQ2AW/Mt6dXQ6DlwGvbaXZTkfu/fdqCmYi2VxQvp2mfSX7at0xsoL/yNuqoNBBjD0emDKcn9lgZ7HpaQzqgSzFIrcDe1W6K5+IJaUruM/stk6kAmcwiW4Gj/FWZG70noZB3vqRXYmpZUOzQv/1Ur0CExtVvLxfDGJHdAL8u8q5bjblo2Xaa5+YJqhsTHtvnkb7NeT6zFIpKpdk7EoNYLj81gg+Zgibp/e5Plqp21Wj2xHftjMFrZu/U1vB7fBGhXYxUFu94nMq47oREdW2w3Kq4rHredvJ2zUBQjBlMUDfZcirLnoNObsYb25BOtmoqm2OfSVN5RK9DrDHTvO6XFZOpAer2R4JA4fzIFEJnYi1+1OrY1bS+lahrfaDWU4abngGkttmU0W0lOG87n1DaLx/9Vy5ElOCOlw9/253hSZJkYS6BIpk5ArR6h2rhxI2PGjMFqtbJ3715mzpxJWFgYX331FXl5eXzwwQfHo58nNLfLQb29EqcugJmevaRKJkpwY9c8aICi09Oj/1Q2rf4XRdmzkRUD9XV7SEwZcshh8ANVV+Si6ALZvPxWAoNT8XoacDqKkGUDZXk/Isl6fvLWskx1ECMFsFt1EBQczaiJjx3x55F1Okad+0/mf30fl3uz6YiBvTTiQePW7unN9sn7s1CTkcdHDuP+PxazRnUQK+nZpToJNxl5ePjQI+6TcOoQMejI1FTmodNZ+D9PMXGSEQko1JzodRZstcWMn/ICcz++jqz5F2IO6oC9ZhcBBjPjpn/ylzWcNq3+DJAp3PMp5QW/EmCMwF67A50+GLerDodUgk1r5CrvXjrJZgpx4cDLuAv+jdF85EVYJ176Bu89N5K73Pl0wIAdL5V4iIrrTp8hM/7y2NMnPcGcNy7gGtteUmUzJbix4eaxPt2w2qrw2GDfR1Yixfwl4fC0OqG6/fbbmTFjBs8++yxBQfuHhs866ywuueSSY9q59qiqPJsV8/9D7u6l6PQGMnqfy4CR1xNgaHnej7OhFlV106nX/bhd1dTU7iAoIBSrYqBwzyfM/+ZhYhJ6Mnz8/dRW5eH1uujY+U46dT3zb6/eVK+L2I7nYrGmU12+ClnWExE7kvzdH1Nfs5m+p11NfPIA8vYsocFexcjEnnTtcz4G49GtXOs58BLcLgfL57/ErsZ69AEWJl96O1dUr/jbYyemd6JHVCRfbd9JuaOB8yLCmdS503Ep6imcfE71GOR2O8la+CZb1n6F21VPYspABp5+U4srgfept5URGj2EiLjTqSr1zc1MDkykMOdLcnctpbYqn37Dr0HSwFZXQnj0RLr3m4I5MOyv260rxWCOpkvfxygr+AWv20Z0hwloqofszf+mc/dRpGSMprY6j/LibXQNjqZ7vyl/Oep1OCzB0Vx43Ry+//RG8irzkGSZ5NQRnDPtNeS/mXMUEp7E5Xf8xpY1X1JauInOQZF063sBtVFpvAdMnwgaID14DZ4y36inpCgo4TFH1Wfh5NbqhGr16tXNVtHsEx8f32wZ88moqnwPH786CUk2ERl3Bm5XHVmL3iF31xIuuu7zZsPRBwq0RGIKjKC2cg2det4JQPbmlynInk1Y9DACrWnUlC1n0Y9PM+GSV+nc8+xDtnMoAcYgqsuW06HLVUTEjQR88x5sVRuJTerDsLF3AdCx84ij+/B/sm75+yyY90+s4b2JTsqkrnozc959jC7XXMaUQ9R8+bOOIVbuGNT/mPZJODWcyjFIVb18PesKCvdmERE/hqDwcPL2/M6ebecx9foviIrr1uKx0fHd2Lb+R1J73k5Y9CBqKtaydeXdGAPjiUkcj9NRyOoFb5DWfTwTLnnlsCqL+9rtQVnRbGQ5gJRuNwK+uUzbVt+PojMy9sJn/6aFI1NVvofP356KJJuIT70Yt6uO/D2/MuftaX8Zj/cxGIPJbOEOwPtzm/7RVHJh+kTggOQKxAiWcLBWJ1QGg4G6urqDHt+5c+dJvznp8t9eQpYD6XXa2/4idtGJ49m49AZ2bpxH18zzD3mcrOgYOPJ6Fsz7J5KkEBTajeK9X5GccT3xqRcBkJh2GduzHmLhD0+R1n0csnx4k7NDI5IpzlvH1lX3Ept8Hl5PA/m7PkTVPCSkDDg2H/xP3C4HS356juikc0jtcbs/8OZsfZ2n/vs5Y8cNwXoYSZUgHIlTOQZlb5tPfvYyug38FyGRvl0IElIvYePS61jyy/OcP+O/LR6bOfRKtqz5ki0rbicu5SJyt72FJaQz3Qe/5N+IPSRyADvXP0VJ/tXEJvU5rD4lp41gU9Yctqy4k8TOM3xlE/J/prpsOYHBx29E50jj8ZF4fy7+5MocGc5t6fMBKHzxtWZJFvgSLZFknZpanVBNnDiRxx9/nM8//xzwLa3Ny8vjnnvuYfLkyce8g+3J3l2LiYg/23/yAgSFdiUopAu5uxb/5QmcOewqVM3LqgWvU5L7LSARk3yu/3lJkolJnsTWlXdRU7n3oDIGLbHXlmIJ6UJt5QZqylcDoOgsmAITqSrb3erP6PG4yFr0JlXl2cQn96VH/0uaDZ9XV+xl46pPcDXaiE2e1OwqNjZ5EkXZn/Fyx+t5sPDdQ1YnFoSjdSrHoNzdizFbkvzJFICiMxGZMJ68nS0nU+BbtTv5qg/5/dtH2LHGt1IyMX26P5kCiIwfTc7Wl8ndtfiwE6rignUEBASjal72bPwXAJKkx2Ltgr12B6rXc1gTzw+0Z+uv7Nj0A4FBkQwYeQMmc4j/OVejneztv7Nn23yiO5x3RPH4aDjKK3myvLfvhwFvYY5sXmJhyrzJBydZLRQ5FrcQTy6tTqief/55LrjgAqKiomhoaGDEiBGUlJQwePBgnnzyyePRx3ZDpzfidTevZKtpGh6PHZ3e+JfHSpJE/+HX0mfIDNYte49FPzyF112Pouw/bl/bf9fWn/ukN3Wkx5BXsVVvQtaZCLKms37RVa1qByBnxx/Mff9qPE1V17et+4ol857m4pvmEhqezPxvHmTjqk/8r/f86bvY97PX4WbzrXPp/u/mGzkLwrFwqscgj6ceTfMiSfv/SHvdNpTDON8Tkvtz2c3zqK7I5r0Xxhx0DqteF6rX1boYpDOiaV76j/kSZ30Rjc5yrKE9KMz5jIb6HCTp8FfMupx23n/xDOpqi/yPrVv0FsPOfoB+p81k1+Yf+fHzO3C76pEk5Yjj8bHkKK9s9vO+yuz7TJ8ICX+8cdBxBfPXHpR4HUp7vSjd13eP2/M3rzx1tDqhslqt/PrrryxdupQNGzZgt9vJzMxkzJgxx6N/7UqXXuewbtmHRCWOx2JNR9M0SnK/ocFeQOeeEw6rDZ3OQI/+F7Ps1xfZu+0NOvW6G1nW426soWD3h8QmZhIccvgnUJde57BywevEJJ2NNbwXmqZRmvcD9XV76NLrgcNuR/V4+O79mUSrMrcriaRhZI1Wz/OuEua8eRH9RlzLxtWz6djtZqISx7N+4Qxyt79D1wH/h04fiNfTQN72tzFbIknoOICsZSV0BzFKJRxzp3IM6tzzHLIWvUXhntnEp16CJEk4bHspzfuOrn0O7wJGkiTCIlNJ6TKawpzPCY8ZisEUjaZ5yd3xLprqJq37+Fb0aQIrfv8PBbs+IjF9OuagDjTYCyjJ/YbOPScgtaIo5ZezLqe+tohb5GhGSkGU4eFVtYzF854gMiaD7z+5idCowXTsdiOF2Z9TmjfvqOLx/4JvPtZ1Bz1uPjucrml/XfOq+78nHlbS1RYSRmfyU49HcdTXwXcn9632wyVp+wqStKG6ujqsVis3Prr5qFefHU+Nzjo+e2sq5UVbCA7tisdtw2HPo9egyxl97uOHPYkTfDu0//j5HegNVkyWDtiqtxIQYGLKNbOJjG25jtOfuRrrmfPONEry1xEU2hWvx4HDtpdu/aYwdvKzh92nrEVvsfCHJ3lOSSRD2l8L6ie1hlfUMizWOEyW7qT3uR+A2soNbF11DwBBIRnU23ajqS7OvewtOnYe6T9+xqprgPZ7lXWis7tc9P/vR9TW1hIcHPz3BwgtOlHi0OKfnmXVglcxBcajN4RRV72F0IgULr72c8yWw6/wXVuVz+w3LqTeXk5waHecjmIaG0oZOeFh+g67qlV9Wj7/JZb9+gLGwFgCDJHYqrcQHJrAxdfNwRIcfVhtqB4P/3mwExMkKzOVKP/jNZqHy73ZWCNSsNWV02/0HBTFiMdtZ/OK26mv3YUlpAuqp/6I47Fw5BqdNl55tLuIQbRihGr58uVUVlYyYcL+zP+DDz7gkUceob6+nkmTJvHyyy9jOImXvhuMwVxy/ZdsW/8tubuXoNeb6NLraZI6DW31yZvR5zyi4rqxafVsbHWl9Og7hh79L8Zsad0mmAGGQC669jN2bpxHzo4/UHQGOvd8jOT0Ea3qU1W5b2PT1D/t7N5J8g2dO2zlRMSn+R+3hvcic+QHbFxyPZpaQeaQy+jRfyoh4UnNjn9vwFvMWHUN3vJCMVFTOCoiBvmcNu5uOqaPYNv6b2h02hgw/GK6Zp7/t7sq/Jk1LJHpt/3Mlqw5FOWvwxzYk+59pxCd0KPVfRo8+hY6dBrG1rVf4Wyopd+wyXTre8FflpP5s0aXHS8aKVLz23Uhko4wdNgd1ZgtSf5pEjq9hZ5DXmbnuqeoKltKt8zJRxyPBeFYOOyE6vHHH2fkyJH+YLZp0yauuuoqZsyYQUZGBs899xxxcXE8+uijx6uv7YJOb6RH/4vo0f+io24rPDqdkRMePvo+6Qx0zTz/qCZhJnUayqbVs1mt1TP0gL3/Vmn1SEBYVBo1ZSuI63hBs2DldtUw9MybWlx+DKA98RY8KJIq4eiIGLRfQspAElIGHnU7RpOVvqddzaF33myduA59ietw5C0ZjMHoZR2rNTuj2T/Skac1UoGH2IiOlBZswuWsJMDoG4mT5AA87lpiE3s32wxZENrCYd/cXr9+PaNHj/b/PHv2bAYOHMjbb7/N7bffzn/+8x//qhvhxNOl10RMphD+rZYyV61mm9bAx94KZquVRMZ2Y8iYW6ipWMPOdU9SW7GO8qLf2brqLkyBYX+byL0/FzbfOpe2v7ksnMhEDDq5ybJMp14TWaLZecVbymbNwe9qHQ97C9HJOsZf9CIGUzBbVt5JRdECairWsXPd49RWrmfAyBvauvuCcPgjVNXV1URH778XvnDhQsaP3z9xsX///uTn5x/b3p3kNFUlP3s59rpSImMzWjV36ni49JYf+OyNC3mrxjcJUgYiE3py8TVz0AUYGXvBcyz+6Tk2r/gNgNikfoy94P8wmv5++wgxSV04WiIGHR9V5dmUFKzHZA6jQ6dhrS5xcCyNu/B53I31/Lr1F37y+jaMNxmtXDDjv4SGJzPlmtn88sU97Fj7KACBQdGMu/AFUjNG/0WrgvC/cdhnTnR0NDk5OSQmJuJyuVi7di2PPbZ/PzibzYZe33a7dJ9oKst2880HM6mpyPY/lpw+inOmvdKqeQfHUnBIPDPvXUZl+R4qi7cTl9yv2YTS7v2mkNHnPKorcggIMBMcmtCq9vfNpxJJlXAkRAw6tjyeRn6ecxfbN3zrf8wSHMvEy94gNrF3m/RJlmXOvfwtnE4b+buXEhQSR0xCT//zEdHpXPKPr6mtysftbiAsIqVNE0BBONBh3/I766yzuPfee1m8eDH33XcfZrOZ0047zf/8xo0bSU09vGKUpzrV6+HrWVfgalTpMeQVBo37kfTMhynIWcX8bx5q6+4RHplKes+zD7k6R1H0RESntzqZ2mdfjZb2uhRYaL9EDDq2lv7yPDs3/UhqzzsZOO4Hep32NpISylezZuBqrG/TvhmNQaR1H9csmTqQNSyRiOh0kUwJ7cphJ1T//Oc/0el0jBgxgrfffpu3336bgIAA//P//e9/OfPMM49LJ082e3ctorY6j7Re9xEc1t1X6TjudBLSZrB9w1waHDVt3cXjSiRVwpEQMejY8XrdbFz5CbEdJxOTNAGdzozFmkZ6n4dxOmrYuWleW3dREE44h53eR0REsGjRImpra7FYLCh/KqU/Z84cLJa2uVV1orHVFIEkE2hNb/Z4UEhnVNVDva2s2VYLJyNx+09oLRGDjh2X046r0YbF2rnZ40ZzDAHGMOqqxcWOILTW4ZewbWK1Wg8KZABhYWHNrhaFloVHp4OmUlOR1ezx6rJV6APMraqUfiITI1XCkRAx6OgZTMGYLVH+/T/3qa/bjctZSURMegtHCoLQklYnVMLRi0/uT0xiH3avf4rSvB+w1+4kb+d7FO75lN6DLyfAENjWXfyf2ZdUectFUiUI/yuyrNB/xDWU5s8jZ+vr2Gq2U144n+1ZD2ENTyY144y27qIgnHDEjL42IEkS501/l5++uJPdG33F6BSdgT5DZjDszLvauHf/e/s2UhaFPwXhf6fvsKtxNzpYvehNirI/AyCh4yDGT3keRSdG+gShtURC1UbMlnDOnzELW20x9XVlhEQkH1Y9p5NR1rISEEmVIPxPSZLE4DG30Pe0q6kq240pMBRrWNLfHygIwiGJW35tLMgaS0xir1M2mdona1mJv5q6uP0nCP87AYZAYhJ7iWRKEI6SSKiEdiNrWQmfn/0lmiYmqguCIAgnFpFQCe2Ko7ySz8/+EhBJlSAIgnDiEAmV0O44yitFSQVBEAThhCISKqHdEkmVIAiCcKIQCZXQromkShAEQTgRiIRKaPdEUtUyT3lxW3dBEARBQCRUwgniwKRKJFY+nrJC4kb0autuCIIgCIiESjiBvDfgLTFa1cRTVkjC6Eyes1/Z1l0RBEEQEAmVcAI61ZMqT1kh8bfdwBO269q6K4IgCEITkVAJJ6RTManyVpb4k6knl/Zu6+4IgiAIBxAJlXDCOpWSKm9lCZrXi/bEWyKZEgRBaIdEQiWc0E6Fyere8kJ/MvX+3LbujSAIgnAoIqESTngn82R1T1khmgabb50rkilBEIR2TCRUwknjZEqqDpwv9d6At8haVtLWXRIEQRD+gkiohJPKyXAL0FPmu8UnJp8LgiCcOHRt3QFBONbeG/AW5shwpsybjKesEEkCJTK+rbv1tw5MAN8b8BYsbcPOCIIgCK0iRqiEk5KjvJL3BryF9sRbaJpvYnd7deBo2uZb5/pH2QRBEIQThxihEk5q78+FfrfOZdymRymYv7ZdjVZ5y30TzhNGZ+4v0inmSgmCIJyQxAiVcNLLWlbCE7br/KNVbT2/at/7x5+eyeZb54qK54IgCCcBMUIlnDLenws03U6bseoa//wqOP6jVvtGo/Z5b8BbYEOMSAmCIJwkREIlnJL2TVy/LX0+hS++1mzESlIUlPCYo2r/zwlU/G038LM2TpQ/EARBOEmJhEo4ZTnKK3myvDc0JVcAFw6uhAevOSjB+luqt1kCBfD52V/uf6+llYBIpgRBEE5WIqESBHzJFTS/LWiODOd255OH3cYLxgf87QBw4L8FQRCEk5pIqAShBY7ySp6gFRPGbSKBEgRBOFWJVX6CIAiCIAhHSSRUgiAIgiAIR0kkVIIgCIIgCEdJJFSCIAiCIAhHSSRUgiAIgiAIR6ldrPLTmgr4uJz2Nu6JIJxY9p0z2p+LYAmtJuKQILSeiEH7SVo7+BYKCgpITExs624IwgkrPz+fhISEtu7GCU3EIUE4ciIGtZOESlVVioqKCAoKQtq3uZogCH9L0zRsNhtxcXHIsriDfzREHBKE1hMxaL92kVAJgiAIgiCcyE7tdFIQBEEQBOEYEAmVIAiCIAjCURIJlSAIgiAIwlESCZUgCIIgCMJREgmVIAiCIAjCURIJlSAIgiAIwlESCZUgCIIgCMJREgmVAIAkSXzzzTctPj9y5EhuvfXW/1l//sqCBQuQJImampq27oogCMeIiEHCiU4kVG2ovLyc66+/nqSkJAwGAzExMYwdO5alS5e2ddfajfYURAXhZCNi0N8TMUg4XO1ic+RT1eTJk3G5XLz//vukpKRQWlrK/PnzqaysbOuuCYJwChAxSBCOHTFC1UZqampYvHgxzzzzDKNGjaJDhw4MGDCA++67j4kTJzZ73dVXX01kZCTBwcGcfvrpbNiwwf/8o48+Su/evXnzzTdJTEzEbDYzZcoUamtr/a9ZvXo1Z5xxBhEREVitVkaMGMHatWuPqv+NjY3ceeedxMfHExgYyMCBA1mwYIH/+ffee4+QkBB+/vlnMjIysFgsjBs3juLiYv9rPB4PN998MyEhIYSHh3PPPfcwffp0Jk2aBMCMGTNYuHAhL730EpIkIUkSe/fu9R+/Zs0a+vXrh9lsZsiQIezYseOoPpMgnEpEDBIxSDi2RELVRiwWCxaLhW+++YbGxsYWX3fhhRdSVlbGjz/+yJo1a8jMzGT06NFUVVX5X7N7924+//xzvvvuO3766SfWrVvHDTfc4H/eZrMxffp0lixZwooVK0hLS+Oss87CZrMdcf9vvPFGli9fzuzZs9m4cSMXXngh48aNY9euXf7XOBwO/vWvf/Hhhx+yaNEi8vLyuPPOO/3PP/PMM3z88cfMmjWLpUuXUldX12wOxUsvvcTgwYOZOXMmxcXFFBcXk5iY6H/+gQce4PnnnycrKwudTseVV155xJ9HEE41IgaJGCQcY5rQZr744gstNDRUMxqN2pAhQ7T77rtP27Bhg//5xYsXa8HBwZrT6Wx2XGpqqvbmm29qmqZpjzzyiKYoilZQUOB//scff9RkWdaKi4sP+b5er1cLCgrSvvvuO/9jgPb111+32NcRI0Zot9xyi6Zpmpabm6spiqIVFhY2e83o0aO1++67T9M0TZs1a5YGaLt37/Y//+qrr2rR0dH+n6Ojo7XnnnvO/7PH49GSkpK0c88995Dvu88ff/yhAdpvv/3mf2zevHkaoDU0NLT4GQRBaE7EIBGDhGNHjFC1ocmTJ1NUVMTcuXMZN24cCxYsIDMzk/feew+ADRs2YLfbCQ8P919NWiwWcnJy2LNnj7+dpKQk4uPj/T8PHjwYVVX9w8+lpaXMnDmTtLQ0rFYrwcHB2O128vLyjqjfmzZtwuv1kp6e3qxfCxcubNYvs9lMamqq/+fY2FjKysoAqK2tpbS0lAEDBvifVxSFvn37HnY/evbs2axtwN++IAh/T8QgEYOEY0dMSm9jRqORM844gzPOOIOHHnqIq6++mkceeYQZM2Zgt9uJjY1tNi9gn5CQkMN+j+nTp1NZWclLL71Ehw4dMBgMDB48GJfLdUR9ttvtKIrCmjVrUBSl2XMWi8X/b71e3+w5SZLQNO2I3vNQDmxfkiQAVFU9Zu0LwqlAxKAjJ2KQcCCRULUzXbt29d/Dz8zMpKSkBJ1OR3JycovH5OXlUVRURFxcHAArVqxAlmU6d+4MwNKlS3nttdc466yzAMjPz6eiouKI+9inTx+8Xi9lZWWcdtppR9SG1WolOjqa1atXM3z4cAC8Xi9r166ld+/e/tcFBATg9XqPuK+CILSOiEEiBglHRtzyayOVlZWcfvrpfPTRR2zcuJGcnBzmzJnDs88+y7nnngvAmDFjGDx4MJMmTeKXX35h7969LFu2jAceeICsrCx/W0ajkenTp7NhwwYWL17MzTffzJQpU4iJiQEgLS2NDz/8kG3btrFy5UqmTZuGyWQ64r6np6czbdo0Lr/8cr766itycnJYtWoVTz/9NPPmzTvsdm666Saefvppvv32W3bs2MEtt9xCdXW1/0oPIDk5mZUrV7J3714qKirE1Z8gHCMiBokYJBxbIqFqIxaLhYEDB/Liiy8yfPhwunfvzkMPPcTMmTN55ZVXAN8Q8g8//MDw4cO54oorSE9P5+KLLyY3N5fo6Gh/W506deL888/nrLPO4swzz6Rnz5689tpr/uffffddqquryczM5LLLLuPmm28mKirqqPo/a9YsLr/8cu644w46d+7MpEmTWL16NUlJSYfdxj333MPUqVO5/PLLGTx4MBaLhbFjx2I0Gv2vufPOO1EUha5duxIZGXnEcy4EQWhOxCARg4RjS9KO5Q1l4X/u0Ucf5ZtvvmH9+vVt3ZWjpqoqGRkZTJkyhX/+859t3R1BEA6DiEGC4CPmUAltJjc3l19++YURI0bQ2NjIK6+8Qk5ODpdccklbd00QhFOAiEHCsSRu+QltRpZl3nvvPfr378/QoUPZtGkTv/32GxkZGW3dNUEQTgEiBgnHkrjlJwiCIAiCcJTECJUgCIIgCMJREgmVIAiCIAjCURIJlSAIgiAIwlESCZUgCIIgCMJREgmVIAiCIAjCURIJlSAIgiAIwlESCZUgCIIgCMJREgmVIAiCIAjCURIJlSAIgiAIwlH6f3/yOwpnbgmoAAAAAElFTkSuQmCC",
            "text/plain": [
              "<Figure size 640x480 with 4 Axes>"
            ]
          },
          "metadata": {},
          "output_type": "display_data"
        }
      ],
      "source": [
        "np.random.seed(30) #reproducible experiments\n",
        "\n",
        "#Choose here the dataset:\n",
        "# X,y,feature_names = load_simple()\n",
        "#X,y,feature_names = load_lista1_dataset()\n",
        "X,y,feature_names = load_iris_first_2_features_and_binary()\n",
        "\n",
        "# we create an instance of SVM and fit out data. We do not scale our\n",
        "# data since we want to plot the support vectors\n",
        "C = 1.0  # SVM regularization parameter\n",
        "\n",
        "svc_with_linear_kernel = svm.SVC(kernel='linear', C=C, verbose=1, shrinking=False)\n",
        "linear_svc = svm.LinearSVC(C=C, max_iter=1e4, dual=True, tol=1e-10)\n",
        "rbf_svm = svm.SVC(kernel='rbf', gamma=0.7, C=C)\n",
        "polynomial_svm = svm.SVC(kernel='poly', degree=3, gamma='auto', C=C, coef0=0)\n",
        "\n",
        "print('#### 1) Linear SVM with LinearSVC #####')\n",
        "#This is restricted to linear SVMs. It does not return the support vectors but the primal perceptron\n",
        "linear_svc.fit(X,y) #https://scikit-learn.org/stable/modules/generated/sklearn.svm.LinearSVC.html\n",
        "print('linear_svc.coef_=',linear_svc.coef_)\n",
        "print('linear_svc.intercept_=',linear_svc.intercept_)\n",
        "#print(linear_svc.offset_)\n",
        "svm_scores = np.zeros((4,))\n",
        "svm_scores[0] = linear_svc.score(X,y)\n",
        "\n",
        "#These are generic SVMs\n",
        "#https://scikit-learn.org/stable/modules/generated/sklearn.svm.SVC.html#sklearn.svm.SVC\n",
        "svc_with_linear_kernel.fit(X,y)\n",
        "rbf_svm.fit(X,y) \n",
        "polynomial_svm.fit(X,y)\n",
        "\n",
        "tuple_of_svms = (svc_with_linear_kernel, rbf_svm, polynomial_svm)\n",
        "\n",
        "print('\\n\\n#### Generic SVMs with SVC #####')\n",
        "for i in range(3):\n",
        "    svm = tuple_of_svms[i]\n",
        "    print('#### ', str(i+2), ') SVM with SVC ####\\n', svm.get_params())\n",
        "    print('svm.n_support_=',svm.n_support_)\n",
        "    print('svm.support_=',svm.support_)\n",
        "    print('svm.support_vectors_=',svm.support_vectors_)\n",
        "    print('svm.dual_coef_=',svm.dual_coef_)\n",
        "    decisions = svm.decision_function(X)\n",
        "    if len(decisions) > 10: #don't show too many numbers\n",
        "        decisions = decisions[:10]\n",
        "    print('At most 10 decisions: svm.decision_function(X)=',decisions)\n",
        "    svm_scores[i+1] = svm.score(X,y)\n",
        "    print('Accuracy via svm.score(X,y)=',svm_scores[i])\n",
        "    if i == 0: #print(svm.coef_) #cannot be used with non-linear SVMs\n",
        "        print('svc_with_linear_kernel.coef_=',svm.coef_)\n",
        "        print('linear_svc.intercept_=',svm.intercept_)\n",
        "        perceptron_weights = convert_linear_SVM_to_perceptron(svm.support_vectors_, svm.dual_coef_)\n",
        "        print('Estimated perceptron_weights=', perceptron_weights)\n",
        "        bias = calculate_intercept(perceptron_weights,svm.support_vectors_,svm.support_,y)\n",
        "        print('Estimated bias=', bias)\n",
        "\n",
        "#Plot:\n",
        "models = (linear_svc, svc_with_linear_kernel, rbf_svm, polynomial_svm)\n",
        "\n",
        "# title for the plots\n",
        "titles = ('LinearSVC (linear kernel)',\n",
        "        'SVC with linear kernel',\n",
        "        'SVC with RBF kernel',\n",
        "        'SVC with polynomial (degree 3) kernel')\n",
        "\n",
        "# Set-up 2x2 grid for plotting.\n",
        "fig, sub = plt.subplots(2, 2)\n",
        "plt.subplots_adjust(wspace=0.4, hspace=0.4)\n",
        "\n",
        "X0, X1 = X[:, 0], X[:, 1]\n",
        "xx, yy = make_meshgrid(X0, X1)\n",
        "\n",
        "for clf, title, ax in zip(models, titles, sub.flatten()):\n",
        "    plot_contours(ax, clf, xx, yy,\n",
        "                  cmap=plt.cm.coolwarm, alpha=0.8)\n",
        "    ax.scatter(X0, X1, c=y, cmap=plt.cm.coolwarm, s=20, edgecolors='k')\n",
        "    ax.set_xlim(xx.min(), xx.max())\n",
        "    ax.set_ylim(yy.min(), yy.max())\n",
        "    ax.set_xlabel(feature_names[0])\n",
        "    ax.set_ylabel(feature_names[1])\n",
        "    ax.set_xticks(())\n",
        "    ax.set_yticks(())\n",
        "    ax.set_title(title)\n",
        "\n",
        "print(titles,'have accuracies:')\n",
        "print('svm_scores=',svm_scores)\n",
        "plt.show()"
      ]
    },
    {
      "cell_type": "code",
      "execution_count": null,
      "metadata": {
        "id": "zSeO5RS3gyeP"
      },
      "outputs": [],
      "source": []
    }
  ],
  "metadata": {
    "kernelspec": {
      "display_name": "federated_learning",
      "language": "python",
      "name": "federated_learning"
    },
    "language_info": {
      "codemirror_mode": {
        "name": "ipython",
        "version": 3
      },
      "file_extension": ".py",
      "mimetype": "text/x-python",
      "name": "python",
      "nbconvert_exporter": "python",
      "pygments_lexer": "ipython3",
      "version": "3.7.10"
    },
    "orig_nbformat": 4,
    "colab": {
      "provenance": []
    }
>>>>>>> c3ec9100a23773a5c9d8f86c5a220f1646a595b9
  },
  "nbformat": 4,
  "nbformat_minor": 0
}