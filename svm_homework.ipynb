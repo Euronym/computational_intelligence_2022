{
 "cells": [
  {
   "cell_type": "markdown",
   "id": "75ac20f6",
   "metadata": {
    "id": "75ac20f6"
   },
   "source": [
    "# Description\n",
    "\n",
    "This notebook is part of an assignment made during the subject of Computational Intelligence, 7th semester at Federal University of Pará.\n",
    "\n",
    "Professor: Aldebaro Klautau\n",
    "\n",
    "Authors:\n",
    "\n",
    "    - Bruno Martins\n",
    "    - Claudio Matheus"
   ]
  },
  {
   "cell_type": "markdown",
   "id": "be6a6684",
   "metadata": {
    "id": "be6a6684"
   },
   "source": [
    "## Packages"
   ]
  },
  {
   "cell_type": "code",
   "execution_count": 20,
   "id": "2d5c652c",
   "metadata": {
    "id": "2d5c652c"
   },
   "outputs": [],
   "source": [
    "import os\n",
    "import seaborn as sns\n",
    "import matplotlib.pyplot as plt\n",
    "import matplotlib as mpl\n",
    "import pandas as pd\n",
    "import numpy as np"
   ]
  },
  {
   "cell_type": "markdown",
   "id": "3d916902",
   "metadata": {
    "id": "3d916902"
   },
   "source": [
    "## Assure the libraries have the same version as used throughout the code"
   ]
  },
  {
   "cell_type": "code",
   "execution_count": 6,
   "id": "f7064d66",
   "metadata": {
    "id": "f7064d66"
   },
   "outputs": [],
   "source": [
    "assert mpl.__version__ == '3.5.3'\n",
    "assert pd.__version__ == '1.3.5'\n",
    "assert np.__version__ == '1.19.5'"
   ]
  },
  {
   "cell_type": "markdown",
   "id": "9cc20ce3",
   "metadata": {
    "id": "9cc20ce3"
   },
   "source": [
    "## Read dataset"
   ]
  },
  {
   "cell_type": "code",
   "execution_count": 7,
   "id": "77d72028",
   "metadata": {
    "id": "77d72028"
   },
   "outputs": [],
   "source": [
    "DATASET_ROOT_PATH = './datasets/svm_homework/'\n",
    "\n",
    "VALIDATION_PATH = os.path.join(DATASET_ROOT_PATH, 'dataset_validation.txt')\n",
    "TRAIN_PATH = os.path.join(DATASET_ROOT_PATH, 'dataset_train.txt')\n",
    "TEST_PATH = os.path.join(DATASET_ROOT_PATH, 'dataset_test.txt')"
   ]
  },
  {
   "cell_type": "code",
   "execution_count": 8,
   "id": "d64ccf27",
   "metadata": {
    "id": "d64ccf27"
   },
   "outputs": [],
   "source": [
    "validation = pd.read_csv(VALIDATION_PATH, header=None)\n",
    "train = pd.read_csv(TRAIN_PATH, header=None)\n",
    "test = pd.read_csv(TEST_PATH, header=None)"
   ]
  },
  {
   "cell_type": "markdown",
   "id": "ef105ee8",
   "metadata": {
    "id": "ef105ee8"
   },
   "source": [
    "## Separate features from labels"
   ]
  },
  {
   "cell_type": "code",
   "execution_count": 9,
   "id": "f7fba6d5",
   "metadata": {
    "id": "f7fba6d5"
   },
   "outputs": [],
   "source": [
    "    X_train, X_test, X_val = train.iloc[:, :-1], test.iloc[:, :-1], validation.iloc[:, :-1]\n",
    "    y_train, y_test, y_val = train.iloc[:, -1], test.iloc[:, -1], validation.iloc[:, -1]"
   ]
  },
  {
   "cell_type": "markdown",
   "id": "b781d8d9",
   "metadata": {
    "id": "b781d8d9"
   },
   "source": [
    "## First Question"
   ]
  },
  {
   "cell_type": "markdown",
   "id": "776e73d6",
   "metadata": {},
   "source": [
    "### Item (A):"
   ]
  },
  {
   "cell_type": "markdown",
   "id": "83f84831",
   "metadata": {},
   "source": [
    "#### Import SVM models"
   ]
  },
  {
   "cell_type": "code",
   "execution_count": 58,
   "id": "eb999486",
   "metadata": {
    "id": "eb999486"
   },
   "outputs": [],
   "source": [
    "from sklearn.svm import SVC, LinearSVC\n",
    "from sklearn.metrics import accuracy_score, confusion_matrix"
   ]
  },
  {
   "cell_type": "markdown",
   "id": "6277b2fd",
   "metadata": {},
   "source": [
    "#### Train the classifiers "
   ]
  },
  {
   "cell_type": "code",
   "execution_count": 59,
   "id": "75826c71",
   "metadata": {
    "id": "75826c71"
   },
   "outputs": [],
   "source": [
    "def train_svm_classifiers(X: list, y: list) -> list:\n",
    "    \"\"\"\n",
    "        Trains 4 different svm classifiers\n",
    "    \"\"\"\n",
    "    models = []\n",
    "    model_1 = LinearSVC()\n",
    "    model_1.fit(X,y)\n",
    "    models.append(model_1)\n",
    "    model_2 = SVC(kernel='linear')\n",
    "    model_2.fit(X,y)\n",
    "    models.append(model_2)\n",
    "    model_3 = SVC(kernel='rbf')\n",
    "    model_3.fit(X,y)\n",
    "    models.append(model_3)\n",
    "    model_4 = SVC(kernel='poly', degree=3)\n",
    "    model_4.fit(X,y)\n",
    "    models.append(model_4)\n",
    "    return models"
   ]
  },
  {
   "cell_type": "code",
   "execution_count": 60,
   "id": "8953cba0",
   "metadata": {
    "id": "8953cba0",
    "outputId": "391626ed-281e-4676-f445-0f7bf0418f70"
   },
   "outputs": [
    {
     "name": "stderr",
     "output_type": "stream",
     "text": [
      "/home/bruno/anaconda3/envs/federated_learning/lib/python3.7/site-packages/sklearn/svm/_base.py:1208: ConvergenceWarning: Liblinear failed to converge, increase the number of iterations.\n",
      "  ConvergenceWarning,\n"
     ]
    }
   ],
   "source": [
    "models = train_svm_classifiers(X_train, y_train)"
   ]
  },
  {
   "cell_type": "code",
   "execution_count": 61,
   "id": "381f3fbb",
   "metadata": {
    "scrolled": false
   },
   "outputs": [
    {
     "data": {
      "image/png": "[encoded data removed]",
      "text/plain": [
       "<Figure size 800x500 with 8 Axes>"
      ]
     },
     "metadata": {},
     "output_type": "display_data"
    }
   ],
   "source": [
    "fig, ax = plt.subplots(nrows=2, ncols=2, figsize=(8,5))\n",
    "\n",
    "y_pred_arr = []\n",
    "\n",
    "heatmap = sns.color_palette('rocket')\n",
    "\n",
    "for model in models:\n",
    "    y_pred_arr.append(model.predict(X_test))\n",
    "\n",
    "linear_svc_cm = confusion_matrix(y_test, y_pred_arr[0])\n",
    "svc_linear_cm = confusion_matrix(y_test, y_pred_arr[1])\n",
    "svc_rbf_cm = confusion_matrix(y_test, y_pred_arr[2])\n",
    "svc_poly_cm = confusion_matrix(y_test, y_pred_arr[3])\n",
    "\n",
    "sns.heatmap(linear_svc_cm, ax=ax[0,0], cmap=heatmap)\n",
    "ax[0,0].set_title(f'Linear Kernel, errors = {np.sum(np.fliplr(linear_svc_cm).diagonal())}')\n",
    "sns.heatmap(svc_linear_cm, ax=ax[0,1], cmap=heatmap)\n",
    "ax[0,1].set_title(f'Linear Kernel SVC, errors = {np.sum(np.fliplr(svc_linear_cm).diagonal())}')\n",
    "sns.heatmap(svc_rbf_cm, ax=ax[1,0], cmap=heatmap)\n",
    "ax[1,0].set_title(f'RBF Kernel, errors = {np.sum(np.fliplr(svc_rbf_cm).diagonal())}')\n",
    "sns.heatmap(svc_poly_cm, ax=ax[1,1], cmap=heatmap)\n",
    "ax[1,1].set_title(f'Polynomial Kernel, errors = {np.sum(np.fliplr(svc_poly_cm).diagonal())}')\n",
    "fig.tight_layout()"
   ]
  },
  {
   "cell_type": "markdown",
   "id": "6e2e76a8",
   "metadata": {},
   "source": [
    "### Item (B):"
   ]
  },
  {
   "cell_type": "markdown",
   "id": "7d64fa02",
   "metadata": {},
   "source": [
    "The decision regions are given by:\n",
    "\n",
    "![DECISION_REGIONS]()\n",
    "\n",
    "The top-right SVM looks the best. Although it has an error, the classes are in general more splitted apart in terms of margin compared to the other models. This will make the model less susceptible to outliers and noisy data."
   ]
  },
  {
   "cell_type": "markdown",
   "id": "31d17d02",
   "metadata": {
    "id": "31d17d02"
   },
   "source": [
    "## Second Question"
   ]
  },
  {
   "cell_type": "markdown",
   "id": "3wKDTyaY9CbZ",
   "metadata": {
    "id": "3wKDTyaY9CbZ"
   },
   "source": [
    "In sckit-learn there is a hyperparameter that crontols the quantities of support vectors of a model. This parameter is called C. Therefore, it works in this way: if C is substantially a high value, then, the numbers of support vectors will be smaller. Alternatively, if C is considerably a low value, then, the quantities of support vectors will be huge.\n",
    "\n",
    "![SVM_C_values](https://raw.githubusercontent.com/Euronym/computational_intelligence_2022/main/images/C_values_SVM.png)\n",
    "\n",
    "In the words, the width of the way between the convex-hull and the hyperplan of the model will be minor for the high value of C, and larger for the low value of C. Provoking, respectively, a decrease of support vectors and an increase of them."
   ]
  },
  {
   "cell_type": "markdown",
   "id": "829994b0",
   "metadata": {
    "id": "829994b0"
   },
   "source": [
    "## Third Question"
   ]
  },
  {
   "cell_type": "markdown",
   "id": "2d7944a1",
   "metadata": {
    "id": "d849e6d3"
   },
   "source": [
    "A prediction using A SVM is made using the formula:\n",
    "\n",
    "\n",
    "$ f(z) = \\left(\\sum\\limits_{n = 0}^{N - 1}\\lambda_{n}K(z,x_{n}) \\right) + b $\n",
    "\n",
    "For a perceptron, the decision function can be written as:\n",
    "     \n",
    "$f(z) = sgn(<w, x> + b)$\n",
    "\n",
    "The Cost $C$ is defined as:\n",
    "\n",
    "$ C = N_{mult} + N_{sum}$\n",
    "\n",
    "With $C_{original} = 2K - 1$. Assuming there are 450 support vectors, the first equation will give a zero $\\lambda$ for most of the training examples. Thus, we don't need to keep many of the examples, only the support vectors.\n",
    "\n",
    "A perceptron doesn't hold the "
   ]
  },
  {
   "cell_type": "markdown",
   "id": "8f6c027e",
   "metadata": {
    "id": "8f6c027e"
   },
   "source": [
    "## Fourth Question"
   ]
  },
  {
   "cell_type": "markdown",
   "id": "2tbULSBx-LZS",
   "metadata": {
    "id": "2tbULSBx-LZS"
   },
   "source": [
    "svm.n_support_= [1 2]\n",
    "\n",
    "svm.support_vectors_= [[ 1. 4.] [-2.  3.] [-2. -5.]]\n",
    "\n",
    "svm.dual_coef_= [[-0.5 -0.3 0.8]]\n",
    "\n",
    "svc.intercept_= [-2]\n",
    "\n",
    "### Item (A):\n",
    "Considering these attributes above, there is below the decision model:\n",
    "\n",
    "$f(z) = -0.5 \\times <z, [1, 4]>  -0.3 \\times <z, [-2, 3]> + 0.8 \\times <z, [1, 4]> -2$\n",
    "\n",
    "\n",
    "### Item (B):\n",
    "For a SVM as a perceptron it's quite similar to the previous models, nevertheless, there is important difference, as we'll see in the next:\n",
    "\n",
    "First of all, it's known that weight $w$ of perceptron defintion ($f(z)= <z, w> + b$) is defined by:\n",
    "\n",
    "$w = \\displaystyle\\sum_{i = 0}^{N-1}\\lambda_{n} x_i$\n",
    "\n",
    "where $\\lambda$ in sckit-learn API is identified by a variable called *dual_coef_*.\n",
    "\n",
    "Therefore, using the general definition of SVM and the associative property of dot product, there is the development of definition of SVM as a perceptron:\n",
    "\n",
    "$f(z) = \\displaystyle\\sum_{i = 0}^{N-1}\\lambda_{n}K(z, x_n) + b$\n",
    "\n",
    "- Assuming that is a linear kernel:\n",
    "\n",
    "$f(z) = \\displaystyle\\sum_{i = 0}^{N-1}\\lambda_{n}<z, x_n> + b$\n",
    "\n",
    "- And finally, using associative property of dot product:\n",
    "\n",
    "$f(z) = \\displaystyle\\sum_{i = 0}^{N-1}<z, \\lambda_{n}x_n> + b$\n",
    "\n",
    "$f(z) = \\displaystyle\\sum_{i = 0}^{N-1}<z, w> + b$\n",
    "\n",
    "Now, applying this definition for the SVM in this problem, we have the final result:\n",
    "\n",
    "$f(z) = <z, [-0.5, 2]> + <z, [0.6, 0.9]> + <z, [-1.6, -4]> -2$\n",
    "\n",
    "### item (C):\n",
    "First of all considering $I(f(z))$ \"indicative\" function, where is defined like this:\n",
    "\n",
    "$I(f(z))=\\begin{cases}\n",
    "    1, & f(z) > 0\\\\\n",
    "    0, & \\text{otherwise}.\n",
    "  \\end{cases}$\n",
    "\n",
    "So, evaluate $f(z)$ for $z = [0, 0]$, we have this:\n",
    "\n",
    "$f([0, 0]) = -0.5 \\times <[0, 0], [1, 4]>  -0.3 \\times <[0, 0], [-2, 3]> + 0.8 \\times <[0, 0], [1, 4]> -2$\n",
    "\n",
    "It's quite clear that dot product between a vector at origin and any other vector result in value 0. Therefore, the result of these three dot product is 0. So:\n",
    "\n",
    "$f([0, 0]) = 0 - 2$\n",
    "\n",
    "$f([0, 0]) = -2$\n",
    "\n",
    "Using this result in \"indicative\" function, we have this:\n",
    "\n",
    "$I(f([0, 0])) = 0$"
   ]
  },
  {
   "cell_type": "markdown",
   "id": "71ecd30f",
   "metadata": {
    "id": "71ecd30f"
   },
   "source": [
    "## Fifth Question"
   ]
  },
  {
   "cell_type": "markdown",
   "id": "b0377546",
   "metadata": {},
   "source": [
    "The general equation is given by:\n",
    "\n",
    "$f(z) = \\left(\\sum\\limits_{n = 0}^{N - 1}\\lambda_{n}K(z,x_{n}) \\right) + b$\n"
   ]
  },
  {
   "cell_type": "markdown",
   "id": "7f496b33",
   "metadata": {},
   "source": [
    "#### Item (A):"
   ]
  },
  {
   "cell_type": "markdown",
   "id": "472d49b0",
   "metadata": {},
   "source": [
    "First of all, it's important to write the correct formula for the kernels. \n",
    "Those are given by:\n",
    "\n",
    "Poly:\n",
    "\n",
    "$ K(z,x_{n}) = <z, x_{n}>^{p}$, p = 3\n",
    "\n",
    "RBF:\n",
    "\n",
    "$K(z,x_{n}) = e^{- \\dfrac{||z - x_{n}||^{2}}{2\\sigma^{2}}} $, $\\sigma = 1$\n",
    "\n",
    "For the 3th case we have:\n",
    "\n",
    "$b = -0.08 \\\\ $ \n",
    "\n",
    "$\\lambda \\in \\left[-0.917,-0.913, -0.913, 0.871, 0.871, 1\\right] \\\\ $ \n",
    "\n",
    "$x \\in \\left[(0, -4), (-1, 2), (3, 3), (-5, -6), (-4, -5), (-2, -2)\\right]$\n",
    "\n",
    "$N = 6$ \n",
    "\n",
    "Hence, the decision function is given by:\n",
    "\n",
    "$f(z) = \\left(\\lambda_{0}<z, (\\alpha_{0}, \\beta_{0})>^3 + \\lambda_{1}<z, (\\alpha_{1}, \\beta_{1})>^3 + \\lambda_{2}<z, (\\alpha_{2}, \\beta_{2})>^3 + \\lambda_{3}<z, (\\alpha_{3}, \\beta_{3})>^3 + \\lambda_{4}<z, (\\alpha_{4}, \\beta_{4})>^3 + \\lambda_{5}<z, (\\alpha_{5}, \\beta_{5})>^3 \\right) - 0.08$\n",
    "\n",
    "$f(z) = \\left(-0.917<z, (0, -4)>^3 - 0.913<z, (-1, 2)>^3 - 0.913<z, (3, 3)>^3 + 0.871 <z, (-5, -6)>^3 +  0.871<z, (-4, -5)>^3 + <z, (-2, -2)>^3 \\right) - 0.08$\n",
    "\n",
    "For the 4th case:\n",
    "\n",
    "$b = -1.79 $\n",
    "\n",
    "$\\lambda \\in \\left[-0.45, -0.27, 0.73\\right]  $\n",
    "\n",
    "$x \\in \\left[(0, -4), (-1, 2), (-2, -2)\\right]$\n",
    "\n",
    "$N = 3$\n",
    "\n",
    "\n",
    "$f(z) = \\left(-0.45 e^{- \\dfrac{||z - (0, -4)||}{2}^{2}} - 0.27 e^{- \\dfrac{||z - (-1, 2)||}{2}^{2}} + 0.73 e^{- \\dfrac{||z - (-2, -2)||}{2}^{2}} \\right) - 1.79$\n",
    "\n",
    "For the linear case, $k(z, x_{n}) = <z, x_{n}>$\n",
    "\n",
    "And,\n",
    "\n",
    "$b = -1.79 $\n",
    "\n",
    "$\\lambda \\in \\left[-0.45, -0.279,  0.73\\right] $\n",
    "\n",
    "$x \\in \\left[(0, -4), (-1, 2), (-2, -2)\\right]$\n",
    "\n",
    "$N = 3$\n",
    "\n",
    "Hence,\n",
    "\n",
    "$f(z) = \\left(-0.45<z, (0, -4)> - 0.27<z, (-1, 2)> + 0.73<z, (-2, -2)> \\right) - 1.79 $"
   ]
  },
  {
   "cell_type": "markdown",
   "id": "1a889ccd",
   "metadata": {
    "id": "22087518"
   },
   "source": [
    "#### Item (B):"
   ]
  },
  {
   "cell_type": "markdown",
   "id": "f252462e",
   "metadata": {},
   "source": []
  },
  {
   "cell_type": "markdown",
   "id": "62a1bc9d",
   "metadata": {},
   "source": [
    "#### Item (C):"
   ]
  },
  {
   "cell_type": "markdown",
   "id": "64b690bb",
   "metadata": {},
   "source": []
  },
  {
   "cell_type": "markdown",
   "id": "6a62c7f2",
   "metadata": {},
   "source": [
    "#### Item (D):"
   ]
  },
  {
   "cell_type": "markdown",
   "id": "433af2af",
   "metadata": {},
   "source": []
  },
  {
   "cell_type": "markdown",
   "id": "a65e6af5",
   "metadata": {},
   "source": [
    "##### subitem (D1):"
   ]
  },
  {
   "cell_type": "markdown",
   "id": "e4f8e6d5",
   "metadata": {},
   "source": []
  },
  {
   "cell_type": "markdown",
   "id": "3d0a4b35",
   "metadata": {},
   "source": [
    "##### subitem (D2):"
   ]
  },
  {
   "cell_type": "markdown",
   "id": "ccb808da",
   "metadata": {},
   "source": []
  },
  {
   "cell_type": "markdown",
   "id": "0ffb2631",
   "metadata": {},
   "source": [
    "##### subitem (D3):"
   ]
  },
  {
   "cell_type": "markdown",
   "id": "7dc531a1",
   "metadata": {},
   "source": []
  },
  {
   "cell_type": "markdown",
   "id": "f53e6409",
   "metadata": {},
   "source": [
    "#### Item (E):"
   ]
  },
  {
   "cell_type": "markdown",
   "id": "40b7f6a6",
   "metadata": {},
   "source": []
  },
  {
   "cell_type": "markdown",
   "id": "e81d7c8e",
   "metadata": {
    "id": "e81d7c8e"
   },
   "source": [
    "## Sixth Question"
   ]
  },
  {
   "cell_type": "code",
   "execution_count": null,
   "id": "33e55083",
   "metadata": {
    "id": "33e55083"
   },
   "outputs": [],
   "source": []
  },
  {
   "cell_type": "markdown",
   "id": "31ff003c",
   "metadata": {
    "id": "31ff003c"
   },
   "source": [
    "## Seventh Question"
   ]
  },
  {
   "cell_type": "markdown",
   "id": "b87f8b33",
   "metadata": {},
   "source": [
    "The code found in ak_svm is"
   ]
  },
  {
   "cell_type": "code",
   "execution_count": 62,
   "id": "6835a002",
   "metadata": {
    "id": "6835a002"
   },
   "outputs": [],
   "source": [
    "from sklearn import svm, datasets"
   ]
  },
  {
   "cell_type": "code",
   "execution_count": 63,
   "id": "51972e99",
   "metadata": {},
   "outputs": [],
   "source": [
    "def load_iris_first_2_features_and_binary():\n",
    "    # import some data to play with\n",
    "    iris = datasets.load_iris()\n",
    "    # Take the first two features. We could avoid this by using a two-dim dataset\n",
    "    X = iris.data[:, :2]\n",
    "    y = iris.target\n",
    "    #make it only two classes:\n",
    "    #y = np.array(iris.target < 1).astype(int) #this is an easier binary problem\n",
    "    y = np.array(iris.target > 1).astype(int) #this is a harder binary problem\n",
    "    feature_names = ('Sepal length', 'Sepal width') #x and y\n",
    "    return X,y,feature_names"
   ]
  },
  {
   "cell_type": "code",
   "execution_count": 64,
   "id": "0a013a5a",
   "metadata": {},
   "outputs": [],
   "source": [
    "def load_lista1_dataset():\n",
    "    #from numpy import genfromtxt\n",
    "    my_data = np.genfromtxt('lista1_dataset.csv', delimiter=',')\n",
    "    X = my_data[:,:2] # two first parameters are input vector\n",
    "    #y = my_data[:,2:]\n",
    "    y = np.ravel(my_data[:,2:],order='C') #convert column vector into 1D array\n",
    "    feature_names = ('x0', 'x1') #x and y\n",
    "    return X,y,feature_names"
   ]
  },
  {
   "cell_type": "code",
   "execution_count": null,
   "id": "7072e75a",
   "metadata": {},
   "outputs": [],
   "source": [
    "def load_simple():\n",
    "    #from numpy import genfromtxt\n",
    "    my_data = np.genfromtxt('simple.csv', delimiter=',')\n",
    "    X = my_data[:,:2] # fish length and weight\n",
    "    y = np.ravel(my_data[:,2:],order='C') #convert column vector into 1D array\n",
    "    feature_names = ('Length', 'Weight') #x and y\n",
    "    return X,y,feature_names"
   ]
  },
  {
   "cell_type": "code",
   "execution_count": null,
   "id": "cc9d5954",
   "metadata": {},
   "outputs": [],
   "source": [
    "def convert_linear_SVM_to_perceptron(support_vectors, dual_coef):\n",
    "    dual_coef = np.ravel(dual_coef,order='C') #convert to a 1D vector\n",
    "    num_support_vectors = len(dual_coef)\n",
    "    if support_vectors.shape[0] != num_support_vectors:\n",
    "        raise Exception('support_vectors.shape[0] != num_support_vectors')\n",
    "    input_space_dimension = support_vectors.shape[1]\n",
    "    perceptron_weights = np.zeros((input_space_dimension))\n",
    "    for sv in range(num_support_vectors):\n",
    "        perceptron_weights += dual_coef[sv] * support_vectors[sv]\n",
    "    return perceptron_weights"
   ]
  },
  {
   "cell_type": "code",
   "execution_count": null,
   "id": "1fae4564",
   "metadata": {},
   "outputs": [],
   "source": [
    "def calculate_intercept(perceptron_weights,support_vectors,support_vector_indices,labels):\n",
    "    '''\n",
    "    https://stats.stackexchange.com/questions/211310/deriving-the-intercept-term-in-a-linearly-separable-and-soft-margin-svm\n",
    "    '''\n",
    "    num_support_vectors = support_vectors.shape[0]\n",
    "    #input_space_dimension = support_vectors.shape[1]\n",
    "    max_negative = -1e30\n",
    "    min_positive = 1e30\n",
    "    for i in range(num_support_vectors):\n",
    "        #note that labels has all training examples, not only support vectors,\n",
    "        #so use support_vector_indices to get the proper index in training set\n",
    "        this_label = labels[support_vector_indices[i]]\n",
    "        this_inner_product = np.inner(perceptron_weights, support_vectors[i])\n",
    "        if this_label > 0:\n",
    "            if this_inner_product < min_positive:\n",
    "                min_positive = this_inner_product\n",
    "        else:\n",
    "            if this_inner_product > max_negative:\n",
    "                max_negative = this_inner_product\n",
    "    return -(max_negative+min_positive)/2.0"
   ]
  },
  {
   "cell_type": "code",
   "execution_count": null,
   "id": "a18860b9",
   "metadata": {},
   "outputs": [],
   "source": [
    "def make_meshgrid(x, y, h=.02):\n",
    "    \"\"\"Create a mesh of points to plot in\n",
    "\n",
    "    Parameters\n",
    "    ----------\n",
    "    x: data to base x-axis meshgrid on\n",
    "    y: data to base y-axis meshgrid on\n",
    "    h: stepsize for meshgrid, optional\n",
    "\n",
    "    Returns\n",
    "    -------\n",
    "    xx, yy : ndarray\n",
    "    \"\"\"\n",
    "    x_min, x_max = x.min() - 1, x.max() + 1\n",
    "    y_min, y_max = y.min() - 1, y.max() + 1\n",
    "    xx, yy = np.meshgrid(np.arange(x_min, x_max, h),\n",
    "                         np.arange(y_min, y_max, h))\n",
    "    return xx, yy"
   ]
  },
  {
   "cell_type": "code",
   "execution_count": null,
   "id": "d9414cec",
   "metadata": {},
   "outputs": [],
   "source": [
    "def plot_contours(ax, clf, xx, yy, **params):\n",
    "    \"\"\"Plot the decision boundaries for a classifier.\n",
    "\n",
    "    Parameters\n",
    "    ----------\n",
    "    ax: matplotlib axes object\n",
    "    clf: a classifier\n",
    "    xx: meshgrid ndarray\n",
    "    yy: meshgrid ndarray\n",
    "    params: dictionary of params to pass to contourf, optional\n",
    "    \"\"\"\n",
    "    Z = clf.predict(np.c_[xx.ravel(), yy.ravel()])\n",
    "    Z = Z.reshape(xx.shape)\n",
    "    out = ax.contourf(xx, yy, Z, **params)\n",
    "    return out"
   ]
  },
  {
   "cell_type": "code",
   "execution_count": null,
   "id": "754a4405",
   "metadata": {},
   "outputs": [],
   "source": [
    "np.random.seed(30) #reproducible experiments\n",
    "\n",
    "#Choose here the dataset:\n",
    "# X,y,feature_names = load_simple()\n",
    "#X,y,feature_names = load_lista1_dataset()\n",
    "X,y,feature_names = load_iris_first_2_features_and_binary()\n",
    "\n",
    "# we create an instance of SVM and fit out data. We do not scale our\n",
    "# data since we want to plot the support vectors\n",
    "C = 1.0  # SVM regularization parameter\n",
    "\n",
    "svc_with_linear_kernel = svm.SVC(kernel='linear', C=C, verbose=1, shrinking=False)\n",
    "linear_svc = svm.LinearSVC(C=C, max_iter=1e4, dual=True, tol=1e-10)\n",
    "rbf_svm = svm.SVC(kernel='rbf', gamma=0.7, C=C)\n",
    "polynomial_svm = svm.SVC(kernel='poly', degree=3, gamma='auto', C=C, coef0=0)\n",
    "\n",
    "print('#### 1) Linear SVM with LinearSVC #####')\n",
    "#This is restricted to linear SVMs. It does not return the support vectors but the primal perceptron\n",
    "linear_svc.fit(X,y) #https://scikit-learn.org/stable/modules/generated/sklearn.svm.LinearSVC.html\n",
    "print('linear_svc.coef_=',linear_svc.coef_)\n",
    "print('linear_svc.intercept_=',linear_svc.intercept_)\n",
    "#print(linear_svc.offset_)\n",
    "svm_scores = np.zeros((4,))\n",
    "svm_scores[0] = linear_svc.score(X,y)\n",
    "\n",
    "#These are generic SVMs\n",
    "#https://scikit-learn.org/stable/modules/generated/sklearn.svm.SVC.html#sklearn.svm.SVC\n",
    "svc_with_linear_kernel.fit(X,y)\n",
    "rbf_svm.fit(X,y) \n",
    "polynomial_svm.fit(X,y)\n",
    "\n",
    "tuple_of_svms = (svc_with_linear_kernel, rbf_svm, polynomial_svm)\n",
    "\n",
    "print('\\n\\n#### Generic SVMs with SVC #####')\n",
    "for i in range(3):\n",
    "    svm = tuple_of_svms[i]\n",
    "    print('#### ', str(i+2), ') SVM with SVC ####\\n', svm.get_params())\n",
    "    print('svm.n_support_=',svm.n_support_)\n",
    "    print('svm.support_=',svm.support_)\n",
    "    print('svm.support_vectors_=',svm.support_vectors_)\n",
    "    print('svm.dual_coef_=',svm.dual_coef_)\n",
    "    decisions = svm.decision_function(X)\n",
    "    if len(decisions) > 10: #don't show too many numbers\n",
    "        decisions = decisions[:10]\n",
    "    print('At most 10 decisions: svm.decision_function(X)=',decisions)\n",
    "    svm_scores[i+1] = svm.score(X,y)\n",
    "    print('Accuracy via svm.score(X,y)=',svm_scores[i])\n",
    "    if i == 0: #print(svm.coef_) #cannot be used with non-linear SVMs\n",
    "        print('svc_with_linear_kernel.coef_=',svm.coef_)\n",
    "        print('linear_svc.intercept_=',svm.intercept_)\n",
    "        perceptron_weights = convert_linear_SVM_to_perceptron(svm.support_vectors_, svm.dual_coef_)\n",
    "        print('Estimated perceptron_weights=', perceptron_weights)\n",
    "        bias = calculate_intercept(perceptron_weights,svm.support_vectors_,svm.support_,y)\n",
    "        print('Estimated bias=', bias)\n",
    "\n",
    "#Plot:\n",
    "models = (linear_svc, svc_with_linear_kernel, rbf_svm, polynomial_svm)\n",
    "\n",
    "# title for the plots\n",
    "titles = ('LinearSVC (linear kernel)',\n",
    "        'SVC with linear kernel',\n",
    "        'SVC with RBF kernel',\n",
    "        'SVC with polynomial (degree 3) kernel')\n",
    "\n",
    "# Set-up 2x2 grid for plotting.\n",
    "fig, sub = plt.subplots(2, 2)\n",
    "plt.subplots_adjust(wspace=0.4, hspace=0.4)\n",
    "\n",
    "X0, X1 = X[:, 0], X[:, 1]\n",
    "xx, yy = make_meshgrid(X0, X1)\n",
    "\n",
    "for clf, title, ax in zip(models, titles, sub.flatten()):\n",
    "    plot_contours(ax, clf, xx, yy,\n",
    "                  cmap=plt.cm.coolwarm, alpha=0.8)\n",
    "    ax.scatter(X0, X1, c=y, cmap=plt.cm.coolwarm, s=20, edgecolors='k')\n",
    "    ax.set_xlim(xx.min(), xx.max())\n",
    "    ax.set_ylim(yy.min(), yy.max())\n",
    "    ax.set_xlabel(feature_names[0])\n",
    "    ax.set_ylabel(feature_names[1])\n",
    "    ax.set_xticks(())\n",
    "    ax.set_yticks(())\n",
    "    ax.set_title(title)\n",
    "\n",
    "print(titles,'have accuracies:')\n",
    "print('svm_scores=',svm_scores)\n",
    "plt.show()"
   ]
  }
 ],
 "metadata": {
  "colab": {
   "provenance": []
  },
  "kernelspec": {
   "display_name": "federated_learning",
   "language": "python",
   "name": "federated_learning"
  },
  "language_info": {
   "codemirror_mode": {
    "name": "ipython",
    "version": 3
   },
   "file_extension": ".py",
   "mimetype": "text/x-python",
   "name": "python",
   "nbconvert_exporter": "python",
   "pygments_lexer": "ipython3",
   "version": "3.7.10"
  }
 },
 "nbformat": 4,
 "nbformat_minor": 5
}
