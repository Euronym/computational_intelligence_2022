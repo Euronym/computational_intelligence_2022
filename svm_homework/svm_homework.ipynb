{
  "cells": [
    {
      "cell_type": "markdown",
      "metadata": {
        "id": "APuNV43Xxmh_"
      },
      "source": [
        "# Description\n",
        "\n",
        "This notebook is part of an assignment made during the subject of Computational Intelligence, 7th semester at Federal University of Pará.\n",
        "\n",
        "Professor: Aldebaro Klautau\n",
        "\n",
        "Authors:\n",
        "\n",
        "- Bruno Santos Martins\n",
        "- Claudio Matheus Modesto"
      ]
    },
    {
      "cell_type": "markdown",
      "metadata": {
        "id": "bJpaMZxExmiO"
      },
      "source": [
        "## Packages"
      ]
    },
    {
      "cell_type": "code",
      "execution_count": 1,
      "metadata": {
        "id": "uU1S79cHxmiU"
      },
      "outputs": [],
      "source": [
        "import os\n",
        "import seaborn as sns\n",
        "import matplotlib.pyplot as plt\n",
        "import matplotlib as mpl\n",
        "import pandas as pd\n",
        "import numpy as np"
      ]
    },
    {
      "cell_type": "markdown",
      "metadata": {
        "id": "ZvSU-khCxmid"
      },
      "source": [
        "## Assure the libraries have the same version as used throughout the code"
      ]
    },
    {
      "cell_type": "code",
      "execution_count": null,
      "metadata": {
        "id": "JV0DptgVxmii"
      },
      "outputs": [],
      "source": [
        "assert mpl.__version__ == '3.5.3'\n",
        "assert pd.__version__ == '1.3.5'\n",
        "assert np.__version__ == '1.19.5'"
      ]
    },
    {
      "cell_type": "markdown",
      "metadata": {
        "id": "PEmZvCLkxmim"
      },
      "source": [
        "## Read dataset"
      ]
    },
    {
      "cell_type": "code",
      "execution_count": 3,
      "metadata": {
        "id": "tp_u3hKrxmis"
      },
      "outputs": [],
      "source": [
        "DATASET_ROOT_PATH = '../datasets/svm_homework/'\n",
        "\n",
        "VALIDATION_PATH = os.path.join(DATASET_ROOT_PATH, 'dataset_validation.txt')\n",
        "TRAIN_PATH = os.path.join(DATASET_ROOT_PATH, 'dataset_train.txt')\n",
        "TEST_PATH = os.path.join(DATASET_ROOT_PATH, 'dataset_test.txt')"
      ]
    },
    {
      "cell_type": "code",
      "execution_count": 4,
      "metadata": {
        "id": "3hvNiM2Jxmiv"
      },
      "outputs": [],
      "source": [
        "validation = pd.read_csv(VALIDATION_PATH, header=None)\n",
        "train = pd.read_csv(TRAIN_PATH, header=None)\n",
        "test = pd.read_csv(TEST_PATH, header=None)"
      ]
    },
    {
      "cell_type": "markdown",
      "metadata": {
        "id": "Rt9Uwc1uxmi0"
      },
      "source": [
        "## Separate features from labels"
      ]
    },
    {
      "cell_type": "code",
      "execution_count": 5,
      "metadata": {
        "id": "sCbn0zygxmi9"
      },
      "outputs": [],
      "source": [
        "X_train, X_test, X_val = train.iloc[:, :-1], test.iloc[:, :-1], validation.iloc[:, :-1]\n",
        "y_train, y_test, y_val = train.iloc[:, -1], test.iloc[:, -1], validation.iloc[:, -1]"
      ]
    },
    {
      "cell_type": "markdown",
      "metadata": {
        "id": "4yOQpX9cxmjC"
      },
      "source": [
        "## First Question"
      ]
    },
    {
      "cell_type": "markdown",
      "metadata": {
        "id": "PB_NaDO7xmjG"
      },
      "source": [
        "### Item (A):\n"
      ]
    },
    {
      "cell_type": "markdown",
      "metadata": {
        "id": "bpsJp3xOxmjL"
      },
      "source": [
        "LinearSVC = 2 errors\n",
        "\n",
        "SVC with linear kernel = 1 errors\n",
        "\n",
        "SVC with RBF kernel = 1 errors\n",
        "\n",
        "SVC with polynomial = 0 errors"
      ]
    },
    {
      "cell_type": "markdown",
      "metadata": {
        "id": "LfZL0YZExmjP"
      },
      "source": [
        "### Item (B):"
      ]
    },
    {
      "cell_type": "markdown",
      "metadata": {
        "id": "NszNLOUgxmjR"
      },
      "source": [
        "The top-right SVM looks the best. Although it has an error, the classes are in general more splitted apart in terms of margin compared to the other models. This will make the model less susceptible to outliers and noisy data."
      ]
    },
    {
      "cell_type": "markdown",
      "metadata": {
        "id": "aeLBUxE3xmjU"
      },
      "source": [
        "## Second Question"
      ]
    },
    {
      "cell_type": "markdown",
      "metadata": {
        "id": "IOYeObj7xmjW"
      },
      "source": [
        "In sckit-learn there is a hyperparameter that crontols the quantities of support vectors of a model. This parameter is called C. Therefore, it works in this way: if C is substantially a high value, then, the numbers of support vectors will be smaller. Alternatively, if C is considerably a low value, then, the quantities of support vectors will be huge. A great example of this, can be seen in picture below, where it is possible verify the behavior of the amount of support vectors and the width of the way when the C value takes on two different values.\n",
        "\n",
        "![SVM_C_values](https://raw.githubusercontent.com/Euronym/computational_intelligence_2022/main/images/C_values_SVM.png)\n",
        "\n",
        "In the words, the width of the way between the convex-hull and the hyperplan of the model will be minor for the high value of C, and larger for the low value of C. Provoking, respectively, a decrease of support vectors and an increase of them."
      ]
    },
    {
      "cell_type": "markdown",
      "metadata": {
        "id": "Klsv6jZqxmjb"
      },
      "source": [
        "## Third Question"
      ]
    },
    {
      "cell_type": "markdown",
      "metadata": {
        "id": "JvfVtIPixmje"
      },
      "source": [
        "A prediction using A SVM is made using the formula:\n",
        "\n",
        "\n",
        "$ f(z) = \\left(\\sum\\limits_{n = 0}^{N - 1}\\lambda_{n}K(z,x_{n}) \\right) + b $\n",
        "\n",
        "For a perceptron, the decision function can be written as:\n",
        "     \n",
        "$f(z) = sgn(<w, x> + b)$\n",
        "\n",
        "The Cost $C$ is defined as:\n",
        "\n",
        "$ C = n_{mult} + n_{sum}$\n",
        "\n",
        "For a dot product, there are K multiplications and K - 1 sums. If we consider the bias, one more\n",
        "sum operation will be made. The lambda multiplication counts as one. In that case:\n",
        "\n",
        "$C_{original} = N * (2K - 1 + 1) + 1$\n",
        "\n",
        "$C_{original} = N * 2K + 1$\n",
        "\n",
        "With $C_{original} = N * 2K + 1 $. Assuming there are 450 support vectors, the first equation will give a zero $\\lambda$ for most of the training examples. Thus, we don't need to keep many of the examples, only the support vectors.\n",
        "\n",
        "A perceptron doesn't hold the training data and thus doesn't depend on the number of lambdas. Hence, it's cost is given by:\n",
        "\n",
        "$C_{perceptron} = 2K - 1 + 1$\n",
        "\n",
        "$C_{perceptron} = 2K$\n",
        "\n",
        "The total cost is:\n",
        "\n",
        "\n",
        "$F = \\dfrac{N * 2K + 1}{2K}$"
      ]
    },
    {
      "cell_type": "markdown",
      "metadata": {
        "id": "O1yx3lnsxmji"
      },
      "source": [
        "## Fourth Question"
      ]
    },
    {
      "cell_type": "markdown",
      "metadata": {
        "id": "c7xqRu0axmjk"
      },
      "source": [
        "svm.n_support_= [1 2]\n",
        "\n",
        "svm.support_vectors_= [[ 1. 4.] [-2.  3.] [-2. -5.]]\n",
        "\n",
        "svm.dual_coef_= [[-0.5 -0.3 0.8]]\n",
        "\n",
        "svc.intercept_= [-2]\n",
        "\n",
        "### Item (A):\n",
        "Considering these attributes above, there is below the decision model:\n",
        "\n",
        "$f(z) = -0.5 \\times <z, [1, 4]>  -0.3 \\times <z, [-2, 3]> + 0.8 \\times <z, [1, 4]> -2$\n",
        "\n",
        "\n",
        "### Item (B):\n",
        "For a SVM as a perceptron it's quite similar to the previous models, nevertheless, there is important difference, as we'll see in the next:\n",
        "\n",
        "First of all, it's known that weight $w$ of perceptron defintion ($f(z)= <z, w> + b$) is defined by:\n",
        "\n",
        "$w = \\displaystyle\\sum_{i = 0}^{N-1}\\lambda_{i} x_i$\n",
        "\n",
        "where $\\lambda$ in sckit-learn API is identified by a variable called *dual_coef_*.\n",
        "\n",
        "Therefore, using the general definition of SVM and the associative property of dot product, there is the development of definition of SVM as a perceptron:\n",
        "\n",
        "$f(z) = \\left(\\displaystyle\\sum_{i = 0}^{N-1}\\lambda_{i}K(z, x_i)\\right) + b$\n",
        "\n",
        "- Assuming that is a linear kernel:\n",
        "\n",
        "$f(z) = \\left(\\displaystyle\\sum_{i = 0}^{N-1}\\lambda_{i}<z, x_i>\\right) + b$\n",
        "\n",
        "- And finally, using associative property of dot product:\n",
        "\n",
        "$f(z) = <z, \\displaystyle\\sum_{i = 0}^{N-1}\\lambda_{i}x_i> + b$\n",
        "\n",
        "$f(z) = <z, w> + b$\n",
        "\n",
        "Now, applying this definition for the SVM in this problem, we have the final result:\n",
        "\n",
        "$f(z) = <z, [-0.5, 2]> + <z, [0.6, 0.9]> + <z, [-1.6, -4]> -2$\n",
        "\n",
        "### item (C):\n",
        "First of all considering $I(f(z))$ \"indicative\" function, where is defined like this:\n",
        "\n",
        "$I(f(z))=\\begin{cases}\n",
        "    1, & f(z) > 0\\\\\n",
        "    0, & \\text{otherwise}.\n",
        "  \\end{cases}$\n",
        "\n",
        "So, evaluating $f(z)$ for $z = [0, 0]$, we have this:\n",
        "\n",
        "$f([0, 0]) = -0.5 \\times <[0, 0], [1, 4]>  -0.3 \\times <[0, 0], [-2, 3]> + 0.8 \\times <[0, 0], [1, 4]> -2$\n",
        "\n",
        "It's quite clear that dot product between a vector at origin and any other vector result in value 0. Therefore, the result of these three dot product is 0. So:\n",
        "\n",
        "$f([0, 0]) = 0 - 2$\n",
        "\n",
        "$f([0, 0]) = -2$\n",
        "\n",
        "Using this result in \"indicative\" function, we have this:\n",
        "\n",
        "$I(f([0, 0])) = 0$"
      ]
    },
    {
      "cell_type": "markdown",
      "metadata": {
        "id": "sJvS35syxmjp"
      },
      "source": [
        "## Fifth Question"
      ]
    },
    {
      "cell_type": "markdown",
      "metadata": {
        "id": "0g_R_sU-xmjt"
      },
      "source": [
        "The general equation is given by:\n",
        "\n",
        "$f(z) = \\left(\\sum\\limits_{n = 0}^{N - 1}\\lambda_{n}K(z,x_{n}) \\right) + b$"
      ]
    },
    {
      "cell_type": "markdown",
      "metadata": {
        "id": "pk4Mogahxmjv"
      },
      "source": [
        "#### Item (A):"
      ]
    },
    {
      "cell_type": "markdown",
      "metadata": {
        "id": "GQyAMUPfxmjy"
      },
      "source": [
        "First of all, it's important to write the correct formula for the kernels. \n",
        "Those are given by:\n",
        "\n",
        "Poly:\n",
        "\n",
        "$ K(z,x_{n}) = <z, x_{n}>^{p}$, p = 3\n",
        "\n",
        "RBF:\n",
        "\n",
        "$K(z,x_{n}) = e^{- \\gamma||z - x_{n}||^{2}} $, $\\gamma = 0.7$\n",
        "\n",
        "For the 3th case we have:\n",
        "\n",
        "$b = -0.08 \\\\ $ \n",
        "\n",
        "$\\lambda \\in \\left[-0.917,-0.913, -0.913, 0.871, 0.871, 1\\right] \\\\ $ \n",
        "\n",
        "$x \\in \\left[(0, -4), (-1, 2), (3, 3), (-5, -6), (-4, -5), (-2, -2)\\right]$\n",
        "\n",
        "$N = 6$ \n",
        "\n",
        "Hence, the decision function is given by:\n",
        "\n",
        "$f(z) = \\left(\\lambda_{0}<z, (\\alpha_{0}, \\beta_{0})>^3 + \\lambda_{1}<z, (\\alpha_{1}, \\beta_{1})>^3 + \\lambda_{2}<z, (\\alpha_{2}, \\beta_{2})>^3 + \\lambda_{3}<z, (\\alpha_{3}, \\beta_{3})>^3 + \\lambda_{4}<z, (\\alpha_{4}, \\beta_{4})>^3 + \\lambda_{5}<z, (\\alpha_{5}, \\beta_{5})>^3 \\right) - 0.08$\n",
        "\n",
        "$f(z) = \\left(-0.917<z, (0, -4)>^3 - 0.913<z, (-1, 2)>^3 - 0.913<z, (3, 3)>^3 + 0.871 <z, (-5, -6)>^3 +  0.871<z, (-4, -5)>^3 + <z, (-2, -2)>^3 \\right) - 0.08$\n",
        "\n",
        "For the 4th case:\n",
        "\n",
        "$b = -1.79 $\n",
        "\n",
        "$\\lambda \\in \\left[-0.45, -0.27, 0.73\\right]  $\n",
        "\n",
        "$x \\in \\left[(0, -4), (-1, 2), (-2, -2)\\right]$\n",
        "\n",
        "$N = 3$\n",
        "\n",
        "\n",
        "$f(z) = \\left(-0.45 e^{- 0.7||z - (0, -4)||^{2}}- 0.27 e^{- 0.7||z - (-1, 2)||^{2}} + 0.73 e^{- 0.7||z - (-2, -2)||^{2}} \\right) - 1.79$\n",
        "\n",
        "For the linear case, $k(z, x_{n}) = <z, x_{n}>$\n",
        "\n",
        "And,\n",
        "\n",
        "$b = -1.79 $\n",
        "\n",
        "$\\lambda \\in \\left[-0.45, -0.279,  0.73\\right] $\n",
        "\n",
        "$x \\in \\left[(0, -4), (-1, 2), (-2, -2)\\right]$\n",
        "\n",
        "$N = 3$\n",
        "\n",
        "Hence,\n",
        "\n",
        "$f(z) = \\left(-0.45<z, (0, -4)> - 0.27<z, (-1, 2)> + 0.73<z, (-2, -2)> \\right) - 1.79 $"
      ]
    },
    {
      "cell_type": "markdown",
      "metadata": {
        "id": "03z4NbRcxmj2"
      },
      "source": [
        "#### Item (B):"
      ]
    },
    {
      "cell_type": "markdown",
      "metadata": {
        "id": "HvFYO-aXxmj3"
      },
      "source": [
        "Originally, the function is given by:\n",
        "\n",
        "$f(z) = \\left(\\sum\\limits_{n = 0}^{N - 1}\\lambda_{n}<z,x_{n}> \\right) + b$\n",
        "\n",
        "Where:\n",
        "\n",
        "$w = \\sum\\limits_{n = 0}^{N - 1}\\lambda_{n}x_{n}$\n",
        "\n",
        "Considering the linearity of the dot product, $f(z)$ can be rewritten as:\n",
        "\n",
        "$f(z) = \\left(\\sum\\limits_{n = 0}^{N - 1}<z,\\lambda_{n}x_{n}> \\right) + b$\n",
        "\n",
        "$f(z) = \\left(<z,\\sum\\limits_{n = 0}^{N - 1}\\lambda_{n}x_{n}> \\right) + b$\n",
        "\n",
        "$f(z) = \\left(<z, w> \\right) + b$\n",
        "\n",
        "For the first SVM, w is given by:\n",
        "\n",
        "$ w = \\begin{bmatrix}-0.68 \\\\ -0.1 \\end{bmatrix}$\n",
        "\n",
        "$ b = -0.99$\n",
        "\n",
        "Hence, we have:\n",
        "\n",
        "$f(z) = z_{0}w_{0} + z_{1}w_{1} - 0.99$\n",
        "\n",
        "$f(z) = -0.68z_{0} - 0.1z_{1} - 0.99$\n",
        "\n",
        "For the second SVM:\n",
        "\n",
        "$w = \\sum\\limits_{n = 0}^{N - 1}\\lambda_{n}x_{n}$, N = 3\n",
        "\n",
        "$w = \\lambda_{0}x_{0} + \\lambda_{1}x_{1} + \\lambda_{2}x_{2}$\n",
        "\n",
        "$w = - 0.45 \\begin{bmatrix} 0 \\\\ -4 \\end{bmatrix} - 0.27\\begin{bmatrix} -1 \\\\ 2 \\end{bmatrix}  + 0.73 \\begin{bmatrix} -2 \\\\ -2 \\end{bmatrix} $\n",
        "\n",
        "$ w = \\begin{bmatrix} 0 \\\\ 1.8 \\end{bmatrix} + \\begin{bmatrix} 0.27 \\\\ -0.54 \\end{bmatrix} - \\begin{bmatrix} 1.46 \\\\ 1.46\\end{bmatrix} $\n",
        "\n",
        "$ w = \\begin{bmatrix} 0 + 0.27 - 1.46 \\\\ 1.8 - 0.54 - 1.46\\end{bmatrix}$\n",
        "\n",
        "$w = \\begin{bmatrix} -1.19 \\\\ -0.2 \\end{bmatrix}$\n",
        "\n",
        "Finally:\n",
        "\n",
        "$f(z) = z_{0}w_{0} + z_{1}w_{1} + b, \\hspace{0.2cm} b = -1.8$\n",
        "\n",
        "$f(z) = -1.19z_{0} - 0.2z_{1} - 1.8$"
      ]
    },
    {
      "cell_type": "markdown",
      "metadata": {
        "id": "JayQPcVGxmj8"
      },
      "source": [
        "#### Item (C):"
      ]
    },
    {
      "cell_type": "markdown",
      "metadata": {
        "id": "W0JKhVf4xmj_"
      },
      "source": [
        "First, the weight vector can be written as:\n",
        "\n",
        "$w = \\sum\\limits_{n = 0}^{N - 1}\\lambda_{n}x_{n}$\n",
        "\n",
        "The question provides us the values of $\\lambda$ and $x$. Thus, the summation becomes:\n",
        "\n",
        "$w = \\lambda_{0}x_{0} + \\lambda_{1}x_{1} + \\lambda_{2}x_{2}$\n",
        "\n",
        "$w = -0.45\\begin{bmatrix} 0\\\\ -4\\end{bmatrix} -0.28 \\begin{bmatrix}-1 \\\\ 2 \\end{bmatrix} + 0.74 \\begin{bmatrix} -2\\\\ -2\\end{bmatrix}$\n",
        "\n",
        "$ w = \\begin{bmatrix} 0 \\\\ 1.8 \\end{bmatrix} + \\begin{bmatrix} 0.27 \\\\ -0.54 \\end{bmatrix} - \\begin{bmatrix} 1.46 \\\\ 1.46\\end{bmatrix} $\n",
        "\n",
        "$ w = \\begin{bmatrix} 0 + 0.27 - 1.46 \\\\ 1.8 - 0.54 - 1.46\\end{bmatrix}$\n",
        "\n",
        "$w = \\begin{bmatrix} -1.19 \\\\ -0.2 \\end{bmatrix}$\n",
        "\n",
        "Now that we have the weight vector, the decision function can be written as:\n",
        "\n",
        "$f(z) = z_{0}w_{0} + z_{1}w_{1} + b, \\hspace{0.2cm} b = -1.8$\n",
        "\n",
        "$f(z) = -1.19z_{0} - 0.2z_{1} - 1.8$\n",
        "\n",
        "In a previous question, we deduced a formula to measure the efficiency of this conversion. The formula is:\n",
        "\n",
        "$F = \\dfrac{N * 2K + 1}{2K}$\n",
        "\n",
        "Where N is the number of support vectors and K is the number of features. Thus, $F$ is:\n",
        "\n",
        "$F = \\dfrac{3 * 2 * 2 + 1}{2 * 2}$\n",
        "\n",
        "$F = \\dfrac{13}{4}$\n"
      ]
    },
    {
      "cell_type": "markdown",
      "metadata": {
        "id": "9Trni74VxmkC"
      },
      "source": [
        "#### Item (D):"
      ]
    },
    {
      "cell_type": "markdown",
      "metadata": {
        "id": "a-ia1RDnxmkE"
      },
      "source": [
        "##### subitem (D1):"
      ]
    },
    {
      "cell_type": "markdown",
      "metadata": {
        "id": "23YW3bEGxmkG"
      },
      "source": [
        "For the third SVM there are 6 support vectors\n",
        "\n",
        "For the fourth SVM there are 3 support vectors"
      ]
    },
    {
      "cell_type": "markdown",
      "metadata": {
        "id": "kyVYQo-YxmkI"
      },
      "source": [
        "##### subitem (D2):"
      ]
    },
    {
      "cell_type": "markdown",
      "metadata": {
        "id": "PMKstmHaxmkM"
      },
      "source": [
        "SVM 3: 0 1 2 3 4 5 (indexes)\n",
        "\n",
        "SVM 4: 0 1 5 (indexes)\n",
        "\n",
        "SVM 3: -0.91722233 -0.91351914 -0.91300432  0.87185969  0.8718861   1.\n",
        "\n",
        "SVM 4: -0.00887134 -0.03133903  0.04021037"
      ]
    },
    {
      "cell_type": "markdown",
      "metadata": {
        "id": "j1XcApJUxmkQ"
      },
      "source": [
        "##### subitem (D3):"
      ]
    },
    {
      "cell_type": "markdown",
      "metadata": {
        "id": "sUAsPPhSxmkS"
      },
      "source": [
        "SVM 3: -0.08676121\n",
        "\n",
        "SVM 4: -1.03731897"
      ]
    },
    {
      "cell_type": "markdown",
      "metadata": {
        "id": "mAkxN62PxmkU"
      },
      "source": [
        "#### Item (E):"
      ]
    },
    {
      "cell_type": "code",
      "execution_count": 6,
      "metadata": {
        "id": "VdfSm6mIxmkW"
      },
      "outputs": [],
      "source": [
        "x = np.linspace(-1.1, 1.1, num=10000)\n",
        "\n",
        "points = [-1.00027976, -1.00027976, -0.99977173,  1.00010297,  1.00022828,  0.90993821]\n",
        "\n",
        "sgn_values = np.sign(x)"
      ]
    },
    {
      "cell_type": "code",
      "execution_count": 7,
      "metadata": {
        "id": "ruAtRFcFxmkY",
        "outputId": "4eed6b61-f69d-46f8-bdb7-e08afe2b6a16",
        "colab": {
          "base_uri": "https://localhost:8080/",
          "height": 279
        }
      },
      "outputs": [
        {
          "output_type": "display_data",
          "data": {
            "text/plain": [
              "<Figure size 432x288 with 1 Axes>"
            ],
            "image/png": "[encoded data removed]"
          },
          "metadata": {
            "needs_background": "light"
          }
        }
      ],
      "source": [
        "plt.step(x, sgn_values)\n",
        "plt.ylabel('$f(z)$')\n",
        "plt.xlabel('$z$')\n",
        "for point in points:\n",
        "    plt.scatter(point, np.sign(point))\n",
        "_ = plt.xticks([-1.1, -0.9, -0.7, -0.5, 0, 0.5, 0.7, 0.9, 1.1])"
      ]
    },
    {
      "cell_type": "markdown",
      "metadata": {
        "id": "mSQk4EmGxmke"
      },
      "source": [
        "We can see that the point closest to 0 is the least reliable."
      ]
    },
    {
      "cell_type": "markdown",
      "metadata": {
        "id": "fVDyXCj8xmkh"
      },
      "source": [
        "## Sixth Question"
      ]
    },
    {
      "cell_type": "code",
      "execution_count": 8,
      "metadata": {
        "id": "0mS2C38Vxmkj"
      },
      "outputs": [],
      "source": [
        "## Method obtained by Ageron's github repository\n",
        "def plot_svc_decision_boundary(svm_clf, xmin, xmax):\n",
        "    w = svm_clf.coef_[0]\n",
        "    b = svm_clf.intercept_[0]\n",
        "\n",
        "    # At the decision boundary, w0*x0 + w1*x1 + b = 0\n",
        "    # => x1 = -w0/w1 * x0 - b/w1\n",
        "    x0 = np.linspace(xmin, xmax, 200)\n",
        "    decision_boundary = -w[0]/w[1] * x0 - b/w[1]\n",
        "\n",
        "    margin = 1/w[1]\n",
        "    gutter_up = decision_boundary + margin\n",
        "    gutter_down = decision_boundary - margin\n",
        "\n",
        "    svs = svm_clf.support_vectors_\n",
        "    plt.scatter(svs[:, 0], svs[:, 1], s=180, facecolors='#FFAAAA')\n",
        "    plt.plot(x0, decision_boundary, \"k-\", linewidth=2)\n",
        "    plt.plot(x0, gutter_up, \"k--\", linewidth=2)\n",
        "    plt.plot(x0, gutter_down, \"k--\", linewidth=2)\n"
      ]
    },
    {
      "cell_type": "code",
      "execution_count": 9,
      "metadata": {
        "id": "pupxo82Txmkm",
        "outputId": "5e660993-ab82-4570-97de-0caffe057726",
        "colab": {
          "base_uri": "https://localhost:8080/",
          "height": 323
        }
      },
      "outputs": [
        {
          "output_type": "execute_result",
          "data": {
            "text/plain": [
              "(-2.0, 2.0, -2.0, 2.0)"
            ]
          },
          "metadata": {},
          "execution_count": 9
        },
        {
          "output_type": "display_data",
          "data": {
            "text/plain": [
              "<Figure size 432x288 with 1 Axes>"
            ],
            "image/png": "[encoded data removed]"
          },
          "metadata": {
            "needs_background": "light"
          }
        }
      ],
      "source": [
        "from sklearn import svm\n",
        "from sklearn.preprocessing import StandardScaler\n",
        "\n",
        "## Preprocessing the train and test dataset w/ standard scaler\n",
        "scaler = StandardScaler()\n",
        "X_scaled_train = scaler.fit_transform(X_train)\n",
        "X_scaled_test = scaler.fit_transform(X_test)\n",
        "\n",
        "# Train the model\n",
        "svc = svm.SVC(kernel ='linear', C = 1).fit(X_scaled_train, y_train)\n",
        "\n",
        "# Plot the chart\n",
        "plt.subplot(122)\n",
        "plt.plot(X_scaled_train[:, 0][y_train==1], X_scaled_train[:, 1][y_train==1], \"bo\")\n",
        "plt.plot(X_scaled_train[:, 0][y_train==0], X_scaled_train[:, 1][y_train==0], \"ms\")\n",
        "plot_svc_decision_boundary(svc, -2, 2)\n",
        "plt.xlabel(\"$x_0$\", fontsize=20)\n",
        "plt.ylabel(\"$x_1$  \", fontsize=20, rotation=0)\n",
        "plt.title(\"SVM with linear Kernel\", fontsize=16)\n",
        "plt.axis([-2, 2, -2, 2])"
      ]
    },
    {
      "cell_type": "markdown",
      "metadata": {
        "id": "_f6R8pjdxmkq"
      },
      "source": [
        "Some information about the model"
      ]
    },
    {
      "cell_type": "code",
      "execution_count": 10,
      "metadata": {
        "id": "e5vaY0HAxmkt",
        "outputId": "335b7ee0-c424-4ec3-96e6-413f59e6134c",
        "colab": {
          "base_uri": "https://localhost:8080/"
        }
      },
      "outputs": [
        {
          "output_type": "stream",
          "name": "stdout",
          "text": [
            "Number of Support Vectors: [2 2]\n",
            "Support Vectors Index: [0 1 4 5]\n",
            "Support Vectors: \n",
            "[[ 0.57035183 -0.58554004]\n",
            " [ 0.19011728  1.17108009]\n",
            " [-0.95058638 -0.87831007]\n",
            " [-0.19011728  0.        ]]\n"
          ]
        }
      ],
      "source": [
        "print(f'Number of Support Vectors: {svc.n_support_}')\n",
        "print(f'Support Vectors Index: {svc.support_}')\n",
        "print(f'Support Vectors: \\n{svc.support_vectors_}')"
      ]
    },
    {
      "cell_type": "markdown",
      "metadata": {
        "id": "CDxB-Idqxmkv"
      },
      "source": [
        "### Results in test dataset"
      ]
    },
    {
      "cell_type": "code",
      "execution_count": 11,
      "metadata": {
        "id": "POkn75Gmxmky",
        "outputId": "0e1c935a-d002-40d9-bea9-1a01b2437c40",
        "colab": {
          "base_uri": "https://localhost:8080/"
        }
      },
      "outputs": [
        {
          "output_type": "stream",
          "name": "stdout",
          "text": [
            "\n",
            "\n",
            "Labels: [0 0 1 1]\n",
            "Predict: [0 0 1 1]\n"
          ]
        }
      ],
      "source": [
        "## get the labels\n",
        "y = np.ravel(test[2],order='C')\n",
        "print(f'\\n\\nLabels: {y}\\nPredict: {svc.predict(X_scaled_test)}')"
      ]
    },
    {
      "cell_type": "markdown",
      "source": [
        "### SVM to Perceptron"
      ],
      "metadata": {
        "id": "nMFWrzGayOKp"
      }
    },
    {
      "cell_type": "code",
      "source": [
        "def svm_to_perceptron(support_vectors, dual_coef):\n",
        "    dual_coef = np.ravel(dual_coef, order='C')\n",
        "    num_support_vectors = len(dual_coef)\n",
        "    if support_vectors.shape[0] != num_support_vectors:\n",
        "        raise Exception('support_vectors.shape[0] != num_support_vectors')\n",
        "    input_space_dimension = support_vectors.shape[1]\n",
        "    perceptron_weights = np.zeros((input_space_dimension))\n",
        "    for sv in range(num_support_vectors):\n",
        "        perceptron_weights += dual_coef[sv] * support_vectors[sv]\n",
        "    return perceptron_weights\n",
        "\n",
        "w = svm_to_perceptron(svc.support_vectors_, svc.dual_coef_)\n",
        "print(f'W by Manual conversion: {w}')\n",
        "print(f'W by sklearn API: {svc.coef_}')"
      ],
      "metadata": {
        "id": "mKJpRCbTyQ5F",
        "colab": {
          "base_uri": "https://localhost:8080/"
        },
        "outputId": "07a4361b-6741-45be-c99c-4325b59ecbec"
      },
      "execution_count": 12,
      "outputs": [
        {
          "output_type": "stream",
          "name": "stdout",
          "text": [
            "W by Manual conversion: [-1.24413145 -0.28340857]\n",
            "W by sklearn API: [[-1.24413145 -0.28340857]]\n"
          ]
        }
      ]
    },
    {
      "cell_type": "markdown",
      "source": [
        "### Performance Considerations\n",
        "\n",
        "The third question shows us that has a several difference in performance between SVM and Perceptron models. In this way, we can start with memory performance as in perceptron, this model doesn't hold the training dataset, hence, it just evaluate the weight $w$ of its definition ($f(z) = <z, w> + b$). Inversely, in SVM approach it's necessary keep this training dataset as this model depeding of $\\lambda$ value for each support vector.\n",
        "\n",
        "Now, about computational performace, the third question also show, that computational cost of SVM depend, besides the N support vectors, of $K$ multiplications and $K-1$ sums operations. Meanwhile, the perceptron doesn't depend of the number of $N$ support vectors, only the quantities of multiplications and sums operations. \n",
        "\n",
        "$C_{svm} = N \\times (2K + 1)$\n",
        "\n",
        "$C_{perceptron} = 2K$"
      ],
      "metadata": {
        "id": "qW4P2q1byUg9"
      }
    },
    {
      "cell_type": "markdown",
      "metadata": {
        "id": "xxqkCanHxmk1"
      },
      "source": [
        "## Seventh Question"
      ]
    },
    {
      "cell_type": "code",
      "execution_count": 13,
      "metadata": {
        "id": "iS8wU65Dxmk4"
      },
      "outputs": [],
      "source": [
        "from sklearn.svm import SVC\n",
        "from sklearn.pipeline import Pipeline\n",
        "from sklearn.model_selection import PredefinedSplit, GridSearchCV\n",
        "from sklearn.preprocessing import StandardScaler"
      ]
    },
    {
      "cell_type": "code",
      "execution_count": 14,
      "metadata": {
        "id": "jrrcZ-MDxmk6",
        "outputId": "dca2fb14-b3b0-411b-963a-1adf9be954f3",
        "colab": {
          "base_uri": "https://localhost:8080/"
        }
      },
      "outputs": [
        {
          "output_type": "execute_result",
          "data": {
            "text/plain": [
              "Pipeline(steps=[('scaler', StandardScaler()),\n",
              "                ('grid',\n",
              "                 GridSearchCV(cv=PredefinedSplit(test_fold=array([-1, -1, -1, -1, -1, -1,  0,  0,  0,  0,  0,  0,  0,  0])),\n",
              "                              estimator=SVC(),\n",
              "                              param_grid={'C': [0.01, 1, 100],\n",
              "                                          'gamma': [0.5, 1]}))])"
            ]
          },
          "metadata": {},
          "execution_count": 14
        }
      ],
      "source": [
        "X = np.concatenate((X_train, X_val), axis=0)\n",
        "Y = np.concatenate((y_train, y_val), axis=0)\n",
        "\n",
        "parameters = {'C': [0.01, 1, 100], 'gamma': [0.5, 1]}\n",
        "\n",
        "idx = [-1] * len(X_train) + [0] * len(X_val)\n",
        "\n",
        "cv = PredefinedSplit(test_fold=idx)\n",
        "\n",
        "scaler = StandardScaler()\n",
        "    \n",
        "model = SVC(kernel='rbf')\n",
        "\n",
        "grid = GridSearchCV(estimator = model, cv=cv, param_grid=parameters)\n",
        "\n",
        "\n",
        "grid_pipe = Pipeline([('scaler', scaler), ('grid', grid)])\n",
        "\n",
        "grid_pipe.fit(X, Y)"
      ]
    },
    {
      "cell_type": "code",
      "execution_count": 15,
      "metadata": {
        "id": "X2Y30vgcxmlA",
        "outputId": "62f6ec9b-06ac-46d3-b51a-80c62d79e842",
        "colab": {
          "base_uri": "https://localhost:8080/"
        }
      },
      "outputs": [
        {
          "output_type": "execute_result",
          "data": {
            "text/plain": [
              "{'C': 100, 'gamma': 0.5}"
            ]
          },
          "metadata": {},
          "execution_count": 15
        }
      ],
      "source": [
        "grid.best_params_"
      ]
    },
    {
      "cell_type": "code",
      "execution_count": 16,
      "metadata": {
        "id": "AVuVJiKRxmlC",
        "outputId": "824de30a-6eab-4796-9a57-548464014a5c",
        "colab": {
          "base_uri": "https://localhost:8080/"
        }
      },
      "outputs": [
        {
          "output_type": "execute_result",
          "data": {
            "text/plain": [
              "0.875"
            ]
          },
          "metadata": {},
          "execution_count": 16
        }
      ],
      "source": [
        "grid.best_score_"
      ]
    },
    {
      "cell_type": "code",
      "execution_count": 17,
      "metadata": {
        "id": "Eiqz_xgHxmlF",
        "outputId": "59f6df94-17c5-4fa9-aecb-5b01e858a06c",
        "colab": {
          "base_uri": "https://localhost:8080/"
        }
      },
      "outputs": [
        {
          "output_type": "execute_result",
          "data": {
            "text/plain": [
              "SVC()"
            ]
          },
          "metadata": {},
          "execution_count": 17
        }
      ],
      "source": [
        "X_train = scaler.fit_transform(X_train)\n",
        "X_test = scaler.transform(X_test)\n",
        "\n",
        "model.fit(X_train, y_train)"
      ]
    },
    {
      "cell_type": "code",
      "execution_count": 18,
      "metadata": {
        "id": "XHdubEO0xmlI",
        "outputId": "0f9cde3f-59e5-4130-84bc-81683b860d05",
        "colab": {
          "base_uri": "https://localhost:8080/"
        }
      },
      "outputs": [
        {
          "output_type": "execute_result",
          "data": {
            "text/plain": [
              "{'C': 1.0,\n",
              " 'break_ties': False,\n",
              " 'cache_size': 200,\n",
              " 'class_weight': None,\n",
              " 'coef0': 0.0,\n",
              " 'decision_function_shape': 'ovr',\n",
              " 'degree': 3,\n",
              " 'gamma': 'scale',\n",
              " 'kernel': 'rbf',\n",
              " 'max_iter': -1,\n",
              " 'probability': False,\n",
              " 'random_state': None,\n",
              " 'shrinking': True,\n",
              " 'tol': 0.001,\n",
              " 'verbose': False}"
            ]
          },
          "metadata": {},
          "execution_count": 18
        }
      ],
      "source": [
        "model.get_params()"
      ]
    },
    {
      "cell_type": "code",
      "execution_count": 19,
      "metadata": {
        "id": "xKn5rzVIxmlL",
        "outputId": "ff65d98f-2901-4dca-8c19-531a73d4032b",
        "colab": {
          "base_uri": "https://localhost:8080/"
        }
      },
      "outputs": [
        {
          "output_type": "stream",
          "name": "stdout",
          "text": [
            "support vectors [3 3]\n",
            "Indexes [0 1 2 3 4 5]\n",
            "coef [[-1.         -0.86322887 -0.4050294   0.84052685  0.42773142  1.        ]]\n",
            "bias  [-0.32862725]\n"
          ]
        }
      ],
      "source": [
        "print(\"support vectors\", model.n_support_)\n",
        "print(\"Indexes\", model.support_)\n",
        "print(\"coef\",  model.dual_coef_)\n",
        "print(\"bias \", model.intercept_)\n"
      ]
    },
    {
      "cell_type": "code",
      "execution_count": 20,
      "metadata": {
        "id": "B0G43AiUxmlO"
      },
      "outputs": [],
      "source": [
        "y_pred = model.predict(X_test)"
      ]
    },
    {
      "cell_type": "code",
      "execution_count": 21,
      "metadata": {
        "id": "R-JC6GR4xmlR",
        "outputId": "8a7a5c83-f73c-4181-de82-b31942d4674d",
        "colab": {
          "base_uri": "https://localhost:8080/"
        }
      },
      "outputs": [
        {
          "output_type": "execute_result",
          "data": {
            "text/plain": [
              "array([0, 0, 1, 1])"
            ]
          },
          "metadata": {},
          "execution_count": 21
        }
      ],
      "source": [
        "np.array(y_test)"
      ]
    },
    {
      "cell_type": "code",
      "execution_count": 23,
      "metadata": {
        "id": "Eg95XPcoxmlU",
        "outputId": "746a27e2-853a-49ad-d5ce-14da220d2f19",
        "colab": {
          "base_uri": "https://localhost:8080/"
        }
      },
      "outputs": [
        {
          "output_type": "execute_result",
          "data": {
            "text/plain": [
              "array([0, 0, 1, 1])"
            ]
          },
          "metadata": {},
          "execution_count": 23
        }
      ],
      "source": [
        "y_pred"
      ]
    },
    {
      "cell_type": "code",
      "execution_count": 22,
      "metadata": {
        "id": "fvUm4hrlxmlW",
        "outputId": "897714fb-dc2f-4dfd-8e08-c931cd00080c",
        "colab": {
          "base_uri": "https://localhost:8080/"
        }
      },
      "outputs": [
        {
          "output_type": "execute_result",
          "data": {
            "text/plain": [
              "array([-0.94104311, -0.69442929,  0.4634211 ,  0.61067449])"
            ]
          },
          "metadata": {},
          "execution_count": 22
        }
      ],
      "source": [
        "model.decision_function(X_test)"
      ]
    },
    {
      "cell_type": "code",
      "execution_count": 21,
      "metadata": {
        "id": "Av8oeTqixmlY"
      },
      "outputs": [],
      "source": []
    }
  ],
  "metadata": {
    "kernelspec": {
      "display_name": "federated_learning",
      "language": "python",
      "name": "federated_learning"
    },
    "language_info": {
      "codemirror_mode": {
        "name": "ipython",
        "version": 3
      },
      "file_extension": ".py",
      "mimetype": "text/x-python",
      "name": "python",
      "nbconvert_exporter": "python",
      "pygments_lexer": "ipython3",
      "version": "3.7.10"
    },
    "orig_nbformat": 4,
    "colab": {
      "provenance": []
    }
  },
  "nbformat": 4,
  "nbformat_minor": 0
}
